{
 "cells": [
  {
   "cell_type": "code",
   "execution_count": 1,
   "id": "695a759d",
   "metadata": {},
   "outputs": [
    {
     "name": "stdout",
     "output_type": "stream",
     "text": [
      "   propertyID  unitID  propertyDetailsID  priceHistoryID  feeID  addressID  \\\n",
      "0    36428890    2424               2424            2424   2424        635   \n",
      "1    36428953    2421               2421            2421   2421        632   \n",
      "2    36429007    2443               2443            2443   2443        654   \n",
      "3    36429137    2255               2255            2255   2255        468   \n",
      "4    36429337    2223               2223            2223   2223        436   \n",
      "\n",
      "   schoolID  buildingID                                           overview  \\\n",
      "0       545         NaN  BRAND NEW REHAB of a private \"carriage house\" ...   \n",
      "1       543         NaN  Beautiful well maintained 2 large bedroom and ...   \n",
      "2       555         NaN  1/2 month free rent\\nStunning 3 bedroom, 3.5 b...   \n",
      "3       415         NaN  Welcome to this spacious 4-bedroom, 2.5-bathro...   \n",
      "4       299         NaN  *Available for a immediate move in* Four bedro...   \n",
      "\n",
      "   price  ...                     school_1_name  school_1_rating  \\\n",
      "0   2350  ...  Paul Laurence Dunbar High School              4.0   \n",
      "1   1800  ...  Paul Laurence Dunbar High School              4.0   \n",
      "2   2750  ...  Paul Laurence Dunbar High School              4.0   \n",
      "3   3000  ...  Paul Laurence Dunbar High School              4.0   \n",
      "4   2700  ...  Paul Laurence Dunbar High School              4.0   \n",
      "\n",
      "   school_1_distance                school_2_name school_2_rating  \\\n",
      "0                0.9  National Academy Foundation             2.0   \n",
      "1                0.8  National Academy Foundation             2.0   \n",
      "2                0.9  National Academy Foundation             2.0   \n",
      "3                1.0  National Academy Foundation             2.0   \n",
      "4                1.1  National Academy Foundation             2.0   \n",
      "\n",
      "  school_2_distance buildingOverview hasSwimmingPool  FitnessCenter.1  \\\n",
      "0               0.9              NaN             NaN              NaN   \n",
      "1               0.9              NaN             NaN              NaN   \n",
      "2               1.0              NaN             NaN              NaN   \n",
      "3               1.0              NaN             NaN              NaN   \n",
      "4               1.2              NaN             NaN              NaN   \n",
      "\n",
      "  crime_neighbourhood  \n",
      "0         GARWYN OAKS  \n",
      "1         FELLS POINT  \n",
      "2     LANGSTON HUGHES  \n",
      "3         FELLS POINT  \n",
      "4             CEDONIA  \n",
      "\n",
      "[5 rows x 86 columns]\n"
     ]
    }
   ],
   "source": [
    "import pandas as pd\n",
    "\n",
    "# Replace 'your_data.csv' with the path to your CSV file\n",
    "df = pd.read_csv('datasetdbaws.csv')\n",
    "print(df.head())  # This will show the first few rows of your data\n"
   ]
  },
  {
   "cell_type": "code",
   "execution_count": 2,
   "id": "af32c551",
   "metadata": {},
   "outputs": [
    {
     "name": "stdout",
     "output_type": "stream",
     "text": [
      "<class 'pandas.core.frame.DataFrame'>\n",
      "RangeIndex: 2509 entries, 0 to 2508\n",
      "Data columns (total 86 columns):\n",
      " #   Column                    Non-Null Count  Dtype  \n",
      "---  ------                    --------------  -----  \n",
      " 0   propertyID                2509 non-null   int64  \n",
      " 1   unitID                    2509 non-null   int64  \n",
      " 2   propertyDetailsID         2509 non-null   int64  \n",
      " 3   priceHistoryID            2509 non-null   int64  \n",
      " 4   feeID                     2509 non-null   int64  \n",
      " 5   addressID                 2509 non-null   int64  \n",
      " 6   schoolID                  2509 non-null   int64  \n",
      " 7   buildingID                1978 non-null   float64\n",
      " 8   overview                  2509 non-null   object \n",
      " 9   price                     2509 non-null   int64  \n",
      " 10  bathrooms                 2507 non-null   float64\n",
      " 11  bathroomsHalf             2509 non-null   int64  \n",
      " 12  bathroomsFull             2493 non-null   float64\n",
      " 13  bedrooms                  2505 non-null   float64\n",
      " 14  livingArea                2221 non-null   object \n",
      " 15  homeType                  2509 non-null   object \n",
      " 16  homeStatus                2509 non-null   object \n",
      " 17  datePosted                2417 non-null   object \n",
      " 18  rentEstimate              2477 non-null   float64\n",
      " 19  availableFrom             788 non-null    object \n",
      " 20  availableNow              2509 non-null   int64  \n",
      " 21  unitName                  1816 non-null   object \n",
      " 22  unitNumber                2197 non-null   object \n",
      " 23  city                      2509 non-null   object \n",
      " 24  state                     2509 non-null   object \n",
      " 25  country                   2509 non-null   object \n",
      " 26  geoLocation               2509 non-null   object \n",
      " 27  neighbourhoodGeoLocation  2509 non-null   object \n",
      " 28  propertyDetailsID.1       2509 non-null   int64  \n",
      " 29  yearBuilt                 1111 non-null   float64\n",
      " 30  Cooling                   2509 non-null   object \n",
      " 31  Heating                   2509 non-null   object \n",
      " 32  Pets                      2509 non-null   object \n",
      " 33  Parking                   2509 non-null   object \n",
      " 34  Dishwasher                2509 non-null   int64  \n",
      " 35  garbageDisposal           2509 non-null   int64  \n",
      " 36  Dryer                     2509 non-null   int64  \n",
      " 37  Refrigerator              2509 non-null   int64  \n",
      " 38  Microwave                 2509 non-null   int64  \n",
      " 39  Oven                      2509 non-null   int64  \n",
      " 40  Freezer                   2509 non-null   int64  \n",
      " 41  Washer                    2509 non-null   int64  \n",
      " 42  Stove                     2509 non-null   int64  \n",
      " 43  TrashCompactor            2509 non-null   int64  \n",
      " 44  NearPublicTransit         2509 non-null   int64  \n",
      " 45  LaundryFeaturesInUnit     2509 non-null   int64  \n",
      " 46  Playground                2509 non-null   int64  \n",
      " 47  OnSiteLaundryAvailable    2509 non-null   int64  \n",
      " 48  CableAvailable            2509 non-null   int64  \n",
      " 49  FitnessCenter             2509 non-null   int64  \n",
      " 50  Gated                     2509 non-null   int64  \n",
      " 51  Pool                      2509 non-null   int64  \n",
      " 52  Patio                     2509 non-null   int64  \n",
      " 53  LaundryFeaturesShared     2509 non-null   int64  \n",
      " 54  WindowCoverings           2509 non-null   int64  \n",
      " 55  Gas                       2509 non-null   int64  \n",
      " 56  Clubhouse                 2509 non-null   int64  \n",
      " 57  Water                     2509 non-null   int64  \n",
      " 58  Sewage                    2509 non-null   int64  \n",
      " 59  HasGarbageBin             2509 non-null   int64  \n",
      " 60  Porch                     2509 non-null   int64  \n",
      " 61  Deck                      2509 non-null   int64  \n",
      " 62  Skylights                 2509 non-null   int64  \n",
      " 63  LaundryFeaturesNone       2509 non-null   int64  \n",
      " 64  LaundryFeaturesHookups    2509 non-null   int64  \n",
      " 65  DoublePaneWindows         2509 non-null   int64  \n",
      " 66  Sauna                     2509 non-null   int64  \n",
      " 67  Stories                   410 non-null    float64\n",
      " 68  deposit_fee               1739 non-null   float64\n",
      " 69  pet_fee                   1206 non-null   float64\n",
      " 70  application_fee           671 non-null    float64\n",
      " 71  administrative_fee        412 non-null    float64\n",
      " 72  pet_deposit_fee           557 non-null    float64\n",
      " 73  school_0_name             2509 non-null   object \n",
      " 74  school_0_rating           2477 non-null   float64\n",
      " 75  school_0_distance         2509 non-null   float64\n",
      " 76  school_1_name             2509 non-null   object \n",
      " 77  school_1_rating           2363 non-null   float64\n",
      " 78  school_1_distance         2509 non-null   float64\n",
      " 79  school_2_name             2509 non-null   object \n",
      " 80  school_2_rating           2080 non-null   float64\n",
      " 81  school_2_distance         2509 non-null   float64\n",
      " 82  buildingOverview          1509 non-null   object \n",
      " 83  hasSwimmingPool           1978 non-null   float64\n",
      " 84  FitnessCenter.1           1978 non-null   float64\n",
      " 85  crime_neighbourhood       2509 non-null   object \n",
      "dtypes: float64(20), int64(44), object(22)\n",
      "memory usage: 1.6+ MB\n"
     ]
    }
   ],
   "source": [
    "df.info()"
   ]
  },
  {
   "cell_type": "code",
   "execution_count": 3,
   "id": "bcb7becf",
   "metadata": {},
   "outputs": [
    {
     "data": {
      "text/plain": [
       "propertyID                0\n",
       "unitID                    0\n",
       "propertyDetailsID         0\n",
       "priceHistoryID            0\n",
       "feeID                     0\n",
       "                       ... \n",
       "school_2_distance         0\n",
       "buildingOverview       1000\n",
       "hasSwimmingPool         531\n",
       "FitnessCenter.1         531\n",
       "crime_neighbourhood       0\n",
       "Length: 86, dtype: int64"
      ]
     },
     "execution_count": 3,
     "metadata": {},
     "output_type": "execute_result"
    }
   ],
   "source": [
    "df.isnull().sum()"
   ]
  },
  {
   "cell_type": "code",
   "execution_count": 4,
   "id": "aeec9e73",
   "metadata": {},
   "outputs": [
    {
     "name": "stdout",
     "output_type": "stream",
     "text": [
      "9       Canton townhouse just updated with new kitchen...\n",
      "157     Rental Requirements:\\n\\n3x the rental amount i...\n",
      "741     Find the right apartment for you in the heart ...\n",
      "2211    Uniquely positioned at the nexus of Baltimore'...\n",
      "472     Historic Mt. Washington 2 bedroom apartment on...\n",
      "Name: overview, dtype: object\n"
     ]
    }
   ],
   "source": [
    "print(df['overview'].sample(5))"
   ]
  },
  {
   "cell_type": "code",
   "execution_count": 5,
   "id": "4c7526b2",
   "metadata": {},
   "outputs": [
    {
     "name": "stdout",
     "output_type": "stream",
     "text": [
      "841                                                   NaN\n",
      "2165    Spinnaker Bay, with newly renovated amenities,...\n",
      "748     Welcome home!\\n\\nConveniently situated in down...\n",
      "584                                                   NaN\n",
      "2057    Live at Baltimore's best and brightest. Centra...\n",
      "Name: buildingOverview, dtype: object\n"
     ]
    }
   ],
   "source": [
    "print(df['buildingOverview'].sample(5))"
   ]
  },
  {
   "cell_type": "code",
   "execution_count": 6,
   "id": "a1b6010d",
   "metadata": {},
   "outputs": [],
   "source": [
    "# Dropping the 'overview' and 'buildingOverview' columns\n",
    "df.drop(['overview', 'buildingOverview'], axis=1, inplace=True)\n"
   ]
  },
  {
   "cell_type": "code",
   "execution_count": 7,
   "id": "35c7d34f",
   "metadata": {},
   "outputs": [
    {
     "name": "stdout",
     "output_type": "stream",
     "text": [
      "<class 'pandas.core.frame.DataFrame'>\n",
      "RangeIndex: 2509 entries, 0 to 2508\n",
      "Data columns (total 84 columns):\n",
      " #   Column                    Non-Null Count  Dtype  \n",
      "---  ------                    --------------  -----  \n",
      " 0   propertyID                2509 non-null   int64  \n",
      " 1   unitID                    2509 non-null   int64  \n",
      " 2   propertyDetailsID         2509 non-null   int64  \n",
      " 3   priceHistoryID            2509 non-null   int64  \n",
      " 4   feeID                     2509 non-null   int64  \n",
      " 5   addressID                 2509 non-null   int64  \n",
      " 6   schoolID                  2509 non-null   int64  \n",
      " 7   buildingID                1978 non-null   float64\n",
      " 8   price                     2509 non-null   int64  \n",
      " 9   bathrooms                 2507 non-null   float64\n",
      " 10  bathroomsHalf             2509 non-null   int64  \n",
      " 11  bathroomsFull             2493 non-null   float64\n",
      " 12  bedrooms                  2505 non-null   float64\n",
      " 13  livingArea                2221 non-null   object \n",
      " 14  homeType                  2509 non-null   object \n",
      " 15  homeStatus                2509 non-null   object \n",
      " 16  datePosted                2417 non-null   object \n",
      " 17  rentEstimate              2477 non-null   float64\n",
      " 18  availableFrom             788 non-null    object \n",
      " 19  availableNow              2509 non-null   int64  \n",
      " 20  unitName                  1816 non-null   object \n",
      " 21  unitNumber                2197 non-null   object \n",
      " 22  city                      2509 non-null   object \n",
      " 23  state                     2509 non-null   object \n",
      " 24  country                   2509 non-null   object \n",
      " 25  geoLocation               2509 non-null   object \n",
      " 26  neighbourhoodGeoLocation  2509 non-null   object \n",
      " 27  propertyDetailsID.1       2509 non-null   int64  \n",
      " 28  yearBuilt                 1111 non-null   float64\n",
      " 29  Cooling                   2509 non-null   object \n",
      " 30  Heating                   2509 non-null   object \n",
      " 31  Pets                      2509 non-null   object \n",
      " 32  Parking                   2509 non-null   object \n",
      " 33  Dishwasher                2509 non-null   int64  \n",
      " 34  garbageDisposal           2509 non-null   int64  \n",
      " 35  Dryer                     2509 non-null   int64  \n",
      " 36  Refrigerator              2509 non-null   int64  \n",
      " 37  Microwave                 2509 non-null   int64  \n",
      " 38  Oven                      2509 non-null   int64  \n",
      " 39  Freezer                   2509 non-null   int64  \n",
      " 40  Washer                    2509 non-null   int64  \n",
      " 41  Stove                     2509 non-null   int64  \n",
      " 42  TrashCompactor            2509 non-null   int64  \n",
      " 43  NearPublicTransit         2509 non-null   int64  \n",
      " 44  LaundryFeaturesInUnit     2509 non-null   int64  \n",
      " 45  Playground                2509 non-null   int64  \n",
      " 46  OnSiteLaundryAvailable    2509 non-null   int64  \n",
      " 47  CableAvailable            2509 non-null   int64  \n",
      " 48  FitnessCenter             2509 non-null   int64  \n",
      " 49  Gated                     2509 non-null   int64  \n",
      " 50  Pool                      2509 non-null   int64  \n",
      " 51  Patio                     2509 non-null   int64  \n",
      " 52  LaundryFeaturesShared     2509 non-null   int64  \n",
      " 53  WindowCoverings           2509 non-null   int64  \n",
      " 54  Gas                       2509 non-null   int64  \n",
      " 55  Clubhouse                 2509 non-null   int64  \n",
      " 56  Water                     2509 non-null   int64  \n",
      " 57  Sewage                    2509 non-null   int64  \n",
      " 58  HasGarbageBin             2509 non-null   int64  \n",
      " 59  Porch                     2509 non-null   int64  \n",
      " 60  Deck                      2509 non-null   int64  \n",
      " 61  Skylights                 2509 non-null   int64  \n",
      " 62  LaundryFeaturesNone       2509 non-null   int64  \n",
      " 63  LaundryFeaturesHookups    2509 non-null   int64  \n",
      " 64  DoublePaneWindows         2509 non-null   int64  \n",
      " 65  Sauna                     2509 non-null   int64  \n",
      " 66  Stories                   410 non-null    float64\n",
      " 67  deposit_fee               1739 non-null   float64\n",
      " 68  pet_fee                   1206 non-null   float64\n",
      " 69  application_fee           671 non-null    float64\n",
      " 70  administrative_fee        412 non-null    float64\n",
      " 71  pet_deposit_fee           557 non-null    float64\n",
      " 72  school_0_name             2509 non-null   object \n",
      " 73  school_0_rating           2477 non-null   float64\n",
      " 74  school_0_distance         2509 non-null   float64\n",
      " 75  school_1_name             2509 non-null   object \n",
      " 76  school_1_rating           2363 non-null   float64\n",
      " 77  school_1_distance         2509 non-null   float64\n",
      " 78  school_2_name             2509 non-null   object \n",
      " 79  school_2_rating           2080 non-null   float64\n",
      " 80  school_2_distance         2509 non-null   float64\n",
      " 81  hasSwimmingPool           1978 non-null   float64\n",
      " 82  FitnessCenter.1           1978 non-null   float64\n",
      " 83  crime_neighbourhood       2509 non-null   object \n",
      "dtypes: float64(20), int64(44), object(20)\n",
      "memory usage: 1.6+ MB\n"
     ]
    }
   ],
   "source": [
    "df.info()"
   ]
  },
  {
   "cell_type": "code",
   "execution_count": null,
   "id": "476d641f",
   "metadata": {},
   "outputs": [],
   "source": []
  }
 ],
 "metadata": {
  "kernelspec": {
   "display_name": "Python 3 (ipykernel)",
   "language": "python",
   "name": "python3"
  },
  "language_info": {
   "codemirror_mode": {
    "name": "ipython",
    "version": 3
   },
   "file_extension": ".py",
   "mimetype": "text/x-python",
   "name": "python",
   "nbconvert_exporter": "python",
   "pygments_lexer": "ipython3",
   "version": "3.9.13"
  }
 },
 "nbformat": 4,
 "nbformat_minor": 5
}
