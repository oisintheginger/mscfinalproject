{
 "cells": [
  {
   "cell_type": "code",
   "execution_count": 1,
   "id": "adb0e008",
   "metadata": {},
   "outputs": [
    {
     "name": "stdout",
     "output_type": "stream",
     "text": [
      "                   geoLocation       neighbourhoodGeoLocation  \\\n",
      "0  POINT (39.37203 -76.685295)  POINT (39.370859 -76.6701475)   \n",
      "1  POINT (39.37203 -76.685295)  POINT (39.370859 -76.6701475)   \n",
      "2  POINT (39.37203 -76.685295)  POINT (39.370859 -76.6701475)   \n",
      "3  POINT (39.37203 -76.685295)  POINT (39.370859 -76.6701475)   \n",
      "4  POINT (39.37203 -76.685295)  POINT (39.370859 -76.6701475)   \n",
      "\n",
      "   neighbourhoodID  bathrooms  bathroomsFull  bathroomsHalf  bedrooms  \\\n",
      "0                0        2.0            2.0              0       3.0   \n",
      "1                0        2.0            2.0              0       2.0   \n",
      "2                0        2.0            2.0              0       2.0   \n",
      "3                0        2.0            2.0              0       2.0   \n",
      "4                0        2.0            2.0              0       3.0   \n",
      "\n",
      "   datePosted  livingArea  price  ...  COMMON_ASSAULT_Count  crime_scoreID  \\\n",
      "0  2023-09-12  1,315 sqft   2050  ...                   102              0   \n",
      "1  2023-09-18  1,230 sqft   1740  ...                   102              0   \n",
      "2  2023-09-06  1,230 sqft   1850  ...                   102              0   \n",
      "3  2023-09-06  1,230 sqft   1940  ...                   102              0   \n",
      "4  2023-09-28  1,315 sqft   2050  ...                   102              0   \n",
      "\n",
      "   HOMICIDE_Count  LARCENY_Count  LARCENY_FROM_AUTO_Count overallCrimeScore  \\\n",
      "0               2            310                      388           3.69216   \n",
      "1               2            310                      388           3.69216   \n",
      "2               2            310                      388           3.69216   \n",
      "3               2            310                      388           3.69216   \n",
      "4               2            310                      388           3.69216   \n",
      "\n",
      "   RAPE_Count  ROBBERY_CARJACKING_Count  ROBBERY_COMMERCIAL_Count  \\\n",
      "0           7                        16                         4   \n",
      "1           7                        16                         4   \n",
      "2           7                        16                         4   \n",
      "3           7                        16                         4   \n",
      "4           7                        16                         4   \n",
      "\n",
      "   ROBBERY_Count  \n",
      "0             29  \n",
      "1             29  \n",
      "2             29  \n",
      "3             29  \n",
      "4             29  \n",
      "\n",
      "[5 rows x 67 columns]\n"
     ]
    }
   ],
   "source": [
    "import pandas as pd\n",
    "\n",
    "# Replace 'your_data.csv' with the path to your CSV file\n",
    "df = pd.read_csv('knnattempt3.csv')\n",
    "print(df.head())  # This will show the first few rows of your data\n"
   ]
  },
  {
   "cell_type": "code",
   "execution_count": 6,
   "id": "a76d2974",
   "metadata": {},
   "outputs": [
    {
     "name": "stdout",
     "output_type": "stream",
     "text": [
      "bathrooms has 1 missing values\n",
      "bathroomsFull has 15 missing values\n",
      "bedrooms has 3 missing values\n",
      "datePosted has 92 missing values\n",
      "livingArea has 288 missing values\n",
      "rentEstimate has 32 missing values\n",
      "Stories has 2130 missing values\n",
      "yearBuilt has 1421 missing values\n",
      "None\n"
     ]
    }
   ],
   "source": [
    "def g(df):\n",
    "    for col in df.columns:\n",
    "        if df[col].isnull().sum() > 0:\n",
    "            print(f\"{col} has {df[col].isnull().sum()} missing values\")\n",
    "\n",
    "result = g(df.copy())\n",
    "print(result)"
   ]
  },
  {
   "cell_type": "code",
   "execution_count": 7,
   "id": "4c897151",
   "metadata": {},
   "outputs": [
    {
     "name": "stdout",
     "output_type": "stream",
     "text": [
      "                   geoLocation       neighbourhoodGeoLocation  \\\n",
      "0  POINT (39.37203 -76.685295)  POINT (39.370859 -76.6701475)   \n",
      "1  POINT (39.37203 -76.685295)  POINT (39.370859 -76.6701475)   \n",
      "2  POINT (39.37203 -76.685295)  POINT (39.370859 -76.6701475)   \n",
      "3  POINT (39.37203 -76.685295)  POINT (39.370859 -76.6701475)   \n",
      "4  POINT (39.37203 -76.685295)  POINT (39.370859 -76.6701475)   \n",
      "\n",
      "   neighbourhoodID  bathrooms  bathroomsFull  bathroomsHalf  bedrooms  price  \\\n",
      "0                0        2.0            2.0              0       3.0   2050   \n",
      "1                0        2.0            2.0              0       2.0   1740   \n",
      "2                0        2.0            2.0              0       2.0   1850   \n",
      "3                0        2.0            2.0              0       2.0   1940   \n",
      "4                0        2.0            2.0              0       3.0   2050   \n",
      "\n",
      "   propertyID  neighbourhoodID.1  ...  COMMON_ASSAULT_Count  crime_scoreID  \\\n",
      "0  2062003721                  0  ...                   102              0   \n",
      "1  2067797682                  0  ...                   102              0   \n",
      "2  2071152602                  0  ...                   102              0   \n",
      "3  2072105027                  0  ...                   102              0   \n",
      "4  2075119575                  0  ...                   102              0   \n",
      "\n",
      "  HOMICIDE_Count  LARCENY_Count  LARCENY_FROM_AUTO_Count  overallCrimeScore  \\\n",
      "0              2            310                      388            3.69216   \n",
      "1              2            310                      388            3.69216   \n",
      "2              2            310                      388            3.69216   \n",
      "3              2            310                      388            3.69216   \n",
      "4              2            310                      388            3.69216   \n",
      "\n",
      "   RAPE_Count  ROBBERY_CARJACKING_Count  ROBBERY_COMMERCIAL_Count  \\\n",
      "0           7                        16                         4   \n",
      "1           7                        16                         4   \n",
      "2           7                        16                         4   \n",
      "3           7                        16                         4   \n",
      "4           7                        16                         4   \n",
      "\n",
      "   ROBBERY_Count  \n",
      "0             29  \n",
      "1             29  \n",
      "2             29  \n",
      "3             29  \n",
      "4             29  \n",
      "\n",
      "[5 rows x 62 columns]\n"
     ]
    }
   ],
   "source": [
    "# Columns to be dropped\n",
    "columns_to_drop = ['datePosted', 'livingArea', 'rentEstimate', 'Stories', 'yearBuilt']\n",
    "\n",
    "# Dropping the columns\n",
    "df.drop(columns=columns_to_drop, inplace=True)\n",
    "\n",
    "# Check the DataFrame after dropping the columns\n",
    "print(df.head())\n"
   ]
  },
  {
   "cell_type": "code",
   "execution_count": 8,
   "id": "fc2cd20d",
   "metadata": {},
   "outputs": [
    {
     "name": "stdout",
     "output_type": "stream",
     "text": [
      "Categorical columns: Index(['geoLocation', 'neighbourhoodGeoLocation', 'Cooling', 'Heating',\n",
      "       'Parking', 'Pets'],\n",
      "      dtype='object')\n"
     ]
    }
   ],
   "source": [
    "# Identifying categorical columns\n",
    "categorical_cols = df.select_dtypes(include=['object', 'category']).columns\n",
    "print(\"Categorical columns:\", categorical_cols)"
   ]
  },
  {
   "cell_type": "code",
   "execution_count": 9,
   "id": "2ae9529b",
   "metadata": {},
   "outputs": [
    {
     "name": "stdout",
     "output_type": "stream",
     "text": [
      "                   geoLocation       neighbourhoodGeoLocation\n",
      "0  POINT (39.37203 -76.685295)  POINT (39.370859 -76.6701475)\n",
      "1  POINT (39.37203 -76.685295)  POINT (39.370859 -76.6701475)\n",
      "2  POINT (39.37203 -76.685295)  POINT (39.370859 -76.6701475)\n",
      "3  POINT (39.37203 -76.685295)  POINT (39.370859 -76.6701475)\n",
      "4  POINT (39.37203 -76.685295)  POINT (39.370859 -76.6701475)\n"
     ]
    }
   ],
   "source": [
    "# Display the first few rows of the geoLocation and neighbourhoodGeoLocation columns\n",
    "print(df[['geoLocation', 'neighbourhoodGeoLocation']].head())\n"
   ]
  },
  {
   "cell_type": "code",
   "execution_count": 10,
   "id": "7ee992ca",
   "metadata": {},
   "outputs": [
    {
     "name": "stdout",
     "output_type": "stream",
     "text": [
      "                   geoLocation       neighbourhoodGeoLocation  \\\n",
      "0  POINT (39.37203 -76.685295)  POINT (39.370859 -76.6701475)   \n",
      "1  POINT (39.37203 -76.685295)  POINT (39.370859 -76.6701475)   \n",
      "2  POINT (39.37203 -76.685295)  POINT (39.370859 -76.6701475)   \n",
      "3  POINT (39.37203 -76.685295)  POINT (39.370859 -76.6701475)   \n",
      "4  POINT (39.37203 -76.685295)  POINT (39.370859 -76.6701475)   \n",
      "\n",
      "   neighbourhoodID  bathrooms  bathroomsFull  bathroomsHalf  bedrooms  price  \\\n",
      "0                0        2.0            2.0              0       3.0   2050   \n",
      "1                0        2.0            2.0              0       2.0   1740   \n",
      "2                0        2.0            2.0              0       2.0   1850   \n",
      "3                0        2.0            2.0              0       2.0   1940   \n",
      "4                0        2.0            2.0              0       3.0   2050   \n",
      "\n",
      "   propertyID  neighbourhoodID.1  ...  LARCENY_FROM_AUTO_Count  \\\n",
      "0  2062003721                  0  ...                      388   \n",
      "1  2067797682                  0  ...                      388   \n",
      "2  2071152602                  0  ...                      388   \n",
      "3  2072105027                  0  ...                      388   \n",
      "4  2075119575                  0  ...                      388   \n",
      "\n",
      "   overallCrimeScore RAPE_Count  ROBBERY_CARJACKING_Count  \\\n",
      "0            3.69216          7                        16   \n",
      "1            3.69216          7                        16   \n",
      "2            3.69216          7                        16   \n",
      "3            3.69216          7                        16   \n",
      "4            3.69216          7                        16   \n",
      "\n",
      "   ROBBERY_COMMERCIAL_Count  ROBBERY_Count  geoLocation_lat  geoLocation_long  \\\n",
      "0                         4             29         39.37203        -76.685295   \n",
      "1                         4             29         39.37203        -76.685295   \n",
      "2                         4             29         39.37203        -76.685295   \n",
      "3                         4             29         39.37203        -76.685295   \n",
      "4                         4             29         39.37203        -76.685295   \n",
      "\n",
      "   neighbourhoodGeoLocation_lat  neighbourhoodGeoLocation_long  \n",
      "0                     39.370859                     -76.670147  \n",
      "1                     39.370859                     -76.670147  \n",
      "2                     39.370859                     -76.670147  \n",
      "3                     39.370859                     -76.670147  \n",
      "4                     39.370859                     -76.670147  \n",
      "\n",
      "[5 rows x 66 columns]\n"
     ]
    }
   ],
   "source": [
    "# Function to extract latitude and longitude from the POINT format\n",
    "def extract_lat_long(point):\n",
    "    # Extracting the inside of the parentheses and splitting by space\n",
    "    lat, long = point.replace('POINT (', '').replace(')', '').split()\n",
    "    return float(lat), float(long)\n",
    "\n",
    "# Apply the function to the geoLocation column\n",
    "df['geoLocation_lat'], df['geoLocation_long'] = zip(*df['geoLocation'].apply(extract_lat_long))\n",
    "\n",
    "# Apply the function to the neighbourhoodGeoLocation column\n",
    "df['neighbourhoodGeoLocation_lat'], df['neighbourhoodGeoLocation_long'] = zip(*df['neighbourhoodGeoLocation'].apply(extract_lat_long))\n",
    "\n",
    "# Check the first few rows of the DataFrame\n",
    "print(df.head())"
   ]
  },
  {
   "cell_type": "code",
   "execution_count": null,
   "id": "90bf9e9f",
   "metadata": {},
   "outputs": [],
   "source": []
  }
 ],
 "metadata": {
  "kernelspec": {
   "display_name": "Python 3 (ipykernel)",
   "language": "python",
   "name": "python3"
  },
  "language_info": {
   "codemirror_mode": {
    "name": "ipython",
    "version": 3
   },
   "file_extension": ".py",
   "mimetype": "text/x-python",
   "name": "python",
   "nbconvert_exporter": "python",
   "pygments_lexer": "ipython3",
   "version": "3.9.13"
  }
 },
 "nbformat": 4,
 "nbformat_minor": 5
}
