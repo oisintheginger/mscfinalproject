{
 "cells": [
  {
   "cell_type": "code",
   "execution_count": 1,
   "id": "69c79be3",
   "metadata": {},
   "outputs": [
    {
     "name": "stdout",
     "output_type": "stream",
     "text": [
      "Collecting googlemaps\n",
      "  Downloading googlemaps-4.10.0.tar.gz (33 kB)\n",
      "  Preparing metadata (setup.py): started\n",
      "  Preparing metadata (setup.py): finished with status 'done'\n",
      "Requirement already satisfied: requests<3.0,>=2.20.0 in c:\\users\\stean\\appdata\\local\\programs\\python\\python310\\lib\\site-packages (from googlemaps) (2.28.1)\n",
      "Requirement already satisfied: charset-normalizer<3,>=2 in c:\\users\\stean\\appdata\\local\\programs\\python\\python310\\lib\\site-packages (from requests<3.0,>=2.20.0->googlemaps) (2.1.1)\n",
      "Requirement already satisfied: idna<4,>=2.5 in c:\\users\\stean\\appdata\\local\\programs\\python\\python310\\lib\\site-packages (from requests<3.0,>=2.20.0->googlemaps) (3.4)\n",
      "Requirement already satisfied: urllib3<1.27,>=1.21.1 in c:\\users\\stean\\appdata\\local\\programs\\python\\python310\\lib\\site-packages (from requests<3.0,>=2.20.0->googlemaps) (1.26.13)\n",
      "Requirement already satisfied: certifi>=2017.4.17 in c:\\users\\stean\\appdata\\local\\programs\\python\\python310\\lib\\site-packages (from requests<3.0,>=2.20.0->googlemaps) (2022.12.7)\n",
      "Building wheels for collected packages: googlemaps\n",
      "  Building wheel for googlemaps (setup.py): started\n",
      "  Building wheel for googlemaps (setup.py): finished with status 'done'\n",
      "  Created wheel for googlemaps: filename=googlemaps-4.10.0-py3-none-any.whl size=40750 sha256=9dc4fedb57924f85c9ca6fe095e12a1207b882e7fc916eeeddf42ba90bf4ed08\n",
      "  Stored in directory: c:\\users\\stean\\appdata\\local\\pip\\cache\\wheels\\17\\f8\\79\\999d5d37118fd35d7219ef57933eb9d09886c4c4503a800f84\n",
      "Successfully built googlemaps\n",
      "Installing collected packages: googlemaps\n",
      "Successfully installed googlemaps-4.10.0\n",
      "Note: you may need to restart the kernel to use updated packages.\n"
     ]
    },
    {
     "name": "stderr",
     "output_type": "stream",
     "text": [
      "WARNING: Ignoring invalid distribution -rotobuf (c:\\users\\stean\\appdata\\local\\programs\\python\\python310\\lib\\site-packages)\n",
      "WARNING: Ignoring invalid distribution -rotobuf (c:\\users\\stean\\appdata\\local\\programs\\python\\python310\\lib\\site-packages)\n",
      "\n",
      "[notice] A new release of pip is available: 23.1.2 -> 23.2.1\n",
      "[notice] To update, run: python.exe -m pip install --upgrade pip\n"
     ]
    }
   ],
   "source": [
    "pip install googlemaps"
   ]
  },
  {
   "cell_type": "code",
   "execution_count": 16,
   "id": "d7120752",
   "metadata": {},
   "outputs": [
    {
     "name": "stdout",
     "output_type": "stream",
     "text": [
      "Requirement already satisfied: googlemaps in c:\\users\\stean\\appdata\\local\\programs\\python\\python310\\lib\\site-packages (4.10.0)\n",
      "Requirement already satisfied: requests<3.0,>=2.20.0 in c:\\users\\stean\\appdata\\local\\programs\\python\\python310\\lib\\site-packages (from googlemaps) (2.28.1)\n",
      "Requirement already satisfied: charset-normalizer<3,>=2 in c:\\users\\stean\\appdata\\local\\programs\\python\\python310\\lib\\site-packages (from requests<3.0,>=2.20.0->googlemaps) (2.1.1)\n",
      "Requirement already satisfied: idna<4,>=2.5 in c:\\users\\stean\\appdata\\local\\programs\\python\\python310\\lib\\site-packages (from requests<3.0,>=2.20.0->googlemaps) (3.4)\n",
      "Requirement already satisfied: urllib3<1.27,>=1.21.1 in c:\\users\\stean\\appdata\\local\\programs\\python\\python310\\lib\\site-packages (from requests<3.0,>=2.20.0->googlemaps) (1.26.13)\n",
      "Requirement already satisfied: certifi>=2017.4.17 in c:\\users\\stean\\appdata\\local\\programs\\python\\python310\\lib\\site-packages (from requests<3.0,>=2.20.0->googlemaps) (2022.12.7)\n",
      "Note: you may need to restart the kernel to use updated packages.\n"
     ]
    },
    {
     "name": "stderr",
     "output_type": "stream",
     "text": [
      "WARNING: Ignoring invalid distribution -rotobuf (c:\\users\\stean\\appdata\\local\\programs\\python\\python310\\lib\\site-packages)\n",
      "WARNING: Ignoring invalid distribution -rotobuf (c:\\users\\stean\\appdata\\local\\programs\\python\\python310\\lib\\site-packages)\n",
      "\n",
      "[notice] A new release of pip is available: 23.1.2 -> 23.2.1\n",
      "[notice] To update, run: python.exe -m pip install --upgrade pip\n"
     ]
    }
   ],
   "source": [
    "pip install googlemaps --upgrade"
   ]
  },
  {
   "cell_type": "code",
   "execution_count": 22,
   "id": "79b712d1",
   "metadata": {},
   "outputs": [
    {
     "name": "stdout",
     "output_type": "stream",
     "text": [
      "Collecting openpyxl\n",
      "  Downloading openpyxl-3.1.2-py2.py3-none-any.whl (249 kB)\n",
      "     -------------------------------------- 250.0/250.0 kB 7.7 MB/s eta 0:00:00\n",
      "Collecting et-xmlfile (from openpyxl)\n",
      "  Downloading et_xmlfile-1.1.0-py3-none-any.whl (4.7 kB)\n",
      "Installing collected packages: et-xmlfile, openpyxl\n",
      "Successfully installed et-xmlfile-1.1.0 openpyxl-3.1.2\n",
      "Note: you may need to restart the kernel to use updated packages.\n"
     ]
    },
    {
     "name": "stderr",
     "output_type": "stream",
     "text": [
      "WARNING: Ignoring invalid distribution -rotobuf (c:\\users\\stean\\appdata\\local\\programs\\python\\python310\\lib\\site-packages)\n",
      "WARNING: Ignoring invalid distribution -rotobuf (c:\\users\\stean\\appdata\\local\\programs\\python\\python310\\lib\\site-packages)\n",
      "\n",
      "[notice] A new release of pip is available: 23.1.2 -> 23.2.1\n",
      "[notice] To update, run: python.exe -m pip install --upgrade pip\n"
     ]
    }
   ],
   "source": [
    "pip install openpyxl"
   ]
  },
  {
   "cell_type": "code",
   "execution_count": 1,
   "id": "ee85cf96",
   "metadata": {},
   "outputs": [],
   "source": [
    "import time\n",
    "import googlemaps\n",
    "import pandas as pd\n",
    "import csv\n",
    "from pprint import pprint\n",
    "import openpyxl"
   ]
  },
  {
   "cell_type": "markdown",
   "id": "79b74dd1",
   "metadata": {},
   "source": [
    "Importing my API Key and initializing Google maps client "
   ]
  },
  {
   "cell_type": "code",
   "execution_count": 2,
   "id": "bb877ed8",
   "metadata": {},
   "outputs": [],
   "source": [
    "API_KEY = open('API.txt','r').read()\n",
    "map_client = googlemaps.Client(API_KEY)"
   ]
  },
  {
   "cell_type": "markdown",
   "id": "12f94dd0",
   "metadata": {},
   "source": [
    "Specifying the coordinates of baltimore to do a sample pull request"
   ]
  },
  {
   "cell_type": "code",
   "execution_count": 3,
   "id": "c420f72b",
   "metadata": {},
   "outputs": [],
   "source": [
    "location = (39.2904, -76.6122)\n",
    "business_list = [] #where i plan to put the details\n",
    "business_list2 = []"
   ]
  },
  {
   "cell_type": "markdown",
   "id": "b38d78a3",
   "metadata": {},
   "source": [
    "Making the pull request"
   ]
  },
  {
   "cell_type": "code",
   "execution_count": 4,
   "id": "8908ae71",
   "metadata": {
    "scrolled": true
   },
   "outputs": [],
   "source": [
    "response = map_client.places_nearby(\n",
    "    location='39.2904, -76.6122',\n",
    "    keyword='restaurant',\n",
    "    radius='8176'\n",
    ")"
   ]
  },
  {
   "cell_type": "code",
   "execution_count": null,
   "id": "6b63c81b",
   "metadata": {},
   "outputs": [],
   "source": [
    "# # Define the southwest and northeast coordinates of the bounding box\n",
    "# sw_coordinates = (39.1982, -76.7107)\n",
    "# ne_coordinates = (39.3722, -76.5300) "
   ]
  },
  {
   "cell_type": "markdown",
   "id": "6fbbed2d",
   "metadata": {},
   "source": [
    "Iterative code to keep searching google results for the 5.08 radius of baltimore for restaurants"
   ]
  },
  {
   "cell_type": "code",
   "execution_count": 32,
   "id": "1a741dcd",
   "metadata": {},
   "outputs": [],
   "source": [
    "while next_page_token:\n",
    "    time.sleep(2)\n",
    "    response = map_client.places_nearby(\n",
    "        location='39.2904, -76.6122',\n",
    "        keyword='restaurant',\n",
    "        radius='8176',\n",
    "        page_token=next_page_token\n",
    "    )   \n",
    "    business_list.extend(response.get('results'))\n",
    "    next_page_token = response.get('next_page_token')"
   ]
  },
  {
   "cell_type": "markdown",
   "id": "66ff57f9",
   "metadata": {},
   "source": [
    "Storing results as an excel file"
   ]
  },
  {
   "cell_type": "code",
   "execution_count": 33,
   "id": "a7f3f64b",
   "metadata": {},
   "outputs": [],
   "source": [
    "Balt = pd.DataFrame(business_list)\n",
    "Balt['url'] = 'https://www.google.com/maps/place/?q=place_id:' + Balt['place_id']\n",
    "Balt.to_excel('{0}.xlsx'.format('restaurant'), index=False)"
   ]
  },
  {
   "cell_type": "markdown",
   "id": "f8ba369b",
   "metadata": {},
   "source": [
    "Pull request for Shops in Baltimore"
   ]
  },
  {
   "cell_type": "code",
   "execution_count": 7,
   "id": "f2b37617",
   "metadata": {},
   "outputs": [],
   "source": [
    "next_page_token = None\n",
    "\n",
    "while True:\n",
    "    time.sleep(2)\n",
    "    response = map_client.places_nearby(\n",
    "        location='39.2904, -76.6122',\n",
    "        keyword='store OR supermarket OR shop',\n",
    "        radius='8176',\n",
    "        page_token=next_page_token\n",
    "    )   \n",
    "    business_list2.extend(response.get('results'))\n",
    "    next_page_token = response.get('next_page_token')\n",
    "    \n",
    "        # Checking if there are no more pages of results\n",
    "    if not next_page_token:\n",
    "        break"
   ]
  },
  {
   "cell_type": "markdown",
   "id": "2bff7b40",
   "metadata": {},
   "source": [
    "Saving Shops data as xlsx file"
   ]
  },
  {
   "cell_type": "code",
   "execution_count": 9,
   "id": "923f6173",
   "metadata": {},
   "outputs": [],
   "source": [
    "Balt2 = pd.DataFrame(business_list2)\n",
    "Balt2['url'] = 'https://www.google.com/maps/place/?q=place_id:' + Balt2['place_id']\n",
    "Balt2.to_excel('Shops.xlsx', index=False)"
   ]
  },
  {
   "cell_type": "markdown",
   "id": "b25ef442",
   "metadata": {},
   "source": [
    "Pull request for Gyms in Baltimore"
   ]
  },
  {
   "cell_type": "code",
   "execution_count": 12,
   "id": "fdb340c4",
   "metadata": {},
   "outputs": [],
   "source": [
    "business_list3 = []\n",
    "\n",
    "next_page_token = None\n",
    "\n",
    "while True:\n",
    "    time.sleep(2)\n",
    "    response = map_client.places_nearby(\n",
    "        location='39.2904, -76.6122',\n",
    "        keyword='gym',\n",
    "        radius='8176',\n",
    "        page_token=next_page_token\n",
    "    )   \n",
    "    business_list3.extend(response.get('results'))\n",
    "    next_page_token = response.get('next_page_token')\n",
    "    \n",
    "    # Checking if there are no more pages of results\n",
    "    if not next_page_token:\n",
    "        break"
   ]
  },
  {
   "cell_type": "markdown",
   "id": "7b292e8e",
   "metadata": {},
   "source": [
    "Saving Gyms data as xlsx file"
   ]
  },
  {
   "cell_type": "code",
   "execution_count": 13,
   "id": "9aca0256",
   "metadata": {},
   "outputs": [],
   "source": [
    "Balt3 = pd.DataFrame(business_list3)\n",
    "Balt3['url'] = 'https://www.google.com/maps/place/?q=place_id:' + Balt3['place_id']\n",
    "Balt3.to_excel('Gyms.xlsx', index=False)"
   ]
  },
  {
   "cell_type": "markdown",
   "id": "04b1f5b6",
   "metadata": {},
   "source": [
    "Pull request for Healthcare Facilities in Baltimore"
   ]
  },
  {
   "cell_type": "code",
   "execution_count": 5,
   "id": "e600fb65",
   "metadata": {},
   "outputs": [],
   "source": [
    "business_list4 = []\n",
    "\n",
    "next_page_token = None\n",
    "\n",
    "while True:\n",
    "    time.sleep(2)\n",
    "    response = map_client.places_nearby(\n",
    "        location='39.2904, -76.6122',\n",
    "        keyword='healthcare',\n",
    "        radius='8176',\n",
    "        type='health'\n",
    "        page_token=next_page_token\n",
    "    )   \n",
    "    business_list4.extend(response.get('results'))\n",
    "    next_page_token = response.get('next_page_token')\n",
    "    \n",
    "    # Checking if there are no more pages of results\n",
    "    if not next_page_token:\n",
    "        break"
   ]
  },
  {
   "cell_type": "markdown",
   "id": "585a7ad8",
   "metadata": {},
   "source": [
    "Saving Healthcare data as xlsx file"
   ]
  },
  {
   "cell_type": "code",
   "execution_count": 6,
   "id": "45f45d13",
   "metadata": {},
   "outputs": [],
   "source": [
    "Balt4 = pd.DataFrame(business_list4)\n",
    "Balt4['url'] = 'https://www.google.com/maps/place/?q=place_id:' + Balt4['place_id']\n",
    "Balt4.to_excel('Healthcare.xlsx', index=False)"
   ]
  },
  {
   "cell_type": "markdown",
   "id": "86a555ae",
   "metadata": {},
   "source": [
    "Searching for an alternative tag to get others that were not included"
   ]
  },
  {
   "cell_type": "code",
   "execution_count": 14,
   "id": "fcf38fac",
   "metadata": {},
   "outputs": [],
   "source": [
    "business_list4e = []\n",
    "next_page_token = None\n",
    "\n",
    "while True:\n",
    "    time.sleep(2)\n",
    "    response = map_client.places_nearby(\n",
    "        location='39.2904,-76.6122',\n",
    "        radius='8176',\n",
    "        type='hospital',\n",
    "        page_token=next_page_token\n",
    "    )   \n",
    "    results = response.get('results')\n",
    "    if results:\n",
    "        business_list4e.extend(results)\n",
    "    next_page_token = response.get('next_page_token')\n",
    "    \n",
    "    # Checking if there are no more pages of results\n",
    "    if not next_page_token:\n",
    "        break\n",
    "\n",
    "# Continue pagination until there are no more next_page_tokens\n",
    "while next_page_token:\n",
    "    time.sleep(2)\n",
    "    response = map_client.places_nearby(\n",
    "        location='39.2904,-76.6122',\n",
    "        radius='8176',\n",
    "        type='hospital',\n",
    "        page_token=next_page_token\n",
    "    )   \n",
    "    results = response.get('results')\n",
    "    if results:\n",
    "        business_list4e.extend(results)\n",
    "    next_page_token = response.get('next_page_token')\n",
    "\n",
    "Balt4e = pd.DataFrame(business_list4e)\n",
    "Balt4e['url'] = 'https://www.google.com/maps/place/?q=place_id:' + Balt4e['place_id']\n",
    "Balt4e.to_excel('hospitals.xlsx', index=False)"
   ]
  },
  {
   "cell_type": "markdown",
   "id": "c723377f",
   "metadata": {},
   "source": [
    "Pull request for night clubs in Baltimore"
   ]
  },
  {
   "cell_type": "code",
   "execution_count": 13,
   "id": "33049c78",
   "metadata": {},
   "outputs": [],
   "source": [
    "business_list5 = []\n",
    "next_page_token = None\n",
    "\n",
    "while True:\n",
    "    time.sleep(2)\n",
    "    response = map_client.places_nearby(\n",
    "        location='39.2904,-76.6122',\n",
    "        radius='8176',\n",
    "        type='night_club',\n",
    "        page_token=next_page_token\n",
    "    )   \n",
    "    results = response.get('results')\n",
    "    if results:\n",
    "        business_list5.extend(results)\n",
    "    next_page_token = response.get('next_page_token')\n",
    "    \n",
    "    # Checking if there are no more pages of results\n",
    "    if not next_page_token:\n",
    "        break\n",
    "\n",
    "# Continue pagination until there are no more next_page_tokens\n",
    "while next_page_token:\n",
    "    time.sleep(2)\n",
    "    response = map_client.places_nearby(\n",
    "        location='39.2904,-76.6122',\n",
    "        radius='8176',\n",
    "        type='night_club',\n",
    "        page_token=next_page_token\n",
    "    )   \n",
    "    results = response.get('results')\n",
    "    if results:\n",
    "        business_list5.extend(results)\n",
    "    next_page_token = response.get('next_page_token')\n",
    "\n",
    "Balt5 = pd.DataFrame(business_list5)\n",
    "Balt5['url'] = 'https://www.google.com/maps/place/?q=place_id:' + Balt5['place_id']\n",
    "Balt5.to_excel('night_club.xlsx', index=False)"
   ]
  },
  {
   "cell_type": "markdown",
   "id": "1391d5ec",
   "metadata": {},
   "source": [
    "Pull request for park in Baltimore"
   ]
  },
  {
   "cell_type": "code",
   "execution_count": 19,
   "id": "11fc129c",
   "metadata": {},
   "outputs": [],
   "source": [
    "business_list_park = []\n",
    "next_page_token = None\n",
    "\n",
    "while True:\n",
    "    time.sleep(2)\n",
    "    response = map_client.places_nearby(\n",
    "        location='39.2904,-76.6122',\n",
    "        radius='8176',\n",
    "        type='park',\n",
    "        page_token=next_page_token\n",
    "    )   \n",
    "    results = response.get('results')\n",
    "    if results:\n",
    "        business_list_park.extend(results)\n",
    "    next_page_token = response.get('next_page_token')\n",
    "    \n",
    "    # Checking if there are no more pages of results\n",
    "    if not next_page_token:\n",
    "        break\n",
    "\n",
    "# Continue until there are no more next_page_tokens\n",
    "while next_page_token:\n",
    "    time.sleep(2)\n",
    "    response = map_client.places_nearby(\n",
    "        location='39.2904,-76.6122',\n",
    "        radius='8176',\n",
    "        type='park',\n",
    "        page_token=next_page_token\n",
    "    )   \n",
    "    results = response.get('results')\n",
    "    if results:\n",
    "        business_list_park.extend(results)\n",
    "    next_page_token = response.get('next_page_token')\n",
    "\n",
    "Baltpark = pd.DataFrame(business_list_park)\n",
    "Baltpark['url'] = 'https://www.google.com/maps/place/?q=place_id:' + Baltpark['place_id']\n",
    "Baltpark.to_excel('parks.xlsx', index=False)"
   ]
  },
  {
   "cell_type": "markdown",
   "id": "04778d90",
   "metadata": {},
   "source": [
    "Trying to see if i get more results"
   ]
  },
  {
   "cell_type": "code",
   "execution_count": 16,
   "id": "7ae11a1a",
   "metadata": {},
   "outputs": [],
   "source": [
    "# business_list_parkb = []\n",
    "# next_page_token = None\n",
    "\n",
    "# response = map_client.places_nearby(\n",
    "#     location='39.2904,-76.6122',\n",
    "#     radius='8176',\n",
    "#     type='park',\n",
    "# )   \n",
    "    \n",
    "# business_list_parkb.extend(response.get('results'))\n",
    "# next_page_token = response.get('next_page_token')\n",
    "    \n",
    "# #     # Checking if there are no more pages of results\n",
    "# #     if not next_page_token:\n",
    "# #         break\n",
    "\n",
    "# # Continue until there are no more next_page_tokens\n",
    "# while next_page_token:\n",
    "#     time.sleep(2)\n",
    "#     response = map_client.places_nearby(\n",
    "#         location='39.2904,-76.6122',\n",
    "#         radius='8176',\n",
    "#         type='park',\n",
    "#         page_token=next_page_token\n",
    "#     )   \n",
    "#     business_list_parkb.extend(response.get('results'))\n",
    "#     next_page_token = response.get('next_page_token')\n",
    "\n",
    "# Baltparkb = pd.DataFrame(business_list_parkb)\n",
    "# Baltparkb['url'] = 'https://www.google.com/maps/place/?q=place_id:' + Baltparkb['place_id']\n",
    "# Baltparkb.to_excel('parksb.xlsx', index=False)"
   ]
  },
  {
   "cell_type": "markdown",
   "id": "7e6b5c17",
   "metadata": {},
   "source": [
    "No difference, still getting just 60 results"
   ]
  },
  {
   "cell_type": "markdown",
   "id": "9312c2f8",
   "metadata": {},
   "source": [
    "Police presence"
   ]
  },
  {
   "cell_type": "code",
   "execution_count": 18,
   "id": "13177bb9",
   "metadata": {},
   "outputs": [],
   "source": [
    "business_list_police = []\n",
    "next_page_token = None\n",
    "\n",
    "while True:\n",
    "    time.sleep(2)\n",
    "    response = map_client.places_nearby(\n",
    "        location='39.2904,-76.6122',\n",
    "        radius='8176',\n",
    "        type='police',\n",
    "        page_token=next_page_token\n",
    "    )   \n",
    "    results = response.get('results')\n",
    "    if results:\n",
    "        business_list_police.extend(results)\n",
    "        next_page_token = response.get('next_page_token')\n",
    "    \n",
    "    # Checking if there are no more pages of results\n",
    "    if not next_page_token:\n",
    "        break\n",
    "\n",
    "# Continue until there are no more next_page_tokens\n",
    "while next_page_token:\n",
    "    time.sleep(2)\n",
    "    response = map_client.places_nearby(\n",
    "        location='39.2904,-76.6122',\n",
    "        radius='8176',\n",
    "        type='police',\n",
    "        page_token=next_page_token\n",
    "    )   \n",
    "    results = response.get('results')\n",
    "    if results:\n",
    "        business_list_police.extend(results)\n",
    "    next_page_token = response.get('next_page_token')\n",
    "\n",
    "Baltpolice = pd.DataFrame(business_list_police)\n",
    "Baltpolice['url'] = 'https://www.google.com/maps/place/?q=place_id:' + Baltpolice['place_id']\n",
    "Baltpolice.to_excel('police.xlsx', index=False)"
   ]
  },
  {
   "cell_type": "markdown",
   "id": "ded64705",
   "metadata": {},
   "source": [
    "Further police search"
   ]
  },
  {
   "cell_type": "code",
   "execution_count": 20,
   "id": "9b33ab99",
   "metadata": {},
   "outputs": [],
   "source": [
    "business_list_policeb = []\n",
    "next_page_token = None\n",
    "\n",
    "while True:\n",
    "    time.sleep(2)\n",
    "    response = map_client.places_nearby(\n",
    "        location='39.2904,-76.6122',\n",
    "        radius='8176',\n",
    "        keyword ='police',\n",
    "        page_token=next_page_token\n",
    "    )   \n",
    "    results = response.get('results')\n",
    "    if results:\n",
    "        business_list_policeb.extend(results)\n",
    "        next_page_token = response.get('next_page_token')\n",
    "    \n",
    "    # Checking if there are no more pages of results\n",
    "    if not next_page_token:\n",
    "        break\n",
    "\n",
    "# Continue until there are no more next_page_tokens\n",
    "while next_page_token:\n",
    "    time.sleep(2)\n",
    "    response = map_client.places_nearby(\n",
    "        location='39.2904,-76.6122',\n",
    "        radius='8176',\n",
    "        keyword ='police',\n",
    "        page_token=next_page_token\n",
    "    )   \n",
    "    results = response.get('results')\n",
    "    if results:\n",
    "        business_list_policeb.extend(results)\n",
    "    next_page_token = response.get('next_page_token')\n",
    "\n",
    "Baltpoliceb = pd.DataFrame(business_list_policeb)\n",
    "Baltpoliceb['url'] = 'https://www.google.com/maps/place/?q=place_id:' + Baltpoliceb['place_id']\n",
    "Baltpoliceb.to_excel('policeb.xlsx', index=False)"
   ]
  },
  {
   "cell_type": "markdown",
   "id": "f4d2f572",
   "metadata": {},
   "source": [
    "Pull request for pharmacy in Baltimore"
   ]
  },
  {
   "cell_type": "code",
   "execution_count": 4,
   "id": "49474146",
   "metadata": {},
   "outputs": [],
   "source": [
    "business_list_pharmacy = []\n",
    "next_page_token = None\n",
    "\n",
    "while True:\n",
    "    time.sleep(2)\n",
    "    response = map_client.places_nearby(\n",
    "        location='39.2904,-76.6122',\n",
    "        radius='8176',\n",
    "        keyword ='pharmacy',\n",
    "        page_token=next_page_token\n",
    "    )   \n",
    "    results = response.get('results')\n",
    "    if results:\n",
    "        business_list_pharmacy.extend(results)\n",
    "        next_page_token = response.get('next_page_token')\n",
    "    \n",
    "    # Checking if there are no more pages of results\n",
    "    if not next_page_token:\n",
    "        break\n",
    "\n",
    "# Continue until there are no more next_page_tokens\n",
    "while next_page_token:\n",
    "    time.sleep(2)\n",
    "    response = map_client.places_nearby(\n",
    "        location='39.2904,-76.6122',\n",
    "        radius='8176',\n",
    "        keyword ='pharmacy',\n",
    "        page_token=next_page_token\n",
    "    )   \n",
    "    results = response.get('results')\n",
    "    if results:\n",
    "        business_list_pharmacy.extend(results)\n",
    "    next_page_token = response.get('next_page_token')\n",
    "\n",
    "Baltpharmacy = pd.DataFrame(business_list_pharmacy)\n",
    "Baltpharmacy['url'] = 'https://www.google.com/maps/place/?q=place_id:' + Baltpharmacy['place_id']\n",
    "Baltpharmacy.to_excel('pharmacy.xlsx', index=False)"
   ]
  },
  {
   "cell_type": "markdown",
   "id": "239cb071",
   "metadata": {},
   "source": [
    "Pull request for banks in Baltimore"
   ]
  },
  {
   "cell_type": "code",
   "execution_count": 3,
   "id": "0f42f5ef",
   "metadata": {},
   "outputs": [],
   "source": [
    "business_list_bank = []\n",
    "\n",
    "response = map_client.places_nearby(\n",
    "    location='39.2904, -76.6122',\n",
    "    keyword='bank',\n",
    "    radius='8176'\n",
    ")\n",
    "\n",
    "business_list_bank.extend(response.get('results'))\n",
    "next_page_token = response.get('next_page_token')\n",
    "\n",
    "while next_page_token:\n",
    "    time.sleep(2)\n",
    "    response = map_client.places_nearby(\n",
    "        location='39.2904, -76.6122',\n",
    "        keyword='bank',\n",
    "        radius='8176',\n",
    "        page_token=next_page_token\n",
    "    )   \n",
    "    \n",
    "    business_list_bank.extend(response.get('results'))\n",
    "    next_page_token = response.get('next_page_token')\n",
    "\n",
    "Baltbank = pd.DataFrame(business_list_bank)\n",
    "Baltbank['url'] = 'https://www.google.com/maps/place/?q=place_id:' + Baltbank['place_id']\n",
    "Baltbank.to_excel('Banks.xlsx', index=False)"
   ]
  },
  {
   "cell_type": "markdown",
   "id": "7d940e2c",
   "metadata": {},
   "source": [
    "Reverse search for geolocation of properties to find their neighborhood names"
   ]
  },
  {
   "cell_type": "code",
   "execution_count": 9,
   "id": "01d615bc",
   "metadata": {},
   "outputs": [
    {
     "name": "stdout",
     "output_type": "stream",
     "text": [
      "Neighborhood: Mount Washington\n"
     ]
    }
   ],
   "source": [
    "# Initialize the Google Maps client\n",
    "gmaps = googlemaps.Client(API_KEY)\n",
    "\n",
    "# Define the coordinates\n",
    "latitude = 39.37203\n",
    "longitude = -76.685295\n",
    "\n",
    "# Perform reverse geocoding to get location details\n",
    "reverse_geocode_result = gmaps.reverse_geocode((latitude, longitude))\n",
    "\n",
    "# Extract neighborhood information if available\n",
    "neighborhood = None\n",
    "for result in reverse_geocode_result:\n",
    "    for component in result['address_components']:\n",
    "        if 'neighborhood' in component['types']:\n",
    "            neighborhood = component['long_name']\n",
    "\n",
    "if neighborhood:\n",
    "    print(f'Neighborhood: {neighborhood}')\n",
    "else:\n",
    "    print('Neighborhood information not found.')"
   ]
  },
  {
   "cell_type": "markdown",
   "id": "a3ae3132",
   "metadata": {},
   "source": [
    "Testing code to pull businesses in specific areas in baltimore"
   ]
  },
  {
   "cell_type": "code",
   "execution_count": 5,
   "id": "68690077",
   "metadata": {},
   "outputs": [],
   "source": [
    "# Define a list of neighborhoods in Baltimore\n",
    "neighborhoods = [\n",
    "    {\"name\": \"Mount Washington\", \"location\": \"39.3616,-76.6531\", \"radius\": 2000},\n",
    "    {\"name\": \"Downtown\", \"location\": \"39.2904,-76.6122\", \"radius\": 2000},\n",
    "    {\"name\": \"Riverside\", \"location\": \"39.2790,-76.6019\", \"radius\": 2000},\n",
    "    {\"name\": \"East Case\", \"location\": \"39.2904,-76.6084\", \"radius\": 2000},\n",
    "    {\"name\": \"Druid Hill Park\", \"location\": \"39.3233,-76.6438\", \"radius\": 2000},\n",
    "]\n",
    "\n",
    "# Function to fetch businesses in a neighborhood\n",
    "def fetch_businesses(neighborhood):\n",
    "    business_list = []\n",
    "    response = map_client.places_nearby(\n",
    "        location=neighborhood[\"location\"],\n",
    "        radius=neighborhood[\"radius\"],\n",
    "        type='restaurant',  # Specify the type of business you want (e.g., restaurant, gym, etc.)\n",
    "    )\n",
    "\n",
    "    while 'results' in response:\n",
    "        business_list.extend(response['results'])\n",
    "        time.sleep(2)  # Pause to avoid rate limiting issues\n",
    "        if 'next_page_token' in response:\n",
    "            response = map_client.places_nearby(\n",
    "                location=neighborhood[\"location\"],\n",
    "                radius=neighborhood[\"radius\"],\n",
    "                type='restaurant',\n",
    "                page_token=response['next_page_token']\n",
    "            )\n",
    "        else:\n",
    "            break\n",
    "\n",
    "    return business_list\n",
    "\n",
    "# Fetch businesses in each neighborhood\n",
    "all_businesses = []\n",
    "for neighborhood in neighborhoods:\n",
    "    neighborhood_businesses = fetch_businesses(neighborhood)\n",
    "    all_businesses.extend(neighborhood_businesses)\n",
    "\n",
    "# Create a DataFrame from the combined list of businesses\n",
    "business_df = pd.DataFrame(all_businesses)\n",
    "\n",
    "# Add a URL column for each business\n",
    "business_df['url'] = 'https://www.google.com/maps/place/?q=place_id:' + business_df['place_id']\n",
    "\n",
    "# Save the merged dataset to an Excel file\n",
    "business_df.to_excel('All_Businesses.xlsx', index=False)\n"
   ]
  },
  {
   "cell_type": "markdown",
   "id": "873a1c23",
   "metadata": {},
   "source": [
    "Adding columns to show distance from center point and which neigborhoods these restaurants are in "
   ]
  },
  {
   "cell_type": "code",
   "execution_count": 5,
   "id": "dfcc6933",
   "metadata": {},
   "outputs": [],
   "source": [
    "# Defining a list of neighborhoods in Baltimore\n",
    "neighborhoods = [\n",
    "    {\"name\": \"Mount Washington\", \"location\": \"39.3616,-76.6531\", \"radius\": 2000},\n",
    "    {\"name\": \"Downtown\", \"location\": \"39.2904,-76.6122\", \"radius\": 2000},\n",
    "    {\"name\": \"Riverside\", \"location\": \"39.2790,-76.6019\", \"radius\": 2000},\n",
    "    {\"name\": \"East Case\", \"location\": \"39.2904,-76.6084\", \"radius\": 2000},\n",
    "    {\"name\": \"Druid Hill Park\", \"location\": \"39.3233,-76.6438\", \"radius\": 2000},\n",
    "]\n",
    "\n",
    "# Function to fetch businesses in a neighborhood\n",
    "def fetch_businesses(neighborhood):\n",
    "    business_list = []\n",
    "    response = map_client.places_nearby(\n",
    "        location=neighborhood[\"location\"],\n",
    "        radius=neighborhood[\"radius\"],\n",
    "        type='restaurant',  # Specify the type of business you want (e.g., restaurant, gym, etc.)\n",
    "    )\n",
    "\n",
    "    while 'results' in response:\n",
    "        for result in response['results']:\n",
    "            # Add neighborhood information\n",
    "            result['neighborhood'] = neighborhood[\"name\"]\n",
    "\n",
    "            # Calculate the distance to the neighborhood center\n",
    "            lat, lng = map(float, neighborhood[\"location\"].split(','))\n",
    "            result['distance_to_neighborhood_center_meters'] = (\n",
    "                (result['geometry']['location']['lat'] - lat)**2 +\n",
    "                (result['geometry']['location']['lng'] - lng)**2\n",
    "            )**0.5 * 111000  # Approximate 1 degree of latitude as 111 kilometers\n",
    "\n",
    "            business_list.append(result)\n",
    "\n",
    "        time.sleep(2)  # Pause to avoid rate limiting issues\n",
    "        if 'next_page_token' in response:\n",
    "            response = map_client.places_nearby(\n",
    "                location=neighborhood[\"location\"],\n",
    "                radius=neighborhood[\"radius\"],\n",
    "                type='restaurant',\n",
    "                page_token=response['next_page_token']\n",
    "            )\n",
    "        else:\n",
    "            break\n",
    "\n",
    "    return business_list\n",
    "\n",
    "# Fetch businesses in each neighborhood\n",
    "all_businesses = []\n",
    "for neighborhood in neighborhoods:\n",
    "    neighborhood_businesses = fetch_businesses(neighborhood)\n",
    "    all_businesses.extend(neighborhood_businesses)\n",
    "\n",
    "# Create a DataFrame from the combined list of businesses\n",
    "business_df = pd.DataFrame(all_businesses)\n",
    "\n",
    "# Add a URL column for each business\n",
    "business_df['url'] = 'https://www.google.com/maps/place/?q=place_id:' + business_df['place_id']\n",
    "\n",
    "# Save the merged dataset to an Excel file\n",
    "business_df.to_excel('Restaurants_in_neigbourbood.xlsx', index=False)"
   ]
  },
  {
   "cell_type": "markdown",
   "id": "1e2ea34c",
   "metadata": {},
   "source": [
    "Getting the cordinates of the all neighborhoods"
   ]
  },
  {
   "cell_type": "code",
   "execution_count": 3,
   "id": "db3c4dbb",
   "metadata": {},
   "outputs": [
    {
     "name": "stdout",
     "output_type": "stream",
     "text": [
      "                   name                              location  radius\n",
      "0      Mount Washington         39.36253019999999,-76.6595727    2000\n",
      "1           Fells Point                 39.2842097,-76.593611    2000\n",
      "2               Clifton  39.31423240000001,-76.57688449999999    2000\n",
      "3              Downtown                 39.292007,-76.6167212    2000\n",
      "4             Arlington                39.3481652,-76.6831397    2000\n",
      "..                  ...                                   ...     ...\n",
      "81  NW Community Action         39.30592439999999,-76.6650946    2000\n",
      "82           Winchester                39.3041275,-76.6441591    2000\n",
      "83             Woodring                 39.3625548,-76.544488    2000\n",
      "84           Curtis Bay                39.2208578,-76.5863882    2000\n",
      "85    Milton - Montford                39.3003232,-76.5842213    2000\n",
      "\n",
      "[86 rows x 3 columns]\n"
     ]
    }
   ],
   "source": [
    "# List of neighborhood names in Baltimore\n",
    "neighborhood_names = [\n",
    "    \"Mount Washington\",\n",
    "    \"Fells Point\",\n",
    "    \"Clifton\",\n",
    "    \"Downtown\",\n",
    "    \"Arlington\",\n",
    "    \"Carroll\",\n",
    "    \"Purnell\",\n",
    "    \"Greater Northwood Covenant Association\",\n",
    "    \"Northwood\",\n",
    "    \"Locust Point\",\n",
    "    \"Lakeland\",\n",
    "    \"Bolton Hill\",\n",
    "    \"Highlandtown\",\n",
    "    \"Gwynn Oak\",\n",
    "    \"Druid Hill Park\",\n",
    "    \"Otterbein\",\n",
    "    \"Franklintown\",\n",
    "    \"Waverly\",\n",
    "    \"Charles Village\",\n",
    "    \"Old Goucher\",\n",
    "    \"Cherry Hill\",\n",
    "    \"South Baltimore\",\n",
    "    \"Woodberry\",\n",
    "    \"Govans\",\n",
    "    \"Sharp Leadenhall\",\n",
    "    \"Tuscany - Canterbury\",\n",
    "    \"East Case\",\n",
    "    \"Grove Park\",\n",
    "    \"Mid-Town Belvedere\",\n",
    "    \"New North Roland Park - Poplar Hill\",\n",
    "    \"Mosher\",\n",
    "    \"Middle East\",\n",
    "    \"Riverside\",\n",
    "    \"Garwyn Oaks\",\n",
    "    \"Mount Holly\",\n",
    "    \"Elwood Park\",\n",
    "    \"Federal Hill-Montgomery\",\n",
    "    \"West Forest Park\",\n",
    "    \"Inner Harbor\",\n",
    "    \"Ridgely's Delight\",\n",
    "    \"Ednor Gardens - Lakeside\",\n",
    "    \"Brooklyn\",\n",
    "    \"Raspeburg\",\n",
    "    \"Medfield\",\n",
    "    \"Panway - Braddish\",\n",
    "    \"Forest Park\",\n",
    "    \"Harford - Echodale - Perring Parkway\",\n",
    "    \"Station North\",\n",
    "    \"Upper Fells Point\",\n",
    "    \"Hampden\",\n",
    "    \"Pen Lucy\",\n",
    "    \"Oakenshawe\",\n",
    "    \"Harwood\",\n",
    "    \"Coldstream - Homestead - Montebello\",\n",
    "    \"Bridgeview-Greenlawn\",\n",
    "    \"Gay Street\",\n",
    "    \"Franklin\",\n",
    "    \"Pigtown\",\n",
    "    \"Orangeville\",\n",
    "    \"Better Waverly\",\n",
    "    \"Butchers Hill\",\n",
    "    \"Evergreen Lawn\",\n",
    "    \"Morrell Park\",\n",
    "    \"Glenham-Belford\",\n",
    "    \"Western\",\n",
    "    \"Madison - Eastend\",\n",
    "    \"Walbrook\",\n",
    "    \"Abell\",\n",
    "    \"East Baltimore Midway\",\n",
    "    \"Remington\",\n",
    "    \"Coppin Heights\",\n",
    "    \"Hollins Market\",\n",
    "    \"Lauraville\",\n",
    "    \"Mondawmin\",\n",
    "    \"Canton\",\n",
    "    \"Barre Circle\",\n",
    "    \"Barclay\",\n",
    "    \"Windsor Hills\",\n",
    "    \"Wyndhurst\",\n",
    "    \"Wyman Park\",\n",
    "    \"Rosemont\",\n",
    "    \"NW Community Action\",\n",
    "    \"Winchester\",\n",
    "    \"Woodring\",\n",
    "    \"Curtis Bay\",\n",
    "    \"Milton - Montford\",\n",
    "]\n",
    "\n",
    "# Create an empty list to store neighborhood data\n",
    "neighborhood_data = []\n",
    "\n",
    "# Function to geocode neighborhood names and get coordinates and radii\n",
    "def geocode_neighborhoods(names):\n",
    "    for name in names:\n",
    "        try:\n",
    "            # Geocode the neighborhood name\n",
    "            geocode_result = map_client.geocode(name + ', Baltimore, MD, USA')\n",
    "\n",
    "            # Extracting latitude and longitude from the geocoding result\n",
    "            if geocode_result and 'geometry' in geocode_result[0]:\n",
    "                location = geocode_result[0]['geometry']['location']\n",
    "                latitude = location['lat']\n",
    "                longitude = location['lng']\n",
    "\n",
    "                radius = 2000\n",
    "\n",
    "                # Create a dictionary with neighborhood data\n",
    "                neighborhood_info = {\n",
    "                    \"name\": name,\n",
    "                    \"location\": f\"{latitude},{longitude}\",\n",
    "                    \"radius\": radius\n",
    "                }\n",
    "\n",
    "                neighborhood_data.append(neighborhood_info)\n",
    "            else:\n",
    "                print(f\"Could not geocode {name}\")\n",
    "\n",
    "        except Exception as e:\n",
    "            print(f\"Error geocoding {name}: {str(e)}\")\n",
    "\n",
    "# Calling the function to geocode neighborhood names\n",
    "geocode_neighborhoods(neighborhood_names)\n",
    "\n",
    "# Creating a DataFrame from the neighborhood data\n",
    "neighborhood_df = pd.DataFrame(neighborhood_data)\n",
    "\n",
    "# Print the DataFrame or save it to a CSV file\n",
    "print(neighborhood_df)\n",
    "neighborhood_df.to_csv('neighborhood_data.csv', index=False)"
   ]
  },
  {
   "cell_type": "markdown",
   "id": "eaf57324",
   "metadata": {},
   "source": [
    "Getting the restaurants around all the neighborhoods present in our properties dataset"
   ]
  },
  {
   "cell_type": "code",
   "execution_count": 4,
   "id": "5706527b",
   "metadata": {},
   "outputs": [],
   "source": [
    "# Function to fetch businesses in the neighborhoods\n",
    "def fetch_businesses(neighborhood):\n",
    "    business_listAR = []\n",
    "    response = map_client.places_nearby(\n",
    "        location=neighborhood[\"location\"],\n",
    "        radius=neighborhood[\"radius\"],\n",
    "        type='restaurant',\n",
    "    )\n",
    "\n",
    "    while 'results' in response:\n",
    "        for result in response['results']:\n",
    "            # Add neighborhood information\n",
    "            result['neighborhood'] = neighborhood[\"name\"]\n",
    "\n",
    "            # Calculate the distance to the neighborhood center\n",
    "            lat, lng = map(float, neighborhood[\"location\"].split(','))\n",
    "            result['distance_to_neighborhood_center_meters'] = (\n",
    "                (result['geometry']['location']['lat'] - lat)**2 +\n",
    "                (result['geometry']['location']['lng'] - lng)**2\n",
    "            )**0.5 * 111000  # Approximate 1 degree of latitude as 111 kilometers\n",
    "\n",
    "            business_listAR.append(result)\n",
    "\n",
    "        time.sleep(2)  # Pause to avoid rate limiting issues\n",
    "        if 'next_page_token' in response:\n",
    "            response = map_client.places_nearby(\n",
    "                location=neighborhood[\"location\"],\n",
    "                radius=neighborhood[\"radius\"],\n",
    "                type='restaurant',\n",
    "                page_token=response['next_page_token']\n",
    "            )\n",
    "        else:\n",
    "            break\n",
    "\n",
    "    return business_listAR\n",
    "\n",
    "# Fetching businesses for each neighborhood in the DataFrame\n",
    "all_restaurantslist = []\n",
    "\n",
    "for index, row in neighborhood_df.iterrows():\n",
    "    neighborhood_info = {\n",
    "        \"name\": row[\"name\"],\n",
    "        \"location\": row[\"location\"],\n",
    "        \"radius\": row[\"radius\"]\n",
    "    }\n",
    "    neighborhood_businesses = fetch_businesses(neighborhood_info)\n",
    "    all_restaurantslist.extend(neighborhood_businesses)\n",
    "\n",
    "# Creating a DataFrame from the combined list of businesses\n",
    "business_df = pd.DataFrame(all_restaurantslist)\n",
    "\n",
    "# Adding a URL column for each business\n",
    "business_df['url'] = 'https://www.google.com/maps/place/?q=place_id:' + business_df['place_id']\n",
    "\n",
    "# Saving the merged dataset to an Excel file\n",
    "business_df.to_excel('Restaurants.xlsx', index=False)"
   ]
  },
  {
   "cell_type": "code",
   "execution_count": null,
   "id": "20747d43",
   "metadata": {},
   "outputs": [],
   "source": []
  }
 ],
 "metadata": {
  "kernelspec": {
   "display_name": "Python 3 (ipykernel)",
   "language": "python",
   "name": "python3"
  },
  "language_info": {
   "codemirror_mode": {
    "name": "ipython",
    "version": 3
   },
   "file_extension": ".py",
   "mimetype": "text/x-python",
   "name": "python",
   "nbconvert_exporter": "python",
   "pygments_lexer": "ipython3",
   "version": "3.10.7"
  }
 },
 "nbformat": 4,
 "nbformat_minor": 5
}
