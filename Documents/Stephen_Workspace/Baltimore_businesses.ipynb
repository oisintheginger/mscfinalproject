{
 "cells": [
  {
   "cell_type": "code",
   "execution_count": 1,
   "id": "69c79be3",
   "metadata": {},
   "outputs": [
    {
     "name": "stdout",
     "output_type": "stream",
     "text": [
      "Collecting googlemaps\n",
      "  Downloading googlemaps-4.10.0.tar.gz (33 kB)\n",
      "  Preparing metadata (setup.py): started\n",
      "  Preparing metadata (setup.py): finished with status 'done'\n",
      "Requirement already satisfied: requests<3.0,>=2.20.0 in c:\\users\\stean\\appdata\\local\\programs\\python\\python310\\lib\\site-packages (from googlemaps) (2.28.1)\n",
      "Requirement already satisfied: charset-normalizer<3,>=2 in c:\\users\\stean\\appdata\\local\\programs\\python\\python310\\lib\\site-packages (from requests<3.0,>=2.20.0->googlemaps) (2.1.1)\n",
      "Requirement already satisfied: idna<4,>=2.5 in c:\\users\\stean\\appdata\\local\\programs\\python\\python310\\lib\\site-packages (from requests<3.0,>=2.20.0->googlemaps) (3.4)\n",
      "Requirement already satisfied: urllib3<1.27,>=1.21.1 in c:\\users\\stean\\appdata\\local\\programs\\python\\python310\\lib\\site-packages (from requests<3.0,>=2.20.0->googlemaps) (1.26.13)\n",
      "Requirement already satisfied: certifi>=2017.4.17 in c:\\users\\stean\\appdata\\local\\programs\\python\\python310\\lib\\site-packages (from requests<3.0,>=2.20.0->googlemaps) (2022.12.7)\n",
      "Building wheels for collected packages: googlemaps\n",
      "  Building wheel for googlemaps (setup.py): started\n",
      "  Building wheel for googlemaps (setup.py): finished with status 'done'\n",
      "  Created wheel for googlemaps: filename=googlemaps-4.10.0-py3-none-any.whl size=40750 sha256=9dc4fedb57924f85c9ca6fe095e12a1207b882e7fc916eeeddf42ba90bf4ed08\n",
      "  Stored in directory: c:\\users\\stean\\appdata\\local\\pip\\cache\\wheels\\17\\f8\\79\\999d5d37118fd35d7219ef57933eb9d09886c4c4503a800f84\n",
      "Successfully built googlemaps\n",
      "Installing collected packages: googlemaps\n",
      "Successfully installed googlemaps-4.10.0\n",
      "Note: you may need to restart the kernel to use updated packages.\n"
     ]
    },
    {
     "name": "stderr",
     "output_type": "stream",
     "text": [
      "WARNING: Ignoring invalid distribution -rotobuf (c:\\users\\stean\\appdata\\local\\programs\\python\\python310\\lib\\site-packages)\n",
      "WARNING: Ignoring invalid distribution -rotobuf (c:\\users\\stean\\appdata\\local\\programs\\python\\python310\\lib\\site-packages)\n",
      "\n",
      "[notice] A new release of pip is available: 23.1.2 -> 23.2.1\n",
      "[notice] To update, run: python.exe -m pip install --upgrade pip\n"
     ]
    }
   ],
   "source": [
    "pip install googlemaps"
   ]
  },
  {
   "cell_type": "code",
   "execution_count": 16,
   "id": "c29fac0a",
   "metadata": {},
   "outputs": [
    {
     "name": "stdout",
     "output_type": "stream",
     "text": [
      "Requirement already satisfied: googlemaps in c:\\users\\stean\\appdata\\local\\programs\\python\\python310\\lib\\site-packages (4.10.0)\n",
      "Requirement already satisfied: requests<3.0,>=2.20.0 in c:\\users\\stean\\appdata\\local\\programs\\python\\python310\\lib\\site-packages (from googlemaps) (2.28.1)\n",
      "Requirement already satisfied: charset-normalizer<3,>=2 in c:\\users\\stean\\appdata\\local\\programs\\python\\python310\\lib\\site-packages (from requests<3.0,>=2.20.0->googlemaps) (2.1.1)\n",
      "Requirement already satisfied: idna<4,>=2.5 in c:\\users\\stean\\appdata\\local\\programs\\python\\python310\\lib\\site-packages (from requests<3.0,>=2.20.0->googlemaps) (3.4)\n",
      "Requirement already satisfied: urllib3<1.27,>=1.21.1 in c:\\users\\stean\\appdata\\local\\programs\\python\\python310\\lib\\site-packages (from requests<3.0,>=2.20.0->googlemaps) (1.26.13)\n",
      "Requirement already satisfied: certifi>=2017.4.17 in c:\\users\\stean\\appdata\\local\\programs\\python\\python310\\lib\\site-packages (from requests<3.0,>=2.20.0->googlemaps) (2022.12.7)\n",
      "Note: you may need to restart the kernel to use updated packages.\n"
     ]
    },
    {
     "name": "stderr",
     "output_type": "stream",
     "text": [
      "WARNING: Ignoring invalid distribution -rotobuf (c:\\users\\stean\\appdata\\local\\programs\\python\\python310\\lib\\site-packages)\n",
      "WARNING: Ignoring invalid distribution -rotobuf (c:\\users\\stean\\appdata\\local\\programs\\python\\python310\\lib\\site-packages)\n",
      "\n",
      "[notice] A new release of pip is available: 23.1.2 -> 23.2.1\n",
      "[notice] To update, run: python.exe -m pip install --upgrade pip\n"
     ]
    }
   ],
   "source": [
    "pip install googlemaps --upgrade"
   ]
  },
  {
   "cell_type": "code",
   "execution_count": 22,
   "id": "58b5eb9d",
   "metadata": {},
   "outputs": [
    {
     "name": "stdout",
     "output_type": "stream",
     "text": [
      "Collecting openpyxl\n",
      "  Downloading openpyxl-3.1.2-py2.py3-none-any.whl (249 kB)\n",
      "     -------------------------------------- 250.0/250.0 kB 7.7 MB/s eta 0:00:00\n",
      "Collecting et-xmlfile (from openpyxl)\n",
      "  Downloading et_xmlfile-1.1.0-py3-none-any.whl (4.7 kB)\n",
      "Installing collected packages: et-xmlfile, openpyxl\n",
      "Successfully installed et-xmlfile-1.1.0 openpyxl-3.1.2\n",
      "Note: you may need to restart the kernel to use updated packages.\n"
     ]
    },
    {
     "name": "stderr",
     "output_type": "stream",
     "text": [
      "WARNING: Ignoring invalid distribution -rotobuf (c:\\users\\stean\\appdata\\local\\programs\\python\\python310\\lib\\site-packages)\n",
      "WARNING: Ignoring invalid distribution -rotobuf (c:\\users\\stean\\appdata\\local\\programs\\python\\python310\\lib\\site-packages)\n",
      "\n",
      "[notice] A new release of pip is available: 23.1.2 -> 23.2.1\n",
      "[notice] To update, run: python.exe -m pip install --upgrade pip\n"
     ]
    }
   ],
   "source": [
    "pip install openpyxl"
   ]
  },
  {
   "cell_type": "code",
   "execution_count": 23,
   "id": "ee85cf96",
   "metadata": {},
   "outputs": [],
   "source": [
    "import time\n",
    "import googlemaps\n",
    "import pandas as pd\n",
    "import csv\n",
    "from pprint import pprint\n",
    "import openpyxl"
   ]
  },
  {
   "cell_type": "markdown",
   "id": "b782a823",
   "metadata": {},
   "source": [
    "I might use this function to make miles to meters conversion"
   ]
  },
  {
   "cell_type": "code",
   "execution_count": 3,
   "id": "687a8d45",
   "metadata": {},
   "outputs": [],
   "source": [
    "# def miles_to_meters(miles):\n",
    "#     try:\n",
    "#         return miles * 1_609.344\n",
    "#     except:\n",
    "#         return 0"
   ]
  },
  {
   "cell_type": "markdown",
   "id": "4cc40c04",
   "metadata": {},
   "source": [
    "Importing my API Key"
   ]
  },
  {
   "cell_type": "code",
   "execution_count": 11,
   "id": "bb877ed8",
   "metadata": {},
   "outputs": [],
   "source": [
    "API_KEY = open('API.txt','r').read()\n",
    "map_client = googlemaps.Client(API_KEY)"
   ]
  },
  {
   "cell_type": "markdown",
   "id": "dac52555",
   "metadata": {},
   "source": [
    "Specifying the coordinates of baltimore to do a sample pull request"
   ]
  },
  {
   "cell_type": "code",
   "execution_count": 12,
   "id": "35102620",
   "metadata": {},
   "outputs": [],
   "source": [
    "location = (39.2904, -76.6122)\n",
    "distance = miles_to_meters(5.08)\n",
    "# radius = '5000'\n",
    "# keyword = \n",
    "business_list = [] #where i plan to put the details\n"
   ]
  },
  {
   "cell_type": "markdown",
   "id": "fab331b1",
   "metadata": {},
   "source": [
    "Making the pull request"
   ]
  },
  {
   "cell_type": "code",
   "execution_count": 15,
   "id": "8908ae71",
   "metadata": {
    "scrolled": true
   },
   "outputs": [],
   "source": [
    "response = map_client.places_nearby(\n",
    "    location='39.2904, -76.6122',\n",
    "    keyword='restaurant',\n",
    "    radius='5000'\n",
    ")"
   ]
  },
  {
   "cell_type": "code",
   "execution_count": 16,
   "id": "169dafb8",
   "metadata": {},
   "outputs": [],
   "source": [
    "results = response.get('results')"
   ]
  },
  {
   "cell_type": "code",
   "execution_count": 19,
   "id": "34e1e9cc",
   "metadata": {},
   "outputs": [],
   "source": [
    "business_list.extend(response.get('results'))\n",
    "next_page_token = response.get('next_page_token')"
   ]
  },
  {
   "cell_type": "markdown",
   "id": "a4230cf6",
   "metadata": {},
   "source": [
    "Storing results as an excel file"
   ]
  },
  {
   "cell_type": "code",
   "execution_count": 24,
   "id": "5fbed8d4",
   "metadata": {},
   "outputs": [],
   "source": [
    "Balt = pd.DataFrame(business_list)\n",
    "Balt['url'] = 'https://www.google.com/maps/place/?q=place_id:' + Balt['place_id']\n",
    "Balt.to_excel('{0}.xlsx'.format('restaurant'), index=False)"
   ]
  },
  {
   "cell_type": "markdown",
   "id": "f8ba369b",
   "metadata": {},
   "source": [
    "Pull request for Shops in Baltimore"
   ]
  },
  {
   "cell_type": "code",
   "execution_count": 7,
   "id": "f2b37617",
   "metadata": {},
   "outputs": [],
   "source": [
    "next_page_token = None\n",
    "\n",
    "while True:\n",
    "    time.sleep(2)\n",
    "    response = map_client.places_nearby(\n",
    "        location='39.2904, -76.6122',\n",
    "        keyword='store OR supermarket OR shop',\n",
    "        radius='8176',\n",
    "        page_token=next_page_token\n",
    "    )   \n",
    "    business_list2.extend(response.get('results'))\n",
    "    next_page_token = response.get('next_page_token')\n",
    "    \n",
    "        # Checking if there are no more pages of results\n",
    "    if not next_page_token:\n",
    "        break"
   ]
  },
  {
   "cell_type": "markdown",
   "id": "2bff7b40",
   "metadata": {},
   "source": [
    "Saving Shops data as xlsx file"
   ]
  },
  {
   "cell_type": "code",
   "execution_count": 9,
   "id": "923f6173",
   "metadata": {},
   "outputs": [],
   "source": [
    "Balt2 = pd.DataFrame(business_list2)\n",
    "Balt2['url'] = 'https://www.google.com/maps/place/?q=place_id:' + Balt2['place_id']\n",
    "Balt2.to_excel('Shops.xlsx', index=False)"
   ]
  },
  {
   "cell_type": "markdown",
   "id": "b25ef442",
   "metadata": {},
   "source": [
    "Pull request for Gyms in Baltimore"
   ]
  },
  {
   "cell_type": "code",
   "execution_count": 12,
   "id": "fdb340c4",
   "metadata": {},
   "outputs": [],
   "source": [
    "business_list3 = []\n",
    "\n",
    "next_page_token = None\n",
    "\n",
    "while True:\n",
    "    time.sleep(2)\n",
    "    response = map_client.places_nearby(\n",
    "        location='39.2904, -76.6122',\n",
    "        keyword='gym',\n",
    "        radius='8176',\n",
    "        page_token=next_page_token\n",
    "    )   \n",
    "    business_list3.extend(response.get('results'))\n",
    "    next_page_token = response.get('next_page_token')\n",
    "    \n",
    "    # Checking if there are no more pages of results\n",
    "    if not next_page_token:\n",
    "        break"
   ]
  },
  {
   "cell_type": "markdown",
   "id": "7b292e8e",
   "metadata": {},
   "source": [
    "Saving Gyms data as xlsx file"
   ]
  },
  {
   "cell_type": "code",
   "execution_count": 13,
   "id": "9aca0256",
   "metadata": {},
   "outputs": [],
   "source": [
    "Balt3 = pd.DataFrame(business_list3)\n",
    "Balt3['url'] = 'https://www.google.com/maps/place/?q=place_id:' + Balt3['place_id']\n",
    "Balt3.to_excel('Gyms.xlsx', index=False)"
   ]
  },
  {
   "cell_type": "markdown",
   "id": "04b1f5b6",
   "metadata": {},
   "source": [
    "Pull request for Healthcare Facilities in Baltimore"
   ]
  },
  {
   "cell_type": "code",
   "execution_count": 5,
   "id": "e600fb65",
   "metadata": {},
   "outputs": [],
   "source": [
    "business_list4 = []\n",
    "\n",
    "next_page_token = None\n",
    "\n",
    "while True:\n",
    "    time.sleep(2)\n",
    "    response = map_client.places_nearby(\n",
    "        location='39.2904, -76.6122',\n",
    "        keyword='healthcare',\n",
    "        radius='8176',\n",
    "        type='health'\n",
    "        page_token=next_page_token\n",
    "    )   \n",
    "    business_list4.extend(response.get('results'))\n",
    "    next_page_token = response.get('next_page_token')\n",
    "    \n",
    "    # Checking if there are no more pages of results\n",
    "    if not next_page_token:\n",
    "        break"
   ]
  },
  {
   "cell_type": "markdown",
   "id": "585a7ad8",
   "metadata": {},
   "source": [
    "Saving Healthcare data as xlsx file"
   ]
  },
  {
   "cell_type": "code",
   "execution_count": 6,
   "id": "45f45d13",
   "metadata": {},
   "outputs": [],
   "source": [
    "Balt4 = pd.DataFrame(business_list4)\n",
    "Balt4['url'] = 'https://www.google.com/maps/place/?q=place_id:' + Balt4['place_id']\n",
    "Balt4.to_excel('Healthcare.xlsx', index=False)"
   ]
  },
  {
   "cell_type": "markdown",
   "id": "86a555ae",
   "metadata": {},
   "source": [
    "Searching for an alternative tag to get others that were not included"
   ]
  },
  {
   "cell_type": "code",
   "execution_count": 14,
   "id": "fcf38fac",
   "metadata": {},
   "outputs": [],
   "source": [
    "business_list4e = []\n",
    "next_page_token = None\n",
    "\n",
    "while True:\n",
    "    time.sleep(2)\n",
    "    response = map_client.places_nearby(\n",
    "        location='39.2904,-76.6122',\n",
    "        radius='8176',\n",
    "        type='hospital',\n",
    "        page_token=next_page_token\n",
    "    )   \n",
    "    results = response.get('results')\n",
    "    if results:\n",
    "        business_list4e.extend(results)\n",
    "    next_page_token = response.get('next_page_token')\n",
    "    \n",
    "    # Checking if there are no more pages of results\n",
    "    if not next_page_token:\n",
    "        break\n",
    "\n",
    "# Continue pagination until there are no more next_page_tokens\n",
    "while next_page_token:\n",
    "    time.sleep(2)\n",
    "    response = map_client.places_nearby(\n",
    "        location='39.2904,-76.6122',\n",
    "        radius='8176',\n",
    "        type='hospital',\n",
    "        page_token=next_page_token\n",
    "    )   \n",
    "    results = response.get('results')\n",
    "    if results:\n",
    "        business_list4e.extend(results)\n",
    "    next_page_token = response.get('next_page_token')\n",
    "\n",
    "Balt4e = pd.DataFrame(business_list4e)\n",
    "Balt4e['url'] = 'https://www.google.com/maps/place/?q=place_id:' + Balt4e['place_id']\n",
    "Balt4e.to_excel('hospitals.xlsx', index=False)"
   ]
  },
  {
   "cell_type": "markdown",
   "id": "c723377f",
   "metadata": {},
   "source": [
    "Pull request for night clubs in Baltimore"
   ]
  },
  {
   "cell_type": "code",
   "execution_count": 13,
   "id": "33049c78",
   "metadata": {},
   "outputs": [],
   "source": [
    "business_list5 = []\n",
    "next_page_token = None\n",
    "\n",
    "while True:\n",
    "    time.sleep(2)\n",
    "    response = map_client.places_nearby(\n",
    "        location='39.2904,-76.6122',\n",
    "        radius='8176',\n",
    "        type='night_club',\n",
    "        page_token=next_page_token\n",
    "    )   \n",
    "    results = response.get('results')\n",
    "    if results:\n",
    "        business_list5.extend(results)\n",
    "    next_page_token = response.get('next_page_token')\n",
    "    \n",
    "    # Checking if there are no more pages of results\n",
    "    if not next_page_token:\n",
    "        break\n",
    "\n",
    "# Continue pagination until there are no more next_page_tokens\n",
    "while next_page_token:\n",
    "    time.sleep(2)\n",
    "    response = map_client.places_nearby(\n",
    "        location='39.2904,-76.6122',\n",
    "        radius='8176',\n",
    "        type='night_club',\n",
    "        page_token=next_page_token\n",
    "    )   \n",
    "    results = response.get('results')\n",
    "    if results:\n",
    "        business_list5.extend(results)\n",
    "    next_page_token = response.get('next_page_token')\n",
    "\n",
    "Balt5 = pd.DataFrame(business_list5)\n",
    "Balt5['url'] = 'https://www.google.com/maps/place/?q=place_id:' + Balt5['place_id']\n",
    "Balt5.to_excel('night_club.xlsx', index=False)"
   ]
  },
  {
   "cell_type": "markdown",
   "id": "1391d5ec",
   "metadata": {},
   "source": [
    "Pull request for park in Baltimore"
   ]
  },
  {
   "cell_type": "code",
   "execution_count": 19,
   "id": "11fc129c",
   "metadata": {},
   "outputs": [],
   "source": [
    "business_list_park = []\n",
    "next_page_token = None\n",
    "\n",
    "while True:\n",
    "    time.sleep(2)\n",
    "    response = map_client.places_nearby(\n",
    "        location='39.2904,-76.6122',\n",
    "        radius='8176',\n",
    "        type='park',\n",
    "        page_token=next_page_token\n",
    "    )   \n",
    "    results = response.get('results')\n",
    "    if results:\n",
    "        business_list_park.extend(results)\n",
    "    next_page_token = response.get('next_page_token')\n",
    "    \n",
    "    # Checking if there are no more pages of results\n",
    "    if not next_page_token:\n",
    "        break\n",
    "\n",
    "# Continue until there are no more next_page_tokens\n",
    "while next_page_token:\n",
    "    time.sleep(2)\n",
    "    response = map_client.places_nearby(\n",
    "        location='39.2904,-76.6122',\n",
    "        radius='8176',\n",
    "        type='park',\n",
    "        page_token=next_page_token\n",
    "    )   \n",
    "    results = response.get('results')\n",
    "    if results:\n",
    "        business_list_park.extend(results)\n",
    "    next_page_token = response.get('next_page_token')\n",
    "\n",
    "Baltpark = pd.DataFrame(business_list_park)\n",
    "Baltpark['url'] = 'https://www.google.com/maps/place/?q=place_id:' + Baltpark['place_id']\n",
    "Baltpark.to_excel('parks.xlsx', index=False)"
   ]
  },
  {
   "cell_type": "markdown",
   "id": "04778d90",
   "metadata": {},
   "source": [
    "Trying to see if i get more results"
   ]
  },
  {
   "cell_type": "code",
   "execution_count": 16,
   "id": "7ae11a1a",
   "metadata": {},
   "outputs": [],
   "source": [
    "# business_list_parkb = []\n",
    "# next_page_token = None\n",
    "\n",
    "# response = map_client.places_nearby(\n",
    "#     location='39.2904,-76.6122',\n",
    "#     radius='8176',\n",
    "#     type='park',\n",
    "# )   \n",
    "    \n",
    "# business_list_parkb.extend(response.get('results'))\n",
    "# next_page_token = response.get('next_page_token')\n",
    "    \n",
    "# #     # Checking if there are no more pages of results\n",
    "# #     if not next_page_token:\n",
    "# #         break\n",
    "\n",
    "# # Continue until there are no more next_page_tokens\n",
    "# while next_page_token:\n",
    "#     time.sleep(2)\n",
    "#     response = map_client.places_nearby(\n",
    "#         location='39.2904,-76.6122',\n",
    "#         radius='8176',\n",
    "#         type='park',\n",
    "#         page_token=next_page_token\n",
    "#     )   \n",
    "#     business_list_parkb.extend(response.get('results'))\n",
    "#     next_page_token = response.get('next_page_token')\n",
    "\n",
    "# Baltparkb = pd.DataFrame(business_list_parkb)\n",
    "# Baltparkb['url'] = 'https://www.google.com/maps/place/?q=place_id:' + Baltparkb['place_id']\n",
    "# Baltparkb.to_excel('parksb.xlsx', index=False)"
   ]
  },
  {
   "cell_type": "markdown",
   "id": "7e6b5c17",
   "metadata": {},
   "source": [
    "No difference, still getting just 60 results"
   ]
  },
  {
   "cell_type": "markdown",
   "id": "9312c2f8",
   "metadata": {},
   "source": [
    "Police presence"
   ]
  },
  {
   "cell_type": "code",
   "execution_count": 18,
   "id": "13177bb9",
   "metadata": {},
   "outputs": [],
   "source": [
    "business_list_police = []\n",
    "next_page_token = None\n",
    "\n",
    "while True:\n",
    "    time.sleep(2)\n",
    "    response = map_client.places_nearby(\n",
    "        location='39.2904,-76.6122',\n",
    "        radius='8176',\n",
    "        type='police',\n",
    "        page_token=next_page_token\n",
    "    )   \n",
    "    results = response.get('results')\n",
    "    if results:\n",
    "        business_list_police.extend(results)\n",
    "        next_page_token = response.get('next_page_token')\n",
    "    \n",
    "    # Checking if there are no more pages of results\n",
    "    if not next_page_token:\n",
    "        break\n",
    "\n",
    "# Continue until there are no more next_page_tokens\n",
    "while next_page_token:\n",
    "    time.sleep(2)\n",
    "    response = map_client.places_nearby(\n",
    "        location='39.2904,-76.6122',\n",
    "        radius='8176',\n",
    "        type='police',\n",
    "        page_token=next_page_token\n",
    "    )   \n",
    "    results = response.get('results')\n",
    "    if results:\n",
    "        business_list_police.extend(results)\n",
    "    next_page_token = response.get('next_page_token')\n",
    "\n",
    "Baltpolice = pd.DataFrame(business_list_police)\n",
    "Baltpolice['url'] = 'https://www.google.com/maps/place/?q=place_id:' + Baltpolice['place_id']\n",
    "Baltpolice.to_excel('police.xlsx', index=False)"
   ]
  },
  {
   "cell_type": "markdown",
   "id": "ded64705",
   "metadata": {},
   "source": [
    "Further police search"
   ]
  },
  {
   "cell_type": "code",
   "execution_count": 20,
   "id": "9b33ab99",
   "metadata": {},
   "outputs": [],
   "source": [
    "business_list_policeb = []\n",
    "next_page_token = None\n",
    "\n",
    "while True:\n",
    "    time.sleep(2)\n",
    "    response = map_client.places_nearby(\n",
    "        location='39.2904,-76.6122',\n",
    "        radius='8176',\n",
    "        keyword ='police',\n",
    "        page_token=next_page_token\n",
    "    )   \n",
    "    results = response.get('results')\n",
    "    if results:\n",
    "        business_list_policeb.extend(results)\n",
    "        next_page_token = response.get('next_page_token')\n",
    "    \n",
    "    # Checking if there are no more pages of results\n",
    "    if not next_page_token:\n",
    "        break\n",
    "\n",
    "# Continue until there are no more next_page_tokens\n",
    "while next_page_token:\n",
    "    time.sleep(2)\n",
    "    response = map_client.places_nearby(\n",
    "        location='39.2904,-76.6122',\n",
    "        radius='8176',\n",
    "        keyword ='police',\n",
    "        page_token=next_page_token\n",
    "    )   \n",
    "    results = response.get('results')\n",
    "    if results:\n",
    "        business_list_policeb.extend(results)\n",
    "    next_page_token = response.get('next_page_token')\n",
    "\n",
    "Baltpoliceb = pd.DataFrame(business_list_policeb)\n",
    "Baltpoliceb['url'] = 'https://www.google.com/maps/place/?q=place_id:' + Baltpoliceb['place_id']\n",
    "Baltpoliceb.to_excel('policeb.xlsx', index=False)"
   ]
  },
  {
   "cell_type": "markdown",
   "id": "f4d2f572",
   "metadata": {},
   "source": [
    "Pull request for pharmacy in Baltimore"
   ]
  },
  {
   "cell_type": "code",
   "execution_count": 4,
   "id": "49474146",
   "metadata": {},
   "outputs": [],
   "source": [
    "business_list_pharmacy = []\n",
    "next_page_token = None\n",
    "\n",
    "while True:\n",
    "    time.sleep(2)\n",
    "    response = map_client.places_nearby(\n",
    "        location='39.2904,-76.6122',\n",
    "        radius='8176',\n",
    "        keyword ='pharmacy',\n",
    "        page_token=next_page_token\n",
    "    )   \n",
    "    results = response.get('results')\n",
    "    if results:\n",
    "        business_list_pharmacy.extend(results)\n",
    "        next_page_token = response.get('next_page_token')\n",
    "    \n",
    "    # Checking if there are no more pages of results\n",
    "    if not next_page_token:\n",
    "        break\n",
    "\n",
    "# Continue until there are no more next_page_tokens\n",
    "while next_page_token:\n",
    "    time.sleep(2)\n",
    "    response = map_client.places_nearby(\n",
    "        location='39.2904,-76.6122',\n",
    "        radius='8176',\n",
    "        keyword ='pharmacy',\n",
    "        page_token=next_page_token\n",
    "    )   \n",
    "    results = response.get('results')\n",
    "    if results:\n",
    "        business_list_pharmacy.extend(results)\n",
    "    next_page_token = response.get('next_page_token')\n",
    "\n",
    "Baltpharmacy = pd.DataFrame(business_list_pharmacy)\n",
    "Baltpharmacy['url'] = 'https://www.google.com/maps/place/?q=place_id:' + Baltpharmacy['place_id']\n",
    "Baltpharmacy.to_excel('pharmacy.xlsx', index=False)"
   ]
  },
  {
   "cell_type": "markdown",
   "id": "239cb071",
   "metadata": {},
   "source": [
    "Pull request for banks in Baltimore"
   ]
  },
  {
   "cell_type": "code",
   "execution_count": 3,
   "id": "0f42f5ef",
   "metadata": {},
   "outputs": [],
   "source": [
    "business_list_bank = []\n",
    "\n",
    "response = map_client.places_nearby(\n",
    "    location='39.2904, -76.6122',\n",
    "    keyword='bank',\n",
    "    radius='8176'\n",
    ")\n",
    "\n",
    "business_list_bank.extend(response.get('results'))\n",
    "next_page_token = response.get('next_page_token')\n",
    "\n",
    "while next_page_token:\n",
    "    time.sleep(2)\n",
    "    response = map_client.places_nearby(\n",
    "        location='39.2904, -76.6122',\n",
    "        keyword='bank',\n",
    "        radius='8176',\n",
    "        page_token=next_page_token\n",
    "    )   \n",
    "    \n",
    "    business_list_bank.extend(response.get('results'))\n",
    "    next_page_token = response.get('next_page_token')\n",
    "\n",
    "Baltbank = pd.DataFrame(business_list_bank)\n",
    "Baltbank['url'] = 'https://www.google.com/maps/place/?q=place_id:' + Baltbank['place_id']\n",
    "Baltbank.to_excel('Banks.xlsx', index=False)"
   ]
  },
  {
   "cell_type": "markdown",
   "id": "7d940e2c",
   "metadata": {},
   "source": [
    "Reverse search for geolocation of properties to find their neighborhood names"
   ]
  },
  {
   "cell_type": "code",
   "execution_count": 9,
   "id": "01d615bc",
   "metadata": {},
   "outputs": [
    {
     "name": "stdout",
     "output_type": "stream",
     "text": [
      "Neighborhood: Mount Washington\n"
     ]
    }
   ],
   "source": [
    "# Initialize the Google Maps client\n",
    "gmaps = googlemaps.Client(API_KEY)\n",
    "\n",
    "# Define the coordinates\n",
    "latitude = 39.37203\n",
    "longitude = -76.685295\n",
    "\n",
    "# Perform reverse geocoding to get location details\n",
    "reverse_geocode_result = gmaps.reverse_geocode((latitude, longitude))\n",
    "\n",
    "# Extract neighborhood information if available\n",
    "neighborhood = None\n",
    "for result in reverse_geocode_result:\n",
    "    for component in result['address_components']:\n",
    "        if 'neighborhood' in component['types']:\n",
    "            neighborhood = component['long_name']\n",
    "\n",
    "if neighborhood:\n",
    "    print(f'Neighborhood: {neighborhood}')\n",
    "else:\n",
    "    print('Neighborhood information not found.')"
   ]
  },
  {
   "cell_type": "markdown",
   "id": "dd55a491",
   "metadata": {},
   "source": [
    "Testing code to pull businesses in specific areas in baltimore"
   ]
  },
  {
   "cell_type": "code",
   "execution_count": 5,
   "id": "781afe12",
   "metadata": {},
   "outputs": [],
   "source": [
    "# Define a list of neighborhoods in Baltimore\n",
    "neighborhoods = [\n",
    "    {\"name\": \"Mount Washington\", \"location\": \"39.3616,-76.6531\", \"radius\": 2000},\n",
    "    {\"name\": \"Downtown\", \"location\": \"39.2904,-76.6122\", \"radius\": 2000},\n",
    "    {\"name\": \"Riverside\", \"location\": \"39.2790,-76.6019\", \"radius\": 2000},\n",
    "    {\"name\": \"East Case\", \"location\": \"39.2904,-76.6084\", \"radius\": 2000},\n",
    "    {\"name\": \"Druid Hill Park\", \"location\": \"39.3233,-76.6438\", \"radius\": 2000},\n",
    "]\n",
    "\n",
    "# Function to fetch businesses in a neighborhood\n",
    "def fetch_businesses(neighborhood):\n",
    "    business_list = []\n",
    "    response = map_client.places_nearby(\n",
    "        location=neighborhood[\"location\"],\n",
    "        radius=neighborhood[\"radius\"],\n",
    "        type='restaurant',  # Specify the type of business you want (e.g., restaurant, gym, etc.)\n",
    "    )\n",
    "\n",
    "    while 'results' in response:\n",
    "        business_list.extend(response['results'])\n",
    "        time.sleep(2)  # Pause to avoid rate limiting issues\n",
    "        if 'next_page_token' in response:\n",
    "            response = map_client.places_nearby(\n",
    "                location=neighborhood[\"location\"],\n",
    "                radius=neighborhood[\"radius\"],\n",
    "                type='restaurant',\n",
    "                page_token=response['next_page_token']\n",
    "            )\n",
    "        else:\n",
    "            break\n",
    "\n",
    "    return business_list\n",
    "\n",
    "# Fetch businesses in each neighborhood\n",
    "all_businesses = []\n",
    "for neighborhood in neighborhoods:\n",
    "    neighborhood_businesses = fetch_businesses(neighborhood)\n",
    "    all_businesses.extend(neighborhood_businesses)\n",
    "\n",
    "# Create a DataFrame from the combined list of businesses\n",
    "business_df = pd.DataFrame(all_businesses)\n",
    "\n",
    "# Add a URL column for each business\n",
    "business_df['url'] = 'https://www.google.com/maps/place/?q=place_id:' + business_df['place_id']\n",
    "\n",
    "# Save the merged dataset to an Excel file\n",
    "business_df.to_excel('All_Businesses.xlsx', index=False)\n"
   ]
  },
  {
   "cell_type": "code",
   "execution_count": null,
   "id": "dc282e95",
   "metadata": {},
   "outputs": [],
   "source": []
  }
 ],
 "metadata": {
  "kernelspec": {
   "display_name": "Python 3 (ipykernel)",
   "language": "python",
   "name": "python3"
  },
  "language_info": {
   "codemirror_mode": {
    "name": "ipython",
    "version": 3
   },
   "file_extension": ".py",
   "mimetype": "text/x-python",
   "name": "python",
   "nbconvert_exporter": "python",
   "pygments_lexer": "ipython3",
   "version": "3.10.7"
  }
 },
 "nbformat": 4,
 "nbformat_minor": 5
}
