{
 "cells": [
  {
   "cell_type": "code",
   "execution_count": 1,
   "metadata": {},
   "outputs": [
    {
     "name": "stdout",
     "output_type": "stream",
     "text": [
      "Requirement already satisfied: googlemaps in c:\\users\\stean\\appdata\\local\\programs\\python\\python310\\lib\\site-packages (4.10.0)Note: you may need to restart the kernel to use updated packages.\n",
      "\n",
      "Requirement already satisfied: requests<3.0,>=2.20.0 in c:\\users\\stean\\appdata\\local\\programs\\python\\python310\\lib\\site-packages (from googlemaps) (2.28.1)\n",
      "Requirement already satisfied: charset-normalizer<3,>=2 in c:\\users\\stean\\appdata\\local\\programs\\python\\python310\\lib\\site-packages (from requests<3.0,>=2.20.0->googlemaps) (2.1.1)\n",
      "Requirement already satisfied: idna<4,>=2.5 in c:\\users\\stean\\appdata\\local\\programs\\python\\python310\\lib\\site-packages (from requests<3.0,>=2.20.0->googlemaps) (3.4)\n",
      "Requirement already satisfied: urllib3<1.27,>=1.21.1 in c:\\users\\stean\\appdata\\local\\programs\\python\\python310\\lib\\site-packages (from requests<3.0,>=2.20.0->googlemaps) (1.26.13)\n",
      "Requirement already satisfied: certifi>=2017.4.17 in c:\\users\\stean\\appdata\\local\\programs\\python\\python310\\lib\\site-packages (from requests<3.0,>=2.20.0->googlemaps) (2022.12.7)\n"
     ]
    },
    {
     "name": "stderr",
     "output_type": "stream",
     "text": [
      "WARNING: Ignoring invalid distribution -rotobuf (c:\\users\\stean\\appdata\\local\\programs\\python\\python310\\lib\\site-packages)\n",
      "WARNING: Ignoring invalid distribution -rotobuf (c:\\users\\stean\\appdata\\local\\programs\\python\\python310\\lib\\site-packages)\n",
      "\n",
      "[notice] A new release of pip is available: 23.1.2 -> 23.2.1\n",
      "[notice] To update, run: python.exe -m pip install --upgrade pip\n"
     ]
    }
   ],
   "source": [
    "pip install googlemaps"
   ]
  },
  {
   "cell_type": "code",
   "execution_count": 1,
   "metadata": {},
   "outputs": [
    {
     "name": "stdout",
     "output_type": "stream",
     "text": [
      "Requirement already satisfied: openpyxl in c:\\users\\stean\\appdata\\local\\programs\\python\\python310\\lib\\site-packages (3.1.2)Note: you may need to restart the kernel to use updated packages.\n",
      "\n",
      "Requirement already satisfied: et-xmlfile in c:\\users\\stean\\appdata\\local\\programs\\python\\python310\\lib\\site-packages (from openpyxl) (1.1.0)\n"
     ]
    },
    {
     "name": "stderr",
     "output_type": "stream",
     "text": [
      "WARNING: Ignoring invalid distribution -rotobuf (c:\\users\\stean\\appdata\\local\\programs\\python\\python310\\lib\\site-packages)\n",
      "WARNING: Ignoring invalid distribution -rotobuf (c:\\users\\stean\\appdata\\local\\programs\\python\\python310\\lib\\site-packages)\n",
      "\n",
      "[notice] A new release of pip is available: 23.1.2 -> 23.2.1\n",
      "[notice] To update, run: python.exe -m pip install --upgrade pip\n"
     ]
    }
   ],
   "source": [
    "pip install openpyxl"
   ]
  },
  {
   "cell_type": "code",
   "execution_count": 2,
   "metadata": {},
   "outputs": [],
   "source": [
    "import time\n",
    "import googlemaps\n",
    "import pandas as pd\n",
    "import csv\n",
    "from pprint import pprint\n",
    "import openpyxl"
   ]
  },
  {
   "cell_type": "code",
   "execution_count": 3,
   "metadata": {},
   "outputs": [],
   "source": [
    "API_KEY = open('API.txt','r').read()\n",
    "map_client = googlemaps.Client(API_KEY)"
   ]
  },
  {
   "cell_type": "code",
   "execution_count": 4,
   "metadata": {},
   "outputs": [],
   "source": [
    "# Load the neighborhood details from a CSV file into a DataFrame\n",
    "neighborhood_df = pd.read_csv('neighborhood_data.csv')\n",
    "\n",
    "# Function to fetch gyms in a neighborhood\n",
    "def fetch_gyms(neighborhood):\n",
    "    allowed_columns = [\"place_id\", \"geometry\"]  # Specifying the allowed columns\n",
    "\n",
    "    gym_list = []\n",
    "    response = map_client.places_nearby(\n",
    "        location=neighborhood[\"location\"],\n",
    "        radius=neighborhood[\"radius\"],\n",
    "        type='gym',  \n",
    "    )\n",
    "\n",
    "    while 'results' in response:\n",
    "        for result in response['results']:\n",
    "            # Filter columns to keep only allowed ones\n",
    "            filtered_result = {key: result[key] for key in allowed_columns}\n",
    "\n",
    "            # Add neighborhood information\n",
    "            filtered_result['neighborhood'] = neighborhood[\"location\"]\n",
    "\n",
    "            gym_list.append(filtered_result)\n",
    "\n",
    "        time.sleep(2)  # Pause to avoid rate limiting issues\n",
    "        if 'next_page_token' in response:\n",
    "            response = map_client.places_nearby(\n",
    "                location=neighborhood[\"location\"],\n",
    "                radius=neighborhood[\"radius\"],\n",
    "                type='gym',\n",
    "                page_token=response['next_page_token']\n",
    "            )\n",
    "        else:\n",
    "            break\n",
    "\n",
    "    return gym_list\n",
    "\n",
    "# Fetch gyms for each neighborhood in the DataFrame\n",
    "all_gyms = []\n",
    "\n",
    "for index, row in neighborhood_df.iterrows():\n",
    "    neighborhood_info = {\n",
    "        \"name\": row[\"name\"],\n",
    "        \"location\": row[\"location\"],\n",
    "        \"radius\": row[\"radius\"]\n",
    "    }\n",
    "    neighborhood_gyms = fetch_gyms(neighborhood_info)\n",
    "    all_gyms.extend(neighborhood_gyms)\n",
    "\n",
    "# Create a DataFrame from the combined list of gyms\n",
    "gym_df = pd.DataFrame(all_gyms)\n",
    "\n",
    "# Save the merged dataset to an Excel file\n",
    "gym_df.to_excel('Allowed_gyms.xlsx', index=False)"
   ]
  }
 ],
 "metadata": {
  "kernelspec": {
   "display_name": "Python 3 (ipykernel)",
   "language": "python",
   "name": "python3"
  },
  "language_info": {
   "codemirror_mode": {
    "name": "ipython",
    "version": 3
   },
   "file_extension": ".py",
   "mimetype": "text/x-python",
   "name": "python",
   "nbconvert_exporter": "python",
   "pygments_lexer": "ipython3",
   "version": "3.10.7"
  }
 },
 "nbformat": 4,
 "nbformat_minor": 2
}
