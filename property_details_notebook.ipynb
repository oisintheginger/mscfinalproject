{
 "cells": [
  {
   "cell_type": "code",
   "execution_count": 11,
   "id": "237ccfda",
   "metadata": {},
   "outputs": [],
   "source": [
    "import pandas as pd\n",
    "\n",
    "# Begin by loading in zpids dataset\n",
    "zpids_units = pd.read_csv('D:/DataSets/msc_group_project/property_keys_units.csv')\n",
    "zpids_non_units = pd.read_csv('D:/DataSets/msc_group_project/property_keys_non_units.csv')\n",
    "\n",
    "zpids_df = zpids_units + zpids_non_units\n",
    "\n",
    "zpids_df = pd.concat([zpids_units,zpids_non_units], ignore_index=True)\n",
    "\n",
    "#save new dataframe \n",
    "\n",
    "#save it\n",
    "import os # package for checking/ removing file\n",
    "save_path = 'D:/dataSets/msc_group_project/all_property_keys.csv'\n",
    "\n",
    "# delete file path if it exists, this is needed as dataset keeps being modified\n",
    "if os.path.exists(save_path):\n",
    "    os.remove(save_path)\n",
    "    \n",
    "zpids_df.to_csv(save_path, index=False)"
   ]
  },
  {
   "cell_type": "code",
   "execution_count": 51,
   "id": "60f262e9",
   "metadata": {},
   "outputs": [],
   "source": [
    "response2 = retrive_property_details(2075342017)"
   ]
  },
  {
   "cell_type": "code",
   "execution_count": 12,
   "id": "53a91ac7",
   "metadata": {},
   "outputs": [],
   "source": [
    "# create function that sends out a request\n",
    "import requests\n",
    "\n",
    "def retrive_property_details(zpid):\n",
    "\n",
    "    url = \"https://zillow-com1.p.rapidapi.com/property\"\n",
    "\n",
    "    querystring = {\"zpid\":zpid}\n",
    "\n",
    "    headers = {\n",
    "        \"X-RapidAPI-Key\": \"0f64ef61f3msh8589bcbe6519721p1fd4adjsn7b6792b52973\",\n",
    "        \"X-RapidAPI-Host\": \"zillow-com1.p.rapidapi.com\"\n",
    "    }\n",
    "\n",
    "    response = requests.get(url, headers=headers, params=querystring)\n",
    "\n",
    "    return response.json()\n",
    "\n"
   ]
  },
  {
   "cell_type": "code",
   "execution_count": 52,
   "id": "2e1fd258",
   "metadata": {},
   "outputs": [],
   "source": [
    "response1 = response\n",
    "response = response2"
   ]
  },
  {
   "cell_type": "code",
   "execution_count": 94,
   "id": "fd15c5f3",
   "metadata": {},
   "outputs": [],
   "source": [
    "def check_feature(check_str,response,return_statement):\n",
    "    if check_str in response:\n",
    "        print(\"hi\")\n",
    "        return response[str(check_str)][str(return_statement)]\n",
    "    else: return None"
   ]
  },
  {
   "cell_type": "code",
   "execution_count": 98,
   "id": "c55a6e1f",
   "metadata": {},
   "outputs": [
    {
     "name": "stdout",
     "output_type": "stream",
     "text": [
      "hi\n",
      "hi\n"
     ]
    }
   ],
   "source": [
    "# create loop that makes a request for each property\n",
    "# each of these lists represent a table that will be in our schema\n",
    "new_row_price_history = []\n",
    "new_row_schools_nearby = []\n",
    "new_row_main_details = []\n",
    "new_row_addresses = []\n",
    "new_row_appliances = [] # includes window features, associated amenities, utilities, lot features, parking, patio and porch,cooling\n",
    "new_row_at_a_glance = []\n",
    "new_row_community_features = []\n",
    "new_row_exterior_features = []\n",
    "new_row_fees = []\n",
    "\n",
    "iterations = len(zpids_df)\n",
    "for i in range(1):\n",
    "    #response = retrive_property_details(36463600)\n",
    "    \n",
    "    if response is not None:\n",
    "        # a temportary main information dictionary we create just for this iteration\n",
    "        temp_main_details = {}\n",
    "        temp_main_details[\"zpid\"] = response[\"zpid\"]\n",
    "        temp_main_details[\"geoLocation\"] = str(str(response[\"latitude\"]) + \", \" + str(response[\"longitude\"]))\n",
    "        temp_main_details[\"postingGroupName\"] = response[\"listingProvider\"][\"postingGroupName\"]\n",
    "        temp_main_details[\"agentName\"] = response[\"listingProvider\"][\"agentName\"]\n",
    "        temp_main_details[\"overview\"] = response[\"description\"]\n",
    "        temp_main_details[\"url\"] = response[\"url\"]\n",
    "        temp_main_details[\"timeOnHME\"] = response[\"timeOnZillow\"]\n",
    "        temp_main_details[\"price\"] = response[\"price\"]\n",
    "        temp_main_details[\"lvingAreaValue\"] = response[\"livingAreaValue\"]       \n",
    "        temp_main_details[\"bathrooms\"] = response[\"resoFacts\"][\"bathrooms\"]\n",
    "        temp_main_details[\"bathroomsHalf\"] = response[\"resoFacts\"][\"bathroomsHalf\"]\n",
    "        temp_main_details[\"bathroomsFull\"] = response[\"resoFacts\"][\"bathroomsFull\"]\n",
    "        temp_main_details[\"bedrooms\"] = response[\"resoFacts\"][\"bedrooms\"]\n",
    "        temp_main_details[\"livingArea\"] = response[\"resoFacts\"][\"livingArea\"]\n",
    "        temp_main_details[\"livingAreaValue\"] = response[\"livingAreaValue\"]\n",
    "        temp_main_details[\"yearBuilt\"] = response[\"resoFacts\"][\"yearBuilt\"]\n",
    "        temp_main_details[\"homeType\"] = response[\"resoFacts\"][\"homeType\"]\n",
    "        temp_main_details[\"homeStatus\"] = response[\"homeStatus\"]\n",
    "        temp_main_details[\"datePosted\"] = response[\"datePosted\"]\n",
    "        temp_main_details[\"rentEstimate\"] = response[\"rentZestimate\"]\n",
    "        \n",
    "        # a temportary addresses dictionary we create just for this iteration\n",
    "        temp_addresses = {}\n",
    "        temp_addresses[\"city\"] = response[\"address\"][\"city\"]\n",
    "        temp_addresses[\"state\"] = response[\"address\"][\"state\"]\n",
    "        temp_addresses[\"streetAddress\"] = response[\"address\"][\"streetAddress\"]\n",
    "        temp_addresses[\"zipcode\"] = response[\"address\"][\"zipcode\"]\n",
    "        temp_addresses[\"cityRegion\"] = response[\"resoFacts\"][\"cityRegion\"]\n",
    "        \n",
    "        temp_addresses[\"buildingName\"] = check_feature(\"building\",response,\"buildingName\")\n",
    "        temp_addresses[\"stateId\"] = response[\"stateId\"]\n",
    "        temp_addresses[\"cityId\"] = response[\"cityId\"]\n",
    "        temp_addresses[\"country\"] = response[\"country\"]\n",
    "        temp_addresses[\"zillowBuildingUrl\"] = str(\"https:/zillow.com/\") + str(check_feature(\"building\",response,\"bdpUrl\"))\n",
    "        \n",
    "        # a temporary appliances information dictionary we create just for this iteration\n",
    "        temp_appliances = {}\n",
    "        \n",
    "    new_row_main_details.append(temp_main_details)\n",
    "    new_row_addresses.append(temp_addresses)\n",
    "    \n",
    "main_details_df = pd.DataFrame(new_row_main_details)\n",
    "address_details_df = pd.DataFrame(new_row_addresses)\n",
    "    \n",
    "pd.set_option('display.max_columns', None)\n",
    " "
   ]
  },
  {
   "cell_type": "code",
   "execution_count": 99,
   "id": "66c5b9e0",
   "metadata": {},
   "outputs": [
    {
     "data": {
      "text/html": [
       "<div>\n",
       "<style scoped>\n",
       "    .dataframe tbody tr th:only-of-type {\n",
       "        vertical-align: middle;\n",
       "    }\n",
       "\n",
       "    .dataframe tbody tr th {\n",
       "        vertical-align: top;\n",
       "    }\n",
       "\n",
       "    .dataframe thead th {\n",
       "        text-align: right;\n",
       "    }\n",
       "</style>\n",
       "<table border=\"1\" class=\"dataframe\">\n",
       "  <thead>\n",
       "    <tr style=\"text-align: right;\">\n",
       "      <th></th>\n",
       "      <th>zpid</th>\n",
       "      <th>geoLocation</th>\n",
       "      <th>postingGroupName</th>\n",
       "      <th>agentName</th>\n",
       "      <th>overview</th>\n",
       "      <th>url</th>\n",
       "      <th>timeOnHME</th>\n",
       "      <th>price</th>\n",
       "      <th>lvingAreaValue</th>\n",
       "      <th>bathrooms</th>\n",
       "      <th>bathroomsHalf</th>\n",
       "      <th>bathroomsFull</th>\n",
       "      <th>bedrooms</th>\n",
       "      <th>livingArea</th>\n",
       "      <th>livingAreaValue</th>\n",
       "      <th>yearBuilt</th>\n",
       "      <th>homeType</th>\n",
       "      <th>homeStatus</th>\n",
       "      <th>datePosted</th>\n",
       "      <th>rentEstimate</th>\n",
       "    </tr>\n",
       "  </thead>\n",
       "  <tbody>\n",
       "    <tr>\n",
       "      <th>0</th>\n",
       "      <td>2075342017</td>\n",
       "      <td>39.37203, -76.685295</td>\n",
       "      <td>Quest Management Group</td>\n",
       "      <td>209 @ Pickwick Apartments</td>\n",
       "      <td>Pickwick East's unique family atmosphere is an...</td>\n",
       "      <td>/homedetails/2700-Fallstaff-Rd-6424-Baltimore-...</td>\n",
       "      <td>14 days</td>\n",
       "      <td>1326</td>\n",
       "      <td>850</td>\n",
       "      <td>1</td>\n",
       "      <td>0</td>\n",
       "      <td>1</td>\n",
       "      <td>1</td>\n",
       "      <td>850 sqft</td>\n",
       "      <td>850</td>\n",
       "      <td>1969</td>\n",
       "      <td>Apartment</td>\n",
       "      <td>FOR_RENT</td>\n",
       "      <td>2023-09-20</td>\n",
       "      <td>1346</td>\n",
       "    </tr>\n",
       "  </tbody>\n",
       "</table>\n",
       "</div>"
      ],
      "text/plain": [
       "         zpid           geoLocation        postingGroupName  \\\n",
       "0  2075342017  39.37203, -76.685295  Quest Management Group   \n",
       "\n",
       "                   agentName  \\\n",
       "0  209 @ Pickwick Apartments   \n",
       "\n",
       "                                            overview  \\\n",
       "0  Pickwick East's unique family atmosphere is an...   \n",
       "\n",
       "                                                 url timeOnHME  price  \\\n",
       "0  /homedetails/2700-Fallstaff-Rd-6424-Baltimore-...   14 days   1326   \n",
       "\n",
       "   lvingAreaValue  bathrooms  bathroomsHalf  bathroomsFull  bedrooms  \\\n",
       "0             850          1              0              1         1   \n",
       "\n",
       "  livingArea  livingAreaValue  yearBuilt   homeType homeStatus  datePosted  \\\n",
       "0   850 sqft              850       1969  Apartment   FOR_RENT  2023-09-20   \n",
       "\n",
       "   rentEstimate  \n",
       "0          1346  "
      ]
     },
     "execution_count": 99,
     "metadata": {},
     "output_type": "execute_result"
    }
   ],
   "source": [
    "main_details_df"
   ]
  },
  {
   "cell_type": "code",
   "execution_count": 100,
   "id": "cc396a55",
   "metadata": {},
   "outputs": [
    {
     "data": {
      "text/html": [
       "<div>\n",
       "<style scoped>\n",
       "    .dataframe tbody tr th:only-of-type {\n",
       "        vertical-align: middle;\n",
       "    }\n",
       "\n",
       "    .dataframe tbody tr th {\n",
       "        vertical-align: top;\n",
       "    }\n",
       "\n",
       "    .dataframe thead th {\n",
       "        text-align: right;\n",
       "    }\n",
       "</style>\n",
       "<table border=\"1\" class=\"dataframe\">\n",
       "  <thead>\n",
       "    <tr style=\"text-align: right;\">\n",
       "      <th></th>\n",
       "      <th>city</th>\n",
       "      <th>state</th>\n",
       "      <th>streetAddress</th>\n",
       "      <th>zipcode</th>\n",
       "      <th>cityRegion</th>\n",
       "      <th>buildingName</th>\n",
       "      <th>stateId</th>\n",
       "      <th>cityId</th>\n",
       "      <th>country</th>\n",
       "      <th>zillowBuildingUrl</th>\n",
       "    </tr>\n",
       "  </thead>\n",
       "  <tbody>\n",
       "    <tr>\n",
       "      <th>0</th>\n",
       "      <td>Baltimore</td>\n",
       "      <td>MD</td>\n",
       "      <td>2700 Fallstaff Rd #6424</td>\n",
       "      <td>21209</td>\n",
       "      <td>Baltimore</td>\n",
       "      <td>209 @ Pickwick Apartments</td>\n",
       "      <td>27</td>\n",
       "      <td>3523</td>\n",
       "      <td>USA</td>\n",
       "      <td>https:/zillow.com//b/209-%40-pickwick-apartmen...</td>\n",
       "    </tr>\n",
       "  </tbody>\n",
       "</table>\n",
       "</div>"
      ],
      "text/plain": [
       "        city state            streetAddress zipcode cityRegion  \\\n",
       "0  Baltimore    MD  2700 Fallstaff Rd #6424   21209  Baltimore   \n",
       "\n",
       "                buildingName  stateId  cityId country  \\\n",
       "0  209 @ Pickwick Apartments       27    3523     USA   \n",
       "\n",
       "                                   zillowBuildingUrl  \n",
       "0  https:/zillow.com//b/209-%40-pickwick-apartmen...  "
      ]
     },
     "execution_count": 100,
     "metadata": {},
     "output_type": "execute_result"
    }
   ],
   "source": [
    "address_details_df\n"
   ]
  }
 ],
 "metadata": {
  "kernelspec": {
   "display_name": "Python 3 (ipykernel)",
   "language": "python",
   "name": "python3"
  },
  "language_info": {
   "codemirror_mode": {
    "name": "ipython",
    "version": 3
   },
   "file_extension": ".py",
   "mimetype": "text/x-python",
   "name": "python",
   "nbconvert_exporter": "python",
   "pygments_lexer": "ipython3",
   "version": "3.10.7"
  },
  "varInspector": {
   "cols": {
    "lenName": 16,
    "lenType": 16,
    "lenVar": 40
   },
   "kernels_config": {
    "python": {
     "delete_cmd_postfix": "",
     "delete_cmd_prefix": "del ",
     "library": "var_list.py",
     "varRefreshCmd": "print(var_dic_list())"
    },
    "r": {
     "delete_cmd_postfix": ") ",
     "delete_cmd_prefix": "rm(",
     "library": "var_list.r",
     "varRefreshCmd": "cat(var_dic_list()) "
    }
   },
   "types_to_exclude": [
    "module",
    "function",
    "builtin_function_or_method",
    "instance",
    "_Feature"
   ],
   "window_display": false
  }
 },
 "nbformat": 4,
 "nbformat_minor": 5
}
