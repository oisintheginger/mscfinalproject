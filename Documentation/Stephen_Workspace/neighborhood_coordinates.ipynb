{
 "cells": [
  {
   "cell_type": "code",
   "execution_count": 10,
   "metadata": {},
   "outputs": [
    {
     "name": "stdout",
     "output_type": "stream",
     "text": [
      "Collecting geopy\n",
      "  Downloading geopy-2.4.0-py3-none-any.whl (125 kB)\n",
      "     -------------------------------------- 125.4/125.4 kB 2.5 MB/s eta 0:00:00\n",
      "Collecting geographiclib<3,>=1.52 (from geopy)\n",
      "  Downloading geographiclib-2.0-py3-none-any.whl (40 kB)\n",
      "     ---------------------------------------- 40.3/40.3 kB ? eta 0:00:00\n",
      "Installing collected packages: geographiclib, geopy\n",
      "Successfully installed geographiclib-2.0 geopy-2.4.0\n",
      "Note: you may need to restart the kernel to use updated packages.\n"
     ]
    },
    {
     "name": "stderr",
     "output_type": "stream",
     "text": [
      "WARNING: Ignoring invalid distribution -rotobuf (c:\\users\\stean\\appdata\\local\\programs\\python\\python310\\lib\\site-packages)\n",
      "WARNING: Ignoring invalid distribution -rotobuf (c:\\users\\stean\\appdata\\local\\programs\\python\\python310\\lib\\site-packages)\n",
      "\n",
      "[notice] A new release of pip is available: 23.1.2 -> 23.3.1\n",
      "[notice] To update, run: python.exe -m pip install --upgrade pip\n"
     ]
    }
   ],
   "source": [
    "pip install geopy"
   ]
  },
  {
   "cell_type": "code",
   "execution_count": 1,
   "metadata": {},
   "outputs": [],
   "source": [
    "import time\n",
    "import googlemaps\n",
    "import pandas as pd\n",
    "import csv\n",
    "from pprint import pprint\n",
    "import openpyxl\n",
    "from geopy.geocoders import GoogleV3"
   ]
  },
  {
   "cell_type": "code",
   "execution_count": 2,
   "metadata": {},
   "outputs": [],
   "source": [
    "#defining API key\n",
    "API_KEY = open('API.txt','r').read()\n",
    "map_client = googlemaps.Client(API_KEY)"
   ]
  },
  {
   "cell_type": "markdown",
   "metadata": {},
   "source": [
    "Testing code to reverse search for Neighbourhood names"
   ]
  },
  {
   "cell_type": "code",
   "execution_count": 24,
   "metadata": {},
   "outputs": [
    {
     "name": "stdout",
     "output_type": "stream",
     "text": [
      "Neighborhood: Brooklyn Homes\n"
     ]
    }
   ],
   "source": [
    "# Initializing the Google Maps client\n",
    "gmaps = googlemaps.Client(API_KEY)\n",
    "\n",
    "# Defining the coordinates\n",
    "latitude = 39.22830342820063\n",
    "longitude = -76.60081926609222\n",
    "\n",
    "# Performing reverse geocoding to get location details\n",
    "reverse_geocode_result = gmaps.reverse_geocode((latitude, longitude))\n",
    "\n",
    "# Extracting neighborhood information if available\n",
    "neighborhood = None\n",
    "for result in reverse_geocode_result:\n",
    "    for component in result['address_components']:\n",
    "        if 'neighborhood' in component['types']:\n",
    "            neighborhood = component['long_name']\n",
    "\n",
    "if neighborhood:\n",
    "    print(f'Neighborhood: {neighborhood}')\n",
    "else:\n",
    "    print('Neighborhood information not found.')"
   ]
  },
  {
   "cell_type": "code",
   "execution_count": 5,
   "metadata": {},
   "outputs": [
    {
     "name": "stderr",
     "output_type": "stream",
     "text": [
      "C:\\Users\\stean\\AppData\\Local\\Temp\\ipykernel_23668\\839219139.py:1: DtypeWarning: Columns (12) have mixed types. Specify dtype option on import or set low_memory=False.\n",
      "  Balt_crime=pd.read_csv('Crime_Data_7_22_2023.csv')\n"
     ]
    }
   ],
   "source": [
    "Balt_crime=pd.read_csv('Crime_Data_7_22_2023.csv')"
   ]
  },
  {
   "cell_type": "markdown",
   "metadata": {},
   "source": [
    "Getting unique names of neighborhoods"
   ]
  },
  {
   "cell_type": "code",
   "execution_count": 6,
   "metadata": {},
   "outputs": [],
   "source": [
    "Balt_unique = Balt_crime.drop_duplicates(subset=['Neighborhood'])\n",
    "\n",
    "Balt_unique.to_csv('unique_neighbourhood2.csv', index=False)\n",
    "\n",
    "Balt_unique = Balt_unique.dropna(subset=['Neighborhood'])\n",
    "\n",
    "Balt_unique.to_csv('unique_neighbourhood2.csv', index=False)"
   ]
  },
  {
   "cell_type": "markdown",
   "metadata": {},
   "source": [
    "Now that i have the unique neighborhood names i will use that with the google maps to reverse call their actual names and replace them in the dataset "
   ]
  },
  {
   "cell_type": "code",
   "execution_count": 17,
   "metadata": {},
   "outputs": [],
   "source": [
    "Balt_unique = pd.read_csv('unique_neighbourhood2.csv')\n",
    "\n",
    "# Converting the \"Latitude\" column to strings and then clean it\n",
    "Balt_unique['Latitude'] = Balt_unique['Latitude'].astype(str).str.replace(\"'\", '')"
   ]
  },
  {
   "cell_type": "markdown",
   "metadata": {},
   "source": [
    "Saving to CSV"
   ]
  },
  {
   "cell_type": "code",
   "execution_count": 18,
   "metadata": {},
   "outputs": [],
   "source": [
    "Balt_unique.to_csv('unique_neighbourhood3.csv', index=False)"
   ]
  },
  {
   "cell_type": "markdown",
   "metadata": {},
   "source": [
    "Formatting coordinates to show the right way "
   ]
  },
  {
   "cell_type": "code",
   "execution_count": 22,
   "metadata": {},
   "outputs": [],
   "source": [
    "Balt_nnames = pd.read_csv('unique_neighbourhood2.csv')\n",
    "\n",
    "# Concatenating \"Latitude\" and \"Longitude\" columns with a comma in between\n",
    "Balt_nnames['Coordinates'] = Balt_nnames['Latitude'].astype(str) + ',' + Balt_nnames['Longitude'].astype(str)\n",
    "\n",
    "Balt_nnames.to_csv('unique_neighbourhoods.csv', index=False)"
   ]
  },
  {
   "cell_type": "markdown",
   "metadata": {},
   "source": [
    "Trying out code to get the names of the coordinates I formatted "
   ]
  },
  {
   "cell_type": "code",
   "execution_count": 19,
   "metadata": {},
   "outputs": [],
   "source": [
    "#Loading DataFrame with latitude and longitude columns\n",
    "Balt_nnames = pd.read_csv('unique_neighbourhood2.csv')\n",
    "\n",
    "#Creating a Google geocoder object\n",
    "geolocator = GoogleV3(API_KEY)\n",
    "\n",
    "#creating function to get neighborhood names\n",
    "def get_neighborhood_name(row):\n",
    "    try:\n",
    "        location = geolocator.reverse((row['Latitude'], row['Longitude']), exactly_one=True)\n",
    "        if location and 'neighborhood' in location.raw['address_components'][0]['types']:\n",
    "            return location.raw['address_components'][0]['long_name']\n",
    "        else:\n",
    "            return 'Not Found'\n",
    "    except:\n",
    "        return 'Error'\n",
    "\n",
    "#Applying function to DataFrame to create a new column\n",
    "Balt_nnames['neighborhood_name'] = Balt_nnames.apply(get_neighborhood_name, axis=1)\n",
    "\n",
    "#Saving DataFrame with the new column\n",
    "Balt_nnames.to_csv('neighborhood_data_with_names.csv', index=False)"
   ]
  },
  {
   "cell_type": "markdown",
   "metadata": {},
   "source": [
    "Above code did not work so i had to get a little more specific"
   ]
  },
  {
   "cell_type": "code",
   "execution_count": 25,
   "metadata": {},
   "outputs": [],
   "source": [
    "#initializing the Google Maps client\n",
    "gmaps = googlemaps.Client(API_KEY)\n",
    "\n",
    "#Loading DataFrame with crime records, including \"Latitude\" and \"Longitude\" columns\n",
    "crime_df = pd.read_csv('unique_neighbourhoods.csv')\n",
    "\n",
    "#Creating function to get neighborhood names\n",
    "def get_neighborhood_name(row):\n",
    "    latitude = row['Latitude']\n",
    "    longitude = row['Longitude']\n",
    "\n",
    "    #Performing reverse geocoding to get location details\n",
    "    reverse_geocode_result = gmaps.reverse_geocode((latitude, longitude))\n",
    "\n",
    "    #Extracting neighborhood information if available\n",
    "    neighborhood = None\n",
    "    for result in reverse_geocode_result:\n",
    "        for component in result['address_components']:\n",
    "            if 'neighborhood' in component['types']:\n",
    "                neighborhood = component['long_name']\n",
    "\n",
    "    return neighborhood if neighborhood else 'Not Found'\n",
    "\n",
    "#Applying function to DataFrame to create a new column\n",
    "crime_df['neighborhood_names'] = crime_df.apply(get_neighborhood_name, axis=1)\n",
    "\n",
    "# Saving DataFrame with the new \"neighborhood_names\" column\n",
    "crime_df.to_csv('crime_records_with_neighborhoodss.csv', index=False)\n"
   ]
  },
  {
   "cell_type": "markdown",
   "metadata": {},
   "source": [
    "Putting the coordinates of the neighborhoods i have now by the their respective neighborhood names by merging"
   ]
  },
  {
   "cell_type": "code",
   "execution_count": 26,
   "metadata": {},
   "outputs": [
    {
     "name": "stderr",
     "output_type": "stream",
     "text": [
      "C:\\Users\\stean\\AppData\\Local\\Temp\\ipykernel_23668\\638121339.py:1: DtypeWarning: Columns (12) have mixed types. Specify dtype option on import or set low_memory=False.\n",
      "  balt_crime = pd.read_csv('Crime_Data_7_22_2023.csv')\n"
     ]
    }
   ],
   "source": [
    "\n",
    "balt_crime = pd.read_csv('Crime_Data_7_22_2023.csv')\n",
    "\n",
    "# Merging the DataFrames based on the \"Neighborhood\" column\n",
    "balt_crime = balt_crime.merge(crime_df[['Neighborhood', 'neighborhood_names']],\n",
    "                              left_on='Neighborhood',\n",
    "                              right_on='Neighborhood',\n",
    "                              how='left')\n",
    "\n",
    "\n",
    "# Saving the merged DataFrame\n",
    "balt_crime.to_csv('balt_crime_with_neighborhood_names.csv', index=False)\n"
   ]
  },
  {
   "cell_type": "markdown",
   "metadata": {},
   "source": [
    "updated crime dataset"
   ]
  },
  {
   "cell_type": "code",
   "execution_count": 27,
   "metadata": {},
   "outputs": [
    {
     "name": "stderr",
     "output_type": "stream",
     "text": [
      "C:\\Users\\stean\\AppData\\Local\\Temp\\ipykernel_23668\\3219203420.py:1: DtypeWarning: Columns (13,16) have mixed types. Specify dtype option on import or set low_memory=False.\n",
      "  balt_crime_update = pd.read_csv('Part_1_Crime_Data_update.csv')\n"
     ]
    }
   ],
   "source": [
    "balt_crime_update = pd.read_csv('Part_1_Crime_Data_update.csv')\n",
    "\n",
    "# Merge the DataFrames based on the \"Neighborhood\" column\n",
    "balt_crime_update = balt_crime_update.merge(crime_df[['Neighborhood', 'neighborhood_names']],\n",
    "                              left_on='Neighborhood',\n",
    "                              right_on='Neighborhood',\n",
    "                              how='left')\n",
    "\n",
    "\n",
    "#Saving the merged DataFrame\n",
    "balt_crime_update.to_csv('balt_crime_updated.csv', index=False)"
   ]
  },
  {
   "cell_type": "markdown",
   "metadata": {},
   "source": [
    "now i will use the address from the property dataset to get the unique neigbourhood names for the property dataset and remove all the neighbour hoods that are not present in that for the crime dataset"
   ]
  },
  {
   "cell_type": "code",
   "execution_count": 28,
   "metadata": {},
   "outputs": [
    {
     "name": "stdout",
     "output_type": "stream",
     "text": [
      "['Mount Washington', 'Fells Point', 'Clifton', 'Downtown', 'Arlington', 'Carroll', 'Purnell', 'Greater Northwood Covenant Association', 'Northwood', 'Locust Point', nan, 'Lakeland', 'Bolton Hill', 'Highlandtown', 'Gwynn Oak', 'Otterbein', 'Franklintown', 'Cherry Hill', 'Woodberry', 'Tuscany - Canterbury', 'East Case', 'New North Roland Park - Poplar Hill', 'Riverside', 'Druid Hill Park', 'Federal Hill-Montgomery', 'Garwyn Oaks', 'West Forest Park', 'Inner Harbor', \"Ridgely's Delight\", 'Ednor Gardens - Lakeside', 'Raspeburg', 'Charles Village', 'Medfield', 'Sharp Leadenhall', 'Harford - Echodale - Perring Parkway', 'Mount Holly', 'Govans', 'Station North', 'Upper Fells Point', 'Hampden', 'Old Goucher', 'Brooklyn', 'Pen Lucy', 'Oakenshawe', 'Harwood', 'Coldstream - Homestead - Montebello', 'Bridgeview-Greenlawn', 'Gay Street', 'Franklin', 'South Baltimore', 'Middle East', 'Pigtown', 'Orangeville', 'Better Waverly', 'Butchers Hill', 'Evergreen Lawn', 'Morrell Park', 'Glenham-Belford', 'Western', 'Madison - Eastend', 'Walbrook', 'Abell', 'East Baltimore Midway', 'Remington', 'Elwood Park', 'Coppin Heights', 'Hollins Market', 'Lauraville', 'Mondawmin', 'Canton', 'Barre Circle', 'Barclay', 'Windsor Hills', 'Wyndhurst', 'Forest Park', 'Wyman Park', 'Rosemont', 'Mosher', 'NW Community Action', 'Winchester', 'Woodring', 'Curtis Bay', 'Milton - Montford']\n"
     ]
    }
   ],
   "source": [
    "prop = pd.read_csv('addresses_almost_cleaned.csv')\n",
    "\n",
    "# Get a list of unique neighborhoods\n",
    "unique_neighborhoods = prop['neighbourhood'].unique()\n",
    "\n",
    "# Convert the array of unique neighborhoods to a list\n",
    "unique_neighborhoods_list = unique_neighborhoods.tolist()\n",
    "\n",
    "# Print or use the unique neighborhoods as needed\n",
    "print(unique_neighborhoods_list)\n"
   ]
  },
  {
   "cell_type": "markdown",
   "metadata": {},
   "source": [
    "Filtering the DataFrame to keep only the rows with matching neighborhood names"
   ]
  },
  {
   "cell_type": "code",
   "execution_count": 29,
   "metadata": {},
   "outputs": [],
   "source": [
    "filtered_bcu = balt_crime_update[balt_crime_update['neighborhood_names'].isin(unique_neighborhoods_list)]\n",
    "\n",
    "#Saving the filtered DataFrame\n",
    "filtered_bcu.to_csv('filtered_balt_crime.csv', index=False)"
   ]
  },
  {
   "cell_type": "markdown",
   "metadata": {},
   "source": [
    "Removing rows where \"neighborhood_names\" is empty"
   ]
  },
  {
   "cell_type": "code",
   "execution_count": 30,
   "metadata": {},
   "outputs": [],
   "source": [
    "filtered_bcu = filtered_bcu[filtered_bcu['neighborhood_names'].notna()]\n",
    "\n",
    "#Saving the filtered DataFrame\n",
    "filtered_bcu.to_csv('filtered_balt_crime.csv', index=False)"
   ]
  },
  {
   "cell_type": "code",
   "execution_count": 31,
   "metadata": {},
   "outputs": [
    {
     "name": "stdout",
     "output_type": "stream",
     "text": [
      "X                          0\n",
      "Y                          0\n",
      "RowID                      0\n",
      "CCNumber                   0\n",
      "CrimeDateTime              0\n",
      "CrimeCode                  0\n",
      "Description                0\n",
      "Inside_Outside         44714\n",
      "Weapon                386608\n",
      "Post                       6\n",
      "Gender                 83368\n",
      "Age                   100958\n",
      "Race                   17716\n",
      "Ethnicity             458234\n",
      "Location                1163\n",
      "Old_District           16250\n",
      "New_District          497906\n",
      "Neighborhood               0\n",
      "Latitude                   0\n",
      "Longitude                  0\n",
      "GeoLocation                0\n",
      "PremiseType            45011\n",
      "Total_Incidents            0\n",
      "neighborhood_names         0\n",
      "dtype: int64\n"
     ]
    }
   ],
   "source": [
    "null_values = filtered_bcu.isnull().sum()\n",
    "print(null_values)"
   ]
  },
  {
   "cell_type": "markdown",
   "metadata": {},
   "source": [
    "Removing columns not needed"
   ]
  },
  {
   "cell_type": "code",
   "execution_count": 32,
   "metadata": {},
   "outputs": [],
   "source": [
    "#List of columns to keep\n",
    "columns_to_keep = ['Weapon', 'Inside_Outside', 'Description', 'GeoLocation', 'Latitude', 'Longitude']\n",
    "\n",
    "#Filtering the DataFrame to keep only the specified columns\n",
    "filtered_bcu = filtered_bcu[columns_to_keep]\n",
    "\n",
    "#Saving the filtered DataFrame\n",
    "filtered_bcu.to_csv('final_baltcrime.csv', index=False)\n"
   ]
  },
  {
   "cell_type": "markdown",
   "metadata": {},
   "source": [
    "Getting the google coordinates of the neighborhood names"
   ]
  },
  {
   "cell_type": "code",
   "execution_count": null,
   "metadata": {},
   "outputs": [],
   "source": [
    "crime_df = pd.read_csv('crime_records_with_neighborhoodss.csv')\n",
    "\n",
    "# Creating a Google geocoder object\n",
    "geolocator = GoogleV3(API_KEY)  # Replace 'YOUR_API_KEY' with your Google API key\n",
    "\n",
    "#Creating function to get coordinates for neighborhood names within Baltimore, Maryland, USA\n",
    "def get_coordinates(row):\n",
    "    neighborhood_name = row['neighborhood_names']\n",
    "    address = f'{neighborhood_name}, Baltimore, Maryland, USA'\n",
    "    location = geolocator.geocode(address)\n",
    "    if location:\n",
    "        return f'{location.latitude}, {location.longitude}'\n",
    "    else:\n",
    "        return 'Not Found'\n",
    "\n",
    "#Applying function to DataFrame to create a new column\n",
    "crime_df['google_coordinates'] = crime_df.apply(get_coordinates, axis=1)"
   ]
  },
  {
   "cell_type": "code",
   "execution_count": 8,
   "metadata": {},
   "outputs": [],
   "source": [
    "#Saving the DataFrame with the new \"google_coordinates\" column\n",
    "crime_df.to_csv('aaaupdated_dataset.csv', index=False)"
   ]
  },
  {
   "cell_type": "markdown",
   "metadata": {},
   "source": [
    "Trying code to populate the neighborhood_names column based on the common Neighborhood column"
   ]
  },
  {
   "cell_type": "code",
   "execution_count": null,
   "metadata": {},
   "outputs": [],
   "source": [
    "balt_crime_update = pd.read_csv('filtered_balt_crime.csv')\n",
    "crime_df = pd.read_csv('aaaupdated_dataset.csv')\n",
    "\n",
    "#Merging the DataFrames based on the \"Neighborhood\" column\n",
    "balt_crime_update = balt_crime_update.merge(crime_df[['Neighborhood', 'neighborhood_names']],\n",
    "                              left_on='Neighborhood',\n",
    "                              right_on='Neighborhood',\n",
    "                              how='left')\n",
    "\n",
    "\n",
    "# Save the merged DataFrame\n",
    "balt_crime_update.to_csv('aaabalt_crime_updated.csv', index=False)"
   ]
  },
  {
   "cell_type": "code",
   "execution_count": 12,
   "metadata": {},
   "outputs": [
    {
     "name": "stderr",
     "output_type": "stream",
     "text": [
      "C:\\Users\\stean\\AppData\\Local\\Temp\\ipykernel_4100\\2251626245.py:2: DtypeWarning: Columns (13,16) have mixed types. Specify dtype option on import or set low_memory=False.\n",
      "  balt_crime = pd.read_csv('filtered_balt_crime.csv')\n"
     ]
    }
   ],
   "source": [
    "balt_crime = pd.read_csv('filtered_balt_crime.csv')\n",
    "crime_df = pd.read_csv('aaaupdated_dataset.csv')\n",
    "\n",
    "#Merging the DataFrames based on the \"neighborhood_names\" column\n",
    "balt_crime = balt_crime.merge(crime_df[['neighborhood_names', 'google_coordinates']],\n",
    "                              on='neighborhood_names',\n",
    "                              how='left')\n",
    "\n",
    "#Saving the updated `balt_crime` DataFrame\n",
    "balt_crime.to_csv('aaabalt_crime_updated.csv', index=False)"
   ]
  },
  {
   "cell_type": "code",
   "execution_count": 10,
   "metadata": {},
   "outputs": [
    {
     "name": "stderr",
     "output_type": "stream",
     "text": [
      "C:\\Users\\stean\\AppData\\Local\\Temp\\ipykernel_4100\\1849811950.py:2: DtypeWarning: Columns (13,16) have mixed types. Specify dtype option on import or set low_memory=False.\n",
      "  balt_crime = pd.read_csv('filtered_balt_crime.csv')\n"
     ]
    }
   ],
   "source": [
    "#Loading balt_crime DataFrame and crime_df DataFrame\n",
    "balt_crime = pd.read_csv('filtered_balt_crime.csv')\n",
    "crime_df = pd.read_csv('aaaupdated_dataset.csv')\n",
    "\n",
    "#Merging the DataFrames based on the \"neighborhood_names\" column\n",
    "balt_crime = balt_crime.merge(crime_df[['neighborhood_names', 'google_coordinates']],\n",
    "                              left_on='neighborhood_names',\n",
    "                              right_on='neighborhood_names',\n",
    "                              how='left')\n",
    "\n",
    "#Saving the merged DataFrame\n",
    "balt_crime.to_csv('aaabalt_crime_updated.csv', index=False)\n"
   ]
  },
  {
   "cell_type": "markdown",
   "metadata": {},
   "source": [
    "retrying my the work"
   ]
  },
  {
   "cell_type": "code",
   "execution_count": 13,
   "metadata": {},
   "outputs": [
    {
     "name": "stderr",
     "output_type": "stream",
     "text": [
      "C:\\Users\\stean\\AppData\\Local\\Temp\\ipykernel_4100\\2719237036.py:2: DtypeWarning: Columns (13,16) have mixed types. Specify dtype option on import or set low_memory=False.\n",
      "  prop2 = pd.read_csv('filtered_balt_crime.csv')\n"
     ]
    },
    {
     "name": "stdout",
     "output_type": "stream",
     "text": [
      "['Downtown', 'Druid Hill Park', 'Northwood', 'Harford - Echodale - Perring Parkway', 'Arlington', 'Fells Point', 'Highlandtown', 'East Baltimore Midway', 'Upper Fells Point', 'Franklin', 'Clifton', 'Mount Holly', 'Middle East', 'Morrell Park', 'Medfield', 'Raspeburg', 'Govans', 'Carroll', 'Garwyn Oaks', 'East Case', 'Barclay', 'Curtis Bay', 'Coldstream - Homestead - Montebello', 'Walbrook', 'Barre Circle', 'Pigtown', 'Elwood Park', 'Greater Northwood Covenant Association', 'Rosemont', 'Cherry Hill', 'Old Goucher', 'Abell', 'Gwynn Oak', 'Better Waverly', 'Lauraville', 'Butchers Hill', 'Coppin Heights', 'Charles Village', 'Gay Street', 'Lakeland', 'Woodberry', \"Ridgely's Delight\", 'Madison - Eastend', 'Hollins Market', 'Riverside', 'Mosher', 'West Forest Park', 'New North Roland Park - Poplar Hill', 'Federal Hill-Montgomery', 'Hampden', 'Mount Washington', 'Forest Park', 'Windsor Hills', 'Wyndhurst', 'Western', 'Harwood', 'Evergreen Lawn', 'South Baltimore', 'Brooklyn', 'Remington', 'Wyman Park', 'Locust Point', 'Pen Lucy', 'Oakenshawe', 'Sharp Leadenhall', 'Purnell', 'Winchester', 'Franklintown', 'Tuscany - Canterbury', 'NW Community Action', 'Otterbein']\n"
     ]
    }
   ],
   "source": [
    "# Load your DataFrame\n",
    "prop2 = pd.read_csv('filtered_balt_crime.csv')\n",
    "\n",
    "# Get a list of unique neighborhoods\n",
    "unique_neighborhoods2 = prop2['neighborhood_names'].unique()\n",
    "\n",
    "# Convert the array of unique neighborhoods to a list\n",
    "unique_neighborhoods_list2 = unique_neighborhoods2.tolist()\n",
    "\n",
    "# Print or use the unique neighborhoods as needed\n",
    "print(unique_neighborhoods_list2)"
   ]
  },
  {
   "cell_type": "code",
   "execution_count": 15,
   "metadata": {},
   "outputs": [
    {
     "name": "stderr",
     "output_type": "stream",
     "text": [
      "C:\\Users\\stean\\AppData\\Local\\Temp\\ipykernel_4100\\2095146642.py:1: DtypeWarning: Columns (13,16) have mixed types. Specify dtype option on import or set low_memory=False.\n",
      "  balt_crime = pd.read_csv('filtered_balt_crime.csv')\n"
     ]
    }
   ],
   "source": [
    "balt_crime = pd.read_csv('filtered_balt_crime.csv')\n",
    "\n",
    "# Filter the DataFrame to keep only the rows with matching neighborhood names\n",
    "filtered_bcu2 = balt_crime[balt_crime['neighborhood_names'].isin(unique_neighborhoods_list2)]\n",
    "\n",
    "# Save the filtered DataFrame\n",
    "filtered_bcu2.to_csv('filtered_balt_crime2.csv', index=False)\n",
    "\n",
    "# Remove rows where \"neighborhood_names\" is empty\n",
    "filtered_bcu2 = filtered_bcu2[filtered_bcu2['neighborhood_names'].notna()]\n",
    "\n",
    "# Save the filtered DataFrame\n",
    "filtered_bcu2.to_csv('filtered_balt_crime2.csv', index=False)"
   ]
  },
  {
   "cell_type": "code",
   "execution_count": 16,
   "metadata": {},
   "outputs": [],
   "source": [
    "#Droping duplicate rows based on the neighborhood_names column \n",
    "balt_crime = balt_crime.drop_duplicates(subset=\"neighborhood_names\")\n",
    "\n",
    "#Saving the dataframe to a new csv file \n",
    "balt_crime.to_csv('filtered_balt_crime2.csv', index=False)"
   ]
  },
  {
   "cell_type": "code",
   "execution_count": 17,
   "metadata": {},
   "outputs": [],
   "source": [
    "#Droping duplicate rows based on the neighborhood_names column \n",
    "balt_crime = balt_crime.drop_duplicates(subset=\"Neighborhood\")\n",
    "\n",
    "#Saving the dataframe to a new csv file \n",
    "balt_crime.to_csv('filtered_balt_crime3.csv', index=False)"
   ]
  },
  {
   "cell_type": "markdown",
   "metadata": {},
   "source": [
    "new getting unique neighbourhood of new dataset"
   ]
  },
  {
   "cell_type": "code",
   "execution_count": 18,
   "metadata": {},
   "outputs": [
    {
     "name": "stderr",
     "output_type": "stream",
     "text": [
      "C:\\Users\\stean\\AppData\\Local\\Temp\\ipykernel_4100\\259158407.py:3: DtypeWarning: Columns (13,16) have mixed types. Specify dtype option on import or set low_memory=False.\n",
      "  Balt_crime=pd.read_csv('filtered_balt_crime.csv')\n"
     ]
    }
   ],
   "source": [
    "#getting unique neighbourhood\n",
    "\n",
    "Balt_crime=pd.read_csv('filtered_balt_crime.csv')\n",
    "\n",
    "Balt_unique = Balt_crime.drop_duplicates(subset=['Neighborhood'])\n",
    "\n",
    "Balt_unique.to_csv('unique_neighbourhoodc.csv', index=False)\n",
    "\n",
    "Balt_unique = Balt_unique.dropna(subset=['Neighborhood'])\n",
    "\n",
    "Balt_unique.to_csv('unique_neighbourhoodc.csv', index=False)"
   ]
  },
  {
   "cell_type": "markdown",
   "metadata": {},
   "source": [
    "Reverse search for neighborhood names"
   ]
  },
  {
   "cell_type": "code",
   "execution_count": 20,
   "metadata": {},
   "outputs": [],
   "source": [
    "#Loading dataset with the \"neighborhood_names\" column\n",
    "crime_dfb = pd.read_csv('unique_neighbourhoodc.csv')\n",
    "\n",
    "#Creating a Google geocoder object\n",
    "geolocator = GoogleV3(API_KEY)\n",
    "\n",
    "#creating Function to get coordinates for neighborhood names within Baltimore, Maryland, USA\n",
    "def get_coordinates(row):\n",
    "    neighborhood_name = row['neighborhood_names']\n",
    "    address = f'{neighborhood_name}, Baltimore, Maryland, USA'\n",
    "    location = geolocator.geocode(address)\n",
    "    if location:\n",
    "        return f'{location.latitude}, {location.longitude}'\n",
    "    else:\n",
    "        return 'Not Found'\n",
    "\n",
    "#Applying the function to your DataFrame to create a new column\n",
    "crime_dfb['google_coordinates'] = crime_dfb.apply(get_coordinates, axis=1)"
   ]
  },
  {
   "cell_type": "code",
   "execution_count": 21,
   "metadata": {},
   "outputs": [],
   "source": [
    "#Saving the DataFrame with the new \"google_coordinates\" column\n",
    "crime_dfb.to_csv('aacupdated_dataset.csv', index=False)"
   ]
  },
  {
   "cell_type": "code",
   "execution_count": 22,
   "metadata": {},
   "outputs": [
    {
     "name": "stderr",
     "output_type": "stream",
     "text": [
      "C:\\Users\\stean\\AppData\\Local\\Temp\\ipykernel_4100\\378251046.py:2: DtypeWarning: Columns (13,16) have mixed types. Specify dtype option on import or set low_memory=False.\n",
      "  balt_crim = pd.read_csv('filtered_balt_crime.csv')\n"
     ]
    }
   ],
   "source": [
    "#Loading balt_crime DataFrame and crime_df DataFrame\n",
    "balt_crim = pd.read_csv('filtered_balt_crime.csv') #new crime dataset\n",
    "crime_d = pd.read_csv('aacupdated_dataset.csv') #unique crime dataset with google coordinates\n",
    "\n",
    "# Merge the DataFrames based on the \"neighborhood_names\" column\n",
    "balt_crim = balt_crim.merge(crime_d[['neighborhood_names', 'google_coordinates']],\n",
    "                              left_on='neighborhood_names',\n",
    "                              right_on='neighborhood_names',\n",
    "                              how='left')\n",
    "\n",
    "\n",
    "# Save the merged DataFrame\n",
    "balt_crim.to_csv('aaabalt_crime_updated.csv', index=False)"
   ]
  },
  {
   "cell_type": "markdown",
   "metadata": {},
   "source": [
    "Merging was still giving me duplicate rows even after starting over, I shared with Sean to assist"
   ]
  },
  {
   "cell_type": "markdown",
   "metadata": {},
   "source": []
  }
 ],
 "metadata": {
  "kernelspec": {
   "display_name": "Python 3",
   "language": "python",
   "name": "python3"
  },
  "language_info": {
   "codemirror_mode": {
    "name": "ipython",
    "version": 3
   },
   "file_extension": ".py",
   "mimetype": "text/x-python",
   "name": "python",
   "nbconvert_exporter": "python",
   "pygments_lexer": "ipython3",
   "version": "3.10.7"
  }
 },
 "nbformat": 4,
 "nbformat_minor": 2
}
