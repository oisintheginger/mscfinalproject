{
 "cells": [
  {
   "cell_type": "code",
   "execution_count": 12,
   "id": "0a75c23d",
   "metadata": {},
   "outputs": [],
   "source": [
    "import pandas as pd\n",
    "\n",
    "art_gallerys = pd.read_csv(\"D:/DataSets/Services/Filtered_art_gallerys.csv\")"
   ]
  },
  {
   "cell_type": "code",
   "execution_count": 13,
   "id": "fd2d0218",
   "metadata": {},
   "outputs": [],
   "source": [
    "art_gallerys['geoLocation'] = art_gallerys['geometry'].str.replace(',', ' ', regex=True)\n",
    "art_gallerys['neighbourhoodGeoLocation'] = art_gallerys['neighborhood'].str.replace(',', ' ', regex=True)"
   ]
  },
  {
   "cell_type": "code",
   "execution_count": 14,
   "id": "f808bb8f",
   "metadata": {},
   "outputs": [],
   "source": [
    "art_gallerys = art_gallerys.drop(\"geometry\", axis = 1)\n",
    "art_gallerys = art_gallerys.drop(\"neighborhood\", axis = 1)"
   ]
  },
  {
   "cell_type": "code",
   "execution_count": 16,
   "id": "66ad8470",
   "metadata": {},
   "outputs": [],
   "source": [
    "# Split the geoLocation column into latitude and longitude columns\n",
    "art_gallerys[['latitude', 'longitude']] = art_gallerys['geoLocation'].str.split(' ', expand=True)\n",
    "\n",
    "# Format the data into the expected SQL format\n",
    "art_gallerys['geometry'] = art_gallerys.apply(lambda row: f\"POINT({row['latitude']} {row['longitude']})\", axis=1)\n",
    "\n",
    "# Drop the original geoLocation column\n",
    "art_gallerys = art_gallerys.drop(columns=['geoLocation', 'latitude', 'longitude'])"
   ]
  },
  {
   "cell_type": "code",
   "execution_count": 18,
   "id": "abcc5c2b",
   "metadata": {},
   "outputs": [],
   "source": [
    "# Split the geoLocation column into latitude and longitude columns\n",
    "art_gallerys[['latitude', 'longitude']] = art_gallerys['neighbourhoodGeoLocation'].str.split(' ', expand=True)\n",
    "\n",
    "# Format the data into the expected SQL format\n",
    "art_gallerys['neighbourhoodGeometry'] = art_gallerys.apply(lambda row: f\"POINT({row['latitude']} {row['longitude']})\", axis=1)\n",
    "\n",
    "# Drop the original geoLocation column\n",
    "art_gallerys = art_gallerys.drop(columns=['neighbourhoodGeoLocation', 'latitude', 'longitude'])"
   ]
  },
  {
   "cell_type": "code",
   "execution_count": 22,
   "id": "e03ab4bb",
   "metadata": {},
   "outputs": [],
   "source": [
    "art_gallerys.to_csv(\"D:/DataSets/ServicesFinished/art_gallerys.csv\", index = False)"
   ]
  },
  {
   "cell_type": "markdown",
   "id": "14d9d2ae",
   "metadata": {},
   "source": [
    "# NEIGHBOURHOODS"
   ]
  },
  {
   "cell_type": "code",
   "execution_count": 25,
   "id": "ce47e166",
   "metadata": {},
   "outputs": [],
   "source": [
    "# create table that contains unique neighbourhood names\n",
    "addresses = pd.read_csv(\"D:/DataSets/backup_finished/addresses.csv\")"
   ]
  },
  {
   "cell_type": "code",
   "execution_count": 37,
   "id": "b0da5fd8",
   "metadata": {},
   "outputs": [],
   "source": [
    "unique_neighborhoods = addresses['neighbourhoodGeoLocation'].unique()\n",
    "\n",
    "# Create a new DataFrame with a column for unique neighborhood names\n",
    "neighborhood_df = pd.DataFrame({'neighbourhoodGeoLocation': unique_neighborhoods})"
   ]
  },
  {
   "cell_type": "code",
   "execution_count": 38,
   "id": "64d9a23d",
   "metadata": {},
   "outputs": [],
   "source": [
    "neighborhood_df['neighbourhoodID'] = range(len(neighborhood_df))"
   ]
  },
  {
   "cell_type": "code",
   "execution_count": 39,
   "id": "984a3e56",
   "metadata": {},
   "outputs": [],
   "source": [
    "neighborhood_df.insert(0,\"neighbourhoodID\", neighborhood_df.pop(\"neighbourhoodID\"))"
   ]
  },
  {
   "cell_type": "code",
   "execution_count": 36,
   "id": "1a2114d3",
   "metadata": {},
   "outputs": [
    {
     "name": "stdout",
     "output_type": "stream",
     "text": [
      "Some neighbourhoodGeoLocation values from neighbourhoods do not exist in artgallerys.\n"
     ]
    }
   ],
   "source": [
    "# Get unique 'neighbourhoodGeoLocation' values from both DataFrames\n",
    "neighbourhood_geo_locations_neighbourhoods = neighborhood_df['UniqueNeighborhood'].unique()\n",
    "neighbourhood_geo_locations_artgallerys = art_gallerys['neighbourhoodGeoLocation'].unique()\n",
    "\n",
    "# Check if all 'neighbourhoodGeoLocation' values from 'neighbourhoods' exist in 'artgallerys'\n",
    "all_exist = all(geo_location in neighbourhood_geo_locations_artgallerys for geo_location in neighbourhood_geo_locations_neighbourhoods)\n",
    "\n",
    "if all_exist:\n",
    "    print(\"All neighbourhoodGeoLocation values from neighbourhoods exist in artgallerys.\")\n",
    "else:\n",
    "    print(\"Some neighbourhoodGeoLocation values from neighbourhoods do not exist in artgallerys.\")"
   ]
  },
  {
   "cell_type": "code",
   "execution_count": 41,
   "id": "78dcb728",
   "metadata": {},
   "outputs": [],
   "source": [
    "neighborhood_df.to_csv(\"D:/DataSets/ServicesFinished/neighbourhoods.csv\", index = False)"
   ]
  },
  {
   "cell_type": "markdown",
   "id": "fbc10297",
   "metadata": {},
   "source": [
    "# CREATE MAGIC FUNCTION"
   ]
  },
  {
   "cell_type": "code",
   "execution_count": null,
   "id": "2cd93315",
   "metadata": {},
   "outputs": [],
   "source": [
    "\n",
    "def edit_dataset(df):\n",
    "    df['geoLocation'] = df['geometry'].str.replace(',', ' ', regex=True)\n",
    "    df['neighbourhoodGeoLocation'] = df['neighborhood'].str.replace(',', ' ', regex=True)\n",
    "\n",
    "    df = df.drop(\"geometry\", axis = 1)\n",
    "    df = df.drop(\"neighborhood\", axis = 1)\n",
    "\n",
    "    # Split the geoLocation column into latitude and longitude columns\n",
    "    df[['latitude', 'longitude']] = df['geoLocation'].str.split(' ', expand=True)\n",
    "\n",
    "    # Format the data into the expected SQL format\n",
    "    df['geometry'] = df.apply(lambda row: f\"POINT({row['latitude']} {row['longitude']})\", axis=1)\n",
    "\n",
    "    # Drop the original geoLocation column\n",
    "    df = df.drop(columns=['geoLocation', 'latitude', 'longitude'])\n",
    "\n",
    "    # Split the geoLocation column into latitude and longitude columns\n",
    "    df[['latitude', 'longitude']] = df['neighbourhoodGeoLocation'].str.split(' ', expand=True)\n",
    "\n",
    "    # Format the data into the expected SQL format\n",
    "    df['neighbourhoodGeometry'] = df.apply(lambda row: f\"POINT({row['latitude']} {row['longitude']})\", axis=1)\n",
    "\n",
    "    # Drop the original geoLocation column\n",
    "    df = df.drop(columns=['neighbourhoodGeoLocation', 'latitude', 'longitude'])\n",
    "    \n",
    "    df = df.rename(columns = {\"geometry\":\"geoLocation\"})\n",
    "    df = df.rename(columns = {\"neighbourhoodGeometry\":\"neighbourhoodGeoLocation\"})\n",
    "    return df"
   ]
  },
  {
   "cell_type": "markdown",
   "id": "1848a7e2",
   "metadata": {},
   "source": [
    " # FILTERED BANKS"
   ]
  },
  {
   "cell_type": "code",
   "execution_count": 63,
   "id": "9051eae0",
   "metadata": {},
   "outputs": [],
   "source": [
    "banks = pd.read_csv(\"D:/DataSets/Services/Filtered_banks.csv\")"
   ]
  },
  {
   "cell_type": "code",
   "execution_count": 66,
   "id": "c10f6aef",
   "metadata": {},
   "outputs": [],
   "source": [
    "banks = edit_dataset(banks)"
   ]
  },
  {
   "cell_type": "code",
   "execution_count": 69,
   "id": "a5666638",
   "metadata": {},
   "outputs": [],
   "source": [
    "banks.to_csv(\"D:/DataSets/ServicesFinished/banks.csv\", index = False)"
   ]
  },
  {
   "cell_type": "markdown",
   "id": "62dc5e4a",
   "metadata": {},
   "source": [
    "# FILTERED BARS"
   ]
  },
  {
   "cell_type": "code",
   "execution_count": 72,
   "id": "1735ab04",
   "metadata": {},
   "outputs": [],
   "source": [
    "bars = pd.read_csv(\"D:/DataSets/Services/Filtered_bars.csv\")\n",
    "bars = edit_dataset(bars)\n",
    "bars.to_csv(\"D:/DataSets/ServicesFinished/bars.csv\", index = False)"
   ]
  },
  {
   "cell_type": "markdown",
   "id": "8dd3b39c",
   "metadata": {},
   "source": [
    "# FILTERED BEAUTY SALONS"
   ]
  },
  {
   "cell_type": "code",
   "execution_count": 73,
   "id": "c5cec928",
   "metadata": {},
   "outputs": [],
   "source": [
    "beauty = pd.read_csv(\"D:/DataSets/Services/Filtered_bars.csv\")\n",
    "beauty = edit_dataset(beauty)\n",
    "beauty.to_csv(\"D:/DataSets/ServicesFinished/beauty_salons.csv\", index = False)"
   ]
  },
  {
   "cell_type": "markdown",
   "id": "644e13fe",
   "metadata": {},
   "source": [
    "# FILTERED BUS STATIONS"
   ]
  },
  {
   "cell_type": "code",
   "execution_count": 74,
   "id": "3d36c518",
   "metadata": {},
   "outputs": [],
   "source": [
    "bus_stations = pd.read_csv(\"D:/DataSets/Services/Filtered_bus_station.csv\")\n",
    "bus_stations = edit_dataset(bus_stations)\n",
    "bus_stations.to_csv(\"D:/DataSets/ServicesFinished/bus_stations.csv\", index = False)"
   ]
  },
  {
   "cell_type": "markdown",
   "id": "7139c2c3",
   "metadata": {},
   "source": [
    "# FILTERED CAFES"
   ]
  },
  {
   "cell_type": "code",
   "execution_count": 75,
   "id": "8980d6be",
   "metadata": {},
   "outputs": [],
   "source": [
    "cafes = pd.read_csv(\"D:/DataSets/Services/Filtered_cafe.csv\")\n",
    "cafes = edit_dataset(cafes)\n",
    "cafes.to_csv(\"D:/DataSets/ServicesFinished/cafes.csv\", index = False)"
   ]
  },
  {
   "cell_type": "markdown",
   "id": "effb923d",
   "metadata": {},
   "source": [
    "# FILTERED FIRE STATION"
   ]
  },
  {
   "cell_type": "code",
   "execution_count": 76,
   "id": "71cf74e6",
   "metadata": {},
   "outputs": [],
   "source": [
    "fire_stations = pd.read_csv(\"D:/DataSets/Services/Filtered_fire_station.csv\")\n",
    "fire_stations = edit_dataset(fire_stations)\n",
    "fire_stations.to_csv(\"D:/DataSets/ServicesFinished/fire_stations.csv\", index = False)"
   ]
  },
  {
   "cell_type": "markdown",
   "id": "bb9fa9dd",
   "metadata": {},
   "source": [
    "# FILTERED GYMS"
   ]
  },
  {
   "cell_type": "code",
   "execution_count": 78,
   "id": "a303aa51",
   "metadata": {},
   "outputs": [],
   "source": [
    "gyms = pd.read_csv(\"D:/DataSets/Services/Filtered_gyms.csv\")\n",
    "gyms = edit_dataset(gyms)\n",
    "gyms.to_csv(\"D:/DataSets/ServicesFinished/gyms.csv\", index = False)"
   ]
  },
  {
   "cell_type": "markdown",
   "id": "2aea4944",
   "metadata": {},
   "source": [
    "# FILTERED HOSPITALS"
   ]
  },
  {
   "cell_type": "code",
   "execution_count": 79,
   "id": "236777f8",
   "metadata": {},
   "outputs": [],
   "source": [
    "hospitals = pd.read_csv(\"D:/DataSets/Services/Filtered_hospitals.csv\")\n",
    "hospitals = edit_dataset(hospitals)\n",
    "hospitals.to_csv(\"D:/DataSets/ServicesFinished/hospitals.csv\", index = False)"
   ]
  },
  {
   "cell_type": "markdown",
   "id": "d69ef119",
   "metadata": {},
   "source": [
    "# FILTERED NIGHT CLUBS"
   ]
  },
  {
   "cell_type": "code",
   "execution_count": 80,
   "id": "f600982c",
   "metadata": {},
   "outputs": [],
   "source": [
    "night_clubs = pd.read_csv(\"D:/DataSets/Services/Filtered_night_clubs.csv\")\n",
    "night_clubs = edit_dataset(night_clubs)\n",
    "night_clubs.to_csv(\"D:/DataSets/ServicesFinished/night_clubs.csv\", index = False)"
   ]
  },
  {
   "cell_type": "markdown",
   "id": "2e3f151a",
   "metadata": {},
   "source": [
    "# FILTERED PARKS"
   ]
  },
  {
   "cell_type": "code",
   "execution_count": 83,
   "id": "a62eb003",
   "metadata": {},
   "outputs": [],
   "source": [
    "filtered_parks = pd.read_csv(\"D:/DataSets/Services/Filtered_parks.csv\")\n",
    "filtered_parks = edit_dataset(filtered_parks)\n",
    "filtered_parks.to_csv(\"D:/DataSets/ServicesFinished/parks.csv\", index = False)"
   ]
  },
  {
   "cell_type": "markdown",
   "id": "3111be8b",
   "metadata": {},
   "source": [
    "# FILTERED PHARMACIES"
   ]
  },
  {
   "cell_type": "code",
   "execution_count": 84,
   "id": "da1553a0",
   "metadata": {},
   "outputs": [],
   "source": [
    "filtered_pharmacies = pd.read_csv(\"D:/DataSets/Services/Filtered_pharmacy.csv\")\n",
    "filtered_pharmacies = edit_dataset(filtered_pharmacies)\n",
    "filtered_pharmacies.to_csv(\"D:/DataSets/ServicesFinished/pharmacies.csv\", index = False)"
   ]
  },
  {
   "cell_type": "markdown",
   "id": "387cc3a9",
   "metadata": {},
   "source": [
    "# FILTERED POLICE STATION"
   ]
  },
  {
   "cell_type": "code",
   "execution_count": 85,
   "id": "09665c13",
   "metadata": {},
   "outputs": [],
   "source": [
    "filtered_police = pd.read_csv(\"D:/DataSets/Services/Filtered_police.csv\")\n",
    "filtered_police = edit_dataset(filtered_police)\n",
    "filtered_police.to_csv(\"D:/DataSets/ServicesFinished/police_stations.csv\", index = False)"
   ]
  },
  {
   "cell_type": "markdown",
   "id": "46a4b5fb",
   "metadata": {},
   "source": [
    "# FILTERED RESTUARANTS"
   ]
  },
  {
   "cell_type": "code",
   "execution_count": 86,
   "id": "fd2b776e",
   "metadata": {},
   "outputs": [],
   "source": [
    "filtered_restaurants = pd.read_csv(\"D:/DataSets/Services/Filtered_restaurant.csv\")\n",
    "filtered_restaurants = edit_dataset(filtered_restaurants)\n",
    "filtered_restaurants.to_csv(\"D:/DataSets/ServicesFinished/restaurants.csv\", index = False)"
   ]
  },
  {
   "cell_type": "markdown",
   "id": "9b77f7e7",
   "metadata": {},
   "source": [
    "# FILTERED SUPERMARKETS"
   ]
  },
  {
   "cell_type": "code",
   "execution_count": 88,
   "id": "82269b6a",
   "metadata": {},
   "outputs": [],
   "source": [
    "filtered_supermarkets = pd.read_csv(\"D:/DataSets/Services/Filtered_supermarketss.csv\")\n",
    "filtered_supermarkets = edit_dataset(filtered_supermarkets)\n",
    "filtered_supermarkets.to_csv(\"D:/DataSets/ServicesFinished/supermarkets.csv\", index = False)"
   ]
  },
  {
   "cell_type": "markdown",
   "id": "5929e1e1",
   "metadata": {},
   "source": [
    "# FILTERED TRAIN STATION"
   ]
  },
  {
   "cell_type": "code",
   "execution_count": 89,
   "id": "12321adc",
   "metadata": {},
   "outputs": [],
   "source": [
    "filtered_train_station = pd.read_csv(\"D:/DataSets/Services/Filtered_train_station.csv\")\n",
    "filtered_train_station = edit_dataset(filtered_train_station)\n",
    "filtered_train_station.to_csv(\"D:/DataSets/ServicesFinished/train_stations.csv\", index = False)"
   ]
  },
  {
   "cell_type": "markdown",
   "id": "eaa398f2",
   "metadata": {},
   "source": [
    "# FILTERED TRANSIT STATION"
   ]
  },
  {
   "cell_type": "code",
   "execution_count": 90,
   "id": "3f79d0dc",
   "metadata": {},
   "outputs": [],
   "source": [
    "filtered_transit = pd.read_csv(\"D:/DataSets/Services/Filtered_transit_station.csv\")\n",
    "filtered_transit = edit_dataset(filtered_transit)\n",
    "filtered_transit.to_csv(\"D:/DataSets/ServicesFinished/transit_stations.csv\", index = False)"
   ]
  }
 ],
 "metadata": {
  "kernelspec": {
   "display_name": "Python 3 (ipykernel)",
   "language": "python",
   "name": "python3"
  },
  "language_info": {
   "codemirror_mode": {
    "name": "ipython",
    "version": 3
   },
   "file_extension": ".py",
   "mimetype": "text/x-python",
   "name": "python",
   "nbconvert_exporter": "python",
   "pygments_lexer": "ipython3",
   "version": "3.10.7"
  },
  "varInspector": {
   "cols": {
    "lenName": 16,
    "lenType": 16,
    "lenVar": 40
   },
   "kernels_config": {
    "python": {
     "delete_cmd_postfix": "",
     "delete_cmd_prefix": "del ",
     "library": "var_list.py",
     "varRefreshCmd": "print(var_dic_list())"
    },
    "r": {
     "delete_cmd_postfix": ") ",
     "delete_cmd_prefix": "rm(",
     "library": "var_list.r",
     "varRefreshCmd": "cat(var_dic_list()) "
    }
   },
   "types_to_exclude": [
    "module",
    "function",
    "builtin_function_or_method",
    "instance",
    "_Feature"
   ],
   "window_display": false
  }
 },
 "nbformat": 4,
 "nbformat_minor": 5
}
