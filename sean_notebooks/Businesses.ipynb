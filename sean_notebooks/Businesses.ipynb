{
 "cells": [
  {
   "cell_type": "code",
   "execution_count": 12,
   "id": "0a75c23d",
   "metadata": {},
   "outputs": [],
   "source": [
    "import pandas as pd\n",
    "\n",
    "art_gallerys = pd.read_csv(\"D:/DataSets/Services/Filtered_art_gallerys.csv\")"
   ]
  },
  {
   "cell_type": "code",
   "execution_count": 13,
   "id": "fd2d0218",
   "metadata": {},
   "outputs": [],
   "source": [
    "art_gallerys['geoLocation'] = art_gallerys['geometry'].str.replace(',', ' ', regex=True)\n",
    "art_gallerys['neighbourhoodGeoLocation'] = art_gallerys['neighborhood'].str.replace(',', ' ', regex=True)"
   ]
  },
  {
   "cell_type": "code",
   "execution_count": 14,
   "id": "6c2bd615",
   "metadata": {},
   "outputs": [],
   "source": [
    "art_gallerys = art_gallerys.drop(\"geometry\", axis = 1)\n",
    "art_gallerys = art_gallerys.drop(\"neighborhood\", axis = 1)"
   ]
  },
  {
   "cell_type": "code",
   "execution_count": 16,
   "id": "c5a19205",
   "metadata": {},
   "outputs": [],
   "source": [
    "# Split the geoLocation column into latitude and longitude columns\n",
    "art_gallerys[['latitude', 'longitude']] = art_gallerys['geoLocation'].str.split(' ', expand=True)\n",
    "\n",
    "# Format the data into the expected SQL format\n",
    "art_gallerys['geometry'] = art_gallerys.apply(lambda row: f\"POINT({row['latitude']} {row['longitude']})\", axis=1)\n",
    "\n",
    "# Drop the original geoLocation column\n",
    "art_gallerys = art_gallerys.drop(columns=['geoLocation', 'latitude', 'longitude'])"
   ]
  },
  {
   "cell_type": "code",
   "execution_count": 18,
   "id": "b8167bf3",
   "metadata": {},
   "outputs": [],
   "source": [
    "# Split the geoLocation column into latitude and longitude columns\n",
    "art_gallerys[['latitude', 'longitude']] = art_gallerys['neighbourhoodGeoLocation'].str.split(' ', expand=True)\n",
    "\n",
    "# Format the data into the expected SQL format\n",
    "art_gallerys['neighbourhoodGeometry'] = art_gallerys.apply(lambda row: f\"POINT({row['latitude']} {row['longitude']})\", axis=1)\n",
    "\n",
    "# Drop the original geoLocation column\n",
    "art_gallerys = art_gallerys.drop(columns=['neighbourhoodGeoLocation', 'latitude', 'longitude'])"
   ]
  },
  {
   "cell_type": "code",
   "execution_count": 22,
   "id": "c7b59e5f",
   "metadata": {},
   "outputs": [],
   "source": [
    "art_gallerys.to_csv(\"D:/DataSets/ServicesFinished/art_gallerys.csv\", index = False)"
   ]
  },
  {
   "cell_type": "markdown",
   "id": "3eb6e0f3",
   "metadata": {},
   "source": [
    "# NEIGHBOURHOODS"
   ]
  },
  {
   "cell_type": "code",
   "execution_count": 91,
   "id": "6ace0f6e",
   "metadata": {},
   "outputs": [],
   "source": [
    "# create table that contains unique neighbourhood names\n",
    "addresses = pd.read_csv(\"D:/DataSets/backup_finished/addresses.csv\")"
   ]
  },
  {
   "cell_type": "code",
   "execution_count": 106,
   "id": "8170484e",
   "metadata": {},
   "outputs": [],
   "source": [
    "unique_neighborhoods = addresses['neighbourhoodGeoLocation'].unique()\n",
    "\n",
    "# Create a new DataFrame with a column for unique neighborhood names\n",
    "neighbour_input = pd.DataFrame({'neighbourhoodGeoLocation': unique_neighborhoods})"
   ]
  },
  {
   "cell_type": "code",
   "execution_count": 107,
   "id": "2f0d3756",
   "metadata": {},
   "outputs": [
    {
     "name": "stderr",
     "output_type": "stream",
     "text": [
      "C:\\Users\\seanl\\AppData\\Local\\Temp\\ipykernel_24652\\4112417616.py:1: FutureWarning: The default value of regex will change from True to False in a future version.\n",
      "  neighbour_input['neighbourhoodGeoLocation'] = neighbour_input['neighbourhoodGeoLocation'].str.replace(r'POINT\\(([^ ]+) ([^)]+)\\)', r'\\1 \\2')\n"
     ]
    }
   ],
   "source": [
    "neighbour_input['neighbourhoodGeoLocation'] = neighbour_input['neighbourhoodGeoLocation'].str.replace(r'POINT\\(([^ ]+) ([^)]+)\\)', r'\\1 \\2')"
   ]
  },
  {
   "cell_type": "code",
   "execution_count": 108,
   "id": "bc37c566",
   "metadata": {},
   "outputs": [],
   "source": [
    "neighbour_input['neighbourhoodGeoLocation'] = neighbour_input['neighbourhoodGeoLocation'].str.replace(' ', ',')"
   ]
  },
  {
   "cell_type": "code",
   "execution_count": 231,
   "id": "6674154d",
   "metadata": {
    "scrolled": true
   },
   "outputs": [
    {
     "data": {
      "text/html": [
       "<div>\n",
       "<style scoped>\n",
       "    .dataframe tbody tr th:only-of-type {\n",
       "        vertical-align: middle;\n",
       "    }\n",
       "\n",
       "    .dataframe tbody tr th {\n",
       "        vertical-align: top;\n",
       "    }\n",
       "\n",
       "    .dataframe thead th {\n",
       "        text-align: right;\n",
       "    }\n",
       "</style>\n",
       "<table border=\"1\" class=\"dataframe\">\n",
       "  <thead>\n",
       "    <tr style=\"text-align: right;\">\n",
       "      <th></th>\n",
       "      <th>neighbourhoodGeoLocation</th>\n",
       "    </tr>\n",
       "  </thead>\n",
       "  <tbody>\n",
       "    <tr>\n",
       "      <th>0</th>\n",
       "      <td>39.36253019999999,-76.6595727</td>\n",
       "    </tr>\n",
       "    <tr>\n",
       "      <th>1</th>\n",
       "      <td>39.2842097,-76.593611</td>\n",
       "    </tr>\n",
       "    <tr>\n",
       "      <th>2</th>\n",
       "      <td>39.3226705,-76.5846633</td>\n",
       "    </tr>\n",
       "    <tr>\n",
       "      <th>3</th>\n",
       "      <td>39.292007,-76.6167212</td>\n",
       "    </tr>\n",
       "    <tr>\n",
       "      <th>4</th>\n",
       "      <td>39.3481652,-76.6831397</td>\n",
       "    </tr>\n",
       "    <tr>\n",
       "      <th>...</th>\n",
       "      <td>...</td>\n",
       "    </tr>\n",
       "    <tr>\n",
       "      <th>76</th>\n",
       "      <td>39.30592439999999,-76.6650946</td>\n",
       "    </tr>\n",
       "    <tr>\n",
       "      <th>77</th>\n",
       "      <td>39.3041275,-76.6441591</td>\n",
       "    </tr>\n",
       "    <tr>\n",
       "      <th>78</th>\n",
       "      <td>39.3625548,-76.544488</td>\n",
       "    </tr>\n",
       "    <tr>\n",
       "      <th>79</th>\n",
       "      <td>39.2208578,-76.5863882</td>\n",
       "    </tr>\n",
       "    <tr>\n",
       "      <th>80</th>\n",
       "      <td>39.3003232,-76.5842213</td>\n",
       "    </tr>\n",
       "  </tbody>\n",
       "</table>\n",
       "<p>81 rows × 1 columns</p>\n",
       "</div>"
      ],
      "text/plain": [
       "         neighbourhoodGeoLocation\n",
       "0   39.36253019999999,-76.6595727\n",
       "1           39.2842097,-76.593611\n",
       "2          39.3226705,-76.5846633\n",
       "3           39.292007,-76.6167212\n",
       "4          39.3481652,-76.6831397\n",
       "..                            ...\n",
       "76  39.30592439999999,-76.6650946\n",
       "77         39.3041275,-76.6441591\n",
       "78          39.3625548,-76.544488\n",
       "79         39.2208578,-76.5863882\n",
       "80         39.3003232,-76.5842213\n",
       "\n",
       "[81 rows x 1 columns]"
      ]
     },
     "execution_count": 231,
     "metadata": {},
     "output_type": "execute_result"
    }
   ],
   "source": [
    "neighborhood_df"
   ]
  },
  {
   "cell_type": "code",
   "execution_count": 39,
   "id": "5d911ef6",
   "metadata": {},
   "outputs": [],
   "source": [
    "neighborhood_df.insert(0,\"neighbourhoodID\", neighborhood_df.pop(\"neighbourhoodID\"))"
   ]
  },
  {
   "cell_type": "code",
   "execution_count": 36,
   "id": "dc5f1e33",
   "metadata": {},
   "outputs": [
    {
     "name": "stdout",
     "output_type": "stream",
     "text": [
      "Some neighbourhoodGeoLocation values from neighbourhoods do not exist in artgallerys.\n"
     ]
    }
   ],
   "source": [
    "# Get unique 'neighbourhoodGeoLocation' values from both DataFrames\n",
    "neighbourhood_geo_locations_neighbourhoods = neighborhood_df['UniqueNeighborhood'].unique()\n",
    "neighbourhood_geo_locations_artgallerys = art_gallerys['neighbourhoodGeoLocation'].unique()\n",
    "\n",
    "# Check if all 'neighbourhoodGeoLocation' values from 'neighbourhoods' exist in 'artgallerys'\n",
    "all_exist = all(geo_location in neighbourhood_geo_locations_artgallerys for geo_location in neighbourhood_geo_locations_neighbourhoods)\n",
    "\n",
    "if all_exist:\n",
    "    print(\"All neighbourhoodGeoLocation values from neighbourhoods exist in artgallerys.\")\n",
    "else:\n",
    "    print(\"Some neighbourhoodGeoLocation values from neighbourhoods do not exist in artgallerys.\")"
   ]
  },
  {
   "cell_type": "code",
   "execution_count": 38,
   "id": "b62679b9",
   "metadata": {},
   "outputs": [],
   "source": [
    "neighborhood_df['neighbourhoodID'] = range(len(neighborhood_df))"
   ]
  },
  {
   "cell_type": "code",
   "execution_count": 41,
   "id": "759deabf",
   "metadata": {},
   "outputs": [],
   "source": [
    "neighborhood_df.to_csv(\"D:/DataSets/ServicesFinished/neighbourhoods.csv\", index = False)"
   ]
  },
  {
   "cell_type": "markdown",
   "id": "07417cad",
   "metadata": {},
   "source": [
    "# PULL API KEY"
   ]
  },
  {
   "cell_type": "code",
   "execution_count": 266,
   "id": "52d81456",
   "metadata": {},
   "outputs": [],
   "source": [
    "api_path = \"C:/Users/seanl/googlemaps_api.txt\" \n",
    "\n",
    "with open(api_path, \"r\") as file:\n",
    "    api_file = file.read()"
   ]
  },
  {
   "cell_type": "markdown",
   "id": "c10ec01a",
   "metadata": {},
   "source": [
    "# Define API function"
   ]
  },
  {
   "cell_type": "code",
   "execution_count": 293,
   "id": "f4612dea",
   "metadata": {},
   "outputs": [],
   "source": [
    "import googlemaps\n",
    "import pandas as pd\n",
    "import time\n",
    "\n",
    "# DEFINE BUSINESS TYPE HERE: IT'S ALL YOU NEED TO CHANGE:\n",
    "\n",
    "# Initialize Google Maps client with your API key\n",
    "\n",
    "map_client = googlemaps.Client(api_file)\n",
    "\n",
    "# Define a function to fetch nightclubs\n",
    "def fetch_businesses(input_neighbourhood, business):\n",
    "    allowed_columns = [\"place_id\", \"geometry\"]\n",
    "\n",
    "    df_list = []\n",
    "\n",
    "    # Perform the initial request\n",
    "    response = map_client.places_nearby(\n",
    "        location=input_neighbourhood,\n",
    "        radius=1500,\n",
    "        type= business,\n",
    "    )\n",
    "\n",
    "    while 'results' in response:\n",
    "        for result in response['results']:\n",
    "            filtered_result = {key: result[key] for key in allowed_columns}\n",
    "            filtered_result['input_neighbourhood_geoLocation'] = input_neighbourhood\n",
    "\n",
    "            df_list.append(filtered_result)\n",
    "\n",
    "        time.sleep(2)  # Pausing to avoid rate limiting issues\n",
    "        if 'next_page_token' in response:\n",
    "            response = map_client.places_nearby(\n",
    "                location=input_neighbourhood,\n",
    "                radius=1500,\n",
    "                type= business,\n",
    "                page_token=response['next_page_token']\n",
    "            )\n",
    "        else:\n",
    "            break\n",
    "\n",
    "    return df_list"
   ]
  },
  {
   "cell_type": "markdown",
   "id": "b49e1252",
   "metadata": {},
   "source": [
    " # FILTERED BANKS"
   ]
  },
  {
   "cell_type": "code",
   "execution_count": 282,
   "id": "206cc849",
   "metadata": {},
   "outputs": [],
   "source": [
    "banks = pd.read_csv(\"D:/DataSets/Services/Filtered_banks.csv\")"
   ]
  },
  {
   "cell_type": "code",
   "execution_count": 283,
   "id": "aaf68ae1",
   "metadata": {},
   "outputs": [],
   "source": [
    "import googlemaps\n",
    "import pandas as pd\n",
    "import time\n",
    "\n",
    "# DEFINE BUSINESS TYPE HERE: IT'S ALL YOU NEED TO CHANGE:\n",
    "\n",
    "# Initialize Google Maps client with your API key\n",
    "\n",
    "map_client = googlemaps.Client(api_file)\n",
    "\n",
    "# Define a function to fetch nightclubs\n",
    "def fetch_businesses(input_neighbourhood):\n",
    "    allowed_columns = [\"place_id\", \"geometry\"]\n",
    "\n",
    "    df_list = []\n",
    "\n",
    "    # Perform the initial request\n",
    "    response = map_client.places_nearby(\n",
    "        location=input_neighbourhood,\n",
    "        radius=1500,\n",
    "        type= \"bank\",\n",
    "    )\n",
    "\n",
    "    while 'results' in response:\n",
    "        for result in response['results']:\n",
    "            filtered_result = {key: result[key] for key in allowed_columns}\n",
    "            filtered_result['input_neighbourhood_geoLocation'] = input_neighbourhood\n",
    "\n",
    "            df_list.append(filtered_result)\n",
    "\n",
    "        time.sleep(2)  # Pausing to avoid rate limiting issues\n",
    "        if 'next_page_token' in response:\n",
    "            response = map_client.places_nearby(\n",
    "                location=input_neighbourhood,\n",
    "                radius=1500,\n",
    "                type= \"banks\",\n",
    "                page_token=response['next_page_token']\n",
    "            )\n",
    "        else:\n",
    "            break\n",
    "\n",
    "    return df_list\n",
    "\n",
    "#USE FUNCTION\n",
    "# Create a list to store all nightclubs\n",
    "all_businesses_clubs = []\n",
    "\n",
    "for index, row in neighborhood_df.iterrows():\n",
    "    input_neighbourhood = row[\"neighbourhoodGeoLocation\"]\n",
    "    neighborhood_businesses = fetch_businesses(input_neighbourhood)\n",
    "    all_businesses_clubs.extend(neighborhood_businesses)\n",
    "\n",
    "# Create a DataFrame from the combined list of nightclubs\n",
    "banks = pd.DataFrame(all_businesses_clubs)\n",
    "\n",
    "banks['geometry'] = banks['geometry'].astype(str)\n",
    "\n",
    "# fix the geometry string\n",
    "for i in range(len(banks)):\n",
    "    input_str = banks[\"geometry\"][i]\n",
    "    data_dict = ast.literal_eval(input_str)\n",
    "    lat = data_dict['location']['lat']\n",
    "    lng = data_dict['location']['lng']\n",
    "    result_str = f\"{lat} {lng}\"\n",
    "    banks[\"geometry\"][i] = result_str\n",
    "    \n",
    "#add point to geometry\n",
    "# Split the geoLocation column into latitude and longitude columns\n",
    "banks[['latitude', 'longitude']] = banks['geometry'].str.split(' ', expand=True)\n",
    "\n",
    "# Format the data into the expected SQL format\n",
    "banks['geoLocation'] = banks.apply(lambda row: f\"POINT({row['latitude']} {row['longitude']})\", axis=1)\n",
    "\n",
    "# Drop the original geoLocation column\n",
    "banks = banks.drop(columns=['geometry', 'latitude', 'longitude'])\n",
    "\n",
    "#add point to neighbourhoods\n",
    "# Split the geoLocation column into latitude and longitude columns\n",
    "banks[['latitude', 'longitude']] = banks['input_neighbourhood_geoLocation'].str.split(',', expand=True)\n",
    "\n",
    "# Format the data into the expected SQL format\n",
    "banks['neighbourhoodInput'] = banks.apply(lambda row: f\"POINT({row['latitude']} {row['longitude']})\", axis=1)\n",
    "\n",
    "# Drop the original geoLocation column\n",
    "banks = banks.drop(columns=['input_neighbourhood_geoLocation', 'latitude', 'longitude'])"
   ]
  },
  {
   "cell_type": "code",
   "execution_count": 285,
   "id": "ea14bd38",
   "metadata": {},
   "outputs": [],
   "source": [
    "banks.to_csv(\"D:/DataSets/NewServices/banks.csv\", index = False)"
   ]
  },
  {
   "cell_type": "markdown",
   "id": "2cef6eea",
   "metadata": {},
   "source": [
    "# FILTERED BARS"
   ]
  },
  {
   "cell_type": "code",
   "execution_count": 289,
   "id": "fbec4c98",
   "metadata": {},
   "outputs": [],
   "source": [
    "bars = pd.read_csv(\"D:/DataSets/Services/Filtered_bars.csv\")"
   ]
  },
  {
   "cell_type": "code",
   "execution_count": 290,
   "id": "1259080f",
   "metadata": {},
   "outputs": [],
   "source": [
    "# Create a list to store all nightclubs\n",
    "all_businesses_clubs = []\n",
    "\n",
    "for index, row in neighborhood_df.iterrows():\n",
    "    input_neighbourhood = row[\"neighbourhoodGeoLocation\"]\n",
    "    neighborhood_businesses = fetch_businesses(input_neighbourhood,\"bar\")\n",
    "    all_businesses_clubs.extend(neighborhood_businesses)\n",
    "\n",
    "# Create a DataFrame from the combined list of nightclubs\n",
    "bars = pd.DataFrame(all_businesses_clubs)\n",
    "\n",
    "bars['geometry'] = bars['geometry'].astype(str)\n",
    "\n",
    "# fix the geometry string\n",
    "for i in range(len(bars)):\n",
    "    input_str = bars[\"geometry\"][i]\n",
    "    data_dict = ast.literal_eval(input_str)\n",
    "    lat = data_dict['location']['lat']\n",
    "    lng = data_dict['location']['lng']\n",
    "    result_str = f\"{lat} {lng}\"\n",
    "    bars[\"geometry\"][i] = result_str\n",
    "    \n",
    "#add point to geometry\n",
    "# Split the geoLocation column into latitude and longitude columns\n",
    "bars[['latitude', 'longitude']] = bars['geometry'].str.split(' ', expand=True)\n",
    "\n",
    "# Format the data into the expected SQL format\n",
    "bars['geoLocation'] = bars.apply(lambda row: f\"POINT({row['latitude']} {row['longitude']})\", axis=1)\n",
    "\n",
    "# Drop the original geoLocation column\n",
    "bars = bars.drop(columns=['geometry', 'latitude', 'longitude'])\n",
    "\n",
    "#add point to neighbourhoods\n",
    "# Split the geoLocation column into latitude and longitude columns\n",
    "bars[['latitude', 'longitude']] = bars['input_neighbourhood_geoLocation'].str.split(',', expand=True)\n",
    "\n",
    "# Format the data into the expected SQL format\n",
    "bars['neighbourhoodInput'] = bars.apply(lambda row: f\"POINT({row['latitude']} {row['longitude']})\", axis=1)\n",
    "\n",
    "# Drop the original geoLocation column\n",
    "bars = bars.drop(columns=['input_neighbourhood_geoLocation', 'latitude', 'longitude'])\n",
    "\n",
    "bars = bars.rename(columns = {\"neighbourhoodInput\" : \"neighbourhoodGeoLocation\"})"
   ]
  },
  {
   "cell_type": "code",
   "execution_count": 296,
   "id": "8b406dd1",
   "metadata": {},
   "outputs": [],
   "source": [
    "bars.to_csv(\"D:/DataSets/NewServices//bars.csv\", index = False)"
   ]
  },
  {
   "cell_type": "markdown",
   "id": "52cc856a",
   "metadata": {},
   "source": [
    "# FILTERED BEAUTY SALONS"
   ]
  },
  {
   "cell_type": "code",
   "execution_count": 298,
   "id": "9d7354aa",
   "metadata": {},
   "outputs": [],
   "source": [
    "beauty = pd.read_csv(\"D:/DataSets/Services/Filtered_bars.csv\")\n",
    "df = beauty.copy()"
   ]
  },
  {
   "cell_type": "code",
   "execution_count": 299,
   "id": "ce1db54a",
   "metadata": {},
   "outputs": [],
   "source": [
    "# Create a list to store all nightclubs\n",
    "all_businesses_clubs = []\n",
    "\n",
    "for index, row in neighborhood_df.iterrows():\n",
    "    input_neighbourhood = row[\"neighbourhoodGeoLocation\"]\n",
    "    neighborhood_businesses = fetch_businesses(input_neighbourhood,\"beauty_salon\")\n",
    "    all_businesses_clubs.extend(neighborhood_businesses)\n",
    "\n",
    "# Create a DataFrame from the combined list of nightclubs\n",
    "df = pd.DataFrame(all_businesses_clubs)\n",
    "\n",
    "df['geometry'] = df['geometry'].astype(str)\n",
    "\n",
    "# fix the geometry string\n",
    "for i in range(len(df)):\n",
    "    input_str = df[\"geometry\"][i]\n",
    "    data_dict = ast.literal_eval(input_str)\n",
    "    lat = data_dict['location']['lat']\n",
    "    lng = data_dict['location']['lng']\n",
    "    result_str = f\"{lat} {lng}\"\n",
    "    df[\"geometry\"][i] = result_str\n",
    "    \n",
    "#add point to geometry\n",
    "# Split the geoLocation column into latitude and longitude columns\n",
    "df[['latitude', 'longitude']] = df['geometry'].str.split(' ', expand=True)\n",
    "\n",
    "# Format the data into the expected SQL format\n",
    "df['geoLocation'] = df.apply(lambda row: f\"POINT({row['latitude']} {row['longitude']})\", axis=1)\n",
    "\n",
    "# Drop the original geoLocation column\n",
    "df = df.drop(columns=['geometry', 'latitude', 'longitude'])\n",
    "\n",
    "#add point to neighbourhoods\n",
    "# Split the geoLocation column into latitude and longitude columns\n",
    "df[['latitude', 'longitude']] = df['input_neighbourhood_geoLocation'].str.split(',', expand=True)\n",
    "\n",
    "# Format the data into the expected SQL format\n",
    "df['neighbourhoodInput'] = df.apply(lambda row: f\"POINT({row['latitude']} {row['longitude']})\", axis=1)\n",
    "\n",
    "# Drop the original geoLocation column\n",
    "df = df.drop(columns=['input_neighbourhood_geoLocation', 'latitude', 'longitude'])\n",
    "\n",
    "df = df.rename(columns = {\"neighbourhoodInput\" : \"neighbourhoodGeoLocation\"})"
   ]
  },
  {
   "cell_type": "code",
   "execution_count": 300,
   "id": "48f0fdcd",
   "metadata": {},
   "outputs": [],
   "source": [
    "beauty = df.copy()"
   ]
  },
  {
   "cell_type": "code",
   "execution_count": 303,
   "id": "9b3cb210",
   "metadata": {},
   "outputs": [],
   "source": [
    "beauty.to_csv(\"D:/DataSets/NewServices//beauty_salons.csv\", index = False)"
   ]
  },
  {
   "cell_type": "markdown",
   "id": "55753939",
   "metadata": {},
   "source": [
    "# FILTERED BUS STATIONS"
   ]
  },
  {
   "cell_type": "code",
   "execution_count": 304,
   "id": "b9af4f99",
   "metadata": {},
   "outputs": [],
   "source": [
    "bus_stations = pd.read_csv(\"D:/DataSets/Services/Filtered_bus_station.csv\")\n",
    "df = bus_stations.copy()"
   ]
  },
  {
   "cell_type": "code",
   "execution_count": 305,
   "id": "7cc81119",
   "metadata": {},
   "outputs": [],
   "source": [
    "# Create a list to store all nightclubs\n",
    "all_businesses_clubs = []\n",
    "\n",
    "for index, row in neighborhood_df.iterrows():\n",
    "    input_neighbourhood = row[\"neighbourhoodGeoLocation\"]\n",
    "    neighborhood_businesses = fetch_businesses(input_neighbourhood,\"bus_station\")\n",
    "    all_businesses_clubs.extend(neighborhood_businesses)\n",
    "\n",
    "# Create a DataFrame from the combined list of nightclubs\n",
    "df = pd.DataFrame(all_businesses_clubs)\n",
    "\n",
    "df['geometry'] = df['geometry'].astype(str)\n",
    "\n",
    "# fix the geometry string\n",
    "for i in range(len(df)):\n",
    "    input_str = df[\"geometry\"][i]\n",
    "    data_dict = ast.literal_eval(input_str)\n",
    "    lat = data_dict['location']['lat']\n",
    "    lng = data_dict['location']['lng']\n",
    "    result_str = f\"{lat} {lng}\"\n",
    "    df[\"geometry\"][i] = result_str\n",
    "    \n",
    "#add point to geometry\n",
    "# Split the geoLocation column into latitude and longitude columns\n",
    "df[['latitude', 'longitude']] = df['geometry'].str.split(' ', expand=True)\n",
    "\n",
    "# Format the data into the expected SQL format\n",
    "df['geoLocation'] = df.apply(lambda row: f\"POINT({row['latitude']} {row['longitude']})\", axis=1)\n",
    "\n",
    "# Drop the original geoLocation column\n",
    "df = df.drop(columns=['geometry', 'latitude', 'longitude'])\n",
    "\n",
    "#add point to neighbourhoods\n",
    "# Split the geoLocation column into latitude and longitude columns\n",
    "df[['latitude', 'longitude']] = df['input_neighbourhood_geoLocation'].str.split(',', expand=True)\n",
    "\n",
    "# Format the data into the expected SQL format\n",
    "df['neighbourhoodInput'] = df.apply(lambda row: f\"POINT({row['latitude']} {row['longitude']})\", axis=1)\n",
    "\n",
    "# Drop the original geoLocation column\n",
    "df = df.drop(columns=['input_neighbourhood_geoLocation', 'latitude', 'longitude'])\n",
    "\n",
    "df = df.rename(columns = {\"neighbourhoodInput\" : \"neighbourhoodGeoLocation\"})"
   ]
  },
  {
   "cell_type": "code",
   "execution_count": 306,
   "id": "70c930ba",
   "metadata": {},
   "outputs": [],
   "source": [
    "df.to_csv(\"D:/DataSets/NewServices/bus_stations.csv\", index = False)"
   ]
  },
  {
   "cell_type": "markdown",
   "id": "361a310e",
   "metadata": {},
   "source": [
    "# FILTERED CAFES"
   ]
  },
  {
   "cell_type": "code",
   "execution_count": 312,
   "id": "6d9652fa",
   "metadata": {},
   "outputs": [],
   "source": [
    "cafes = pd.read_csv(\"D:/DataSets/Services/Filtered_cafe.csv\")\n",
    "df = cafes.copy()"
   ]
  },
  {
   "cell_type": "code",
   "execution_count": 313,
   "id": "cbfd467c",
   "metadata": {},
   "outputs": [],
   "source": [
    "# Create a list to store all nightclubs\n",
    "all_businesses_clubs = []\n",
    "\n",
    "for index, row in neighborhood_df.iterrows():\n",
    "    input_neighbourhood = row[\"neighbourhoodGeoLocation\"]\n",
    "    neighborhood_businesses = fetch_businesses(input_neighbourhood,\"cafe\")\n",
    "    all_businesses_clubs.extend(neighborhood_businesses)\n",
    "\n",
    "# Create a DataFrame from the combined list of nightclubs\n",
    "df = pd.DataFrame(all_businesses_clubs)\n",
    "\n",
    "df['geometry'] = df['geometry'].astype(str)\n",
    "\n",
    "# fix the geometry string\n",
    "for i in range(len(df)):\n",
    "    input_str = df[\"geometry\"][i]\n",
    "    data_dict = ast.literal_eval(input_str)\n",
    "    lat = data_dict['location']['lat']\n",
    "    lng = data_dict['location']['lng']\n",
    "    result_str = f\"{lat} {lng}\"\n",
    "    df[\"geometry\"][i] = result_str\n",
    "    \n",
    "#add point to geometry\n",
    "# Split the geoLocation column into latitude and longitude columns\n",
    "df[['latitude', 'longitude']] = df['geometry'].str.split(' ', expand=True)\n",
    "\n",
    "# Format the data into the expected SQL format\n",
    "df['geoLocation'] = df.apply(lambda row: f\"POINT({row['latitude']} {row['longitude']})\", axis=1)\n",
    "\n",
    "# Drop the original geoLocation column\n",
    "df = df.drop(columns=['geometry', 'latitude', 'longitude'])\n",
    "\n",
    "#add point to neighbourhoods\n",
    "# Split the geoLocation column into latitude and longitude columns\n",
    "df[['latitude', 'longitude']] = df['input_neighbourhood_geoLocation'].str.split(',', expand=True)\n",
    "\n",
    "# Format the data into the expected SQL format\n",
    "df['neighbourhoodInput'] = df.apply(lambda row: f\"POINT({row['latitude']} {row['longitude']})\", axis=1)\n",
    "\n",
    "# Drop the original geoLocation column\n",
    "df = df.drop(columns=['input_neighbourhood_geoLocation', 'latitude', 'longitude'])\n",
    "\n",
    "df = df.rename(columns = {\"neighbourhoodInput\" : \"neighbourhoodGeoLocation\"})"
   ]
  },
  {
   "cell_type": "code",
   "execution_count": 314,
   "id": "ac5303bb",
   "metadata": {},
   "outputs": [],
   "source": [
    "df.to_csv(\"D:/DataSets/NewServices/cafes.csv\", index = False)"
   ]
  },
  {
   "cell_type": "markdown",
   "id": "cfd62ed7",
   "metadata": {},
   "source": [
    "# FILTERED FIRE STATION"
   ]
  },
  {
   "cell_type": "code",
   "execution_count": 315,
   "id": "2c7f4dc3",
   "metadata": {},
   "outputs": [],
   "source": [
    "fire_stations = pd.read_csv(\"D:/DataSets/Services/Filtered_fire_station.csv\")\n",
    "df = fire_stations.copy()\n"
   ]
  },
  {
   "cell_type": "code",
   "execution_count": 316,
   "id": "27f63e8c",
   "metadata": {},
   "outputs": [],
   "source": [
    "# Create a list to store all nightclubs\n",
    "all_businesses_clubs = []\n",
    "\n",
    "for index, row in neighborhood_df.iterrows():\n",
    "    input_neighbourhood = row[\"neighbourhoodGeoLocation\"]\n",
    "    neighborhood_businesses = fetch_businesses(input_neighbourhood,\"fire_station\")\n",
    "    all_businesses_clubs.extend(neighborhood_businesses)\n",
    "\n",
    "# Create a DataFrame from the combined list of nightclubs\n",
    "df = pd.DataFrame(all_businesses_clubs)\n",
    "\n",
    "df['geometry'] = df['geometry'].astype(str)\n",
    "\n",
    "# fix the geometry string\n",
    "for i in range(len(df)):\n",
    "    input_str = df[\"geometry\"][i]\n",
    "    data_dict = ast.literal_eval(input_str)\n",
    "    lat = data_dict['location']['lat']\n",
    "    lng = data_dict['location']['lng']\n",
    "    result_str = f\"{lat} {lng}\"\n",
    "    df[\"geometry\"][i] = result_str\n",
    "    \n",
    "#add point to geometry\n",
    "# Split the geoLocation column into latitude and longitude columns\n",
    "df[['latitude', 'longitude']] = df['geometry'].str.split(' ', expand=True)\n",
    "\n",
    "# Format the data into the expected SQL format\n",
    "df['geoLocation'] = df.apply(lambda row: f\"POINT({row['latitude']} {row['longitude']})\", axis=1)\n",
    "\n",
    "# Drop the original geoLocation column\n",
    "df = df.drop(columns=['geometry', 'latitude', 'longitude'])\n",
    "\n",
    "#add point to neighbourhoods\n",
    "# Split the geoLocation column into latitude and longitude columns\n",
    "df[['latitude', 'longitude']] = df['input_neighbourhood_geoLocation'].str.split(',', expand=True)\n",
    "\n",
    "# Format the data into the expected SQL format\n",
    "df['neighbourhoodInput'] = df.apply(lambda row: f\"POINT({row['latitude']} {row['longitude']})\", axis=1)\n",
    "\n",
    "# Drop the original geoLocation column\n",
    "df = df.drop(columns=['input_neighbourhood_geoLocation', 'latitude', 'longitude'])\n",
    "\n",
    "df = df.rename(columns = {\"neighbourhoodInput\" : \"neighbourhoodGeoLocation\"})"
   ]
  },
  {
   "cell_type": "code",
   "execution_count": 317,
   "id": "7548692c",
   "metadata": {},
   "outputs": [],
   "source": [
    "df.to_csv(\"D:/DataSets/NewServices/fire_stations.csv\", index = False)"
   ]
  },
  {
   "cell_type": "markdown",
   "id": "d86fa5cb",
   "metadata": {},
   "source": [
    "# FILTERED GYMS"
   ]
  },
  {
   "cell_type": "code",
   "execution_count": 318,
   "id": "673d0ef9",
   "metadata": {},
   "outputs": [],
   "source": [
    "gyms = pd.read_csv(\"D:/DataSets/Services/Filtered_gyms.csv\")\n",
    "df = gyms.copy()\n"
   ]
  },
  {
   "cell_type": "code",
   "execution_count": 319,
   "id": "6089086a",
   "metadata": {},
   "outputs": [],
   "source": [
    "# Create a list to store all nightclubs\n",
    "all_businesses_clubs = []\n",
    "\n",
    "for index, row in neighborhood_df.iterrows():\n",
    "    input_neighbourhood = row[\"neighbourhoodGeoLocation\"]\n",
    "    neighborhood_businesses = fetch_businesses(input_neighbourhood,\"gym\")\n",
    "    all_businesses_clubs.extend(neighborhood_businesses)\n",
    "\n",
    "# Create a DataFrame from the combined list of nightclubs\n",
    "df = pd.DataFrame(all_businesses_clubs)\n",
    "\n",
    "df['geometry'] = df['geometry'].astype(str)\n",
    "\n",
    "# fix the geometry string\n",
    "for i in range(len(df)):\n",
    "    input_str = df[\"geometry\"][i]\n",
    "    data_dict = ast.literal_eval(input_str)\n",
    "    lat = data_dict['location']['lat']\n",
    "    lng = data_dict['location']['lng']\n",
    "    result_str = f\"{lat} {lng}\"\n",
    "    df[\"geometry\"][i] = result_str\n",
    "    \n",
    "#add point to geometry\n",
    "# Split the geoLocation column into latitude and longitude columns\n",
    "df[['latitude', 'longitude']] = df['geometry'].str.split(' ', expand=True)\n",
    "\n",
    "# Format the data into the expected SQL format\n",
    "df['geoLocation'] = df.apply(lambda row: f\"POINT({row['latitude']} {row['longitude']})\", axis=1)\n",
    "\n",
    "# Drop the original geoLocation column\n",
    "df = df.drop(columns=['geometry', 'latitude', 'longitude'])\n",
    "\n",
    "#add point to neighbourhoods\n",
    "# Split the geoLocation column into latitude and longitude columns\n",
    "df[['latitude', 'longitude']] = df['input_neighbourhood_geoLocation'].str.split(',', expand=True)\n",
    "\n",
    "# Format the data into the expected SQL format\n",
    "df['neighbourhoodInput'] = df.apply(lambda row: f\"POINT({row['latitude']} {row['longitude']})\", axis=1)\n",
    "\n",
    "# Drop the original geoLocation column\n",
    "df = df.drop(columns=['input_neighbourhood_geoLocation', 'latitude', 'longitude'])\n",
    "\n",
    "df = df.rename(columns = {\"neighbourhoodInput\" : \"neighbourhoodGeoLocation\"})"
   ]
  },
  {
   "cell_type": "code",
   "execution_count": 320,
   "id": "5f9a57d9",
   "metadata": {},
   "outputs": [],
   "source": [
    "df.to_csv(\"D:/DataSets/NewServices/gyms.csv\", index = False)"
   ]
  },
  {
   "cell_type": "markdown",
   "id": "e2dd5021",
   "metadata": {},
   "source": [
    "# FILTERED HOSPITALS"
   ]
  },
  {
   "cell_type": "code",
   "execution_count": 321,
   "id": "0f3d6cd2",
   "metadata": {},
   "outputs": [],
   "source": [
    "hospitals = pd.read_csv(\"D:/DataSets/Services/Filtered_hospitals.csv\")\n",
    "df = hospitals.copy()\n"
   ]
  },
  {
   "cell_type": "code",
   "execution_count": 322,
   "id": "b3675741",
   "metadata": {},
   "outputs": [],
   "source": [
    "# Create a list to store all nightclubs\n",
    "all_businesses_clubs = []\n",
    "\n",
    "for index, row in neighborhood_df.iterrows():\n",
    "    input_neighbourhood = row[\"neighbourhoodGeoLocation\"]\n",
    "    neighborhood_businesses = fetch_businesses(input_neighbourhood,\"hospital\")\n",
    "    all_businesses_clubs.extend(neighborhood_businesses)\n",
    "\n",
    "# Create a DataFrame from the combined list of nightclubs\n",
    "df = pd.DataFrame(all_businesses_clubs)\n",
    "\n",
    "df['geometry'] = df['geometry'].astype(str)\n",
    "\n",
    "# fix the geometry string\n",
    "for i in range(len(df)):\n",
    "    input_str = df[\"geometry\"][i]\n",
    "    data_dict = ast.literal_eval(input_str)\n",
    "    lat = data_dict['location']['lat']\n",
    "    lng = data_dict['location']['lng']\n",
    "    result_str = f\"{lat} {lng}\"\n",
    "    df[\"geometry\"][i] = result_str\n",
    "    \n",
    "#add point to geometry\n",
    "# Split the geoLocation column into latitude and longitude columns\n",
    "df[['latitude', 'longitude']] = df['geometry'].str.split(' ', expand=True)\n",
    "\n",
    "# Format the data into the expected SQL format\n",
    "df['geoLocation'] = df.apply(lambda row: f\"POINT({row['latitude']} {row['longitude']})\", axis=1)\n",
    "\n",
    "# Drop the original geoLocation column\n",
    "df = df.drop(columns=['geometry', 'latitude', 'longitude'])\n",
    "\n",
    "#add point to neighbourhoods\n",
    "# Split the geoLocation column into latitude and longitude columns\n",
    "df[['latitude', 'longitude']] = df['input_neighbourhood_geoLocation'].str.split(',', expand=True)\n",
    "\n",
    "# Format the data into the expected SQL format\n",
    "df['neighbourhoodInput'] = df.apply(lambda row: f\"POINT({row['latitude']} {row['longitude']})\", axis=1)\n",
    "\n",
    "# Drop the original geoLocation column\n",
    "df = df.drop(columns=['input_neighbourhood_geoLocation', 'latitude', 'longitude'])\n",
    "\n",
    "df = df.rename(columns = {\"neighbourhoodInput\" : \"neighbourhoodGeoLocation\"})"
   ]
  },
  {
   "cell_type": "code",
   "execution_count": 323,
   "id": "ee24e672",
   "metadata": {},
   "outputs": [],
   "source": [
    "df.to_csv(\"D:/DataSets/NewServices/hospitals.csv\", index = False)"
   ]
  },
  {
   "cell_type": "markdown",
   "id": "d5958676",
   "metadata": {},
   "source": [
    "# FILTERED NIGHT CLUBS"
   ]
  },
  {
   "cell_type": "code",
   "execution_count": 324,
   "id": "89b633f0",
   "metadata": {},
   "outputs": [],
   "source": [
    "night_clubs = pd.read_csv(\"D:/DataSets/Services/Filtered_night_clubs.csv\")\n",
    "df = night_clubs.copy()\n"
   ]
  },
  {
   "cell_type": "code",
   "execution_count": 325,
   "id": "1491836f",
   "metadata": {},
   "outputs": [],
   "source": [
    "# Create a list to store all nightclubs\n",
    "all_businesses_clubs = []\n",
    "\n",
    "for index, row in neighborhood_df.iterrows():\n",
    "    input_neighbourhood = row[\"neighbourhoodGeoLocation\"]\n",
    "    neighborhood_businesses = fetch_businesses(input_neighbourhood,\"night_club\")\n",
    "    all_businesses_clubs.extend(neighborhood_businesses)\n",
    "\n",
    "# Create a DataFrame from the combined list of nightclubs\n",
    "df = pd.DataFrame(all_businesses_clubs)\n",
    "\n",
    "df['geometry'] = df['geometry'].astype(str)\n",
    "\n",
    "# fix the geometry string\n",
    "for i in range(len(df)):\n",
    "    input_str = df[\"geometry\"][i]\n",
    "    data_dict = ast.literal_eval(input_str)\n",
    "    lat = data_dict['location']['lat']\n",
    "    lng = data_dict['location']['lng']\n",
    "    result_str = f\"{lat} {lng}\"\n",
    "    df[\"geometry\"][i] = result_str\n",
    "    \n",
    "#add point to geometry\n",
    "# Split the geoLocation column into latitude and longitude columns\n",
    "df[['latitude', 'longitude']] = df['geometry'].str.split(' ', expand=True)\n",
    "\n",
    "# Format the data into the expected SQL format\n",
    "df['geoLocation'] = df.apply(lambda row: f\"POINT({row['latitude']} {row['longitude']})\", axis=1)\n",
    "\n",
    "# Drop the original geoLocation column\n",
    "df = df.drop(columns=['geometry', 'latitude', 'longitude'])\n",
    "\n",
    "#add point to neighbourhoods\n",
    "# Split the geoLocation column into latitude and longitude columns\n",
    "df[['latitude', 'longitude']] = df['input_neighbourhood_geoLocation'].str.split(',', expand=True)\n",
    "\n",
    "# Format the data into the expected SQL format\n",
    "df['neighbourhoodInput'] = df.apply(lambda row: f\"POINT({row['latitude']} {row['longitude']})\", axis=1)\n",
    "\n",
    "# Drop the original geoLocation column\n",
    "df = df.drop(columns=['input_neighbourhood_geoLocation', 'latitude', 'longitude'])\n",
    "\n",
    "df = df.rename(columns = {\"neighbourhoodInput\" : \"neighbourhoodGeoLocation\"})"
   ]
  },
  {
   "cell_type": "code",
   "execution_count": 326,
   "id": "6838c584",
   "metadata": {},
   "outputs": [],
   "source": [
    "df.to_csv(\"D:/DataSets/NewServices/night_clubs.csv\", index = False)"
   ]
  },
  {
   "cell_type": "markdown",
   "id": "9c7e7896",
   "metadata": {},
   "source": [
    "# FILTERED PARKS"
   ]
  },
  {
   "cell_type": "code",
   "execution_count": 327,
   "id": "5c215c85",
   "metadata": {},
   "outputs": [],
   "source": [
    "filtered_parks = pd.read_csv(\"D:/DataSets/Services/Filtered_parks.csv\")\n",
    "df = filtered_parks.copy()\n"
   ]
  },
  {
   "cell_type": "code",
   "execution_count": null,
   "id": "27519d11",
   "metadata": {},
   "outputs": [],
   "source": [
    "# Create a list to store all nightclubs\n",
    "all_businesses_clubs = []\n",
    "\n",
    "for index, row in neighborhood_df.iterrows():\n",
    "    input_neighbourhood = row[\"neighbourhoodGeoLocation\"]\n",
    "    neighborhood_businesses = fetch_businesses(input_neighbourhood,\"park\")\n",
    "    all_businesses_clubs.extend(neighborhood_businesses)\n",
    "\n",
    "# Create a DataFrame from the combined list of nightclubs\n",
    "df = pd.DataFrame(all_businesses_clubs)\n",
    "\n",
    "df['geometry'] = df['geometry'].astype(str)\n",
    "\n",
    "# fix the geometry string\n",
    "for i in range(len(df)):\n",
    "    input_str = df[\"geometry\"][i]\n",
    "    data_dict = ast.literal_eval(input_str)\n",
    "    lat = data_dict['location']['lat']\n",
    "    lng = data_dict['location']['lng']\n",
    "    result_str = f\"{lat} {lng}\"\n",
    "    df[\"geometry\"][i] = result_str\n",
    "    \n",
    "#add point to geometry\n",
    "# Split the geoLocation column into latitude and longitude columns\n",
    "df[['latitude', 'longitude']] = df['geometry'].str.split(' ', expand=True)\n",
    "\n",
    "# Format the data into the expected SQL format\n",
    "df['geoLocation'] = df.apply(lambda row: f\"POINT({row['latitude']} {row['longitude']})\", axis=1)\n",
    "\n",
    "# Drop the original geoLocation column\n",
    "df = df.drop(columns=['geometry', 'latitude', 'longitude'])\n",
    "\n",
    "#add point to neighbourhoods\n",
    "# Split the geoLocation column into latitude and longitude columns\n",
    "df[['latitude', 'longitude']] = df['input_neighbourhood_geoLocation'].str.split(',', expand=True)\n",
    "\n",
    "# Format the data into the expected SQL format\n",
    "df['neighbourhoodInput'] = df.apply(lambda row: f\"POINT({row['latitude']} {row['longitude']})\", axis=1)\n",
    "\n",
    "# Drop the original geoLocation column\n",
    "df = df.drop(columns=['input_neighbourhood_geoLocation', 'latitude', 'longitude'])\n",
    "\n",
    "df = df.rename(columns = {\"neighbourhoodInput\" : \"neighbourhoodGeoLocation\"})"
   ]
  },
  {
   "cell_type": "code",
   "execution_count": null,
   "id": "b60d3d61",
   "metadata": {},
   "outputs": [],
   "source": [
    "df.to_csv(\"D:/DataSets/NewServices/parks.csv\", index = False)"
   ]
  },
  {
   "cell_type": "markdown",
   "id": "4adab60d",
   "metadata": {},
   "source": [
    "# FILTERED PHARMACIES"
   ]
  },
  {
   "cell_type": "code",
   "execution_count": 84,
   "id": "b311b4bd",
   "metadata": {},
   "outputs": [],
   "source": [
    "filtered_pharmacies = pd.read_csv(\"D:/DataSets/Services/Filtered_pharmacy.csv\")\n",
    "df =filtered_pharmacies.copy()\n"
   ]
  },
  {
   "cell_type": "code",
   "execution_count": null,
   "id": "d183031c",
   "metadata": {},
   "outputs": [],
   "source": [
    "# Create a list to store all nightclubs\n",
    "all_businesses_clubs = []\n",
    "\n",
    "for index, row in neighborhood_df.iterrows():\n",
    "    input_neighbourhood = row[\"neighbourhoodGeoLocation\"]\n",
    "    neighborhood_businesses = fetch_businesses(input_neighbourhood,\"pharmacy\")\n",
    "    all_businesses_clubs.extend(neighborhood_businesses)\n",
    "\n",
    "# Create a DataFrame from the combined list of nightclubs\n",
    "df = pd.DataFrame(all_businesses_clubs)\n",
    "\n",
    "df['geometry'] = df['geometry'].astype(str)\n",
    "\n",
    "# fix the geometry string\n",
    "for i in range(len(df)):\n",
    "    input_str = df[\"geometry\"][i]\n",
    "    data_dict = ast.literal_eval(input_str)\n",
    "    lat = data_dict['location']['lat']\n",
    "    lng = data_dict['location']['lng']\n",
    "    result_str = f\"{lat} {lng}\"\n",
    "    df[\"geometry\"][i] = result_str\n",
    "    \n",
    "#add point to geometry\n",
    "# Split the geoLocation column into latitude and longitude columns\n",
    "df[['latitude', 'longitude']] = df['geometry'].str.split(' ', expand=True)\n",
    "\n",
    "# Format the data into the expected SQL format\n",
    "df['geoLocation'] = df.apply(lambda row: f\"POINT({row['latitude']} {row['longitude']})\", axis=1)\n",
    "\n",
    "# Drop the original geoLocation column\n",
    "df = df.drop(columns=['geometry', 'latitude', 'longitude'])\n",
    "\n",
    "#add point to neighbourhoods\n",
    "# Split the geoLocation column into latitude and longitude columns\n",
    "df[['latitude', 'longitude']] = df['input_neighbourhood_geoLocation'].str.split(',', expand=True)\n",
    "\n",
    "# Format the data into the expected SQL format\n",
    "df['neighbourhoodInput'] = df.apply(lambda row: f\"POINT({row['latitude']} {row['longitude']})\", axis=1)\n",
    "\n",
    "# Drop the original geoLocation column\n",
    "df = df.drop(columns=['input_neighbourhood_geoLocation', 'latitude', 'longitude'])\n",
    "\n",
    "df = df.rename(columns = {\"neighbourhoodInput\" : \"neighbourhoodGeoLocation\"})"
   ]
  },
  {
   "cell_type": "code",
   "execution_count": null,
   "id": "da9190a3",
   "metadata": {},
   "outputs": [],
   "source": [
    "df.to_csv(\"D:/DataSets/NewServices/pharmacies.csv\", index = False)"
   ]
  },
  {
   "cell_type": "markdown",
   "id": "a8130431",
   "metadata": {},
   "source": [
    "# FILTERED POLICE STATION"
   ]
  },
  {
   "cell_type": "code",
   "execution_count": 85,
   "id": "9ac8f1bc",
   "metadata": {},
   "outputs": [],
   "source": [
    "filtered_police = pd.read_csv(\"D:/DataSets/Services/Filtered_police.csv\")\n",
    "df = filtered_police.copy()\n"
   ]
  },
  {
   "cell_type": "code",
   "execution_count": null,
   "id": "da73a4a6",
   "metadata": {},
   "outputs": [],
   "source": [
    "# Create a list to store all nightclubs\n",
    "all_businesses_clubs = []\n",
    "\n",
    "for index, row in neighborhood_df.iterrows():\n",
    "    input_neighbourhood = row[\"neighbourhoodGeoLocation\"]\n",
    "    neighborhood_businesses = fetch_businesses(input_neighbourhood,\"police_station\")\n",
    "    all_businesses_clubs.extend(neighborhood_businesses)\n",
    "\n",
    "# Create a DataFrame from the combined list of nightclubs\n",
    "df = pd.DataFrame(all_businesses_clubs)\n",
    "\n",
    "df['geometry'] = df['geometry'].astype(str)\n",
    "\n",
    "# fix the geometry string\n",
    "for i in range(len(df)):\n",
    "    input_str = df[\"geometry\"][i]\n",
    "    data_dict = ast.literal_eval(input_str)\n",
    "    lat = data_dict['location']['lat']\n",
    "    lng = data_dict['location']['lng']\n",
    "    result_str = f\"{lat} {lng}\"\n",
    "    df[\"geometry\"][i] = result_str\n",
    "    \n",
    "#add point to geometry\n",
    "# Split the geoLocation column into latitude and longitude columns\n",
    "df[['latitude', 'longitude']] = df['geometry'].str.split(' ', expand=True)\n",
    "\n",
    "# Format the data into the expected SQL format\n",
    "df['geoLocation'] = df.apply(lambda row: f\"POINT({row['latitude']} {row['longitude']})\", axis=1)\n",
    "\n",
    "# Drop the original geoLocation column\n",
    "df = df.drop(columns=['geometry', 'latitude', 'longitude'])\n",
    "\n",
    "#add point to neighbourhoods\n",
    "# Split the geoLocation column into latitude and longitude columns\n",
    "df[['latitude', 'longitude']] = df['input_neighbourhood_geoLocation'].str.split(',', expand=True)\n",
    "\n",
    "# Format the data into the expected SQL format\n",
    "df['neighbourhoodInput'] = df.apply(lambda row: f\"POINT({row['latitude']} {row['longitude']})\", axis=1)\n",
    "\n",
    "# Drop the original geoLocation column\n",
    "df = df.drop(columns=['input_neighbourhood_geoLocation', 'latitude', 'longitude'])\n",
    "\n",
    "df = df.rename(columns = {\"neighbourhoodInput\" : \"neighbourhoodGeoLocation\"})"
   ]
  },
  {
   "cell_type": "code",
   "execution_count": null,
   "id": "fe016359",
   "metadata": {},
   "outputs": [],
   "source": [
    "df.to_csv(\"D:/DataSets/NewServices/police_stations.csv\", index = False)"
   ]
  },
  {
   "cell_type": "markdown",
   "id": "c2407cd3",
   "metadata": {},
   "source": [
    "# FILTERED RESTUARANTS"
   ]
  },
  {
   "cell_type": "code",
   "execution_count": 86,
   "id": "97ff85c5",
   "metadata": {},
   "outputs": [],
   "source": [
    "filtered_restaurants = pd.read_csv(\"D:/DataSets/Services/Filtered_restaurant.csv\")\n",
    "df = filtered_restaurant.copy()\n"
   ]
  },
  {
   "cell_type": "code",
   "execution_count": null,
   "id": "0c731bf3",
   "metadata": {},
   "outputs": [],
   "source": [
    "# Create a list to store all nightclubs\n",
    "all_businesses_clubs = []\n",
    "\n",
    "for index, row in neighborhood_df.iterrows():\n",
    "    input_neighbourhood = row[\"neighbourhoodGeoLocation\"]\n",
    "    neighborhood_businesses = fetch_businesses(input_neighbourhood,\"restaurant\")\n",
    "    all_businesses_clubs.extend(neighborhood_businesses)\n",
    "\n",
    "# Create a DataFrame from the combined list of nightclubs\n",
    "df = pd.DataFrame(all_businesses_clubs)\n",
    "\n",
    "df['geometry'] = df['geometry'].astype(str)\n",
    "\n",
    "# fix the geometry string\n",
    "for i in range(len(df)):\n",
    "    input_str = df[\"geometry\"][i]\n",
    "    data_dict = ast.literal_eval(input_str)\n",
    "    lat = data_dict['location']['lat']\n",
    "    lng = data_dict['location']['lng']\n",
    "    result_str = f\"{lat} {lng}\"\n",
    "    df[\"geometry\"][i] = result_str\n",
    "    \n",
    "#add point to geometry\n",
    "# Split the geoLocation column into latitude and longitude columns\n",
    "df[['latitude', 'longitude']] = df['geometry'].str.split(' ', expand=True)\n",
    "\n",
    "# Format the data into the expected SQL format\n",
    "df['geoLocation'] = df.apply(lambda row: f\"POINT({row['latitude']} {row['longitude']})\", axis=1)\n",
    "\n",
    "# Drop the original geoLocation column\n",
    "df = df.drop(columns=['geometry', 'latitude', 'longitude'])\n",
    "\n",
    "#add point to neighbourhoods\n",
    "# Split the geoLocation column into latitude and longitude columns\n",
    "df[['latitude', 'longitude']] = df['input_neighbourhood_geoLocation'].str.split(',', expand=True)\n",
    "\n",
    "# Format the data into the expected SQL format\n",
    "df['neighbourhoodInput'] = df.apply(lambda row: f\"POINT({row['latitude']} {row['longitude']})\", axis=1)\n",
    "\n",
    "# Drop the original geoLocation column\n",
    "df = df.drop(columns=['input_neighbourhood_geoLocation', 'latitude', 'longitude'])\n",
    "\n",
    "df = df.rename(columns = {\"neighbourhoodInput\" : \"neighbourhoodGeoLocation\"})"
   ]
  },
  {
   "cell_type": "code",
   "execution_count": null,
   "id": "a0bc57c2",
   "metadata": {},
   "outputs": [],
   "source": [
    "df.to_csv(\"D:/DataSets/NewServices/restaurants.csv\", index = False)"
   ]
  },
  {
   "cell_type": "markdown",
   "id": "c2862466",
   "metadata": {},
   "source": [
    "# FILTERED SUPERMARKETS"
   ]
  },
  {
   "cell_type": "code",
   "execution_count": 88,
   "id": "7fddf969",
   "metadata": {},
   "outputs": [],
   "source": [
    "filtered_supermarkets = pd.read_csv(\"D:/DataSets/Services/Filtered_supermarketss.csv\")\n",
    "df = filtered_supermarkets.copy()\n"
   ]
  },
  {
   "cell_type": "code",
   "execution_count": null,
   "id": "e83bc483",
   "metadata": {},
   "outputs": [],
   "source": [
    "# Create a list to store all nightclubs\n",
    "all_businesses_clubs = []\n",
    "\n",
    "for index, row in neighborhood_df.iterrows():\n",
    "    input_neighbourhood = row[\"neighbourhoodGeoLocation\"]\n",
    "    neighborhood_businesses = fetch_businesses(input_neighbourhood,\"supermarket\")\n",
    "    all_businesses_clubs.extend(neighborhood_businesses)\n",
    "\n",
    "# Create a DataFrame from the combined list of nightclubs\n",
    "df = pd.DataFrame(all_businesses_clubs)\n",
    "\n",
    "df['geometry'] = df['geometry'].astype(str)\n",
    "\n",
    "# fix the geometry string\n",
    "for i in range(len(df)):\n",
    "    input_str = df[\"geometry\"][i]\n",
    "    data_dict = ast.literal_eval(input_str)\n",
    "    lat = data_dict['location']['lat']\n",
    "    lng = data_dict['location']['lng']\n",
    "    result_str = f\"{lat} {lng}\"\n",
    "    df[\"geometry\"][i] = result_str\n",
    "    \n",
    "#add point to geometry\n",
    "# Split the geoLocation column into latitude and longitude columns\n",
    "df[['latitude', 'longitude']] = df['geometry'].str.split(' ', expand=True)\n",
    "\n",
    "# Format the data into the expected SQL format\n",
    "df['geoLocation'] = df.apply(lambda row: f\"POINT({row['latitude']} {row['longitude']})\", axis=1)\n",
    "\n",
    "# Drop the original geoLocation column\n",
    "df = df.drop(columns=['geometry', 'latitude', 'longitude'])\n",
    "\n",
    "#add point to neighbourhoods\n",
    "# Split the geoLocation column into latitude and longitude columns\n",
    "df[['latitude', 'longitude']] = df['input_neighbourhood_geoLocation'].str.split(',', expand=True)\n",
    "\n",
    "# Format the data into the expected SQL format\n",
    "df['neighbourhoodInput'] = df.apply(lambda row: f\"POINT({row['latitude']} {row['longitude']})\", axis=1)\n",
    "\n",
    "# Drop the original geoLocation column\n",
    "df = df.drop(columns=['input_neighbourhood_geoLocation', 'latitude', 'longitude'])\n",
    "\n",
    "df = df.rename(columns = {\"neighbourhoodInput\" : \"neighbourhoodGeoLocation\"})"
   ]
  },
  {
   "cell_type": "code",
   "execution_count": null,
   "id": "12aed139",
   "metadata": {},
   "outputs": [],
   "source": [
    "df.to_csv(\"D:/DataSets/NewServices/supermarkets.csv\", index = False)"
   ]
  },
  {
   "cell_type": "markdown",
   "id": "20996ff0",
   "metadata": {},
   "source": [
    "# FILTERED TRAIN STATION"
   ]
  },
  {
   "cell_type": "code",
   "execution_count": 89,
   "id": "b83d4fd5",
   "metadata": {},
   "outputs": [],
   "source": [
    "filtered_train_station = pd.read_csv(\"D:/DataSets/Services/Filtered_train_station.csv\")\n",
    "df = filtered_train_station.copy()\n"
   ]
  },
  {
   "cell_type": "code",
   "execution_count": null,
   "id": "b524ea70",
   "metadata": {},
   "outputs": [],
   "source": [
    "# Create a list to store all nightclubs\n",
    "all_businesses_clubs = []\n",
    "\n",
    "for index, row in neighborhood_df.iterrows():\n",
    "    input_neighbourhood = row[\"neighbourhoodGeoLocation\"]\n",
    "    neighborhood_businesses = fetch_businesses(input_neighbourhood,\"train_station\")\n",
    "    all_businesses_clubs.extend(neighborhood_businesses)\n",
    "\n",
    "# Create a DataFrame from the combined list of nightclubs\n",
    "df = pd.DataFrame(all_businesses_clubs)\n",
    "\n",
    "df['geometry'] = df['geometry'].astype(str)\n",
    "\n",
    "# fix the geometry string\n",
    "for i in range(len(df)):\n",
    "    input_str = df[\"geometry\"][i]\n",
    "    data_dict = ast.literal_eval(input_str)\n",
    "    lat = data_dict['location']['lat']\n",
    "    lng = data_dict['location']['lng']\n",
    "    result_str = f\"{lat} {lng}\"\n",
    "    df[\"geometry\"][i] = result_str\n",
    "    \n",
    "#add point to geometry\n",
    "# Split the geoLocation column into latitude and longitude columns\n",
    "df[['latitude', 'longitude']] = df['geometry'].str.split(' ', expand=True)\n",
    "\n",
    "# Format the data into the expected SQL format\n",
    "df['geoLocation'] = df.apply(lambda row: f\"POINT({row['latitude']} {row['longitude']})\", axis=1)\n",
    "\n",
    "# Drop the original geoLocation column\n",
    "df = df.drop(columns=['geometry', 'latitude', 'longitude'])\n",
    "\n",
    "#add point to neighbourhoods\n",
    "# Split the geoLocation column into latitude and longitude columns\n",
    "df[['latitude', 'longitude']] = df['input_neighbourhood_geoLocation'].str.split(',', expand=True)\n",
    "\n",
    "# Format the data into the expected SQL format\n",
    "df['neighbourhoodInput'] = df.apply(lambda row: f\"POINT({row['latitude']} {row['longitude']})\", axis=1)\n",
    "\n",
    "# Drop the original geoLocation column\n",
    "df = df.drop(columns=['input_neighbourhood_geoLocation', 'latitude', 'longitude'])\n",
    "\n",
    "df = df.rename(columns = {\"neighbourhoodInput\" : \"neighbourhoodGeoLocation\"})"
   ]
  },
  {
   "cell_type": "code",
   "execution_count": null,
   "id": "db1f4db8",
   "metadata": {},
   "outputs": [],
   "source": [
    "df.to_csv(\"D:/DataSets/NewServices/train_stations.csv\", index = False)"
   ]
  },
  {
   "cell_type": "markdown",
   "id": "edbdc788",
   "metadata": {},
   "source": [
    "# FILTERED TRANSIT STATION"
   ]
  },
  {
   "cell_type": "code",
   "execution_count": 90,
   "id": "b0ae0b5a",
   "metadata": {},
   "outputs": [],
   "source": [
    "filtered_transit = pd.read_csv(\"D:/DataSets/Services/Filtered_transit_station.csv\")\n",
    "df = filtered_transit.copy()\n"
   ]
  },
  {
   "cell_type": "code",
   "execution_count": null,
   "id": "c67dd45f",
   "metadata": {},
   "outputs": [],
   "source": [
    "# Create a list to store all nightclubs\n",
    "all_businesses_clubs = []\n",
    "\n",
    "for index, row in neighborhood_df.iterrows():\n",
    "    input_neighbourhood = row[\"neighbourhoodGeoLocation\"]\n",
    "    neighborhood_businesses = fetch_businesses(input_neighbourhood,\"transit_station\")\n",
    "    all_businesses_clubs.extend(neighborhood_businesses)\n",
    "\n",
    "# Create a DataFrame from the combined list of nightclubs\n",
    "df = pd.DataFrame(all_businesses_clubs)\n",
    "\n",
    "df['geometry'] = df['geometry'].astype(str)\n",
    "\n",
    "# fix the geometry string\n",
    "for i in range(len(df)):\n",
    "    input_str = df[\"geometry\"][i]\n",
    "    data_dict = ast.literal_eval(input_str)\n",
    "    lat = data_dict['location']['lat']\n",
    "    lng = data_dict['location']['lng']\n",
    "    result_str = f\"{lat} {lng}\"\n",
    "    df[\"geometry\"][i] = result_str\n",
    "    \n",
    "#add point to geometry\n",
    "# Split the geoLocation column into latitude and longitude columns\n",
    "df[['latitude', 'longitude']] = df['geometry'].str.split(' ', expand=True)\n",
    "\n",
    "# Format the data into the expected SQL format\n",
    "df['geoLocation'] = df.apply(lambda row: f\"POINT({row['latitude']} {row['longitude']})\", axis=1)\n",
    "\n",
    "# Drop the original geoLocation column\n",
    "df = df.drop(columns=['geometry', 'latitude', 'longitude'])\n",
    "\n",
    "#add point to neighbourhoods\n",
    "# Split the geoLocation column into latitude and longitude columns\n",
    "df[['latitude', 'longitude']] = df['input_neighbourhood_geoLocation'].str.split(',', expand=True)\n",
    "\n",
    "# Format the data into the expected SQL format\n",
    "df['neighbourhoodInput'] = df.apply(lambda row: f\"POINT({row['latitude']} {row['longitude']})\", axis=1)\n",
    "\n",
    "# Drop the original geoLocation column\n",
    "df = df.drop(columns=['input_neighbourhood_geoLocation', 'latitude', 'longitude'])\n",
    "\n",
    "df = df.rename(columns = {\"neighbourhoodInput\" : \"neighbourhoodGeoLocation\"})"
   ]
  },
  {
   "cell_type": "code",
   "execution_count": null,
   "id": "26a01561",
   "metadata": {},
   "outputs": [],
   "source": [
    "df.to_csv(\"D:/DataSets/NewServices/transit_stations.csv\", index = False)"
   ]
  }
 ],
 "metadata": {
  "kernelspec": {
   "display_name": "Python 3 (ipykernel)",
   "language": "python",
   "name": "python3"
  },
  "language_info": {
   "codemirror_mode": {
    "name": "ipython",
    "version": 3
   },
   "file_extension": ".py",
   "mimetype": "text/x-python",
   "name": "python",
   "nbconvert_exporter": "python",
   "pygments_lexer": "ipython3",
   "version": "3.10.7"
  },
  "varInspector": {
   "cols": {
    "lenName": 16,
    "lenType": 16,
    "lenVar": 40
   },
   "kernels_config": {
    "python": {
     "delete_cmd_postfix": "",
     "delete_cmd_prefix": "del ",
     "library": "var_list.py",
     "varRefreshCmd": "print(var_dic_list())"
    },
    "r": {
     "delete_cmd_postfix": ") ",
     "delete_cmd_prefix": "rm(",
     "library": "var_list.r",
     "varRefreshCmd": "cat(var_dic_list()) "
    }
   },
   "types_to_exclude": [
    "module",
    "function",
    "builtin_function_or_method",
    "instance",
    "_Feature"
   ],
   "window_display": false
  }
 },
 "nbformat": 4,
 "nbformat_minor": 5
}
