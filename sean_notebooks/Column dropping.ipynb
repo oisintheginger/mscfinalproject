{
 "cells": [
  {
   "cell_type": "code",
   "execution_count": 27,
   "id": "ba635077",
   "metadata": {},
   "outputs": [],
   "source": [
    "# drop fees information\n",
    "import pandas as pd\n",
    "\n",
    "fees = pd.read_csv(\"D:/DataSets/msc_datasets_finished/fees.csv\")"
   ]
  },
  {
   "cell_type": "code",
   "execution_count": 28,
   "id": "c23395bd",
   "metadata": {},
   "outputs": [
    {
     "name": "stderr",
     "output_type": "stream",
     "text": [
      "C:\\Users\\seanl\\AppData\\Local\\Temp\\ipykernel_23724\\1249023915.py:1: FutureWarning: The default value of regex will change from True to False in a future version. In addition, single character regular expressions will *not* be treated as literal strings when regex=True.\n",
      "  fees['Deposit fee'] = fees['Deposit fee'].str.replace('$', '').str.replace(',', '').astype(float)\n",
      "C:\\Users\\seanl\\AppData\\Local\\Temp\\ipykernel_23724\\1249023915.py:2: FutureWarning: The default value of regex will change from True to False in a future version. In addition, single character regular expressions will *not* be treated as literal strings when regex=True.\n",
      "  fees['Pet fee'] = fees['Pet fee'].str.replace('$', '').str.replace(',', '').astype(float)\n",
      "C:\\Users\\seanl\\AppData\\Local\\Temp\\ipykernel_23724\\1249023915.py:3: FutureWarning: The default value of regex will change from True to False in a future version. In addition, single character regular expressions will *not* be treated as literal strings when regex=True.\n",
      "  fees['Application fee'] = fees['Application fee'].str.replace('$', '').str.replace(',', '').astype(float)\n",
      "C:\\Users\\seanl\\AppData\\Local\\Temp\\ipykernel_23724\\1249023915.py:4: FutureWarning: The default value of regex will change from True to False in a future version. In addition, single character regular expressions will *not* be treated as literal strings when regex=True.\n",
      "  fees['Pet deposit fee'] = fees['Pet deposit fee'].str.replace('$', '').str.replace(',', '').astype(float)\n",
      "C:\\Users\\seanl\\AppData\\Local\\Temp\\ipykernel_23724\\1249023915.py:5: FutureWarning: The default value of regex will change from True to False in a future version. In addition, single character regular expressions will *not* be treated as literal strings when regex=True.\n",
      "  fees['Administrative fee'] = fees['Administrative fee'].str.replace('$', '').str.replace(',', '').astype(float)\n"
     ]
    }
   ],
   "source": [
    "fees['Deposit fee'] = fees['Deposit fee'].str.replace('$', '').str.replace(',', '').astype(float)\n",
    "fees['Pet fee'] = fees['Pet fee'].str.replace('$', '').str.replace(',', '').astype(float)\n",
    "fees['Application fee'] = fees['Application fee'].str.replace('$', '').str.replace(',', '').astype(float)\n",
    "fees['Pet deposit fee'] = fees['Pet deposit fee'].str.replace('$', '').str.replace(',', '').astype(float)\n",
    "fees['Administrative fee'] = fees['Administrative fee'].str.replace('$', '').str.replace(',', '').astype(float)"
   ]
  },
  {
   "cell_type": "code",
   "execution_count": 29,
   "id": "d614c2c8",
   "metadata": {},
   "outputs": [],
   "source": [
    "fees = fees.drop(\"HOA fee\", axis = 1)"
   ]
  },
  {
   "cell_type": "code",
   "execution_count": 30,
   "id": "eaa74f05",
   "metadata": {},
   "outputs": [],
   "source": [
    "fees = fees.rename(columns={'Pet deposit fee': 'pet_depost_fee'})\n",
    "fees = fees.rename(columns={'Administrative fee': 'administrative_fee'})\n",
    "fees = fees.rename(columns={'Application fee': 'application_fee'})\n",
    "fees = fees.rename(columns={'Pet fee': 'pet_fee'})\n",
    "fees = fees.rename(columns={'Deposit fee': 'depost_fee'})"
   ]
  },
  {
   "cell_type": "code",
   "execution_count": 31,
   "id": "00a542f4",
   "metadata": {},
   "outputs": [],
   "source": [
    "fees.to_csv(\"D:/DataSets/msc_datasets_finished/fees.csv\", index = False)"
   ]
  },
  {
   "cell_type": "code",
   "execution_count": 32,
   "id": "d6aee4dc",
   "metadata": {},
   "outputs": [],
   "source": [
    "# drop schools\n",
    "schools = pd.read_csv(\"D:/DataSets/msc_datasets_finished/schools.csv\")"
   ]
  },
  {
   "cell_type": "code",
   "execution_count": 33,
   "id": "5fa0412f",
   "metadata": {},
   "outputs": [],
   "source": [
    "schools = schools.drop(\"zpid\", axis = 1)"
   ]
  },
  {
   "cell_type": "code",
   "execution_count": 34,
   "id": "566acb09",
   "metadata": {},
   "outputs": [],
   "source": [
    "schools.to_csv(\"D:/DataSets/msc_datasets_finished/schools.csv\", index = False)"
   ]
  },
  {
   "cell_type": "code",
   "execution_count": 35,
   "id": "b7999e52",
   "metadata": {},
   "outputs": [],
   "source": [
    "# for units\n",
    "units = pd.read_csv(\"D:/DataSets/msc_datasets_finished/unit_information.csv\")"
   ]
  },
  {
   "cell_type": "code",
   "execution_count": 39,
   "id": "746a1541",
   "metadata": {},
   "outputs": [],
   "source": [
    "units = units.drop(\"propertyID\", axis = 1)\n",
    "units = units.drop(\"buildingID\", axis = 1)\n",
    "units = units.drop(\"addressID\", axis = 1)"
   ]
  },
  {
   "cell_type": "code",
   "execution_count": 41,
   "id": "404278e8",
   "metadata": {},
   "outputs": [],
   "source": [
    "units.to_csv(\"D:/DataSets/msc_datasets_finished/units.csv\", index = False)"
   ]
  },
  {
   "cell_type": "code",
   "execution_count": 3,
   "id": "0b9787d7",
   "metadata": {},
   "outputs": [],
   "source": [
    "# drop addresses \n",
    "\n",
    "\n",
    "addresses = pd.read_csv(\"D:/DataSets/msc_datasets_finished/addresses_new.csv\")"
   ]
  },
  {
   "cell_type": "code",
   "execution_count": 6,
   "id": "5f6cd6e4",
   "metadata": {},
   "outputs": [],
   "source": [
    "addresses = addresses.drop(\"buildingID\", axis = 1)"
   ]
  },
  {
   "cell_type": "code",
   "execution_count": 10,
   "id": "18af6246",
   "metadata": {},
   "outputs": [],
   "source": [
    "addresses.to_csv(\"D:/DataSets/msc_datasets_finished/addresses_new.csv\", index = False)"
   ]
  }
 ],
 "metadata": {
  "kernelspec": {
   "display_name": "Python 3 (ipykernel)",
   "language": "python",
   "name": "python3"
  },
  "language_info": {
   "codemirror_mode": {
    "name": "ipython",
    "version": 3
   },
   "file_extension": ".py",
   "mimetype": "text/x-python",
   "name": "python",
   "nbconvert_exporter": "python",
   "pygments_lexer": "ipython3",
   "version": "3.10.7"
  },
  "varInspector": {
   "cols": {
    "lenName": 16,
    "lenType": 16,
    "lenVar": 40
   },
   "kernels_config": {
    "python": {
     "delete_cmd_postfix": "",
     "delete_cmd_prefix": "del ",
     "library": "var_list.py",
     "varRefreshCmd": "print(var_dic_list())"
    },
    "r": {
     "delete_cmd_postfix": ") ",
     "delete_cmd_prefix": "rm(",
     "library": "var_list.r",
     "varRefreshCmd": "cat(var_dic_list()) "
    }
   },
   "types_to_exclude": [
    "module",
    "function",
    "builtin_function_or_method",
    "instance",
    "_Feature"
   ],
   "window_display": false
  }
 },
 "nbformat": 4,
 "nbformat_minor": 5
}
