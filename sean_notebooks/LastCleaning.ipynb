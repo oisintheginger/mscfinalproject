{
 "cells": [
  {
   "cell_type": "code",
   "execution_count": 198,
   "id": "af54d58f",
   "metadata": {},
   "outputs": [],
   "source": [
    "# load in main information table\n",
    "\n",
    "import pandas as pd\n",
    "\n",
    "main_information = pd.read_csv(\"D:/DataSets/msc_datasets_cleaned//main_information.csv\")"
   ]
  },
  {
   "cell_type": "code",
   "execution_count": 199,
   "id": "b2f6fff9",
   "metadata": {},
   "outputs": [
    {
     "data": {
      "text/plain": [
       "2512"
      ]
     },
     "execution_count": 199,
     "metadata": {},
     "output_type": "execute_result"
    }
   ],
   "source": [
    "len(main_information)"
   ]
  },
  {
   "cell_type": "code",
   "execution_count": 200,
   "id": "42f59880",
   "metadata": {},
   "outputs": [],
   "source": [
    "main_information['availableNow'] = main_information['availableFrom'].apply(lambda x: x == 'Available Now')"
   ]
  },
  {
   "cell_type": "code",
   "execution_count": 201,
   "id": "3d30b67b",
   "metadata": {},
   "outputs": [],
   "source": [
    "main_information['availableFrom'].replace('Available Now', pd.NA, inplace=True)"
   ]
  },
  {
   "cell_type": "code",
   "execution_count": 202,
   "id": "b0dea7e1",
   "metadata": {},
   "outputs": [],
   "source": [
    "main_information['availableFrom'] = pd.to_datetime(main_information['availableFrom'], format='%Y-%m-%d %H:%M:%S', errors='coerce')"
   ]
  },
  {
   "cell_type": "code",
   "execution_count": 203,
   "id": "6d25bb6c",
   "metadata": {},
   "outputs": [],
   "source": [
    "main_information = main_information.rename(columns={'zpid': 'propertyID'})"
   ]
  },
  {
   "cell_type": "code",
   "execution_count": 204,
   "id": "56a6836d",
   "metadata": {},
   "outputs": [],
   "source": [
    "# create set with zpid information, use later\n",
    "zpid_set = set(main_information['propertyID'])"
   ]
  },
  {
   "cell_type": "code",
   "execution_count": 205,
   "id": "1b9cead4",
   "metadata": {},
   "outputs": [],
   "source": [
    "main_information[\"feeID\"] = range(2512)\n",
    "main_information[\"priceHistoryID\"] = range(2512)\n",
    "main_information[\"propertyDetailsID\"] = range(2512)\n",
    "main_information[\"propertyDetailsExtra\"] = range(2512)\n",
    "main_information[\"unitID\"] = range(2512)"
   ]
  },
  {
   "cell_type": "code",
   "execution_count": 206,
   "id": "08d71627",
   "metadata": {},
   "outputs": [],
   "source": [
    "main_information.insert(1,\"feeID\",main_information.pop(\"feeID\"))\n",
    "main_information.insert(1,\"priceHistoryID\",main_information.pop(\"priceHistoryID\"))\n",
    "main_information.insert(1,\"propertyDetailsID\",main_information.pop(\"propertyDetailsID\"))\n",
    "main_information.insert(1,\"propertyDetailsExtra\",main_information.pop(\"propertyDetailsExtra\"))\n",
    "main_information.insert(1,\"unitID\",main_information.pop(\"unitID\"))"
   ]
  },
  {
   "cell_type": "code",
   "execution_count": 207,
   "id": "90be56f1",
   "metadata": {},
   "outputs": [],
   "source": [
    "# change date formatting in price history data\n",
    "price_history = pd.read_csv(\"D:/DataSets/msc_datasets_cleaned/price_history.csv\")"
   ]
  },
  {
   "cell_type": "code",
   "execution_count": null,
   "id": "8a43fc21",
   "metadata": {},
   "outputs": [],
   "source": [
    "# filter datset\n",
    "price_history = price_history[price_history['zpid'].isin(zpid_set)]\n",
    "price_history = price_history.reset_index(drop = True)"
   ]
  },
  {
   "cell_type": "code",
   "execution_count": 208,
   "id": "5d6ac0e6",
   "metadata": {},
   "outputs": [],
   "source": [
    "for i in range(29):\n",
    "    price_history[f'change_{i}_date'] = pd.to_datetime(price_history[f'change_{i}_date'], format='%Y-%m-%d %H:%M:%S', errors='coerce')"
   ]
  },
  {
   "cell_type": "code",
   "execution_count": 209,
   "id": "104eb1d9",
   "metadata": {},
   "outputs": [],
   "source": [
    "price_history['priceHistoryID'] = main_information[\"priceHistoryID\"]"
   ]
  },
  {
   "cell_type": "code",
   "execution_count": 210,
   "id": "85a69c3c",
   "metadata": {},
   "outputs": [
    {
     "name": "stderr",
     "output_type": "stream",
     "text": [
      "C:\\Users\\seanl\\AppData\\Local\\Temp\\ipykernel_20868\\388615128.py:1: PerformanceWarning: DataFrame is highly fragmented.  This is usually the result of calling `frame.insert` many times, which has poor performance.  Consider joining all columns at once using pd.concat(axis=1) instead. To get a de-fragmented frame, use `newframe = frame.copy()`\n",
      "  price_history.insert(0,\"priceHistoryID\",price_history.pop(\"priceHistoryID\"))\n"
     ]
    }
   ],
   "source": [
    "price_history.insert(0,\"priceHistoryID\",price_history.pop(\"priceHistoryID\"))"
   ]
  },
  {
   "cell_type": "code",
   "execution_count": 211,
   "id": "ecb64214",
   "metadata": {},
   "outputs": [],
   "source": [
    "price_history.drop(columns = [\"zpid\"], inplace = True)"
   ]
  },
  {
   "cell_type": "code",
   "execution_count": 212,
   "id": "172008e1",
   "metadata": {},
   "outputs": [],
   "source": [
    "price_history.to_csv(\"D:/DataSets/msc_datasets_finished/price_history.csv\", index = False)"
   ]
  },
  {
   "cell_type": "code",
   "execution_count": 213,
   "id": "5e544e17",
   "metadata": {},
   "outputs": [],
   "source": [
    "# for property details\n",
    "\n",
    "property_details = pd.read_csv(\"D:/DataSets/msc_datasets_cleaned//property_details.csv\")"
   ]
  },
  {
   "cell_type": "code",
   "execution_count": 214,
   "id": "911fccb8",
   "metadata": {},
   "outputs": [],
   "source": [
    "# filter datset\n",
    "property_details = property_details[property_details['zpid'].isin(zpid_set)]\n",
    "property_details = property_details.reset_index(drop = True)"
   ]
  },
  {
   "cell_type": "code",
   "execution_count": 215,
   "id": "d847459e",
   "metadata": {},
   "outputs": [],
   "source": [
    "property_details[\"propertyDetailsID\"] = main_information[\"propertyDetailsID\"]\n",
    "property_details.insert(0,\"propertyDetailsID\",property_details.pop(\"propertyDetailsID\"))"
   ]
  },
  {
   "cell_type": "code",
   "execution_count": 216,
   "id": "7f1193ba",
   "metadata": {},
   "outputs": [],
   "source": [
    "property_details.drop(columns = [\"zpid\"], inplace = True)"
   ]
  },
  {
   "cell_type": "code",
   "execution_count": 138,
   "id": "783d6975",
   "metadata": {},
   "outputs": [
    {
     "data": {
      "text/html": [
       "<div>\n",
       "<style scoped>\n",
       "    .dataframe tbody tr th:only-of-type {\n",
       "        vertical-align: middle;\n",
       "    }\n",
       "\n",
       "    .dataframe tbody tr th {\n",
       "        vertical-align: top;\n",
       "    }\n",
       "\n",
       "    .dataframe thead th {\n",
       "        text-align: right;\n",
       "    }\n",
       "</style>\n",
       "<table border=\"1\" class=\"dataframe\">\n",
       "  <thead>\n",
       "    <tr style=\"text-align: right;\">\n",
       "      <th></th>\n",
       "      <th>propertyDetailsID</th>\n",
       "      <th>yearBuilt</th>\n",
       "      <th>Cooling</th>\n",
       "      <th>Heating</th>\n",
       "      <th>Pets</th>\n",
       "      <th>Parking</th>\n",
       "      <th>Dishwasher</th>\n",
       "      <th>garbageDisposal</th>\n",
       "      <th>Dryer</th>\n",
       "      <th>Refrigerator</th>\n",
       "      <th>Microwave</th>\n",
       "      <th>Oven</th>\n",
       "      <th>Freezer</th>\n",
       "      <th>Washer</th>\n",
       "      <th>Stove</th>\n",
       "      <th>TrashCompactor</th>\n",
       "      <th>Near Public Transit</th>\n",
       "      <th>Laundry Features: In Unit</th>\n",
       "      <th>Playground</th>\n",
       "      <th>On Site Laundry Available</th>\n",
       "      <th>Cable Available</th>\n",
       "      <th>Fitness Center</th>\n",
       "      <th>Gated</th>\n",
       "      <th>Pool</th>\n",
       "      <th>Patio</th>\n",
       "      <th>Laundry Features: Shared</th>\n",
       "      <th>Window Coverings</th>\n",
       "      <th>Gas</th>\n",
       "      <th>Clubhouse</th>\n",
       "      <th>Water</th>\n",
       "      <th>Sewage</th>\n",
       "      <th>Has Garbage Bin</th>\n",
       "      <th>Porch</th>\n",
       "      <th>Deck</th>\n",
       "      <th>Skylight(s)</th>\n",
       "      <th>Laundry Features: None</th>\n",
       "      <th>Laundry Features: Hookups</th>\n",
       "      <th>Double Pane Windows</th>\n",
       "      <th>Sauna</th>\n",
       "      <th>stories</th>\n",
       "    </tr>\n",
       "  </thead>\n",
       "  <tbody>\n",
       "    <tr>\n",
       "      <th>0</th>\n",
       "      <td>0</td>\n",
       "      <td>1969.0</td>\n",
       "      <td>Other</td>\n",
       "      <td>None</td>\n",
       "      <td>Dogs, Small Dogs</td>\n",
       "      <td>0 spaces</td>\n",
       "      <td>True</td>\n",
       "      <td>False</td>\n",
       "      <td>True</td>\n",
       "      <td>True</td>\n",
       "      <td>False</td>\n",
       "      <td>False</td>\n",
       "      <td>False</td>\n",
       "      <td>True</td>\n",
       "      <td>False</td>\n",
       "      <td>False</td>\n",
       "      <td>True</td>\n",
       "      <td>True</td>\n",
       "      <td>True</td>\n",
       "      <td>False</td>\n",
       "      <td>True</td>\n",
       "      <td>False</td>\n",
       "      <td>False</td>\n",
       "      <td>True</td>\n",
       "      <td>True</td>\n",
       "      <td>False</td>\n",
       "      <td>True</td>\n",
       "      <td>False</td>\n",
       "      <td>False</td>\n",
       "      <td>False</td>\n",
       "      <td>False</td>\n",
       "      <td>False</td>\n",
       "      <td>False</td>\n",
       "      <td>False</td>\n",
       "      <td>False</td>\n",
       "      <td>False</td>\n",
       "      <td>False</td>\n",
       "      <td>False</td>\n",
       "      <td>False</td>\n",
       "      <td>NaN</td>\n",
       "    </tr>\n",
       "    <tr>\n",
       "      <th>1</th>\n",
       "      <td>1</td>\n",
       "      <td>1969.0</td>\n",
       "      <td>Other</td>\n",
       "      <td>None</td>\n",
       "      <td>Dogs, Small Dogs</td>\n",
       "      <td>0 spaces</td>\n",
       "      <td>True</td>\n",
       "      <td>False</td>\n",
       "      <td>True</td>\n",
       "      <td>True</td>\n",
       "      <td>False</td>\n",
       "      <td>False</td>\n",
       "      <td>False</td>\n",
       "      <td>True</td>\n",
       "      <td>False</td>\n",
       "      <td>False</td>\n",
       "      <td>True</td>\n",
       "      <td>True</td>\n",
       "      <td>True</td>\n",
       "      <td>False</td>\n",
       "      <td>True</td>\n",
       "      <td>False</td>\n",
       "      <td>False</td>\n",
       "      <td>True</td>\n",
       "      <td>True</td>\n",
       "      <td>False</td>\n",
       "      <td>True</td>\n",
       "      <td>False</td>\n",
       "      <td>False</td>\n",
       "      <td>False</td>\n",
       "      <td>False</td>\n",
       "      <td>False</td>\n",
       "      <td>False</td>\n",
       "      <td>False</td>\n",
       "      <td>False</td>\n",
       "      <td>False</td>\n",
       "      <td>False</td>\n",
       "      <td>False</td>\n",
       "      <td>False</td>\n",
       "      <td>NaN</td>\n",
       "    </tr>\n",
       "    <tr>\n",
       "      <th>2</th>\n",
       "      <td>2</td>\n",
       "      <td>1969.0</td>\n",
       "      <td>Other</td>\n",
       "      <td>None</td>\n",
       "      <td>Dogs, Small Dogs</td>\n",
       "      <td>0 spaces</td>\n",
       "      <td>True</td>\n",
       "      <td>False</td>\n",
       "      <td>True</td>\n",
       "      <td>True</td>\n",
       "      <td>False</td>\n",
       "      <td>False</td>\n",
       "      <td>False</td>\n",
       "      <td>True</td>\n",
       "      <td>False</td>\n",
       "      <td>False</td>\n",
       "      <td>True</td>\n",
       "      <td>True</td>\n",
       "      <td>True</td>\n",
       "      <td>False</td>\n",
       "      <td>True</td>\n",
       "      <td>False</td>\n",
       "      <td>False</td>\n",
       "      <td>True</td>\n",
       "      <td>True</td>\n",
       "      <td>False</td>\n",
       "      <td>True</td>\n",
       "      <td>False</td>\n",
       "      <td>False</td>\n",
       "      <td>False</td>\n",
       "      <td>False</td>\n",
       "      <td>False</td>\n",
       "      <td>False</td>\n",
       "      <td>False</td>\n",
       "      <td>False</td>\n",
       "      <td>False</td>\n",
       "      <td>False</td>\n",
       "      <td>False</td>\n",
       "      <td>False</td>\n",
       "      <td>NaN</td>\n",
       "    </tr>\n",
       "    <tr>\n",
       "      <th>3</th>\n",
       "      <td>3</td>\n",
       "      <td>1969.0</td>\n",
       "      <td>Other</td>\n",
       "      <td>None</td>\n",
       "      <td>Dogs, Small Dogs</td>\n",
       "      <td>0 spaces</td>\n",
       "      <td>True</td>\n",
       "      <td>False</td>\n",
       "      <td>True</td>\n",
       "      <td>True</td>\n",
       "      <td>False</td>\n",
       "      <td>False</td>\n",
       "      <td>False</td>\n",
       "      <td>True</td>\n",
       "      <td>False</td>\n",
       "      <td>False</td>\n",
       "      <td>True</td>\n",
       "      <td>True</td>\n",
       "      <td>True</td>\n",
       "      <td>False</td>\n",
       "      <td>True</td>\n",
       "      <td>False</td>\n",
       "      <td>False</td>\n",
       "      <td>True</td>\n",
       "      <td>True</td>\n",
       "      <td>False</td>\n",
       "      <td>True</td>\n",
       "      <td>False</td>\n",
       "      <td>False</td>\n",
       "      <td>False</td>\n",
       "      <td>False</td>\n",
       "      <td>False</td>\n",
       "      <td>False</td>\n",
       "      <td>False</td>\n",
       "      <td>False</td>\n",
       "      <td>False</td>\n",
       "      <td>False</td>\n",
       "      <td>False</td>\n",
       "      <td>False</td>\n",
       "      <td>NaN</td>\n",
       "    </tr>\n",
       "    <tr>\n",
       "      <th>4</th>\n",
       "      <td>4</td>\n",
       "      <td>1969.0</td>\n",
       "      <td>Other</td>\n",
       "      <td>None</td>\n",
       "      <td>Dogs, Small Dogs</td>\n",
       "      <td>0 spaces</td>\n",
       "      <td>True</td>\n",
       "      <td>False</td>\n",
       "      <td>True</td>\n",
       "      <td>True</td>\n",
       "      <td>False</td>\n",
       "      <td>False</td>\n",
       "      <td>False</td>\n",
       "      <td>True</td>\n",
       "      <td>False</td>\n",
       "      <td>False</td>\n",
       "      <td>True</td>\n",
       "      <td>True</td>\n",
       "      <td>True</td>\n",
       "      <td>False</td>\n",
       "      <td>True</td>\n",
       "      <td>False</td>\n",
       "      <td>False</td>\n",
       "      <td>True</td>\n",
       "      <td>True</td>\n",
       "      <td>False</td>\n",
       "      <td>True</td>\n",
       "      <td>False</td>\n",
       "      <td>False</td>\n",
       "      <td>False</td>\n",
       "      <td>False</td>\n",
       "      <td>False</td>\n",
       "      <td>False</td>\n",
       "      <td>False</td>\n",
       "      <td>False</td>\n",
       "      <td>False</td>\n",
       "      <td>False</td>\n",
       "      <td>False</td>\n",
       "      <td>False</td>\n",
       "      <td>NaN</td>\n",
       "    </tr>\n",
       "    <tr>\n",
       "      <th>...</th>\n",
       "      <td>...</td>\n",
       "      <td>...</td>\n",
       "      <td>...</td>\n",
       "      <td>...</td>\n",
       "      <td>...</td>\n",
       "      <td>...</td>\n",
       "      <td>...</td>\n",
       "      <td>...</td>\n",
       "      <td>...</td>\n",
       "      <td>...</td>\n",
       "      <td>...</td>\n",
       "      <td>...</td>\n",
       "      <td>...</td>\n",
       "      <td>...</td>\n",
       "      <td>...</td>\n",
       "      <td>...</td>\n",
       "      <td>...</td>\n",
       "      <td>...</td>\n",
       "      <td>...</td>\n",
       "      <td>...</td>\n",
       "      <td>...</td>\n",
       "      <td>...</td>\n",
       "      <td>...</td>\n",
       "      <td>...</td>\n",
       "      <td>...</td>\n",
       "      <td>...</td>\n",
       "      <td>...</td>\n",
       "      <td>...</td>\n",
       "      <td>...</td>\n",
       "      <td>...</td>\n",
       "      <td>...</td>\n",
       "      <td>...</td>\n",
       "      <td>...</td>\n",
       "      <td>...</td>\n",
       "      <td>...</td>\n",
       "      <td>...</td>\n",
       "      <td>...</td>\n",
       "      <td>...</td>\n",
       "      <td>...</td>\n",
       "      <td>...</td>\n",
       "    </tr>\n",
       "    <tr>\n",
       "      <th>2507</th>\n",
       "      <td>2507</td>\n",
       "      <td>NaN</td>\n",
       "      <td>Other, Other</td>\n",
       "      <td>None</td>\n",
       "      <td>No Pets</td>\n",
       "      <td>0 spaces</td>\n",
       "      <td>False</td>\n",
       "      <td>False</td>\n",
       "      <td>False</td>\n",
       "      <td>False</td>\n",
       "      <td>False</td>\n",
       "      <td>False</td>\n",
       "      <td>False</td>\n",
       "      <td>False</td>\n",
       "      <td>False</td>\n",
       "      <td>False</td>\n",
       "      <td>False</td>\n",
       "      <td>False</td>\n",
       "      <td>False</td>\n",
       "      <td>False</td>\n",
       "      <td>True</td>\n",
       "      <td>False</td>\n",
       "      <td>False</td>\n",
       "      <td>False</td>\n",
       "      <td>False</td>\n",
       "      <td>True</td>\n",
       "      <td>False</td>\n",
       "      <td>False</td>\n",
       "      <td>False</td>\n",
       "      <td>False</td>\n",
       "      <td>False</td>\n",
       "      <td>False</td>\n",
       "      <td>False</td>\n",
       "      <td>False</td>\n",
       "      <td>False</td>\n",
       "      <td>False</td>\n",
       "      <td>False</td>\n",
       "      <td>False</td>\n",
       "      <td>False</td>\n",
       "      <td>NaN</td>\n",
       "    </tr>\n",
       "    <tr>\n",
       "      <th>2508</th>\n",
       "      <td>2508</td>\n",
       "      <td>NaN</td>\n",
       "      <td>None</td>\n",
       "      <td>None</td>\n",
       "      <td>Cats, Small Dogs</td>\n",
       "      <td>0 spaces</td>\n",
       "      <td>False</td>\n",
       "      <td>False</td>\n",
       "      <td>True</td>\n",
       "      <td>True</td>\n",
       "      <td>False</td>\n",
       "      <td>True</td>\n",
       "      <td>False</td>\n",
       "      <td>True</td>\n",
       "      <td>False</td>\n",
       "      <td>False</td>\n",
       "      <td>False</td>\n",
       "      <td>True</td>\n",
       "      <td>False</td>\n",
       "      <td>False</td>\n",
       "      <td>False</td>\n",
       "      <td>False</td>\n",
       "      <td>False</td>\n",
       "      <td>False</td>\n",
       "      <td>False</td>\n",
       "      <td>False</td>\n",
       "      <td>False</td>\n",
       "      <td>False</td>\n",
       "      <td>False</td>\n",
       "      <td>True</td>\n",
       "      <td>True</td>\n",
       "      <td>True</td>\n",
       "      <td>False</td>\n",
       "      <td>False</td>\n",
       "      <td>False</td>\n",
       "      <td>False</td>\n",
       "      <td>False</td>\n",
       "      <td>False</td>\n",
       "      <td>False</td>\n",
       "      <td>NaN</td>\n",
       "    </tr>\n",
       "    <tr>\n",
       "      <th>2509</th>\n",
       "      <td>2509</td>\n",
       "      <td>NaN</td>\n",
       "      <td>None</td>\n",
       "      <td>None</td>\n",
       "      <td>Cats, Dogs, Small Dogs</td>\n",
       "      <td>0 spaces</td>\n",
       "      <td>False</td>\n",
       "      <td>False</td>\n",
       "      <td>True</td>\n",
       "      <td>False</td>\n",
       "      <td>False</td>\n",
       "      <td>False</td>\n",
       "      <td>False</td>\n",
       "      <td>True</td>\n",
       "      <td>False</td>\n",
       "      <td>False</td>\n",
       "      <td>False</td>\n",
       "      <td>True</td>\n",
       "      <td>False</td>\n",
       "      <td>False</td>\n",
       "      <td>False</td>\n",
       "      <td>False</td>\n",
       "      <td>False</td>\n",
       "      <td>False</td>\n",
       "      <td>False</td>\n",
       "      <td>True</td>\n",
       "      <td>False</td>\n",
       "      <td>False</td>\n",
       "      <td>False</td>\n",
       "      <td>False</td>\n",
       "      <td>False</td>\n",
       "      <td>False</td>\n",
       "      <td>False</td>\n",
       "      <td>False</td>\n",
       "      <td>False</td>\n",
       "      <td>False</td>\n",
       "      <td>False</td>\n",
       "      <td>False</td>\n",
       "      <td>False</td>\n",
       "      <td>NaN</td>\n",
       "    </tr>\n",
       "    <tr>\n",
       "      <th>2510</th>\n",
       "      <td>2510</td>\n",
       "      <td>NaN</td>\n",
       "      <td>None</td>\n",
       "      <td>None</td>\n",
       "      <td>No Pets</td>\n",
       "      <td>0 spaces</td>\n",
       "      <td>False</td>\n",
       "      <td>False</td>\n",
       "      <td>True</td>\n",
       "      <td>True</td>\n",
       "      <td>True</td>\n",
       "      <td>True</td>\n",
       "      <td>False</td>\n",
       "      <td>True</td>\n",
       "      <td>False</td>\n",
       "      <td>False</td>\n",
       "      <td>False</td>\n",
       "      <td>True</td>\n",
       "      <td>False</td>\n",
       "      <td>False</td>\n",
       "      <td>False</td>\n",
       "      <td>False</td>\n",
       "      <td>False</td>\n",
       "      <td>False</td>\n",
       "      <td>False</td>\n",
       "      <td>False</td>\n",
       "      <td>False</td>\n",
       "      <td>False</td>\n",
       "      <td>False</td>\n",
       "      <td>False</td>\n",
       "      <td>False</td>\n",
       "      <td>False</td>\n",
       "      <td>False</td>\n",
       "      <td>False</td>\n",
       "      <td>False</td>\n",
       "      <td>False</td>\n",
       "      <td>False</td>\n",
       "      <td>False</td>\n",
       "      <td>False</td>\n",
       "      <td>NaN</td>\n",
       "    </tr>\n",
       "    <tr>\n",
       "      <th>2511</th>\n",
       "      <td>2511</td>\n",
       "      <td>NaN</td>\n",
       "      <td>None</td>\n",
       "      <td>None</td>\n",
       "      <td>False</td>\n",
       "      <td>None</td>\n",
       "      <td>True</td>\n",
       "      <td>False</td>\n",
       "      <td>True</td>\n",
       "      <td>True</td>\n",
       "      <td>True</td>\n",
       "      <td>True</td>\n",
       "      <td>False</td>\n",
       "      <td>True</td>\n",
       "      <td>False</td>\n",
       "      <td>False</td>\n",
       "      <td>False</td>\n",
       "      <td>True</td>\n",
       "      <td>False</td>\n",
       "      <td>False</td>\n",
       "      <td>False</td>\n",
       "      <td>False</td>\n",
       "      <td>False</td>\n",
       "      <td>False</td>\n",
       "      <td>False</td>\n",
       "      <td>False</td>\n",
       "      <td>False</td>\n",
       "      <td>False</td>\n",
       "      <td>False</td>\n",
       "      <td>False</td>\n",
       "      <td>False</td>\n",
       "      <td>False</td>\n",
       "      <td>False</td>\n",
       "      <td>False</td>\n",
       "      <td>False</td>\n",
       "      <td>False</td>\n",
       "      <td>False</td>\n",
       "      <td>False</td>\n",
       "      <td>False</td>\n",
       "      <td>NaN</td>\n",
       "    </tr>\n",
       "  </tbody>\n",
       "</table>\n",
       "<p>2512 rows × 40 columns</p>\n",
       "</div>"
      ],
      "text/plain": [
       "      propertyDetailsID  yearBuilt       Cooling  ... Double Pane Windows  Sauna stories\n",
       "0                     0     1969.0         Other  ...               False  False     NaN\n",
       "1                     1     1969.0         Other  ...               False  False     NaN\n",
       "2                     2     1969.0         Other  ...               False  False     NaN\n",
       "3                     3     1969.0         Other  ...               False  False     NaN\n",
       "4                     4     1969.0         Other  ...               False  False     NaN\n",
       "...                 ...        ...           ...  ...                 ...    ...     ...\n",
       "2507               2507        NaN  Other, Other  ...               False  False     NaN\n",
       "2508               2508        NaN          None  ...               False  False     NaN\n",
       "2509               2509        NaN          None  ...               False  False     NaN\n",
       "2510               2510        NaN          None  ...               False  False     NaN\n",
       "2511               2511        NaN          None  ...               False  False     NaN\n",
       "\n",
       "[2512 rows x 40 columns]"
      ]
     },
     "execution_count": 138,
     "metadata": {},
     "output_type": "execute_result"
    }
   ],
   "source": [
    "property_details"
   ]
  },
  {
   "cell_type": "code",
   "execution_count": 137,
   "id": "f9e12187",
   "metadata": {},
   "outputs": [],
   "source": [
    "property_details.to_csv(\"D:/DataSets/msc_datasets_finished/property_details.csv\", index = False)"
   ]
  },
  {
   "cell_type": "code",
   "execution_count": 139,
   "id": "b2af4ef8",
   "metadata": {},
   "outputs": [],
   "source": [
    "# for property details extra\n",
    "\n",
    "property_details_ext = pd.read_csv(\"D:/DataSets/msc_datasets_cleaned/property_details_extra.csv\")"
   ]
  },
  {
   "cell_type": "code",
   "execution_count": 140,
   "id": "0ab4cd4c",
   "metadata": {},
   "outputs": [],
   "source": [
    "# filter dataset\n",
    "property_details_ext = property_details_ext[property_details_ext['zpid'].isin(zpid_set)]\n",
    "property_details_ext = property_details_ext.reset_index(drop = True)"
   ]
  },
  {
   "cell_type": "code",
   "execution_count": 141,
   "id": "c3b3a095",
   "metadata": {},
   "outputs": [],
   "source": [
    "property_details_ext[\"propertyDetailsExtra\"] = main_information[\"propertyDetailsExtra\"]\n",
    "property_details_ext.insert(0,\"propertyDetailsExtra\",property_details_ext.pop(\"propertyDetailsExtra\"))"
   ]
  },
  {
   "cell_type": "code",
   "execution_count": 142,
   "id": "6f7ca0ab",
   "metadata": {},
   "outputs": [],
   "source": [
    "property_details_ext.drop(columns = [\"zpid\"], inplace = True)"
   ]
  },
  {
   "cell_type": "code",
   "execution_count": 144,
   "id": "c19f3720",
   "metadata": {},
   "outputs": [
    {
     "data": {
      "text/plain": [
       "2512"
      ]
     },
     "execution_count": 144,
     "metadata": {},
     "output_type": "execute_result"
    }
   ],
   "source": [
    "len(property_details_ext)"
   ]
  },
  {
   "cell_type": "code",
   "execution_count": null,
   "id": "5240b6d2",
   "metadata": {},
   "outputs": [],
   "source": []
  },
  {
   "cell_type": "code",
   "execution_count": 145,
   "id": "1698912d",
   "metadata": {},
   "outputs": [],
   "source": [
    "# for fee dataset\n",
    "fees = pd.read_csv(\"D:/DataSets/msc_datasets_cleaned/fees.csv\")\n"
   ]
  },
  {
   "cell_type": "code",
   "execution_count": 146,
   "id": "58b4e68a",
   "metadata": {},
   "outputs": [],
   "source": [
    "# filter datset\n",
    "fees = fees[fees['zpid'].isin(zpid_set)]\n",
    "fees = fees.reset_index(drop = True)"
   ]
  },
  {
   "cell_type": "code",
   "execution_count": 147,
   "id": "3755f7fb",
   "metadata": {},
   "outputs": [],
   "source": [
    "fees[\"feeID\"] = main_information[\"feeID\"]\n",
    "fees.insert(0,\"feeID\",fees.pop(\"feeID\"))"
   ]
  },
  {
   "cell_type": "code",
   "execution_count": 148,
   "id": "3995e74b",
   "metadata": {},
   "outputs": [],
   "source": [
    "fees.drop(columns = [\"zpid\"], inplace = True)"
   ]
  },
  {
   "cell_type": "code",
   "execution_count": 149,
   "id": "5a2f829b",
   "metadata": {},
   "outputs": [],
   "source": [
    "fees.to_csv(\"D:/DataSets/msc_datasets_finished/fees.csv\", index = False)"
   ]
  },
  {
   "cell_type": "code",
   "execution_count": 156,
   "id": "ec97d764",
   "metadata": {},
   "outputs": [],
   "source": [
    "# for units\n",
    "\n",
    "units = pd.read_csv(\"D:/DataSets/msc_datasets_cleaned/unit_information.csv\")"
   ]
  },
  {
   "cell_type": "code",
   "execution_count": 157,
   "id": "e35199ef",
   "metadata": {},
   "outputs": [],
   "source": [
    "# filter datset\n",
    "units = units[units['zpid'].isin(zpid_set)]\n",
    "units = units.reset_index(drop = True)"
   ]
  },
  {
   "cell_type": "code",
   "execution_count": 164,
   "id": "3327ed13",
   "metadata": {},
   "outputs": [],
   "source": [
    "units[\"unitID\"] = main_information[\"unitID\"]\n",
    "units.insert(0,\"unitID\",units.pop(\"unitID\"))"
   ]
  },
  {
   "cell_type": "code",
   "execution_count": 177,
   "id": "8bb9aeb1",
   "metadata": {},
   "outputs": [],
   "source": [
    "units = units.rename(columns={'zpid': 'propertyID'})"
   ]
  },
  {
   "cell_type": "code",
   "execution_count": 165,
   "id": "8921e5a8",
   "metadata": {},
   "outputs": [],
   "source": [
    "units.to_csv(\"D:/DataSets/msc_datasets_finished/unit_information.csv\", index = False)"
   ]
  },
  {
   "cell_type": "code",
   "execution_count": 217,
   "id": "b433be2d",
   "metadata": {},
   "outputs": [],
   "source": [
    "# map buildingID values to main information\n",
    "zpid_to_buildingID_map = units.set_index('propertyID')['buildingID'].to_dict()\n",
    "\n",
    "main_information['buildingID'] = main_information['propertyID'].map(zpid_to_buildingID_map)"
   ]
  },
  {
   "cell_type": "code",
   "execution_count": 221,
   "id": "0aab08cd",
   "metadata": {},
   "outputs": [],
   "source": [
    "main_information.insert(8,\"buildingID\",main_information.pop(\"buildingID\"))"
   ]
  },
  {
   "cell_type": "code",
   "execution_count": 222,
   "id": "6b60fa58",
   "metadata": {},
   "outputs": [],
   "source": [
    "main_information.to_csv(\"D:/DataSets/msc_datasets_finished/main_information.csv\", index = False)"
   ]
  }
 ],
 "metadata": {
  "kernelspec": {
   "display_name": "Python 3 (ipykernel)",
   "language": "python",
   "name": "python3"
  },
  "language_info": {
   "codemirror_mode": {
    "name": "ipython",
    "version": 3
   },
   "file_extension": ".py",
   "mimetype": "text/x-python",
   "name": "python",
   "nbconvert_exporter": "python",
   "pygments_lexer": "ipython3",
   "version": "3.10.7"
  },
  "varInspector": {
   "cols": {
    "lenName": 16,
    "lenType": 16,
    "lenVar": 40
   },
   "kernels_config": {
    "python": {
     "delete_cmd_postfix": "",
     "delete_cmd_prefix": "del ",
     "library": "var_list.py",
     "varRefreshCmd": "print(var_dic_list())"
    },
    "r": {
     "delete_cmd_postfix": ") ",
     "delete_cmd_prefix": "rm(",
     "library": "var_list.r",
     "varRefreshCmd": "cat(var_dic_list()) "
    }
   },
   "types_to_exclude": [
    "module",
    "function",
    "builtin_function_or_method",
    "instance",
    "_Feature"
   ],
   "window_display": false
  }
 },
 "nbformat": 4,
 "nbformat_minor": 5
}
