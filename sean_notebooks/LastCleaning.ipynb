{
 "cells": [
  {
   "cell_type": "code",
   "execution_count": 431,
   "id": "03ad808b",
   "metadata": {},
   "outputs": [],
   "source": [
    "# load in main information table\n",
    "\n",
    "import pandas as pd\n",
    "\n",
    "main_information = pd.read_csv(\"D:/DataSets/msc_datasets_cleaned//main_information.csv\")"
   ]
  },
  {
   "cell_type": "code",
   "execution_count": 432,
   "id": "99c59975",
   "metadata": {},
   "outputs": [
    {
     "data": {
      "text/plain": [
       "2512"
      ]
     },
     "execution_count": 432,
     "metadata": {},
     "output_type": "execute_result"
    }
   ],
   "source": [
    "len(main_information)"
   ]
  },
  {
   "cell_type": "code",
   "execution_count": 433,
   "id": "e4f14def",
   "metadata": {},
   "outputs": [],
   "source": [
    "main_information['availableNow'] = main_information['availableFrom'].apply(lambda x: x == 'Available Now')"
   ]
  },
  {
   "cell_type": "code",
   "execution_count": 434,
   "id": "7b07beb2",
   "metadata": {},
   "outputs": [],
   "source": [
    "main_information['availableFrom'].replace('Available Now', pd.NA, inplace=True)"
   ]
  },
  {
   "cell_type": "code",
   "execution_count": 435,
   "id": "ab0ef127",
   "metadata": {},
   "outputs": [],
   "source": [
    "main_information['availableFrom'] = pd.to_datetime(main_information['availableFrom'], format='%Y-%m-%d %H:%M:%S', errors='coerce')"
   ]
  },
  {
   "cell_type": "code",
   "execution_count": 436,
   "id": "ef7226a4",
   "metadata": {},
   "outputs": [],
   "source": [
    "main_information = main_information.rename(columns={'zpid': 'propertyID'})"
   ]
  },
  {
   "cell_type": "code",
   "execution_count": 437,
   "id": "22fe438f",
   "metadata": {},
   "outputs": [],
   "source": [
    "# create set with zpid information, use later\n",
    "zpid_set = set(main_information['propertyID'])"
   ]
  },
  {
   "cell_type": "code",
   "execution_count": 438,
   "id": "e608e5c8",
   "metadata": {},
   "outputs": [],
   "source": [
    "main_information[\"feeID\"] = range(2512)\n",
    "main_information[\"priceHistoryID\"] = range(2512)\n",
    "main_information[\"propertyDetailsID\"] = range(2512)\n",
    "main_information[\"unitID\"] = range(2512)"
   ]
  },
  {
   "cell_type": "code",
   "execution_count": 439,
   "id": "4ccbc5cc",
   "metadata": {},
   "outputs": [],
   "source": [
    "main_information.insert(1,\"feeID\",main_information.pop(\"feeID\"))\n",
    "main_information.insert(1,\"priceHistoryID\",main_information.pop(\"priceHistoryID\"))\n",
    "main_information.insert(1,\"propertyDetailsID\",main_information.pop(\"propertyDetailsID\"))\n",
    "main_information.insert(1,\"unitID\",main_information.pop(\"unitID\"))"
   ]
  },
  {
   "cell_type": "code",
   "execution_count": 207,
   "id": "1e691386",
   "metadata": {},
   "outputs": [],
   "source": [
    "# change date formatting in price history data\n",
    "price_history = pd.read_csv(\"D:/DataSets/msc_datasets_cleaned/price_history.csv\")"
   ]
  },
  {
   "cell_type": "code",
   "execution_count": null,
   "id": "fb3c4262",
   "metadata": {},
   "outputs": [],
   "source": [
    "# filter datset\n",
    "price_history = price_history[price_history['zpid'].isin(zpid_set)]\n",
    "price_history = price_history.reset_index(drop = True)"
   ]
  },
  {
   "cell_type": "code",
   "execution_count": 208,
   "id": "8ba85df6",
   "metadata": {},
   "outputs": [],
   "source": [
    "for i in range(29):\n",
    "    price_history[f'change_{i}_date'] = pd.to_datetime(price_history[f'change_{i}_date'], format='%Y-%m-%d %H:%M:%S', errors='coerce')"
   ]
  },
  {
   "cell_type": "code",
   "execution_count": 209,
   "id": "cffa26c8",
   "metadata": {},
   "outputs": [],
   "source": [
    "price_history['priceHistoryID'] = main_information[\"priceHistoryID\"]"
   ]
  },
  {
   "cell_type": "code",
   "execution_count": 210,
   "id": "caf6073a",
   "metadata": {},
   "outputs": [
    {
     "name": "stderr",
     "output_type": "stream",
     "text": [
      "C:\\Users\\seanl\\AppData\\Local\\Temp\\ipykernel_20868\\388615128.py:1: PerformanceWarning: DataFrame is highly fragmented.  This is usually the result of calling `frame.insert` many times, which has poor performance.  Consider joining all columns at once using pd.concat(axis=1) instead. To get a de-fragmented frame, use `newframe = frame.copy()`\n",
      "  price_history.insert(0,\"priceHistoryID\",price_history.pop(\"priceHistoryID\"))\n"
     ]
    }
   ],
   "source": [
    "price_history.insert(0,\"priceHistoryID\",price_history.pop(\"priceHistoryID\"))"
   ]
  },
  {
   "cell_type": "code",
   "execution_count": 211,
   "id": "6bfdf4f7",
   "metadata": {},
   "outputs": [],
   "source": [
    "price_history.drop(columns = [\"zpid\"], inplace = True)"
   ]
  },
  {
   "cell_type": "code",
   "execution_count": 212,
   "id": "745db0af",
   "metadata": {},
   "outputs": [],
   "source": [
    "price_history.to_csv(\"D:/DataSets/msc_datasets_finished/price_history.csv\", index = False)"
   ]
  },
  {
   "cell_type": "code",
   "execution_count": 213,
   "id": "8a16e836",
   "metadata": {},
   "outputs": [],
   "source": [
    "# for property details\n",
    "\n",
    "property_details = pd.read_csv(\"D:/DataSets/msc_datasets_cleaned//property_details.csv\")"
   ]
  },
  {
   "cell_type": "code",
   "execution_count": 214,
   "id": "95352834",
   "metadata": {},
   "outputs": [],
   "source": [
    "# filter datset\n",
    "property_details = property_details[property_details['zpid'].isin(zpid_set)]\n",
    "property_details = property_details.reset_index(drop = True)"
   ]
  },
  {
   "cell_type": "code",
   "execution_count": 215,
   "id": "076148ac",
   "metadata": {},
   "outputs": [],
   "source": [
    "property_details[\"propertyDetailsID\"] = main_information[\"propertyDetailsID\"]\n",
    "property_details.insert(0,\"propertyDetailsID\",property_details.pop(\"propertyDetailsID\"))"
   ]
  },
  {
   "cell_type": "code",
   "execution_count": 216,
   "id": "4c860627",
   "metadata": {},
   "outputs": [],
   "source": [
    "property_details.drop(columns = [\"zpid\"], inplace = True)"
   ]
  },
  {
   "cell_type": "code",
   "execution_count": 137,
   "id": "a686ec66",
   "metadata": {},
   "outputs": [],
   "source": [
    "property_details.to_csv(\"D:/DataSets/msc_datasets_finished/property_details.csv\", index = False)"
   ]
  },
  {
   "cell_type": "code",
   "execution_count": null,
   "id": "1f4d92fc",
   "metadata": {},
   "outputs": [],
   "source": []
  },
  {
   "cell_type": "code",
   "execution_count": 145,
   "id": "5b1fac06",
   "metadata": {},
   "outputs": [],
   "source": [
    "# for fee dataset\n",
    "fees = pd.read_csv(\"D:/DataSets/msc_datasets_cleaned/fees.csv\")\n"
   ]
  },
  {
   "cell_type": "code",
   "execution_count": 146,
   "id": "ed52befa",
   "metadata": {},
   "outputs": [],
   "source": [
    "# filter datset\n",
    "fees = fees[fees['zpid'].isin(zpid_set)]\n",
    "fees = fees.reset_index(drop = True)"
   ]
  },
  {
   "cell_type": "code",
   "execution_count": 147,
   "id": "4d664f40",
   "metadata": {},
   "outputs": [],
   "source": [
    "fees[\"feeID\"] = main_information[\"feeID\"]\n",
    "fees.insert(0,\"feeID\",fees.pop(\"feeID\"))"
   ]
  },
  {
   "cell_type": "code",
   "execution_count": 148,
   "id": "7f6d0b6e",
   "metadata": {},
   "outputs": [],
   "source": [
    "fees.drop(columns = [\"zpid\"], inplace = True)"
   ]
  },
  {
   "cell_type": "code",
   "execution_count": 149,
   "id": "eda66a65",
   "metadata": {},
   "outputs": [],
   "source": [
    "fees.to_csv(\"D:/DataSets/msc_datasets_finished/fees.csv\", index = False)"
   ]
  },
  {
   "cell_type": "code",
   "execution_count": 440,
   "id": "58bf20d7",
   "metadata": {},
   "outputs": [],
   "source": [
    "# for units\n",
    "\n",
    "units = pd.read_csv(\"D:/DataSets/msc_datasets_cleaned/unit_information.csv\")"
   ]
  },
  {
   "cell_type": "code",
   "execution_count": 441,
   "id": "e0856551",
   "metadata": {},
   "outputs": [],
   "source": [
    "# filter datset\n",
    "units = units[units['zpid'].isin(zpid_set)]\n",
    "units = units.reset_index(drop = True)"
   ]
  },
  {
   "cell_type": "code",
   "execution_count": 442,
   "id": "a0a0dc17",
   "metadata": {},
   "outputs": [],
   "source": [
    "units[\"unitID\"] = main_information[\"unitID\"]\n",
    "units.insert(0,\"unitID\",units.pop(\"unitID\"))"
   ]
  },
  {
   "cell_type": "code",
   "execution_count": 443,
   "id": "1acacde9",
   "metadata": {},
   "outputs": [],
   "source": [
    "units = units.rename(columns={'zpid': 'propertyID'})"
   ]
  },
  {
   "cell_type": "code",
   "execution_count": 444,
   "id": "57f0e322",
   "metadata": {},
   "outputs": [],
   "source": [
    "units.to_csv(\"D:/DataSets/msc_datasets_finished/unit_information.csv\", index = False)"
   ]
  },
  {
   "cell_type": "code",
   "execution_count": 445,
   "id": "5ddf0c0b",
   "metadata": {},
   "outputs": [],
   "source": [
    "# map buildingID values to main information\n",
    "zpid_to_buildingID_map = units.set_index('propertyID')['buildingID'].to_dict()\n",
    "\n",
    "main_information['buildingID'] = main_information['propertyID'].map(zpid_to_buildingID_map)"
   ]
  },
  {
   "cell_type": "code",
   "execution_count": 449,
   "id": "f0813617",
   "metadata": {},
   "outputs": [],
   "source": [
    "main_information.insert(7,\"buildingID\",main_information.pop(\"buildingID\"))"
   ]
  },
  {
   "cell_type": "code",
   "execution_count": 402,
   "id": "65a65605",
   "metadata": {},
   "outputs": [],
   "source": [
    "# for image dataset\n",
    "df = pd.read_csv(\"D:/DataSets/msc_datasets_cleaned/image_data.csv\")"
   ]
  },
  {
   "cell_type": "code",
   "execution_count": 406,
   "id": "ed8b2c39",
   "metadata": {},
   "outputs": [],
   "source": [
    "# filter datset\n",
    "df = df[df['zpid'].isin(zpid_set)]\n",
    "df = df.reset_index(drop = True)"
   ]
  },
  {
   "cell_type": "code",
   "execution_count": 407,
   "id": "f8b9cf37",
   "metadata": {},
   "outputs": [],
   "source": [
    "zpids = df['zpid']\n",
    "\n",
    "# Extract the columns from \"image0\" to \"image164\" as a new DataFrame\n",
    "images = df.loc[:, 'image0':'image164']\n",
    "\n",
    "# Reshape the 'images' DataFrame to a long format\n",
    "images = df.stack().reset_index(level=1, drop=True).to_frame(name='zpid')\n",
    "\n",
    "# Reset the index of the 'images' DataFrame to have 'zpids' as an index\n",
    "images.reset_index(inplace=True)\n",
    "\n",
    "# Rename the columns for clarity\n",
    "images.columns = ['imageID', 'propertyURL']\n",
    "\n",
    "images['propertyID'] = images['imageID'].map(zpids)"
   ]
  },
  {
   "cell_type": "code",
   "execution_count": 408,
   "id": "5297f738",
   "metadata": {},
   "outputs": [],
   "source": [
    "# Remove rows where \"https\" doesn't exist in \"propertyURL\"\n",
    "images = images[images['propertyURL'].str.contains('https', case=False, na=False)]\n",
    "\n",
    "# Reset the index\n",
    "images.reset_index(drop=True, inplace=True)"
   ]
  },
  {
   "cell_type": "code",
   "execution_count": 409,
   "id": "43a2aa0a",
   "metadata": {},
   "outputs": [],
   "source": [
    "images['imageID'] = range(len(images))"
   ]
  },
  {
   "cell_type": "code",
   "execution_count": 410,
   "id": "eac0421a",
   "metadata": {},
   "outputs": [
    {
     "data": {
      "text/html": [
       "<div>\n",
       "<style scoped>\n",
       "    .dataframe tbody tr th:only-of-type {\n",
       "        vertical-align: middle;\n",
       "    }\n",
       "\n",
       "    .dataframe tbody tr th {\n",
       "        vertical-align: top;\n",
       "    }\n",
       "\n",
       "    .dataframe thead th {\n",
       "        text-align: right;\n",
       "    }\n",
       "</style>\n",
       "<table border=\"1\" class=\"dataframe\">\n",
       "  <thead>\n",
       "    <tr style=\"text-align: right;\">\n",
       "      <th></th>\n",
       "      <th>imageID</th>\n",
       "      <th>propertyURL</th>\n",
       "      <th>propertyID</th>\n",
       "    </tr>\n",
       "  </thead>\n",
       "  <tbody>\n",
       "    <tr>\n",
       "      <th>0</th>\n",
       "      <td>0</td>\n",
       "      <td>https://photos.zillowstatic.com/fp/f0b2c31f05e...</td>\n",
       "      <td>2075342017</td>\n",
       "    </tr>\n",
       "    <tr>\n",
       "      <th>1</th>\n",
       "      <td>1</td>\n",
       "      <td>https://photos.zillowstatic.com/fp/e2a0a9720df...</td>\n",
       "      <td>2075342017</td>\n",
       "    </tr>\n",
       "    <tr>\n",
       "      <th>2</th>\n",
       "      <td>2</td>\n",
       "      <td>https://photos.zillowstatic.com/fp/041d1f29b6f...</td>\n",
       "      <td>2075342017</td>\n",
       "    </tr>\n",
       "    <tr>\n",
       "      <th>3</th>\n",
       "      <td>3</td>\n",
       "      <td>https://photos.zillowstatic.com/fp/1c0a31aa6ec...</td>\n",
       "      <td>2075342017</td>\n",
       "    </tr>\n",
       "    <tr>\n",
       "      <th>4</th>\n",
       "      <td>4</td>\n",
       "      <td>https://photos.zillowstatic.com/fp/d02ca69d144...</td>\n",
       "      <td>2075342017</td>\n",
       "    </tr>\n",
       "    <tr>\n",
       "      <th>...</th>\n",
       "      <td>...</td>\n",
       "      <td>...</td>\n",
       "      <td>...</td>\n",
       "    </tr>\n",
       "    <tr>\n",
       "      <th>69757</th>\n",
       "      <td>69757</td>\n",
       "      <td>https://photos.zillowstatic.com/fp/8fbace69a85...</td>\n",
       "      <td>2057295855</td>\n",
       "    </tr>\n",
       "    <tr>\n",
       "      <th>69758</th>\n",
       "      <td>69758</td>\n",
       "      <td>https://photos.zillowstatic.com/fp/1b68081c3e8...</td>\n",
       "      <td>2057295855</td>\n",
       "    </tr>\n",
       "    <tr>\n",
       "      <th>69759</th>\n",
       "      <td>69759</td>\n",
       "      <td>https://photos.zillowstatic.com/fp/13b46f74240...</td>\n",
       "      <td>2057295855</td>\n",
       "    </tr>\n",
       "    <tr>\n",
       "      <th>69760</th>\n",
       "      <td>69760</td>\n",
       "      <td>https://photos.zillowstatic.com/fp/9677cea6ef3...</td>\n",
       "      <td>2057295855</td>\n",
       "    </tr>\n",
       "    <tr>\n",
       "      <th>69761</th>\n",
       "      <td>69761</td>\n",
       "      <td>https://photos.zillowstatic.com/fp/f5ef69c4aa9...</td>\n",
       "      <td>2057295855</td>\n",
       "    </tr>\n",
       "  </tbody>\n",
       "</table>\n",
       "<p>69762 rows × 3 columns</p>\n",
       "</div>"
      ],
      "text/plain": [
       "       imageID                                        propertyURL  propertyID\n",
       "0            0  https://photos.zillowstatic.com/fp/f0b2c31f05e...  2075342017\n",
       "1            1  https://photos.zillowstatic.com/fp/e2a0a9720df...  2075342017\n",
       "2            2  https://photos.zillowstatic.com/fp/041d1f29b6f...  2075342017\n",
       "3            3  https://photos.zillowstatic.com/fp/1c0a31aa6ec...  2075342017\n",
       "4            4  https://photos.zillowstatic.com/fp/d02ca69d144...  2075342017\n",
       "...        ...                                                ...         ...\n",
       "69757    69757  https://photos.zillowstatic.com/fp/8fbace69a85...  2057295855\n",
       "69758    69758  https://photos.zillowstatic.com/fp/1b68081c3e8...  2057295855\n",
       "69759    69759  https://photos.zillowstatic.com/fp/13b46f74240...  2057295855\n",
       "69760    69760  https://photos.zillowstatic.com/fp/9677cea6ef3...  2057295855\n",
       "69761    69761  https://photos.zillowstatic.com/fp/f5ef69c4aa9...  2057295855\n",
       "\n",
       "[69762 rows x 3 columns]"
      ]
     },
     "execution_count": 410,
     "metadata": {},
     "output_type": "execute_result"
    }
   ],
   "source": [
    "images"
   ]
  },
  {
   "cell_type": "code",
   "execution_count": 341,
   "id": "9c2169f0",
   "metadata": {},
   "outputs": [],
   "source": [
    "images.to_csv(\"D:/DataSets/msc_datasets_finished/images.csv\", index = False)"
   ]
  },
  {
   "cell_type": "code",
   "execution_count": 411,
   "id": "b866dcaf",
   "metadata": {},
   "outputs": [],
   "source": [
    "# for property details extra\n",
    "\n",
    "df = pd.read_csv(\"D:/DataSets/msc_datasets_cleaned/property_details_extra.csv\")"
   ]
  },
  {
   "cell_type": "code",
   "execution_count": 412,
   "id": "eea1ea0e",
   "metadata": {},
   "outputs": [],
   "source": [
    "# filter dataset\n",
    "df = df[df['zpid'].isin(zpid_set)]\n",
    "df = df.reset_index(drop = True)"
   ]
  },
  {
   "cell_type": "code",
   "execution_count": 413,
   "id": "e0783569",
   "metadata": {},
   "outputs": [],
   "source": [
    "zpids = df['zpid']\n",
    "\n",
    "# Extract the columns from \"image0\" to \"image164\" as a new DataFrame\n",
    "prop_ext = df.loc[:, 'exterior feature 0':'exterior feature 63']\n",
    "\n",
    "# Reshape the 'prop_ext' DataFrame to a long format\n",
    "prop_ext = df.stack().reset_index(level=1, drop=True).to_frame(name='zpid')\n",
    "\n",
    "# Reset the index of the 'prop_ext' DataFrame to have 'zpids' as an index\n",
    "prop_ext.reset_index(inplace=True)\n",
    "\n",
    "# Rename the columns for clarity\n",
    "prop_ext.columns = ['propExtID', 'propertyFeature']\n",
    "\n",
    "prop_ext['propertyID'] = prop_ext['propExtID'].map(zpids)"
   ]
  },
  {
   "cell_type": "code",
   "execution_count": 414,
   "id": "5ee02556",
   "metadata": {},
   "outputs": [],
   "source": [
    "prop_ext = prop_ext[prop_ext['propertyFeature'] != prop_ext['propertyID']]"
   ]
  },
  {
   "cell_type": "code",
   "execution_count": 422,
   "id": "6da98a93",
   "metadata": {},
   "outputs": [],
   "source": [
    "prop_ext['propExtID'] = range(len(prop_ext))"
   ]
  },
  {
   "cell_type": "code",
   "execution_count": 423,
   "id": "064aba25",
   "metadata": {},
   "outputs": [],
   "source": [
    "# map propExtIDs to main_information propExtIDs\n",
    "map_id = prop_ext.set_index('propertyID')['propExtID'].to_dict()\n",
    "\n",
    "main_information['propExtID'] = main_information['propertyID'].map(map_id)"
   ]
  },
  {
   "cell_type": "code",
   "execution_count": 424,
   "id": "fd205bd8",
   "metadata": {},
   "outputs": [
    {
     "data": {
      "text/plain": [
       "25234"
      ]
     },
     "execution_count": 424,
     "metadata": {},
     "output_type": "execute_result"
    }
   ],
   "source": [
    "len(prop_ext)"
   ]
  },
  {
   "cell_type": "code",
   "execution_count": 450,
   "id": "bce0941d",
   "metadata": {},
   "outputs": [
    {
     "data": {
      "text/html": [
       "<div>\n",
       "<style scoped>\n",
       "    .dataframe tbody tr th:only-of-type {\n",
       "        vertical-align: middle;\n",
       "    }\n",
       "\n",
       "    .dataframe tbody tr th {\n",
       "        vertical-align: top;\n",
       "    }\n",
       "\n",
       "    .dataframe thead th {\n",
       "        text-align: right;\n",
       "    }\n",
       "</style>\n",
       "<table border=\"1\" class=\"dataframe\">\n",
       "  <thead>\n",
       "    <tr style=\"text-align: right;\">\n",
       "      <th></th>\n",
       "      <th>propertyID</th>\n",
       "      <th>unitID</th>\n",
       "      <th>propertyDetailsID</th>\n",
       "      <th>priceHistoryID</th>\n",
       "      <th>feeID</th>\n",
       "      <th>addressID</th>\n",
       "      <th>schoolID</th>\n",
       "      <th>buildingID</th>\n",
       "      <th>overview</th>\n",
       "      <th>price</th>\n",
       "      <th>bathrooms</th>\n",
       "      <th>bathroomsHalf</th>\n",
       "      <th>bathroomsFull</th>\n",
       "      <th>bedrooms</th>\n",
       "      <th>livingArea</th>\n",
       "      <th>homeType</th>\n",
       "      <th>homeStatus</th>\n",
       "      <th>datePosted</th>\n",
       "      <th>rentEstimate</th>\n",
       "      <th>availableFrom</th>\n",
       "      <th>availableNow</th>\n",
       "    </tr>\n",
       "  </thead>\n",
       "  <tbody>\n",
       "    <tr>\n",
       "      <th>0</th>\n",
       "      <td>2075342017</td>\n",
       "      <td>0</td>\n",
       "      <td>0</td>\n",
       "      <td>0</td>\n",
       "      <td>0</td>\n",
       "      <td>0</td>\n",
       "      <td>0</td>\n",
       "      <td>2.505950e+09</td>\n",
       "      <td>Pickwick East's unique family atmosphere is an...</td>\n",
       "      <td>1326.0</td>\n",
       "      <td>1.0</td>\n",
       "      <td>0.0</td>\n",
       "      <td>1.0</td>\n",
       "      <td>1.0</td>\n",
       "      <td>850 sqft</td>\n",
       "      <td>Apartment</td>\n",
       "      <td>FOR_RENT</td>\n",
       "      <td>20/09/2023</td>\n",
       "      <td>1346.0</td>\n",
       "      <td>2023-10-27 08:00:00</td>\n",
       "      <td>False</td>\n",
       "    </tr>\n",
       "    <tr>\n",
       "      <th>1</th>\n",
       "      <td>2075330457</td>\n",
       "      <td>1</td>\n",
       "      <td>1</td>\n",
       "      <td>1</td>\n",
       "      <td>1</td>\n",
       "      <td>0</td>\n",
       "      <td>0</td>\n",
       "      <td>2.505950e+09</td>\n",
       "      <td>Pickwick East's unique family atmosphere is an...</td>\n",
       "      <td>1376.0</td>\n",
       "      <td>1.0</td>\n",
       "      <td>0.0</td>\n",
       "      <td>1.0</td>\n",
       "      <td>1.0</td>\n",
       "      <td>850 sqft</td>\n",
       "      <td>Apartment</td>\n",
       "      <td>FOR_RENT</td>\n",
       "      <td>25/09/2023</td>\n",
       "      <td>1326.0</td>\n",
       "      <td>2023-11-11 08:00:00</td>\n",
       "      <td>False</td>\n",
       "    </tr>\n",
       "    <tr>\n",
       "      <th>2</th>\n",
       "      <td>2075652105</td>\n",
       "      <td>2</td>\n",
       "      <td>2</td>\n",
       "      <td>2</td>\n",
       "      <td>2</td>\n",
       "      <td>0</td>\n",
       "      <td>0</td>\n",
       "      <td>2.505950e+09</td>\n",
       "      <td>Pickwick East's unique family atmosphere is an...</td>\n",
       "      <td>1629.0</td>\n",
       "      <td>2.0</td>\n",
       "      <td>0.0</td>\n",
       "      <td>2.0</td>\n",
       "      <td>2.0</td>\n",
       "      <td>1,100 sqft</td>\n",
       "      <td>Apartment</td>\n",
       "      <td>FOR_RENT</td>\n",
       "      <td>21/09/2023</td>\n",
       "      <td>1669.0</td>\n",
       "      <td>2023-10-13 08:00:00</td>\n",
       "      <td>False</td>\n",
       "    </tr>\n",
       "    <tr>\n",
       "      <th>3</th>\n",
       "      <td>2075119575</td>\n",
       "      <td>3</td>\n",
       "      <td>3</td>\n",
       "      <td>3</td>\n",
       "      <td>3</td>\n",
       "      <td>0</td>\n",
       "      <td>0</td>\n",
       "      <td>2.505950e+09</td>\n",
       "      <td>Pickwick East's unique family atmosphere is an...</td>\n",
       "      <td>2050.0</td>\n",
       "      <td>2.0</td>\n",
       "      <td>0.0</td>\n",
       "      <td>2.0</td>\n",
       "      <td>3.0</td>\n",
       "      <td>1,315 sqft</td>\n",
       "      <td>Apartment</td>\n",
       "      <td>FOR_RENT</td>\n",
       "      <td>28/09/2023</td>\n",
       "      <td>1758.0</td>\n",
       "      <td>NaT</td>\n",
       "      <td>True</td>\n",
       "    </tr>\n",
       "    <tr>\n",
       "      <th>4</th>\n",
       "      <td>2067797682</td>\n",
       "      <td>4</td>\n",
       "      <td>4</td>\n",
       "      <td>4</td>\n",
       "      <td>4</td>\n",
       "      <td>0</td>\n",
       "      <td>0</td>\n",
       "      <td>2.505950e+09</td>\n",
       "      <td>Pickwick East's unique family atmosphere is an...</td>\n",
       "      <td>1740.0</td>\n",
       "      <td>2.0</td>\n",
       "      <td>0.0</td>\n",
       "      <td>2.0</td>\n",
       "      <td>2.0</td>\n",
       "      <td>1,230 sqft</td>\n",
       "      <td>Apartment</td>\n",
       "      <td>FOR_RENT</td>\n",
       "      <td>18/09/2023</td>\n",
       "      <td>1849.0</td>\n",
       "      <td>2023-11-27 08:00:00</td>\n",
       "      <td>False</td>\n",
       "    </tr>\n",
       "    <tr>\n",
       "      <th>...</th>\n",
       "      <td>...</td>\n",
       "      <td>...</td>\n",
       "      <td>...</td>\n",
       "      <td>...</td>\n",
       "      <td>...</td>\n",
       "      <td>...</td>\n",
       "      <td>...</td>\n",
       "      <td>...</td>\n",
       "      <td>...</td>\n",
       "      <td>...</td>\n",
       "      <td>...</td>\n",
       "      <td>...</td>\n",
       "      <td>...</td>\n",
       "      <td>...</td>\n",
       "      <td>...</td>\n",
       "      <td>...</td>\n",
       "      <td>...</td>\n",
       "      <td>...</td>\n",
       "      <td>...</td>\n",
       "      <td>...</td>\n",
       "      <td>...</td>\n",
       "    </tr>\n",
       "    <tr>\n",
       "      <th>2507</th>\n",
       "      <td>2057188612</td>\n",
       "      <td>2507</td>\n",
       "      <td>2507</td>\n",
       "      <td>2507</td>\n",
       "      <td>2507</td>\n",
       "      <td>721</td>\n",
       "      <td>603</td>\n",
       "      <td>NaN</td>\n",
       "      <td>Spacious Renovated 2BR/1BA unit includes: \\r\\n...</td>\n",
       "      <td>995.0</td>\n",
       "      <td>1.0</td>\n",
       "      <td>0.0</td>\n",
       "      <td>1.0</td>\n",
       "      <td>2.0</td>\n",
       "      <td>800 sqft</td>\n",
       "      <td>Apartment</td>\n",
       "      <td>FOR_RENT</td>\n",
       "      <td>10/06/2023</td>\n",
       "      <td>1099.0</td>\n",
       "      <td>NaT</td>\n",
       "      <td>True</td>\n",
       "    </tr>\n",
       "    <tr>\n",
       "      <th>2508</th>\n",
       "      <td>2085611523</td>\n",
       "      <td>2508</td>\n",
       "      <td>2508</td>\n",
       "      <td>2508</td>\n",
       "      <td>2508</td>\n",
       "      <td>722</td>\n",
       "      <td>604</td>\n",
       "      <td>NaN</td>\n",
       "      <td>Freshly painted and move-in ready! This 2nd fl...</td>\n",
       "      <td>990.0</td>\n",
       "      <td>1.0</td>\n",
       "      <td>0.0</td>\n",
       "      <td>1.0</td>\n",
       "      <td>2.0</td>\n",
       "      <td>594 sqft</td>\n",
       "      <td>SingleFamily</td>\n",
       "      <td>FOR_RENT</td>\n",
       "      <td>08/06/2023</td>\n",
       "      <td>982.0</td>\n",
       "      <td>NaT</td>\n",
       "      <td>True</td>\n",
       "    </tr>\n",
       "    <tr>\n",
       "      <th>2509</th>\n",
       "      <td>2104322436</td>\n",
       "      <td>2509</td>\n",
       "      <td>2509</td>\n",
       "      <td>2509</td>\n",
       "      <td>2509</td>\n",
       "      <td>723</td>\n",
       "      <td>179</td>\n",
       "      <td>NaN</td>\n",
       "      <td>Cozy 1bd/1ba in Mt Vernon with hardwood floors...</td>\n",
       "      <td>775.0</td>\n",
       "      <td>1.0</td>\n",
       "      <td>0.0</td>\n",
       "      <td>1.0</td>\n",
       "      <td>1.0</td>\n",
       "      <td>16 sqft</td>\n",
       "      <td>Apartment</td>\n",
       "      <td>FOR_RENT</td>\n",
       "      <td>08/06/2023</td>\n",
       "      <td>925.0</td>\n",
       "      <td>NaT</td>\n",
       "      <td>True</td>\n",
       "    </tr>\n",
       "    <tr>\n",
       "      <th>2510</th>\n",
       "      <td>2057283402</td>\n",
       "      <td>2510</td>\n",
       "      <td>2510</td>\n",
       "      <td>2510</td>\n",
       "      <td>2510</td>\n",
       "      <td>724</td>\n",
       "      <td>605</td>\n",
       "      <td>NaN</td>\n",
       "      <td>' \\n\\nBeautiful Duplex Property- Looking for Y...</td>\n",
       "      <td>1350.0</td>\n",
       "      <td>1.0</td>\n",
       "      <td>0.0</td>\n",
       "      <td>1.0</td>\n",
       "      <td>3.0</td>\n",
       "      <td>1,200 sqft</td>\n",
       "      <td>Apartment</td>\n",
       "      <td>FOR_RENT</td>\n",
       "      <td>06/06/2023</td>\n",
       "      <td>1500.0</td>\n",
       "      <td>NaT</td>\n",
       "      <td>True</td>\n",
       "    </tr>\n",
       "    <tr>\n",
       "      <th>2511</th>\n",
       "      <td>2057295855</td>\n",
       "      <td>2511</td>\n",
       "      <td>2511</td>\n",
       "      <td>2511</td>\n",
       "      <td>2511</td>\n",
       "      <td>725</td>\n",
       "      <td>160</td>\n",
       "      <td>NaN</td>\n",
       "      <td>This is a 2 bedroom, 2.0 bathroom, apartment h...</td>\n",
       "      <td>1595.0</td>\n",
       "      <td>2.0</td>\n",
       "      <td>0.0</td>\n",
       "      <td>0.0</td>\n",
       "      <td>2.0</td>\n",
       "      <td>NaN</td>\n",
       "      <td>Apartment</td>\n",
       "      <td>FOR_RENT</td>\n",
       "      <td>NaN</td>\n",
       "      <td>1849.0</td>\n",
       "      <td>NaT</td>\n",
       "      <td>True</td>\n",
       "    </tr>\n",
       "  </tbody>\n",
       "</table>\n",
       "<p>2512 rows × 21 columns</p>\n",
       "</div>"
      ],
      "text/plain": [
       "      propertyID  unitID  propertyDetailsID  priceHistoryID  ...  datePosted  rentEstimate       availableFrom  availableNow\n",
       "0     2075342017       0                  0               0  ...  20/09/2023        1346.0 2023-10-27 08:00:00         False\n",
       "1     2075330457       1                  1               1  ...  25/09/2023        1326.0 2023-11-11 08:00:00         False\n",
       "2     2075652105       2                  2               2  ...  21/09/2023        1669.0 2023-10-13 08:00:00         False\n",
       "3     2075119575       3                  3               3  ...  28/09/2023        1758.0                 NaT          True\n",
       "4     2067797682       4                  4               4  ...  18/09/2023        1849.0 2023-11-27 08:00:00         False\n",
       "...          ...     ...                ...             ...  ...         ...           ...                 ...           ...\n",
       "2507  2057188612    2507               2507            2507  ...  10/06/2023        1099.0                 NaT          True\n",
       "2508  2085611523    2508               2508            2508  ...  08/06/2023         982.0                 NaT          True\n",
       "2509  2104322436    2509               2509            2509  ...  08/06/2023         925.0                 NaT          True\n",
       "2510  2057283402    2510               2510            2510  ...  06/06/2023        1500.0                 NaT          True\n",
       "2511  2057295855    2511               2511            2511  ...         NaN        1849.0                 NaT          True\n",
       "\n",
       "[2512 rows x 21 columns]"
      ]
     },
     "execution_count": 450,
     "metadata": {},
     "output_type": "execute_result"
    }
   ],
   "source": [
    "main_information"
   ]
  },
  {
   "cell_type": "code",
   "execution_count": 425,
   "id": "9590c70f",
   "metadata": {},
   "outputs": [],
   "source": [
    "main_information.insert(1,\"propExtID\",main_information.pop(\"propExtID\"))\n"
   ]
  },
  {
   "cell_type": "code",
   "execution_count": 452,
   "id": "37bc0032",
   "metadata": {},
   "outputs": [],
   "source": [
    "prop_ext.to_csv(\"D:/DataSets/msc_datasets_finished/propert_details_extra.csv\", index = False)"
   ]
  },
  {
   "cell_type": "code",
   "execution_count": 451,
   "id": "ead4b27e",
   "metadata": {},
   "outputs": [],
   "source": [
    "main_information.to_csv(\"D:/DataSets/msc_datasets_finished/main_information.csv\", index = False)"
   ]
  }
 ],
 "metadata": {
  "kernelspec": {
   "display_name": "Python 3 (ipykernel)",
   "language": "python",
   "name": "python3"
  },
  "language_info": {
   "codemirror_mode": {
    "name": "ipython",
    "version": 3
   },
   "file_extension": ".py",
   "mimetype": "text/x-python",
   "name": "python",
   "nbconvert_exporter": "python",
   "pygments_lexer": "ipython3",
   "version": "3.10.7"
  },
  "varInspector": {
   "cols": {
    "lenName": 16,
    "lenType": 16,
    "lenVar": 40
   },
   "kernels_config": {
    "python": {
     "delete_cmd_postfix": "",
     "delete_cmd_prefix": "del ",
     "library": "var_list.py",
     "varRefreshCmd": "print(var_dic_list())"
    },
    "r": {
     "delete_cmd_postfix": ") ",
     "delete_cmd_prefix": "rm(",
     "library": "var_list.r",
     "varRefreshCmd": "cat(var_dic_list()) "
    }
   },
   "types_to_exclude": [
    "module",
    "function",
    "builtin_function_or_method",
    "instance",
    "_Feature"
   ],
   "window_display": false
  }
 },
 "nbformat": 4,
 "nbformat_minor": 5
}
