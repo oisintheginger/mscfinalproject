{
 "cells": [
  {
   "cell_type": "code",
   "execution_count": 10,
   "id": "ce8552dc",
   "metadata": {},
   "outputs": [],
   "source": [
    "import pandas as pd"
   ]
  },
  {
   "cell_type": "code",
   "execution_count": 11,
   "id": "ff327476",
   "metadata": {},
   "outputs": [],
   "source": [
    "neighbourhoods = pd.read_csv(\"D:/DataSets/Neighbourhoods/Neighbourhoods.csv\")"
   ]
  },
  {
   "cell_type": "code",
   "execution_count": 12,
   "id": "7d3a7f7b",
   "metadata": {},
   "outputs": [],
   "source": [
    "neighbourhoods[\"googleNeighbourhoodGeoLocation\"] = None"
   ]
  },
  {
   "cell_type": "code",
   "execution_count": 13,
   "id": "f766f05a",
   "metadata": {},
   "outputs": [
    {
     "data": {
      "text/html": [
       "<div>\n",
       "<style scoped>\n",
       "    .dataframe tbody tr th:only-of-type {\n",
       "        vertical-align: middle;\n",
       "    }\n",
       "\n",
       "    .dataframe tbody tr th {\n",
       "        vertical-align: top;\n",
       "    }\n",
       "\n",
       "    .dataframe thead th {\n",
       "        text-align: right;\n",
       "    }\n",
       "</style>\n",
       "<table border=\"1\" class=\"dataframe\">\n",
       "  <thead>\n",
       "    <tr style=\"text-align: right;\">\n",
       "      <th></th>\n",
       "      <th>neighbourhoodID</th>\n",
       "      <th>neighbourhoodGeoLocation</th>\n",
       "      <th>googleNeighbourhoodName</th>\n",
       "      <th>googleNeighbourhoodGeoLocation</th>\n",
       "    </tr>\n",
       "  </thead>\n",
       "  <tbody>\n",
       "    <tr>\n",
       "      <th>0</th>\n",
       "      <td>0</td>\n",
       "      <td>POINT(39.36253019999999 -76.6595727)</td>\n",
       "      <td>MOUNT WASHINGTON</td>\n",
       "      <td>None</td>\n",
       "    </tr>\n",
       "    <tr>\n",
       "      <th>1</th>\n",
       "      <td>1</td>\n",
       "      <td>POINT(39.2842097 -76.593611)</td>\n",
       "      <td>FELLS POINT</td>\n",
       "      <td>None</td>\n",
       "    </tr>\n",
       "    <tr>\n",
       "      <th>2</th>\n",
       "      <td>2</td>\n",
       "      <td>POINT(39.3226705 -76.5846633)</td>\n",
       "      <td>BELAIR - EDISON</td>\n",
       "      <td>None</td>\n",
       "    </tr>\n",
       "    <tr>\n",
       "      <th>3</th>\n",
       "      <td>3</td>\n",
       "      <td>POINT(39.292007 -76.6167212)</td>\n",
       "      <td>DOWNTOWN</td>\n",
       "      <td>None</td>\n",
       "    </tr>\n",
       "    <tr>\n",
       "      <th>4</th>\n",
       "      <td>4</td>\n",
       "      <td>POINT(39.3481652 -76.6831397)</td>\n",
       "      <td>ARLINGTON</td>\n",
       "      <td>None</td>\n",
       "    </tr>\n",
       "    <tr>\n",
       "      <th>...</th>\n",
       "      <td>...</td>\n",
       "      <td>...</td>\n",
       "      <td>...</td>\n",
       "      <td>...</td>\n",
       "    </tr>\n",
       "    <tr>\n",
       "      <th>76</th>\n",
       "      <td>76</td>\n",
       "      <td>POINT(39.30592439999999 -76.6650946)</td>\n",
       "      <td>NW COMMUNITY ACTION</td>\n",
       "      <td>None</td>\n",
       "    </tr>\n",
       "    <tr>\n",
       "      <th>77</th>\n",
       "      <td>77</td>\n",
       "      <td>POINT(39.3041275 -76.6441591)</td>\n",
       "      <td>DRUID HILL PARK</td>\n",
       "      <td>None</td>\n",
       "    </tr>\n",
       "    <tr>\n",
       "      <th>78</th>\n",
       "      <td>78</td>\n",
       "      <td>POINT(39.3625548 -76.544488)</td>\n",
       "      <td>WOODRING</td>\n",
       "      <td>None</td>\n",
       "    </tr>\n",
       "    <tr>\n",
       "      <th>79</th>\n",
       "      <td>79</td>\n",
       "      <td>POINT(39.2208578 -76.5863882)</td>\n",
       "      <td>CURTIS BAY</td>\n",
       "      <td>None</td>\n",
       "    </tr>\n",
       "    <tr>\n",
       "      <th>80</th>\n",
       "      <td>80</td>\n",
       "      <td>POINT(39.3003232 -76.5842213)</td>\n",
       "      <td>MILTON - MONTFORD</td>\n",
       "      <td>None</td>\n",
       "    </tr>\n",
       "  </tbody>\n",
       "</table>\n",
       "<p>81 rows × 4 columns</p>\n",
       "</div>"
      ],
      "text/plain": [
       "    neighbourhoodID              neighbourhoodGeoLocation  \\\n",
       "0                 0  POINT(39.36253019999999 -76.6595727)   \n",
       "1                 1          POINT(39.2842097 -76.593611)   \n",
       "2                 2         POINT(39.3226705 -76.5846633)   \n",
       "3                 3          POINT(39.292007 -76.6167212)   \n",
       "4                 4         POINT(39.3481652 -76.6831397)   \n",
       "..              ...                                   ...   \n",
       "76               76  POINT(39.30592439999999 -76.6650946)   \n",
       "77               77         POINT(39.3041275 -76.6441591)   \n",
       "78               78          POINT(39.3625548 -76.544488)   \n",
       "79               79         POINT(39.2208578 -76.5863882)   \n",
       "80               80         POINT(39.3003232 -76.5842213)   \n",
       "\n",
       "   googleNeighbourhoodName googleNeighbourhoodGeoLocation  \n",
       "0         MOUNT WASHINGTON                           None  \n",
       "1              FELLS POINT                           None  \n",
       "2          BELAIR - EDISON                           None  \n",
       "3                 DOWNTOWN                           None  \n",
       "4                ARLINGTON                           None  \n",
       "..                     ...                            ...  \n",
       "76     NW COMMUNITY ACTION                           None  \n",
       "77         DRUID HILL PARK                           None  \n",
       "78                WOODRING                           None  \n",
       "79              CURTIS BAY                           None  \n",
       "80       MILTON - MONTFORD                           None  \n",
       "\n",
       "[81 rows x 4 columns]"
      ]
     },
     "execution_count": 13,
     "metadata": {},
     "output_type": "execute_result"
    }
   ],
   "source": [
    "neighbourhoods"
   ]
  },
  {
   "cell_type": "code",
   "execution_count": 15,
   "id": "fd033805",
   "metadata": {},
   "outputs": [],
   "source": [
    "import googlemaps\n",
    "import re\n",
    "\n",
    "def retrieve_neighbourhood(property_latitude, property_longitude):\n",
    "    API_KEY = open('C:/Users/seanl/googlemaps_api.txt', 'r').read()\n",
    "    gmaps = googlemaps.Client(API_KEY)\n",
    "\n",
    "    # Perform reverse geocoding to get location details\n",
    "    if property_latitude and property_longitude:\n",
    "        reverse_geocode_result = gmaps.reverse_geocode((property_latitude, property_longitude))\n",
    "\n",
    "        # Extract neighborhood information and coordinates if available\n",
    "        neighborhood_info = None\n",
    "\n",
    "        if reverse_geocode_result:\n",
    "            for result in reverse_geocode_result:\n",
    "                for component in result['address_components']:\n",
    "                    if 'neighborhood' in component['types']:\n",
    "                        neighborhood = component['long_name']\n",
    "                        neighborhood_coords = result['geometry']['location']\n",
    "                        neighborhood_info = {\n",
    "                            'name': neighborhood,\n",
    "                            'coordinates': neighborhood_coords\n",
    "                        }\n",
    "    \n",
    "            if neighborhood_info:\n",
    "                print(f'Neighborhood: {neighborhood_info[\"name\"]}, Coordinates: {neighborhood_info[\"coordinates\"]}')\n",
    "                neighborhood_coords = str(neighborhood_coords)\n",
    "                numbers = re.findall(r\"[-+]?\\d*\\.\\d+|\\d+\", neighborhood_coords)\n",
    "\n",
    "                # Join the numbers with a space\n",
    "                formatted_coords = ' '.join(numbers)\n",
    "                location = f\"POINT({formatted_coords})\"\n",
    "                return neighborhood, location\n",
    "            else:\n",
    "                print('Neighborhood information not found.')\n",
    "                return None\n",
    "    else:\n",
    "        print('Invalid coordinates provided.')\n",
    "        return None"
   ]
  },
  {
   "cell_type": "code",
   "execution_count": 16,
   "id": "ec8b7afd",
   "metadata": {},
   "outputs": [
    {
     "name": "stdout",
     "output_type": "stream",
     "text": [
      "Neighborhood: Mount Washington, Coordinates: {'lat': 39.370859, 'lng': -76.6701475}\n",
      "Neighborhood: Fells Point, Coordinates: {'lat': 39.2842097, 'lng': -76.593611}\n",
      "Neighborhood: Belair - Edison, Coordinates: {'lat': 39.3216614, 'lng': -76.5737173}\n",
      "Neighborhood: Downtown, Coordinates: {'lat': 39.292007, 'lng': -76.6167212}\n",
      "Neighborhood: Arlington, Coordinates: {'lat': 39.3416271, 'lng': -76.68169619999999}\n",
      "Neighborhood: Carroll, Coordinates: {'lat': 39.2817753, 'lng': -76.69324379999999}\n",
      "Neighborhood: Purnell, Coordinates: {'lat': 39.320533, 'lng': -76.7065867}\n",
      "Neighborhood: Original Northwood, Coordinates: {'lat': 39.3406246, 'lng': -76.59649999999999}\n",
      "Neighborhood: Original Northwood, Coordinates: {'lat': 39.3406246, 'lng': -76.59649999999999}\n",
      "Neighborhood: Locust Point, Coordinates: {'lat': 39.2680512, 'lng': -76.59105919999999}\n",
      "Neighborhood: Lakeland, Coordinates: {'lat': 39.2530783, 'lng': -76.64659019999999}\n",
      "Neighborhood: Druid Hill Park, Coordinates: {'lat': 39.3056685, 'lng': -76.6354952}\n",
      "Neighborhood: Highlandtown, Coordinates: {'lat': 39.2713976, 'lng': -76.5603828}\n",
      "Neighborhood: Gwynn Oak, Coordinates: {'lat': 39.3359385, 'lng': -76.6977522}\n",
      "Neighborhood: Otterbein, Coordinates: {'lat': 39.2821913, 'lng': -76.6145548}\n",
      "Neighborhood: Franklintown, Coordinates: {'lat': 39.3052934, 'lng': -76.70912}\n",
      "Neighborhood: Cherry Hill, Coordinates: {'lat': 39.2490357, 'lng': -76.6251606}\n",
      "Neighborhood: Woodberry, Coordinates: {'lat': 39.33191, 'lng': -76.6489579}\n",
      "Neighborhood: Tuscany - Canterbury, Coordinates: {'lat': 39.338563, 'lng': -76.6224981}\n",
      "Neighborhood: East Case, Coordinates: {'lat': 39.2994145, 'lng': -76.60372219999999}\n",
      "Neighborhood: New North Roland Park - Poplar Hill, Coordinates: {'lat': 39.3660584, 'lng': -76.6398272}\n",
      "Neighborhood: Riverside, Coordinates: {'lat': 39.2729056, 'lng': -76.6083646}\n",
      "Neighborhood: Druid Hill Park, Coordinates: {'lat': 39.3056685, 'lng': -76.6354952}\n",
      "Neighborhood: Federal Hill-Montgomery, Coordinates: {'lat': 39.279304, 'lng': -76.6116662}\n",
      "Neighborhood: Garwyn Oaks, Coordinates: {'lat': 39.3169102, 'lng': -76.6773655}\n",
      "Neighborhood: West Forest Park, Coordinates: {'lat': 39.3211342, 'lng': -76.69180039999999}\n",
      "Neighborhood: Inner Harbor, Coordinates: {'lat': 39.2858482, 'lng': -76.61311049999999}\n",
      "Neighborhood: Ridgely's Delight, Coordinates: {'lat': 39.284645, 'lng': -76.6246644}\n",
      "Neighborhood: Ednor Gardens - Lakeside, Coordinates: {'lat': 39.3304324, 'lng': -76.59649999999999}\n",
      "Neighborhood: Raspeburg, Coordinates: {'lat': 39.3342834, 'lng': -76.5314817}\n",
      "Neighborhood: Medfield, Coordinates: {'lat': 39.3398124, 'lng': -76.6441591}\n",
      "Neighborhood: Charles Village, Coordinates: {'lat': 39.3200501, 'lng': -76.6167212}\n",
      "Neighborhood: Sharp Leadenhall, Coordinates: {'lat': 39.2787025, 'lng': -76.61744329999999}\n",
      "Neighborhood: Harford - Echodale - Perring Parkway, Coordinates: {'lat': 39.3616138, 'lng': -76.56905189999999}\n",
      "Neighborhood: Mount Holly, Coordinates: {'lat': 39.31253239999999, 'lng': -76.6780873}\n",
      "Neighborhood: Govans, Coordinates: {'lat': 39.364133, 'lng': -76.6123884}\n",
      "Neighborhood: Station North, Coordinates: {'lat': 39.3098541, 'lng': -76.6167212}\n",
      "Neighborhood: Upper Fells Point, Coordinates: {'lat': 39.2886346, 'lng': -76.5878328}\n",
      "Neighborhood: Hampden, Coordinates: {'lat': 39.33337059999999, 'lng': -76.632607}\n",
      "Neighborhood: Old Goucher, Coordinates: {'lat': 39.3149523, 'lng': -76.6167212}\n",
      "Neighborhood: Brooklyn, Coordinates: {'lat': 39.2381955, 'lng': -76.60372219999999}\n",
      "Neighborhood: Pen Lucy, Coordinates: {'lat': 39.3390889, 'lng': -76.60516659999999}\n",
      "Neighborhood: Charles Village, Coordinates: {'lat': 39.3200501, 'lng': -76.6167212}\n",
      "Neighborhood: East Case, Coordinates: {'lat': 39.2994145, 'lng': -76.60372219999999}\n",
      "Neighborhood: Harwood, Coordinates: {'lat': 39.3200976, 'lng': -76.6116662}\n",
      "Neighborhood: Coldstream - Homestead - Montebello, Coordinates: {'lat': 39.3227872, 'lng': -76.59649999999999}\n",
      "Neighborhood: Bridgeview-Greenlawn, Coordinates: {'lat': 39.3014786, 'lng': -76.6542664}\n",
      "Neighborhood: Gay Street, Coordinates: {'lat': 39.3023954, 'lng': -76.59649999999999}\n",
      "Neighborhood: South Baltimore, Coordinates: {'lat': 39.2704952, 'lng': -76.61512379999999}\n",
      "Neighborhood: Middle East, Coordinates: {'lat': 39.29883330000001, 'lng': -76.5878328}\n",
      "Neighborhood: Pigtown, Coordinates: {'lat': 39.2812753, 'lng': -76.6340511}\n",
      "Neighborhood: Better Waverly, Coordinates: {'lat': 39.3232464, 'lng': -76.6058888}\n",
      "Neighborhood: Butchers Hill, Coordinates: {'lat': 39.2930123, 'lng': -76.5871105}\n",
      "Neighborhood: Evergreen Lawn, Coordinates: {'lat': 39.2971002, 'lng': -76.6549883}\n",
      "Neighborhood: Morrell Park, Coordinates: {'lat': 39.2646339, 'lng': -76.6547794}\n",
      "Neighborhood: Raspeburg, Coordinates: {'lat': 39.3342834, 'lng': -76.5314817}\n",
      "Neighborhood: Downtown, Coordinates: {'lat': 39.292007, 'lng': -76.6167212}\n",
      "Neighborhood: Walbrook, Coordinates: {'lat': 39.3108055, 'lng': -76.6687038}\n",
      "Neighborhood: Madison - Eastend, Coordinates: {'lat': 39.3007532, 'lng': -76.576998}\n",
      "Neighborhood: Coppin Heights, Coordinates: {'lat': 39.3069138, 'lng': -76.65715399999999}\n",
      "Neighborhood: East Baltimore Midway, Coordinates: {'lat': 39.31471000000001, 'lng': -76.60372219999999}\n",
      "Neighborhood: Abell, Coordinates: {'lat': 39.3244736, 'lng': -76.6109441}\n",
      "Neighborhood: Remington, Coordinates: {'lat': 39.3206574, 'lng': -76.6227009}\n",
      "Neighborhood: Elwood Park, Coordinates: {'lat': 39.29714389999999, 'lng': -76.5733862}\n",
      "Neighborhood: Franklin, Coordinates: {'lat': 39.28661350000001, 'lng': -76.647047}\n",
      "Neighborhood: Lauraville, Coordinates: {'lat': 39.3455647, 'lng': -76.5733862}\n",
      "Neighborhood: Mondawmin, Coordinates: {'lat': 39.3142264, 'lng': -76.6542664}\n",
      "Neighborhood: Highlandtown, Coordinates: {'lat': 39.2713976, 'lng': -76.5603828}\n",
      "Neighborhood: Barre Circle, Coordinates: {'lat': 39.2847048, 'lng': -76.6279137}\n",
      "Neighborhood: Barclay, Coordinates: {'lat': 39.3149999, 'lng': -76.6116662}\n",
      "Neighborhood: Windsor Hills, Coordinates: {'lat': 39.31791520000001, 'lng': -76.6860267}\n",
      "Neighborhood: Wyndhurst, Coordinates: {'lat': 39.35740730000001, 'lng': -76.631163}\n",
      "Neighborhood: Central Forest Park, Coordinates: {'lat': 39.3264513, 'lng': -76.68819180000001}\n",
      "Neighborhood: Wyman Park, Coordinates: {'lat': 39.3308703, 'lng': -76.6275527}\n",
      "Neighborhood: Rosemont, Coordinates: {'lat': 39.3060415, 'lng': -76.6715911}\n",
      "Neighborhood: Mosher, Coordinates: {'lat': 39.2973857, 'lng': -76.66292899999999}\n",
      "Neighborhood: NW Community Action, Coordinates: {'lat': 39.30592439999999, 'lng': -76.6650946}\n",
      "Neighborhood: Druid Hill Park, Coordinates: {'lat': 39.3056685, 'lng': -76.6354952}\n",
      "Neighborhood: Woodring, Coordinates: {'lat': 39.3625548, 'lng': -76.544488}\n",
      "Neighborhood: Curtis Bay, Coordinates: {'lat': 39.2208578, 'lng': -76.5863882}\n",
      "Neighborhood: Milton - Montford, Coordinates: {'lat': 39.3003232, 'lng': -76.5842213}\n"
     ]
    }
   ],
   "source": [
    "import time\n",
    "import re\n",
    "\n",
    "for i in range((len(neighbourhoods))):\n",
    "    match = re.search(r'POINT\\(([-\\d.]+) ([-\\d.]+)\\)', neighbourhoods[\"neighbourhoodGeoLocation\"][i])\n",
    "\n",
    "    if match:\n",
    "        latitude = float(match.group(1))\n",
    "        longitude = float(match.group(2))\n",
    "    \n",
    "    response = retrieve_neighbourhood(latitude,longitude)\n",
    "    neighbourhoods.loc[i, 'googleNeighbourhoodName'] = response[0]\n",
    "    neighbourhoods.loc[i, 'googleNeighbourhoodGeoLocation'] = response[1]\n",
    "    time.sleep(2)"
   ]
  },
  {
   "cell_type": "code",
   "execution_count": 24,
   "id": "34b56181",
   "metadata": {},
   "outputs": [],
   "source": [
    "neighbourhoods.to_csv(\"D:/DataSets/Neighbourhoods/NeighbourhoodsV2.csv\", index = False)"
   ]
  },
  {
   "cell_type": "code",
   "execution_count": 19,
   "id": "163cde64",
   "metadata": {},
   "outputs": [],
   "source": [
    "addresses = pd.read_csv(\"D:/DataSets/backup_finished/addresses.csv\")"
   ]
  },
  {
   "cell_type": "code",
   "execution_count": 20,
   "id": "0eb93268",
   "metadata": {},
   "outputs": [],
   "source": [
    "neighbourhood_mapping = neighbourhoods.set_index('neighbourhoodGeoLocation')['googleNeighbourhoodGeoLocation'].to_dict()\n",
    "\n",
    "# Use the map function to fill in the empty googleNeighbourhoodGeoLocation in addresses\n",
    "addresses['googleNeighbourhoodGeoLocation'] = addresses['neighbourhoodGeoLocation'].map(neighbourhood_mapping)"
   ]
  },
  {
   "cell_type": "code",
   "execution_count": 22,
   "id": "9e1bc47c",
   "metadata": {},
   "outputs": [],
   "source": [
    "neighbourhood_mapping = neighbourhoods.set_index('neighbourhoodGeoLocation')['googleNeighbourhoodName'].to_dict()\n",
    "\n",
    "# Use the map function to fill in the empty googleNeighbourhoodGeoLocation in addresses\n",
    "addresses['googleNeighbourhoodName'] = addresses['neighbourhoodGeoLocation'].map(neighbourhood_mapping)"
   ]
  },
  {
   "cell_type": "code",
   "execution_count": 48,
   "id": "a3d9571f",
   "metadata": {},
   "outputs": [],
   "source": [
    "addresses = addresses.drop(\"neighbourhoodGeoLocation\", axis = 1)\n",
    "addresses = addresses.drop(\"googleNeighbourhoodName\", axis = 1)"
   ]
  },
  {
   "cell_type": "code",
   "execution_count": 49,
   "id": "028d6d9d",
   "metadata": {},
   "outputs": [],
   "source": [
    "addresses.to_csv(\"D:/DataSets/DatabaseTables/addresses.csv\", index = False)"
   ]
  },
  {
   "cell_type": "code",
   "execution_count": 164,
   "id": "f4fabaf9",
   "metadata": {},
   "outputs": [],
   "source": [
    "data_no_duplicates = neighbourhoods.drop_duplicates('googleNeighbourhoodName', keep='first')\n",
    "data_no_duplicates = data_no_duplicates.reset_index(drop = True)"
   ]
  },
  {
   "cell_type": "code",
   "execution_count": 165,
   "id": "51c263e6",
   "metadata": {},
   "outputs": [],
   "source": [
    "data_no_duplicates = data_no_duplicates.drop(\"neighbourhoodGeoLocation\", axis = 1)\n",
    "data_no_duplicates = data_no_duplicates.drop(\"googleNeighbourhoodName\", axis = 1)"
   ]
  },
  {
   "cell_type": "code",
   "execution_count": 166,
   "id": "e67f5669",
   "metadata": {},
   "outputs": [],
   "source": [
    "data_no_duplicates = data_no_duplicates.rename(columns = {\"googleNeighbourhoodGeoLocation\": \"neighbourhoodGeoLocation\"})"
   ]
  },
  {
   "cell_type": "code",
   "execution_count": 171,
   "id": "ee34b3dd",
   "metadata": {},
   "outputs": [],
   "source": [
    "data_no_duplicates['neighbourhoodID'] = range(len(data_no_duplicates))"
   ]
  },
  {
   "cell_type": "code",
   "execution_count": 172,
   "id": "6624705e",
   "metadata": {},
   "outputs": [
    {
     "data": {
      "text/html": [
       "<div>\n",
       "<style scoped>\n",
       "    .dataframe tbody tr th:only-of-type {\n",
       "        vertical-align: middle;\n",
       "    }\n",
       "\n",
       "    .dataframe tbody tr th {\n",
       "        vertical-align: top;\n",
       "    }\n",
       "\n",
       "    .dataframe thead th {\n",
       "        text-align: right;\n",
       "    }\n",
       "</style>\n",
       "<table border=\"1\" class=\"dataframe\">\n",
       "  <thead>\n",
       "    <tr style=\"text-align: right;\">\n",
       "      <th></th>\n",
       "      <th>neighbourhoodID</th>\n",
       "      <th>neighbourhoodGeoLocation</th>\n",
       "    </tr>\n",
       "  </thead>\n",
       "  <tbody>\n",
       "    <tr>\n",
       "      <th>0</th>\n",
       "      <td>0</td>\n",
       "      <td>POINT(39.370859 -76.6701475)</td>\n",
       "    </tr>\n",
       "    <tr>\n",
       "      <th>1</th>\n",
       "      <td>1</td>\n",
       "      <td>POINT(39.2842097 -76.593611)</td>\n",
       "    </tr>\n",
       "    <tr>\n",
       "      <th>2</th>\n",
       "      <td>2</td>\n",
       "      <td>POINT(39.3216614 -76.5737173)</td>\n",
       "    </tr>\n",
       "    <tr>\n",
       "      <th>3</th>\n",
       "      <td>3</td>\n",
       "      <td>POINT(39.292007 -76.6167212)</td>\n",
       "    </tr>\n",
       "    <tr>\n",
       "      <th>4</th>\n",
       "      <td>4</td>\n",
       "      <td>POINT(39.3416271 -76.68169619999999)</td>\n",
       "    </tr>\n",
       "    <tr>\n",
       "      <th>5</th>\n",
       "      <td>5</td>\n",
       "      <td>POINT(39.2817753 -76.69324379999999)</td>\n",
       "    </tr>\n",
       "    <tr>\n",
       "      <th>6</th>\n",
       "      <td>6</td>\n",
       "      <td>POINT(39.320533 -76.7065867)</td>\n",
       "    </tr>\n",
       "    <tr>\n",
       "      <th>7</th>\n",
       "      <td>7</td>\n",
       "      <td>POINT(39.3406246 -76.59649999999999)</td>\n",
       "    </tr>\n",
       "    <tr>\n",
       "      <th>8</th>\n",
       "      <td>8</td>\n",
       "      <td>POINT(39.2680512 -76.59105919999999)</td>\n",
       "    </tr>\n",
       "    <tr>\n",
       "      <th>9</th>\n",
       "      <td>9</td>\n",
       "      <td>POINT(39.2530783 -76.64659019999999)</td>\n",
       "    </tr>\n",
       "    <tr>\n",
       "      <th>10</th>\n",
       "      <td>10</td>\n",
       "      <td>POINT(39.3056685 -76.6354952)</td>\n",
       "    </tr>\n",
       "    <tr>\n",
       "      <th>11</th>\n",
       "      <td>11</td>\n",
       "      <td>POINT(39.2713976 -76.5603828)</td>\n",
       "    </tr>\n",
       "    <tr>\n",
       "      <th>12</th>\n",
       "      <td>12</td>\n",
       "      <td>POINT(39.3359385 -76.6977522)</td>\n",
       "    </tr>\n",
       "    <tr>\n",
       "      <th>13</th>\n",
       "      <td>13</td>\n",
       "      <td>POINT(39.2821913 -76.6145548)</td>\n",
       "    </tr>\n",
       "    <tr>\n",
       "      <th>14</th>\n",
       "      <td>14</td>\n",
       "      <td>POINT(39.3052934 -76.70912)</td>\n",
       "    </tr>\n",
       "    <tr>\n",
       "      <th>15</th>\n",
       "      <td>15</td>\n",
       "      <td>POINT(39.2490357 -76.6251606)</td>\n",
       "    </tr>\n",
       "    <tr>\n",
       "      <th>16</th>\n",
       "      <td>16</td>\n",
       "      <td>POINT(39.33191 -76.6489579)</td>\n",
       "    </tr>\n",
       "    <tr>\n",
       "      <th>17</th>\n",
       "      <td>17</td>\n",
       "      <td>POINT(39.338563 -76.6224981)</td>\n",
       "    </tr>\n",
       "    <tr>\n",
       "      <th>18</th>\n",
       "      <td>18</td>\n",
       "      <td>POINT(39.2994145 -76.60372219999999)</td>\n",
       "    </tr>\n",
       "    <tr>\n",
       "      <th>19</th>\n",
       "      <td>19</td>\n",
       "      <td>POINT(39.3660584 -76.6398272)</td>\n",
       "    </tr>\n",
       "    <tr>\n",
       "      <th>20</th>\n",
       "      <td>20</td>\n",
       "      <td>POINT(39.2729056 -76.6083646)</td>\n",
       "    </tr>\n",
       "    <tr>\n",
       "      <th>21</th>\n",
       "      <td>21</td>\n",
       "      <td>POINT(39.279304 -76.6116662)</td>\n",
       "    </tr>\n",
       "    <tr>\n",
       "      <th>22</th>\n",
       "      <td>22</td>\n",
       "      <td>POINT(39.3169102 -76.6773655)</td>\n",
       "    </tr>\n",
       "    <tr>\n",
       "      <th>23</th>\n",
       "      <td>23</td>\n",
       "      <td>POINT(39.3211342 -76.69180039999999)</td>\n",
       "    </tr>\n",
       "    <tr>\n",
       "      <th>24</th>\n",
       "      <td>24</td>\n",
       "      <td>POINT(39.2858482 -76.61311049999999)</td>\n",
       "    </tr>\n",
       "    <tr>\n",
       "      <th>25</th>\n",
       "      <td>25</td>\n",
       "      <td>POINT(39.284645 -76.6246644)</td>\n",
       "    </tr>\n",
       "    <tr>\n",
       "      <th>26</th>\n",
       "      <td>26</td>\n",
       "      <td>POINT(39.3304324 -76.59649999999999)</td>\n",
       "    </tr>\n",
       "    <tr>\n",
       "      <th>27</th>\n",
       "      <td>27</td>\n",
       "      <td>POINT(39.3342834 -76.5314817)</td>\n",
       "    </tr>\n",
       "    <tr>\n",
       "      <th>28</th>\n",
       "      <td>28</td>\n",
       "      <td>POINT(39.3398124 -76.6441591)</td>\n",
       "    </tr>\n",
       "    <tr>\n",
       "      <th>29</th>\n",
       "      <td>29</td>\n",
       "      <td>POINT(39.3200501 -76.6167212)</td>\n",
       "    </tr>\n",
       "    <tr>\n",
       "      <th>30</th>\n",
       "      <td>30</td>\n",
       "      <td>POINT(39.2787025 -76.61744329999999)</td>\n",
       "    </tr>\n",
       "    <tr>\n",
       "      <th>31</th>\n",
       "      <td>31</td>\n",
       "      <td>POINT(39.3616138 -76.56905189999999)</td>\n",
       "    </tr>\n",
       "    <tr>\n",
       "      <th>32</th>\n",
       "      <td>32</td>\n",
       "      <td>POINT(39.31253239999999 -76.6780873)</td>\n",
       "    </tr>\n",
       "    <tr>\n",
       "      <th>33</th>\n",
       "      <td>33</td>\n",
       "      <td>POINT(39.364133 -76.6123884)</td>\n",
       "    </tr>\n",
       "    <tr>\n",
       "      <th>34</th>\n",
       "      <td>34</td>\n",
       "      <td>POINT(39.3098541 -76.6167212)</td>\n",
       "    </tr>\n",
       "    <tr>\n",
       "      <th>35</th>\n",
       "      <td>35</td>\n",
       "      <td>POINT(39.2886346 -76.5878328)</td>\n",
       "    </tr>\n",
       "    <tr>\n",
       "      <th>36</th>\n",
       "      <td>36</td>\n",
       "      <td>POINT(39.33337059999999 -76.632607)</td>\n",
       "    </tr>\n",
       "    <tr>\n",
       "      <th>37</th>\n",
       "      <td>37</td>\n",
       "      <td>POINT(39.3149523 -76.6167212)</td>\n",
       "    </tr>\n",
       "    <tr>\n",
       "      <th>38</th>\n",
       "      <td>38</td>\n",
       "      <td>POINT(39.2381955 -76.60372219999999)</td>\n",
       "    </tr>\n",
       "    <tr>\n",
       "      <th>39</th>\n",
       "      <td>39</td>\n",
       "      <td>POINT(39.3390889 -76.60516659999999)</td>\n",
       "    </tr>\n",
       "    <tr>\n",
       "      <th>40</th>\n",
       "      <td>40</td>\n",
       "      <td>POINT(39.3200976 -76.6116662)</td>\n",
       "    </tr>\n",
       "    <tr>\n",
       "      <th>41</th>\n",
       "      <td>41</td>\n",
       "      <td>POINT(39.3227872 -76.59649999999999)</td>\n",
       "    </tr>\n",
       "    <tr>\n",
       "      <th>42</th>\n",
       "      <td>42</td>\n",
       "      <td>POINT(39.3014786 -76.6542664)</td>\n",
       "    </tr>\n",
       "    <tr>\n",
       "      <th>43</th>\n",
       "      <td>43</td>\n",
       "      <td>POINT(39.3023954 -76.59649999999999)</td>\n",
       "    </tr>\n",
       "    <tr>\n",
       "      <th>44</th>\n",
       "      <td>44</td>\n",
       "      <td>POINT(39.2704952 -76.61512379999999)</td>\n",
       "    </tr>\n",
       "    <tr>\n",
       "      <th>45</th>\n",
       "      <td>45</td>\n",
       "      <td>POINT(39.29883330000001 -76.5878328)</td>\n",
       "    </tr>\n",
       "    <tr>\n",
       "      <th>46</th>\n",
       "      <td>46</td>\n",
       "      <td>POINT(39.2812753 -76.6340511)</td>\n",
       "    </tr>\n",
       "    <tr>\n",
       "      <th>47</th>\n",
       "      <td>47</td>\n",
       "      <td>POINT(39.3232464 -76.6058888)</td>\n",
       "    </tr>\n",
       "    <tr>\n",
       "      <th>48</th>\n",
       "      <td>48</td>\n",
       "      <td>POINT(39.2930123 -76.5871105)</td>\n",
       "    </tr>\n",
       "    <tr>\n",
       "      <th>49</th>\n",
       "      <td>49</td>\n",
       "      <td>POINT(39.2971002 -76.6549883)</td>\n",
       "    </tr>\n",
       "    <tr>\n",
       "      <th>50</th>\n",
       "      <td>50</td>\n",
       "      <td>POINT(39.2646339 -76.6547794)</td>\n",
       "    </tr>\n",
       "    <tr>\n",
       "      <th>51</th>\n",
       "      <td>51</td>\n",
       "      <td>POINT(39.3108055 -76.6687038)</td>\n",
       "    </tr>\n",
       "    <tr>\n",
       "      <th>52</th>\n",
       "      <td>52</td>\n",
       "      <td>POINT(39.3007532 -76.576998)</td>\n",
       "    </tr>\n",
       "    <tr>\n",
       "      <th>53</th>\n",
       "      <td>53</td>\n",
       "      <td>POINT(39.3069138 -76.65715399999999)</td>\n",
       "    </tr>\n",
       "    <tr>\n",
       "      <th>54</th>\n",
       "      <td>54</td>\n",
       "      <td>POINT(39.31471000000001 -76.60372219999999)</td>\n",
       "    </tr>\n",
       "    <tr>\n",
       "      <th>55</th>\n",
       "      <td>55</td>\n",
       "      <td>POINT(39.3244736 -76.6109441)</td>\n",
       "    </tr>\n",
       "    <tr>\n",
       "      <th>56</th>\n",
       "      <td>56</td>\n",
       "      <td>POINT(39.3206574 -76.6227009)</td>\n",
       "    </tr>\n",
       "    <tr>\n",
       "      <th>57</th>\n",
       "      <td>57</td>\n",
       "      <td>POINT(39.29714389999999 -76.5733862)</td>\n",
       "    </tr>\n",
       "    <tr>\n",
       "      <th>58</th>\n",
       "      <td>58</td>\n",
       "      <td>POINT(39.28661350000001 -76.647047)</td>\n",
       "    </tr>\n",
       "    <tr>\n",
       "      <th>59</th>\n",
       "      <td>59</td>\n",
       "      <td>POINT(39.3455647 -76.5733862)</td>\n",
       "    </tr>\n",
       "    <tr>\n",
       "      <th>60</th>\n",
       "      <td>60</td>\n",
       "      <td>POINT(39.3142264 -76.6542664)</td>\n",
       "    </tr>\n",
       "    <tr>\n",
       "      <th>61</th>\n",
       "      <td>61</td>\n",
       "      <td>POINT(39.2847048 -76.6279137)</td>\n",
       "    </tr>\n",
       "    <tr>\n",
       "      <th>62</th>\n",
       "      <td>62</td>\n",
       "      <td>POINT(39.3149999 -76.6116662)</td>\n",
       "    </tr>\n",
       "    <tr>\n",
       "      <th>63</th>\n",
       "      <td>63</td>\n",
       "      <td>POINT(39.31791520000001 -76.6860267)</td>\n",
       "    </tr>\n",
       "    <tr>\n",
       "      <th>64</th>\n",
       "      <td>64</td>\n",
       "      <td>POINT(39.35740730000001 -76.631163)</td>\n",
       "    </tr>\n",
       "    <tr>\n",
       "      <th>65</th>\n",
       "      <td>65</td>\n",
       "      <td>POINT(39.3264513 -76.68819180000001)</td>\n",
       "    </tr>\n",
       "    <tr>\n",
       "      <th>66</th>\n",
       "      <td>66</td>\n",
       "      <td>POINT(39.3308703 -76.6275527)</td>\n",
       "    </tr>\n",
       "    <tr>\n",
       "      <th>67</th>\n",
       "      <td>67</td>\n",
       "      <td>POINT(39.3060415 -76.6715911)</td>\n",
       "    </tr>\n",
       "    <tr>\n",
       "      <th>68</th>\n",
       "      <td>68</td>\n",
       "      <td>POINT(39.2973857 -76.66292899999999)</td>\n",
       "    </tr>\n",
       "    <tr>\n",
       "      <th>69</th>\n",
       "      <td>69</td>\n",
       "      <td>POINT(39.30592439999999 -76.6650946)</td>\n",
       "    </tr>\n",
       "    <tr>\n",
       "      <th>70</th>\n",
       "      <td>70</td>\n",
       "      <td>POINT(39.3625548 -76.544488)</td>\n",
       "    </tr>\n",
       "    <tr>\n",
       "      <th>71</th>\n",
       "      <td>71</td>\n",
       "      <td>POINT(39.2208578 -76.5863882)</td>\n",
       "    </tr>\n",
       "    <tr>\n",
       "      <th>72</th>\n",
       "      <td>72</td>\n",
       "      <td>POINT(39.3003232 -76.5842213)</td>\n",
       "    </tr>\n",
       "  </tbody>\n",
       "</table>\n",
       "</div>"
      ],
      "text/plain": [
       "    neighbourhoodID                     neighbourhoodGeoLocation\n",
       "0                 0                 POINT(39.370859 -76.6701475)\n",
       "1                 1                 POINT(39.2842097 -76.593611)\n",
       "2                 2                POINT(39.3216614 -76.5737173)\n",
       "3                 3                 POINT(39.292007 -76.6167212)\n",
       "4                 4         POINT(39.3416271 -76.68169619999999)\n",
       "5                 5         POINT(39.2817753 -76.69324379999999)\n",
       "6                 6                 POINT(39.320533 -76.7065867)\n",
       "7                 7         POINT(39.3406246 -76.59649999999999)\n",
       "8                 8         POINT(39.2680512 -76.59105919999999)\n",
       "9                 9         POINT(39.2530783 -76.64659019999999)\n",
       "10               10                POINT(39.3056685 -76.6354952)\n",
       "11               11                POINT(39.2713976 -76.5603828)\n",
       "12               12                POINT(39.3359385 -76.6977522)\n",
       "13               13                POINT(39.2821913 -76.6145548)\n",
       "14               14                  POINT(39.3052934 -76.70912)\n",
       "15               15                POINT(39.2490357 -76.6251606)\n",
       "16               16                  POINT(39.33191 -76.6489579)\n",
       "17               17                 POINT(39.338563 -76.6224981)\n",
       "18               18         POINT(39.2994145 -76.60372219999999)\n",
       "19               19                POINT(39.3660584 -76.6398272)\n",
       "20               20                POINT(39.2729056 -76.6083646)\n",
       "21               21                 POINT(39.279304 -76.6116662)\n",
       "22               22                POINT(39.3169102 -76.6773655)\n",
       "23               23         POINT(39.3211342 -76.69180039999999)\n",
       "24               24         POINT(39.2858482 -76.61311049999999)\n",
       "25               25                 POINT(39.284645 -76.6246644)\n",
       "26               26         POINT(39.3304324 -76.59649999999999)\n",
       "27               27                POINT(39.3342834 -76.5314817)\n",
       "28               28                POINT(39.3398124 -76.6441591)\n",
       "29               29                POINT(39.3200501 -76.6167212)\n",
       "30               30         POINT(39.2787025 -76.61744329999999)\n",
       "31               31         POINT(39.3616138 -76.56905189999999)\n",
       "32               32         POINT(39.31253239999999 -76.6780873)\n",
       "33               33                 POINT(39.364133 -76.6123884)\n",
       "34               34                POINT(39.3098541 -76.6167212)\n",
       "35               35                POINT(39.2886346 -76.5878328)\n",
       "36               36          POINT(39.33337059999999 -76.632607)\n",
       "37               37                POINT(39.3149523 -76.6167212)\n",
       "38               38         POINT(39.2381955 -76.60372219999999)\n",
       "39               39         POINT(39.3390889 -76.60516659999999)\n",
       "40               40                POINT(39.3200976 -76.6116662)\n",
       "41               41         POINT(39.3227872 -76.59649999999999)\n",
       "42               42                POINT(39.3014786 -76.6542664)\n",
       "43               43         POINT(39.3023954 -76.59649999999999)\n",
       "44               44         POINT(39.2704952 -76.61512379999999)\n",
       "45               45         POINT(39.29883330000001 -76.5878328)\n",
       "46               46                POINT(39.2812753 -76.6340511)\n",
       "47               47                POINT(39.3232464 -76.6058888)\n",
       "48               48                POINT(39.2930123 -76.5871105)\n",
       "49               49                POINT(39.2971002 -76.6549883)\n",
       "50               50                POINT(39.2646339 -76.6547794)\n",
       "51               51                POINT(39.3108055 -76.6687038)\n",
       "52               52                 POINT(39.3007532 -76.576998)\n",
       "53               53         POINT(39.3069138 -76.65715399999999)\n",
       "54               54  POINT(39.31471000000001 -76.60372219999999)\n",
       "55               55                POINT(39.3244736 -76.6109441)\n",
       "56               56                POINT(39.3206574 -76.6227009)\n",
       "57               57         POINT(39.29714389999999 -76.5733862)\n",
       "58               58          POINT(39.28661350000001 -76.647047)\n",
       "59               59                POINT(39.3455647 -76.5733862)\n",
       "60               60                POINT(39.3142264 -76.6542664)\n",
       "61               61                POINT(39.2847048 -76.6279137)\n",
       "62               62                POINT(39.3149999 -76.6116662)\n",
       "63               63         POINT(39.31791520000001 -76.6860267)\n",
       "64               64          POINT(39.35740730000001 -76.631163)\n",
       "65               65         POINT(39.3264513 -76.68819180000001)\n",
       "66               66                POINT(39.3308703 -76.6275527)\n",
       "67               67                POINT(39.3060415 -76.6715911)\n",
       "68               68         POINT(39.2973857 -76.66292899999999)\n",
       "69               69         POINT(39.30592439999999 -76.6650946)\n",
       "70               70                 POINT(39.3625548 -76.544488)\n",
       "71               71                POINT(39.2208578 -76.5863882)\n",
       "72               72                POINT(39.3003232 -76.5842213)"
      ]
     },
     "execution_count": 172,
     "metadata": {},
     "output_type": "execute_result"
    }
   ],
   "source": [
    "data_no_duplicates"
   ]
  },
  {
   "cell_type": "code",
   "execution_count": 173,
   "id": "60d6f82f",
   "metadata": {},
   "outputs": [],
   "source": [
    "data_no_duplicates.to_csv(\"D:/DataSets/DatabaseTables/NeighbourhoodsV4.csv\", index = False)"
   ]
  },
  {
   "cell_type": "code",
   "execution_count": null,
   "id": "681aa75d",
   "metadata": {},
   "outputs": [],
   "source": []
  },
  {
   "cell_type": "markdown",
   "id": "80f2c307",
   "metadata": {},
   "source": [
    "# Remap for each of the services"
   ]
  },
  {
   "cell_type": "markdown",
   "id": "3efdd222",
   "metadata": {},
   "source": [
    "# Banks"
   ]
  },
  {
   "cell_type": "code",
   "execution_count": 154,
   "id": "43c5d010",
   "metadata": {},
   "outputs": [],
   "source": [
    "# banks\n",
    "banks = pd.read_csv(\"D:/DataSets/NewServices//banks.csv\")"
   ]
  },
  {
   "cell_type": "code",
   "execution_count": 155,
   "id": "01350428",
   "metadata": {},
   "outputs": [],
   "source": [
    "# create neighbourhood mapping\n",
    "neighbourhood_mapping = neighbourhoods.set_index('neighbourhoodGeoLocation')['googleNeighbourhoodGeoLocation'].to_dict()\n",
    "\n",
    "banks['googleNeighbourhoodGeoLocation'] = banks['neighbourhoodGeoLocation'].map(neighbourhood_mapping)\n",
    "\n",
    "neighbourhood_mapping = neighbourhoods.set_index('neighbourhoodGeoLocation')['googleNeighbourhoodName'].to_dict()\n",
    "\n",
    "banks['googleNeighbourhoodName'] = banks['neighbourhoodGeoLocation'].map(neighbourhood_mapping)\n",
    "\n",
    "banks.to_csv(\"D:/DataSets/ServicesFullInformation/banksV2.csv\", index = False)"
   ]
  },
  {
   "cell_type": "code",
   "execution_count": 156,
   "id": "afa50665",
   "metadata": {},
   "outputs": [],
   "source": [
    "banks = banks.drop(\"neighbourhoodGeoLocation\", axis = 1)\n",
    "banks = banks.drop(\"googleNeighbourhoodName\", axis = 1)"
   ]
  },
  {
   "cell_type": "code",
   "execution_count": 157,
   "id": "cda8c4ef",
   "metadata": {},
   "outputs": [],
   "source": [
    "banks = banks.rename(columns = {\"googleNeighbourhoodGeoLocation\": \"neighbourhoodGeoLocation\"})"
   ]
  },
  {
   "cell_type": "code",
   "execution_count": 158,
   "id": "93b985a3",
   "metadata": {},
   "outputs": [],
   "source": [
    "banks.to_csv(\"D:/DataSets/DatabaseTables/banks.csv\", index = False)"
   ]
  },
  {
   "cell_type": "markdown",
   "id": "0d9652a9",
   "metadata": {},
   "source": [
    "# Bars"
   ]
  },
  {
   "cell_type": "code",
   "execution_count": 55,
   "id": "cd972277",
   "metadata": {},
   "outputs": [],
   "source": [
    "bars = pd.read_csv(\"D:/DataSets/NewServices//bars.csv\")"
   ]
  },
  {
   "cell_type": "code",
   "execution_count": 56,
   "id": "043b9eb7",
   "metadata": {},
   "outputs": [],
   "source": [
    "# create neighbourhood mapping\n",
    "neighbourhood_mapping = neighbourhoods.set_index('neighbourhoodGeoLocation')['googleNeighbourhoodGeoLocation'].to_dict()\n",
    "\n",
    "bars['googleNeighbourhoodGeoLocation'] = bars['neighbourhoodGeoLocation'].map(neighbourhood_mapping)\n",
    "\n",
    "neighbourhood_mapping = neighbourhoods.set_index('neighbourhoodGeoLocation')['googleNeighbourhoodName'].to_dict()\n",
    "\n",
    "bars['googleNeighbourhoodName'] = bars['neighbourhoodGeoLocation'].map(neighbourhood_mapping)\n",
    "\n",
    "bars.to_csv(\"D:/DataSets/ServicesFullInformation/barsV2.csv\", index = False)"
   ]
  },
  {
   "cell_type": "code",
   "execution_count": 58,
   "id": "b2afa410",
   "metadata": {},
   "outputs": [],
   "source": [
    "bars = bars.drop(\"neighbourhoodGeoLocation\", axis = 1)\n",
    "bars = bars.drop(\"googleNeighbourhoodName\", axis = 1)"
   ]
  },
  {
   "cell_type": "code",
   "execution_count": 111,
   "id": "f142fd51",
   "metadata": {},
   "outputs": [],
   "source": [
    "bars = bars.rename(columns = {\"googleNeighbourhoodGeoLocation\": \"neighbourhoodGeoLocation\"})"
   ]
  },
  {
   "cell_type": "code",
   "execution_count": 113,
   "id": "b867deae",
   "metadata": {},
   "outputs": [],
   "source": [
    "bars.to_csv(\"D:/DataSets/DatabaseTables/bars.csv\", index = False)"
   ]
  },
  {
   "cell_type": "markdown",
   "id": "1f075b84",
   "metadata": {},
   "source": [
    "# Beauty"
   ]
  },
  {
   "cell_type": "code",
   "execution_count": 61,
   "id": "f4e955c9",
   "metadata": {},
   "outputs": [],
   "source": [
    "# banks\n",
    "beauty_salons = pd.read_csv(\"D:/DataSets/NewServices/beauty_salons.csv\")"
   ]
  },
  {
   "cell_type": "code",
   "execution_count": 62,
   "id": "e6b3e03d",
   "metadata": {},
   "outputs": [],
   "source": [
    "# create neighbourhood mapping\n",
    "neighbourhood_mapping = neighbourhoods.set_index('neighbourhoodGeoLocation')['googleNeighbourhoodGeoLocation'].to_dict()\n",
    "\n",
    "beauty_salons['googleNeighbourhoodGeoLocation'] = beauty_salons['neighbourhoodGeoLocation'].map(neighbourhood_mapping)\n",
    "\n",
    "neighbourhood_mapping = neighbourhoods.set_index('neighbourhoodGeoLocation')['googleNeighbourhoodName'].to_dict()\n",
    "\n",
    "beauty_salons['googleNeighbourhoodName'] = beauty_salons['neighbourhoodGeoLocation'].map(neighbourhood_mapping)\n",
    "\n",
    "beauty_salons.to_csv(\"D:/DataSets/ServicesFullInformation/beauty_salonsV2.csv\", index = False)"
   ]
  },
  {
   "cell_type": "code",
   "execution_count": 63,
   "id": "48587d40",
   "metadata": {},
   "outputs": [],
   "source": [
    "beauty_salons = beauty_salons.drop(\"neighbourhoodGeoLocation\", axis = 1)\n",
    "beauty_salons = beauty_salons.drop(\"googleNeighbourhoodName\", axis = 1)"
   ]
  },
  {
   "cell_type": "code",
   "execution_count": 109,
   "id": "ef68465c",
   "metadata": {},
   "outputs": [],
   "source": [
    "beauty_salons = beauty_salons.rename(columns = {\"googleNeighbourhoodGeoLocation\": \"neighbourhoodGeoLocation\"})"
   ]
  },
  {
   "cell_type": "code",
   "execution_count": 110,
   "id": "a3cf1be7",
   "metadata": {},
   "outputs": [],
   "source": [
    "beauty_salons.to_csv(\"D:/DataSets/DatabaseTables/beauty_salons.csv\", index = False)"
   ]
  },
  {
   "cell_type": "markdown",
   "id": "93d84466",
   "metadata": {},
   "source": [
    "# Bus Stations"
   ]
  },
  {
   "cell_type": "code",
   "execution_count": 65,
   "id": "0a340656",
   "metadata": {},
   "outputs": [],
   "source": [
    "# banks\n",
    "bus_stations = pd.read_csv(\"D:/DataSets/NewServices//bus_stations.csv\")"
   ]
  },
  {
   "cell_type": "code",
   "execution_count": 66,
   "id": "fee5484d",
   "metadata": {},
   "outputs": [],
   "source": [
    "# create neighbourhood mapping\n",
    "neighbourhood_mapping = neighbourhoods.set_index('neighbourhoodGeoLocation')['googleNeighbourhoodGeoLocation'].to_dict()\n",
    "\n",
    "bus_stations['googleNeighbourhoodGeoLocation'] = bus_stations['neighbourhoodGeoLocation'].map(neighbourhood_mapping)\n",
    "\n",
    "neighbourhood_mapping = neighbourhoods.set_index('neighbourhoodGeoLocation')['googleNeighbourhoodName'].to_dict()\n",
    "\n",
    "bus_stations['googleNeighbourhoodName'] = bus_stations['neighbourhoodGeoLocation'].map(neighbourhood_mapping)\n",
    "\n",
    "bus_stations.to_csv(\"D:/DataSets/ServicesFullInformation/bus_stationsV2.csv\", index = False)"
   ]
  },
  {
   "cell_type": "code",
   "execution_count": 67,
   "id": "bd142d5f",
   "metadata": {},
   "outputs": [],
   "source": [
    "bus_stations = bus_stations.drop(\"neighbourhoodGeoLocation\", axis = 1)\n",
    "bus_stations = bus_stations.drop(\"googleNeighbourhoodName\", axis = 1)"
   ]
  },
  {
   "cell_type": "code",
   "execution_count": 107,
   "id": "b83da853",
   "metadata": {},
   "outputs": [],
   "source": [
    "bus_stations = bus_stations.rename(columns = {\"googleNeighbourhoodGeoLocation\": \"neighbourhoodGeoLocation\"})"
   ]
  },
  {
   "cell_type": "code",
   "execution_count": 108,
   "id": "bc760891",
   "metadata": {},
   "outputs": [],
   "source": [
    "bus_stations.to_csv(\"D:/DataSets/DatabaseTables/bus_stations.csv\", index = False)"
   ]
  },
  {
   "cell_type": "markdown",
   "id": "06d75aef",
   "metadata": {},
   "source": [
    "# Cafes"
   ]
  },
  {
   "cell_type": "code",
   "execution_count": 69,
   "id": "dd635d5e",
   "metadata": {},
   "outputs": [],
   "source": [
    "# banks\n",
    "cafes = pd.read_csv(\"D:/DataSets/NewServices/cafes.csv\")"
   ]
  },
  {
   "cell_type": "code",
   "execution_count": 70,
   "id": "7b354094",
   "metadata": {},
   "outputs": [],
   "source": [
    "# create neighbourhood mapping\n",
    "neighbourhood_mapping = neighbourhoods.set_index('neighbourhoodGeoLocation')['googleNeighbourhoodGeoLocation'].to_dict()\n",
    "\n",
    "cafes['googleNeighbourhoodGeoLocation'] = cafes['neighbourhoodGeoLocation'].map(neighbourhood_mapping)\n",
    "\n",
    "neighbourhood_mapping = neighbourhoods.set_index('neighbourhoodGeoLocation')['googleNeighbourhoodName'].to_dict()\n",
    "\n",
    "cafes['googleNeighbourhoodName'] = cafes['neighbourhoodGeoLocation'].map(neighbourhood_mapping)\n",
    "\n",
    "cafes.to_csv(\"D:/DataSets/ServicesFullInformation/cafes.csv\", index = False)"
   ]
  },
  {
   "cell_type": "code",
   "execution_count": 71,
   "id": "f8bd29bb",
   "metadata": {},
   "outputs": [],
   "source": [
    "cafes = cafes.drop(\"neighbourhoodGeoLocation\", axis = 1)\n",
    "cafes = cafes.drop(\"googleNeighbourhoodName\", axis = 1)"
   ]
  },
  {
   "cell_type": "code",
   "execution_count": 105,
   "id": "0cb75a91",
   "metadata": {},
   "outputs": [],
   "source": [
    "cafes = cafes.rename(columns = {\"googleNeighbourhoodGeoLocation\": \"neighbourhoodGeoLocation\"})"
   ]
  },
  {
   "cell_type": "code",
   "execution_count": 106,
   "id": "9a149e99",
   "metadata": {},
   "outputs": [],
   "source": [
    "cafes.to_csv(\"D:/DataSets/DatabaseTables/cafes.csv\", index = False)"
   ]
  },
  {
   "cell_type": "markdown",
   "id": "fd9056e6",
   "metadata": {},
   "source": [
    "# Fire Stations"
   ]
  },
  {
   "cell_type": "code",
   "execution_count": 73,
   "id": "b06b255a",
   "metadata": {},
   "outputs": [],
   "source": [
    "# banks\n",
    "fire_stations = pd.read_csv(\"D:/DataSets/NewServices//fire_stations.csv\")"
   ]
  },
  {
   "cell_type": "code",
   "execution_count": 74,
   "id": "5e13b908",
   "metadata": {},
   "outputs": [],
   "source": [
    "# create neighbourhood mapping\n",
    "neighbourhood_mapping = neighbourhoods.set_index('neighbourhoodGeoLocation')['googleNeighbourhoodGeoLocation'].to_dict()\n",
    "\n",
    "fire_stations['googleNeighbourhoodGeoLocation'] = fire_stations['neighbourhoodGeoLocation'].map(neighbourhood_mapping)\n",
    "\n",
    "neighbourhood_mapping = neighbourhoods.set_index('neighbourhoodGeoLocation')['googleNeighbourhoodName'].to_dict()\n",
    "\n",
    "fire_stations['googleNeighbourhoodName'] = fire_stations['neighbourhoodGeoLocation'].map(neighbourhood_mapping)\n",
    "\n",
    "fire_stations.to_csv(\"D:/DataSets/ServicesFullInformation/banksV2.csv\", index = False)"
   ]
  },
  {
   "cell_type": "code",
   "execution_count": 75,
   "id": "55b47cd3",
   "metadata": {},
   "outputs": [],
   "source": [
    "fire_stations = fire_stations.drop(\"neighbourhoodGeoLocation\", axis = 1)\n",
    "fire_stations = fire_stations.drop(\"googleNeighbourhoodName\", axis = 1)"
   ]
  },
  {
   "cell_type": "code",
   "execution_count": 103,
   "id": "a074553c",
   "metadata": {},
   "outputs": [],
   "source": [
    "fire_stations = fire_stations.rename(columns = {\"googleNeighbourhoodGeoLocation\": \"neighbourhoodGeoLocation\"})"
   ]
  },
  {
   "cell_type": "code",
   "execution_count": 104,
   "id": "99791215",
   "metadata": {},
   "outputs": [],
   "source": [
    "fire_stations.to_csv(\"D:/DataSets/DatabaseTables/fire_stations.csv\", index = False)"
   ]
  },
  {
   "cell_type": "markdown",
   "id": "a403bf2c",
   "metadata": {},
   "source": [
    "# Gyms"
   ]
  },
  {
   "cell_type": "code",
   "execution_count": 77,
   "id": "749a8429",
   "metadata": {},
   "outputs": [],
   "source": [
    "# banks\n",
    "gyms = pd.read_csv(\"D:/DataSets/NewServices//gyms.csv\")"
   ]
  },
  {
   "cell_type": "code",
   "execution_count": 78,
   "id": "adaf584f",
   "metadata": {},
   "outputs": [],
   "source": [
    "# create neighbourhood mapping\n",
    "neighbourhood_mapping = neighbourhoods.set_index('neighbourhoodGeoLocation')['googleNeighbourhoodGeoLocation'].to_dict()\n",
    "\n",
    "gyms['googleNeighbourhoodGeoLocation'] = gyms['neighbourhoodGeoLocation'].map(neighbourhood_mapping)\n",
    "\n",
    "neighbourhood_mapping = neighbourhoods.set_index('neighbourhoodGeoLocation')['googleNeighbourhoodName'].to_dict()\n",
    "\n",
    "gyms['googleNeighbourhoodName'] = gyms['neighbourhoodGeoLocation'].map(neighbourhood_mapping)\n",
    "\n",
    "gyms.to_csv(\"D:/DataSets/ServicesFullInformation/gymsV2.csv\", index = False)"
   ]
  },
  {
   "cell_type": "code",
   "execution_count": 79,
   "id": "63663ba8",
   "metadata": {},
   "outputs": [],
   "source": [
    "gyms = gyms.drop(\"neighbourhoodGeoLocation\", axis = 1)\n",
    "gyms = gyms.drop(\"googleNeighbourhoodName\", axis = 1)"
   ]
  },
  {
   "cell_type": "code",
   "execution_count": 101,
   "id": "a60aa1a4",
   "metadata": {},
   "outputs": [],
   "source": [
    "gyms = gyms.rename(columns = {\"googleNeighbourhoodGeoLocation\": \"neighbourhoodGeoLocation\"})"
   ]
  },
  {
   "cell_type": "code",
   "execution_count": 102,
   "id": "5d68bb80",
   "metadata": {},
   "outputs": [],
   "source": [
    "gyms.to_csv(\"D:/DataSets/DatabaseTables/gyms.csv\", index = False)"
   ]
  },
  {
   "cell_type": "markdown",
   "id": "9e086fe3",
   "metadata": {},
   "source": [
    "# Hospitals"
   ]
  },
  {
   "cell_type": "code",
   "execution_count": 81,
   "id": "599aa3e2",
   "metadata": {},
   "outputs": [],
   "source": [
    "# banks\n",
    "hospitals = pd.read_csv(\"D:/DataSets/NewServices//hospitals.csv\")"
   ]
  },
  {
   "cell_type": "code",
   "execution_count": 82,
   "id": "73d2ffd3",
   "metadata": {},
   "outputs": [],
   "source": [
    "# create neighbourhood mapping\n",
    "neighbourhood_mapping = neighbourhoods.set_index('neighbourhoodGeoLocation')['googleNeighbourhoodGeoLocation'].to_dict()\n",
    "\n",
    "hospitals['googleNeighbourhoodGeoLocation'] = hospitals['neighbourhoodGeoLocation'].map(neighbourhood_mapping)\n",
    "\n",
    "neighbourhood_mapping = neighbourhoods.set_index('neighbourhoodGeoLocation')['googleNeighbourhoodName'].to_dict()\n",
    "\n",
    "hospitals['googleNeighbourhoodName'] = hospitals['neighbourhoodGeoLocation'].map(neighbourhood_mapping)\n",
    "\n",
    "hospitals.to_csv(\"D:/DataSets/ServicesFullInformation/hospitalsV2.csv\", index = False)"
   ]
  },
  {
   "cell_type": "code",
   "execution_count": 83,
   "id": "b9c101d9",
   "metadata": {},
   "outputs": [],
   "source": [
    "hospitals = hospitals.drop(\"neighbourhoodGeoLocation\", axis = 1)\n",
    "hospitals = hospitals.drop(\"googleNeighbourhoodName\", axis = 1)"
   ]
  },
  {
   "cell_type": "code",
   "execution_count": 98,
   "id": "88dfdbc6",
   "metadata": {},
   "outputs": [],
   "source": [
    "hospitals = hospitals.rename(columns = {\"googleNeighbourhoodGeoLocation\": \"neighbourhoodGeoLocation\"})"
   ]
  },
  {
   "cell_type": "code",
   "execution_count": 100,
   "id": "405438b2",
   "metadata": {},
   "outputs": [],
   "source": [
    "hospitals.to_csv(\"D:/DataSets/DatabaseTables/hospitals.csv\", index = False)"
   ]
  },
  {
   "cell_type": "markdown",
   "id": "b583faaf",
   "metadata": {},
   "source": [
    "# Night Clubs"
   ]
  },
  {
   "cell_type": "code",
   "execution_count": 85,
   "id": "ebfc73c0",
   "metadata": {},
   "outputs": [],
   "source": [
    "# banks\n",
    "night_clubs = pd.read_csv(\"D:/DataSets/NewServices//night_clubs.csv\")"
   ]
  },
  {
   "cell_type": "code",
   "execution_count": 86,
   "id": "0d6d0e8e",
   "metadata": {},
   "outputs": [],
   "source": [
    "# create neighbourhood mapping\n",
    "neighbourhood_mapping = neighbourhoods.set_index('neighbourhoodGeoLocation')['googleNeighbourhoodGeoLocation'].to_dict()\n",
    "\n",
    "night_clubs['googleNeighbourhoodGeoLocation'] = night_clubs['neighbourhoodGeoLocation'].map(neighbourhood_mapping)\n",
    "\n",
    "neighbourhood_mapping = neighbourhoods.set_index('neighbourhoodGeoLocation')['googleNeighbourhoodName'].to_dict()\n",
    "\n",
    "night_clubs['googleNeighbourhoodName'] = night_clubs['neighbourhoodGeoLocation'].map(neighbourhood_mapping)\n",
    "\n",
    "night_clubs.to_csv(\"D:/DataSets/ServicesFullInformation/night_clubsV2.csv\", index = False)"
   ]
  },
  {
   "cell_type": "code",
   "execution_count": 87,
   "id": "dd9eb0d8",
   "metadata": {},
   "outputs": [],
   "source": [
    "night_clubs = night_clubs.drop(\"neighbourhoodGeoLocation\", axis = 1)\n",
    "night_clubs = night_clubs.drop(\"googleNeighbourhoodName\", axis = 1)"
   ]
  },
  {
   "cell_type": "code",
   "execution_count": 95,
   "id": "3703fac3",
   "metadata": {},
   "outputs": [],
   "source": [
    "night_clubs = night_clubs.rename(columns = {\"googleNeighbourhoodGeoLocation\": \"neighbourhoodGeoLocation\"})"
   ]
  },
  {
   "cell_type": "code",
   "execution_count": 97,
   "id": "cfd90151",
   "metadata": {},
   "outputs": [],
   "source": [
    "night_clubs.to_csv(\"D:/DataSets/DatabaseTables/night_clubs.csv\", index = False)"
   ]
  },
  {
   "cell_type": "markdown",
   "id": "d6f0025a",
   "metadata": {},
   "source": [
    "# Parks"
   ]
  },
  {
   "cell_type": "code",
   "execution_count": 116,
   "id": "ddb1ac1d",
   "metadata": {},
   "outputs": [],
   "source": [
    "# banks\n",
    "parks = pd.read_csv(\"D:/DataSets/NewServices//parks.csv\")"
   ]
  },
  {
   "cell_type": "code",
   "execution_count": 117,
   "id": "21d5232e",
   "metadata": {},
   "outputs": [],
   "source": [
    "# create neighbourhood mapping\n",
    "neighbourhood_mapping = neighbourhoods.set_index('neighbourhoodGeoLocation')['googleNeighbourhoodGeoLocation'].to_dict()\n",
    "\n",
    "parks['googleNeighbourhoodGeoLocation'] = parks['neighbourhoodGeoLocation'].map(neighbourhood_mapping)\n",
    "\n",
    "neighbourhood_mapping = neighbourhoods.set_index('neighbourhoodGeoLocation')['googleNeighbourhoodName'].to_dict()\n",
    "\n",
    "parks['googleNeighbourhoodName'] = parks['neighbourhoodGeoLocation'].map(neighbourhood_mapping)\n",
    "\n",
    "parks.to_csv(\"D:/DataSets/ServicesFullInformation/parksV2.csv\", index = False)"
   ]
  },
  {
   "cell_type": "code",
   "execution_count": 118,
   "id": "eaf8f562",
   "metadata": {},
   "outputs": [],
   "source": [
    "parks = parks.drop(\"neighbourhoodGeoLocation\", axis = 1)\n",
    "parks = parks.drop(\"googleNeighbourhoodName\", axis = 1)"
   ]
  },
  {
   "cell_type": "code",
   "execution_count": 119,
   "id": "69020901",
   "metadata": {},
   "outputs": [],
   "source": [
    "parks = parks.rename(columns = {\"googleNeighbourhoodGeoLocation\": \"neighbourhoodGeoLocation\"})"
   ]
  },
  {
   "cell_type": "code",
   "execution_count": 120,
   "id": "0fdcf339",
   "metadata": {},
   "outputs": [],
   "source": [
    "parks.to_csv(\"D:/DataSets/DatabaseTables/parks.csv\", index = False)"
   ]
  },
  {
   "cell_type": "markdown",
   "id": "ed2444ba",
   "metadata": {},
   "source": [
    "# Pharmacies"
   ]
  },
  {
   "cell_type": "code",
   "execution_count": 121,
   "id": "74c274cd",
   "metadata": {},
   "outputs": [],
   "source": [
    "# banks\n",
    "pharmacies = pd.read_csv(\"D:/DataSets/NewServices/pharmacies.csv\")"
   ]
  },
  {
   "cell_type": "code",
   "execution_count": 122,
   "id": "30fb4ac3",
   "metadata": {},
   "outputs": [],
   "source": [
    "# create neighbourhood mapping\n",
    "neighbourhood_mapping = neighbourhoods.set_index('neighbourhoodGeoLocation')['googleNeighbourhoodGeoLocation'].to_dict()\n",
    "\n",
    "pharmacies['googleNeighbourhoodGeoLocation'] = pharmacies['neighbourhoodGeoLocation'].map(neighbourhood_mapping)\n",
    "\n",
    "neighbourhood_mapping = neighbourhoods.set_index('neighbourhoodGeoLocation')['googleNeighbourhoodName'].to_dict()\n",
    "\n",
    "pharmacies['googleNeighbourhoodName'] = pharmacies['neighbourhoodGeoLocation'].map(neighbourhood_mapping)\n",
    "\n",
    "pharmacies.to_csv(\"D:/DataSets/ServicesFullInformation/pharmaciesV2.csv\", index = False)"
   ]
  },
  {
   "cell_type": "code",
   "execution_count": 123,
   "id": "020f0604",
   "metadata": {},
   "outputs": [],
   "source": [
    "pharmacies = pharmacies.drop(\"neighbourhoodGeoLocation\", axis = 1)\n",
    "pharmacies = pharmacies.drop(\"googleNeighbourhoodName\", axis = 1)"
   ]
  },
  {
   "cell_type": "code",
   "execution_count": 124,
   "id": "e6d58140",
   "metadata": {},
   "outputs": [],
   "source": [
    "pharmacies = pharmacies.rename(columns = {\"googleNeighbourhoodGeoLocation\": \"neighbourhoodGeoLocation\"})"
   ]
  },
  {
   "cell_type": "code",
   "execution_count": 125,
   "id": "9167593f",
   "metadata": {},
   "outputs": [],
   "source": [
    "pharmacies.to_csv(\"D:/DataSets/DatabaseTables/pharmacies.csv\", index = False)"
   ]
  },
  {
   "cell_type": "markdown",
   "id": "d9f4a6ce",
   "metadata": {},
   "source": [
    "# Police Stations"
   ]
  },
  {
   "cell_type": "code",
   "execution_count": 126,
   "id": "44656cb3",
   "metadata": {},
   "outputs": [],
   "source": [
    "# banks\n",
    "police_stations = pd.read_csv(\"D:/DataSets/NewServices/police_stations.csv\")"
   ]
  },
  {
   "cell_type": "code",
   "execution_count": 127,
   "id": "4a69c34b",
   "metadata": {},
   "outputs": [],
   "source": [
    "# create neighbourhood mapping\n",
    "neighbourhood_mapping = neighbourhoods.set_index('neighbourhoodGeoLocation')['googleNeighbourhoodGeoLocation'].to_dict()\n",
    "\n",
    "police_stations['googleNeighbourhoodGeoLocation'] = police_stations['neighbourhoodGeoLocation'].map(neighbourhood_mapping)\n",
    "\n",
    "neighbourhood_mapping = neighbourhoods.set_index('neighbourhoodGeoLocation')['googleNeighbourhoodName'].to_dict()\n",
    "\n",
    "police_stations['googleNeighbourhoodName'] = police_stations['neighbourhoodGeoLocation'].map(neighbourhood_mapping)\n",
    "\n",
    "police_stations.to_csv(\"D:/DataSets/ServicesFullInformation/police_stationsV2.csv\", index = False)"
   ]
  },
  {
   "cell_type": "code",
   "execution_count": 128,
   "id": "91e2349c",
   "metadata": {},
   "outputs": [],
   "source": [
    "police_stations = police_stations.drop(\"neighbourhoodGeoLocation\", axis = 1)\n",
    "police_stations = police_stations.drop(\"googleNeighbourhoodName\", axis = 1)"
   ]
  },
  {
   "cell_type": "code",
   "execution_count": 129,
   "id": "ff5cfb7b",
   "metadata": {},
   "outputs": [],
   "source": [
    "police_stations = police_stations.rename(columns = {\"googleNeighbourhoodGeoLocation\": \"neighbourhoodGeoLocation\"})"
   ]
  },
  {
   "cell_type": "code",
   "execution_count": 130,
   "id": "796bafe9",
   "metadata": {},
   "outputs": [],
   "source": [
    "police_stations.to_csv(\"D:/DataSets/DatabaseTables/police_stations.csv\", index = False)"
   ]
  },
  {
   "cell_type": "markdown",
   "id": "c52dcbd6",
   "metadata": {},
   "source": [
    "# Restaurants"
   ]
  },
  {
   "cell_type": "code",
   "execution_count": 131,
   "id": "7b0bffb6",
   "metadata": {},
   "outputs": [],
   "source": [
    "# banks\n",
    "restaurants = pd.read_csv(\"D:/DataSets/NewServices/restaurants.csv\")"
   ]
  },
  {
   "cell_type": "code",
   "execution_count": 132,
   "id": "c45dddb8",
   "metadata": {},
   "outputs": [],
   "source": [
    "# create neighbourhood mapping\n",
    "neighbourhood_mapping = neighbourhoods.set_index('neighbourhoodGeoLocation')['googleNeighbourhoodGeoLocation'].to_dict()\n",
    "\n",
    "restaurants['googleNeighbourhoodGeoLocation'] = restaurants['neighbourhoodGeoLocation'].map(neighbourhood_mapping)\n",
    "\n",
    "neighbourhood_mapping = neighbourhoods.set_index('neighbourhoodGeoLocation')['googleNeighbourhoodName'].to_dict()\n",
    "\n",
    "restaurants['googleNeighbourhoodName'] = restaurants['neighbourhoodGeoLocation'].map(neighbourhood_mapping)\n",
    "\n",
    "restaurants.to_csv(\"D:/DataSets/ServicesFullInformation/restaurantsV2.csv\", index = False)"
   ]
  },
  {
   "cell_type": "code",
   "execution_count": 133,
   "id": "256b9479",
   "metadata": {},
   "outputs": [],
   "source": [
    "restaurants = restaurants.drop(\"neighbourhoodGeoLocation\", axis = 1)\n",
    "restaurants = restaurants.drop(\"googleNeighbourhoodName\", axis = 1)"
   ]
  },
  {
   "cell_type": "code",
   "execution_count": 134,
   "id": "c54101da",
   "metadata": {},
   "outputs": [],
   "source": [
    "restaurants = restaurants.rename(columns = {\"googleNeighbourhoodGeoLocation\": \"neighbourhoodGeoLocation\"})"
   ]
  },
  {
   "cell_type": "code",
   "execution_count": 135,
   "id": "94e56443",
   "metadata": {},
   "outputs": [],
   "source": [
    "restaurants.to_csv(\"D:/DataSets/DatabaseTables/restaurants.csv\", index = False)"
   ]
  },
  {
   "cell_type": "markdown",
   "id": "2be49ec0",
   "metadata": {},
   "source": [
    "# Supermarkets"
   ]
  },
  {
   "cell_type": "code",
   "execution_count": 136,
   "id": "4c109f75",
   "metadata": {},
   "outputs": [],
   "source": [
    "# banks\n",
    "supermarkets = pd.read_csv(\"D:/DataSets/NewServices/supermarkets.csv\")"
   ]
  },
  {
   "cell_type": "code",
   "execution_count": 137,
   "id": "4b5b4558",
   "metadata": {},
   "outputs": [],
   "source": [
    "# create neighbourhood mapping\n",
    "neighbourhood_mapping = neighbourhoods.set_index('neighbourhoodGeoLocation')['googleNeighbourhoodGeoLocation'].to_dict()\n",
    "\n",
    "supermarkets['googleNeighbourhoodGeoLocation'] = supermarkets['neighbourhoodGeoLocation'].map(neighbourhood_mapping)\n",
    "\n",
    "neighbourhood_mapping = neighbourhoods.set_index('neighbourhoodGeoLocation')['googleNeighbourhoodName'].to_dict()\n",
    "\n",
    "supermarkets['googleNeighbourhoodName'] = supermarkets['neighbourhoodGeoLocation'].map(neighbourhood_mapping)\n",
    "\n",
    "supermarkets.to_csv(\"D:/DataSets/ServicesFullInformation/supermarketsV2.csv\", index = False)"
   ]
  },
  {
   "cell_type": "code",
   "execution_count": 138,
   "id": "9bb37ab5",
   "metadata": {},
   "outputs": [],
   "source": [
    "supermarkets = supermarkets.drop(\"neighbourhoodGeoLocation\", axis = 1)\n",
    "supermarkets = supermarkets.drop(\"googleNeighbourhoodName\", axis = 1)"
   ]
  },
  {
   "cell_type": "code",
   "execution_count": 139,
   "id": "329cd7a9",
   "metadata": {},
   "outputs": [],
   "source": [
    "supermarkets = supermarkets.rename(columns = {\"googleNeighbourhoodGeoLocation\": \"neighbourhoodGeoLocation\"})"
   ]
  },
  {
   "cell_type": "code",
   "execution_count": 140,
   "id": "34113dce",
   "metadata": {},
   "outputs": [],
   "source": [
    "supermarkets.to_csv(\"D:/DataSets/DatabaseTables/supermarkets.csv\", index = False)"
   ]
  },
  {
   "cell_type": "markdown",
   "id": "27e3985f",
   "metadata": {},
   "source": [
    "# Train Stations"
   ]
  },
  {
   "cell_type": "code",
   "execution_count": 149,
   "id": "3b829518",
   "metadata": {},
   "outputs": [],
   "source": [
    "# banks\n",
    "train_stations = pd.read_csv(\"D:/DataSets/NewServices/train_stations.csv\")"
   ]
  },
  {
   "cell_type": "code",
   "execution_count": 150,
   "id": "e1b8daa5",
   "metadata": {},
   "outputs": [],
   "source": [
    "# create neighbourhood mapping\n",
    "neighbourhood_mapping = neighbourhoods.set_index('neighbourhoodGeoLocation')['googleNeighbourhoodGeoLocation'].to_dict()\n",
    "\n",
    "train_stations['googleNeighbourhoodGeoLocation'] = train_stations['neighbourhoodGeoLocation'].map(neighbourhood_mapping)\n",
    "\n",
    "neighbourhood_mapping = neighbourhoods.set_index('neighbourhoodGeoLocation')['googleNeighbourhoodName'].to_dict()\n",
    "\n",
    "train_stations['googleNeighbourhoodName'] = train_stations['neighbourhoodGeoLocation'].map(neighbourhood_mapping)\n",
    "\n",
    "train_stations.to_csv(\"D:/DataSets/ServicesFullInformation/train_stationsV2.csv\", index = False)"
   ]
  },
  {
   "cell_type": "code",
   "execution_count": 151,
   "id": "af48dcb7",
   "metadata": {},
   "outputs": [],
   "source": [
    "train_stations = train_stations.drop(\"neighbourhoodGeoLocation\", axis = 1)\n",
    "train_stations = train_stations.drop(\"googleNeighbourhoodName\", axis = 1)"
   ]
  },
  {
   "cell_type": "code",
   "execution_count": 152,
   "id": "2bf20b2f",
   "metadata": {},
   "outputs": [],
   "source": [
    "train_stations = train_stations.rename(columns = {\"googleNeighbourhoodGeoLocation\": \"neighbourhoodGeoLocation\"})"
   ]
  },
  {
   "cell_type": "code",
   "execution_count": 153,
   "id": "aa40c192",
   "metadata": {},
   "outputs": [],
   "source": [
    "train_stations.to_csv(\"D:/DataSets/DatabaseTables/train_stations.csv\", index = False)"
   ]
  },
  {
   "cell_type": "markdown",
   "id": "9131bf5f",
   "metadata": {},
   "source": [
    "# Transit Stations"
   ]
  },
  {
   "cell_type": "code",
   "execution_count": 159,
   "id": "17ac380f",
   "metadata": {},
   "outputs": [],
   "source": [
    "# banks\n",
    "transit_stations = pd.read_csv(\"D:/DataSets/NewServices//transit_stations.csv\")"
   ]
  },
  {
   "cell_type": "code",
   "execution_count": 160,
   "id": "6c63e73c",
   "metadata": {},
   "outputs": [],
   "source": [
    "# create neighbourhood mapping\n",
    "neighbourhood_mapping = neighbourhoods.set_index('neighbourhoodGeoLocation')['googleNeighbourhoodGeoLocation'].to_dict()\n",
    "\n",
    "transit_stations['googleNeighbourhoodGeoLocation'] = transit_stations['neighbourhoodGeoLocation'].map(neighbourhood_mapping)\n",
    "\n",
    "neighbourhood_mapping = neighbourhoods.set_index('neighbourhoodGeoLocation')['googleNeighbourhoodName'].to_dict()\n",
    "\n",
    "transit_stations['googleNeighbourhoodName'] = transit_stations['neighbourhoodGeoLocation'].map(neighbourhood_mapping)\n",
    "\n",
    "transit_stations.to_csv(\"D:/DataSets/ServicesFullInformation/transit_stationsV2.csv\", index = False)"
   ]
  },
  {
   "cell_type": "code",
   "execution_count": 161,
   "id": "03be04ba",
   "metadata": {},
   "outputs": [],
   "source": [
    "transit_stations = transit_stations.drop(\"neighbourhoodGeoLocation\", axis = 1)\n",
    "transit_stations = transit_stations.drop(\"googleNeighbourhoodName\", axis = 1)"
   ]
  },
  {
   "cell_type": "code",
   "execution_count": 162,
   "id": "3b292e37",
   "metadata": {},
   "outputs": [],
   "source": [
    "transit_stations = transit_stations.rename(columns = {\"googleNeighbourhoodGeoLocation\": \"neighbourhoodGeoLocation\"})"
   ]
  },
  {
   "cell_type": "code",
   "execution_count": 163,
   "id": "2c0bc4e7",
   "metadata": {},
   "outputs": [],
   "source": [
    "transit_stations.to_csv(\"D:/DataSets/DatabaseTables/transit_stations.csv\", index = False)"
   ]
  }
 ],
 "metadata": {
  "kernelspec": {
   "display_name": "Python 3 (ipykernel)",
   "language": "python",
   "name": "python3"
  },
  "language_info": {
   "codemirror_mode": {
    "name": "ipython",
    "version": 3
   },
   "file_extension": ".py",
   "mimetype": "text/x-python",
   "name": "python",
   "nbconvert_exporter": "python",
   "pygments_lexer": "ipython3",
   "version": "3.10.7"
  },
  "varInspector": {
   "cols": {
    "lenName": 16,
    "lenType": 16,
    "lenVar": 40
   },
   "kernels_config": {
    "python": {
     "delete_cmd_postfix": "",
     "delete_cmd_prefix": "del ",
     "library": "var_list.py",
     "varRefreshCmd": "print(var_dic_list())"
    },
    "r": {
     "delete_cmd_postfix": ") ",
     "delete_cmd_prefix": "rm(",
     "library": "var_list.r",
     "varRefreshCmd": "cat(var_dic_list()) "
    }
   },
   "types_to_exclude": [
    "module",
    "function",
    "builtin_function_or_method",
    "instance",
    "_Feature"
   ],
   "window_display": false
  }
 },
 "nbformat": 4,
 "nbformat_minor": 5
}
