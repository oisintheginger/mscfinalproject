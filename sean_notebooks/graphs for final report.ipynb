{
 "cells": [
  {
   "cell_type": "code",
   "execution_count": 2,
   "id": "8a7d3866",
   "metadata": {},
   "outputs": [],
   "source": [
    "import pandas as pd"
   ]
  },
  {
   "cell_type": "code",
   "execution_count": 91,
   "id": "ab1d84f4",
   "metadata": {},
   "outputs": [],
   "source": [
    "df = pd.read_csv(\"D:/Datasets/user_feedback/user_testing.csv\")"
   ]
  },
  {
   "cell_type": "code",
   "execution_count": 92,
   "id": "5abe15b0",
   "metadata": {},
   "outputs": [
    {
     "data": {
      "text/plain": [
       "68"
      ]
     },
     "execution_count": 92,
     "metadata": {},
     "output_type": "execute_result"
    }
   ],
   "source": [
    "len(df)"
   ]
  },
  {
   "cell_type": "code",
   "execution_count": 17,
   "id": "e7a239d6",
   "metadata": {},
   "outputs": [
    {
     "name": "stdout",
     "output_type": "stream",
     "text": [
      "[62, 63, 64, 65, 66]\n"
     ]
    }
   ],
   "source": [
    "print(list(range(62, 68)))"
   ]
  },
  {
   "cell_type": "code",
   "execution_count": 104,
   "id": "2ec24116",
   "metadata": {},
   "outputs": [],
   "source": [
    "indices_first_df = list(range(0, 11)) + list(range(42, 59)) + list(range(62, 68))\n",
    "\n",
    "# Filter the first DataFrame\n",
    "df_knn = df.loc[indices_first_df]\n",
    "\n",
    "# Filter the second DataFrame with every other index\n",
    "df_cosine = df.iloc[::2]"
   ]
  },
  {
   "cell_type": "code",
   "execution_count": 105,
   "id": "ac1340f5",
   "metadata": {},
   "outputs": [
    {
     "data": {
      "text/plain": [
       "34"
      ]
     },
     "execution_count": 105,
     "metadata": {},
     "output_type": "execute_result"
    }
   ],
   "source": [
    "len(df_knn)"
   ]
  },
  {
   "cell_type": "code",
   "execution_count": 106,
   "id": "3b0988a8",
   "metadata": {},
   "outputs": [
    {
     "data": {
      "text/plain": [
       "34"
      ]
     },
     "execution_count": 106,
     "metadata": {},
     "output_type": "execute_result"
    }
   ],
   "source": [
    "len(df_cosine)"
   ]
  },
  {
   "cell_type": "code",
   "execution_count": 118,
   "id": "98efd0c8",
   "metadata": {},
   "outputs": [],
   "source": [
    "df_cosine = df_cosine.reset_index(drop = True)\n",
    "df_knn = df_knn.reset_index(drop = True)"
   ]
  },
  {
   "cell_type": "code",
   "execution_count": 124,
   "id": "0ec7b99c",
   "metadata": {},
   "outputs": [
    {
     "data": {
      "text/plain": [
       "0                                 NaN\n",
       "1                 Somewhat unsuitable\n",
       "2                   Somewhat suitable\n",
       "3                   Somewhat suitable\n",
       "4     Neither unsuitable nor suitable\n",
       "5                                 NaN\n",
       "6                                 NaN\n",
       "7                                 NaN\n",
       "8                                 NaN\n",
       "9                     Very unsuitable\n",
       "10                                NaN\n",
       "11                                NaN\n",
       "12                                NaN\n",
       "13                                NaN\n",
       "14                                NaN\n",
       "15                                NaN\n",
       "16                                NaN\n",
       "17                                NaN\n",
       "18                                NaN\n",
       "19                  Somewhat suitable\n",
       "20                      Very suitable\n",
       "21                                NaN\n",
       "22                                NaN\n",
       "23                  Somewhat suitable\n",
       "24                                NaN\n",
       "25                                NaN\n",
       "26                  Somewhat suitable\n",
       "27                      Very suitable\n",
       "28                                NaN\n",
       "29                                NaN\n",
       "30                                NaN\n",
       "31    Neither unsuitable nor suitable\n",
       "32                                NaN\n",
       "33                                NaN\n",
       "Name: Category, dtype: object"
      ]
     },
     "execution_count": 124,
     "metadata": {},
     "output_type": "execute_result"
    }
   ],
   "source": [
    "df_cosine[\"Category\"]"
   ]
  },
  {
   "cell_type": "code",
   "execution_count": 125,
   "id": "987507d4",
   "metadata": {},
   "outputs": [
    {
     "data": {
      "text/plain": [
       "0                                 NaN\n",
       "1                                 NaN\n",
       "2                 Somewhat unsuitable\n",
       "3                                 NaN\n",
       "4                   Somewhat suitable\n",
       "5                   Somewhat suitable\n",
       "6                   Somewhat suitable\n",
       "7                                 NaN\n",
       "8     Neither unsuitable nor suitable\n",
       "9                   Somewhat suitable\n",
       "10                                NaN\n",
       "11                                NaN\n",
       "12                                NaN\n",
       "13                                NaN\n",
       "14                                NaN\n",
       "15                  Somewhat suitable\n",
       "16                Somewhat unsuitable\n",
       "17                                NaN\n",
       "18                                NaN\n",
       "19                                NaN\n",
       "20                      Very suitable\n",
       "21                  Somewhat suitable\n",
       "22                    Very unsuitable\n",
       "23                      Very suitable\n",
       "24                                NaN\n",
       "25                                NaN\n",
       "26                                NaN\n",
       "27                                NaN\n",
       "28    Neither unsuitable nor suitable\n",
       "29                                NaN\n",
       "30                                NaN\n",
       "31    Neither unsuitable nor suitable\n",
       "32                                NaN\n",
       "33                                NaN\n",
       "Name: Category, dtype: object"
      ]
     },
     "execution_count": 125,
     "metadata": {},
     "output_type": "execute_result"
    }
   ],
   "source": [
    "df_knn[\"Category\"]"
   ]
  },
  {
   "cell_type": "code",
   "execution_count": 203,
   "id": "3fe682ac",
   "metadata": {},
   "outputs": [
    {
     "data": {
      "text/plain": [
       "0                   NaN\n",
       "1                   NaN\n",
       "2     Somewhat suitable\n",
       "3                   NaN\n",
       "4     Somewhat suitable\n",
       "            ...        \n",
       "63                  NaN\n",
       "64                  NaN\n",
       "65    Somewhat suitable\n",
       "66                  NaN\n",
       "67                  NaN\n",
       "Name: Based on the property information, the tags were..., Length: 68, dtype: object"
      ]
     },
     "execution_count": 203,
     "metadata": {},
     "output_type": "execute_result"
    }
   ],
   "source": [
    "df[\"Based on the property information, the tags were...\"] "
   ]
  },
  {
   "cell_type": "code",
   "execution_count": 120,
   "id": "61a419f7",
   "metadata": {},
   "outputs": [],
   "source": [
    "df_knn[\"Category\"] = df_knn[\"The recommendations were...\"] "
   ]
  },
  {
   "cell_type": "code",
   "execution_count": 121,
   "id": "441408f8",
   "metadata": {},
   "outputs": [],
   "source": [
    "df_cosine[\"Category\"] = df_cosine[\"The recommendations were...\"] "
   ]
  },
  {
   "cell_type": "code",
   "execution_count": 123,
   "id": "946e4776",
   "metadata": {},
   "outputs": [
    {
     "data": {
      "text/plain": [
       "1"
      ]
     },
     "execution_count": 123,
     "metadata": {},
     "output_type": "execute_result"
    }
   ],
   "source": [
    "df_cosine['Category'].value_counts()[\"Very unsuitable\"]"
   ]
  },
  {
   "cell_type": "code",
   "execution_count": 50,
   "id": "58182c67",
   "metadata": {},
   "outputs": [
    {
     "data": {
      "text/html": [
       "<div>\n",
       "<style scoped>\n",
       "    .dataframe tbody tr th:only-of-type {\n",
       "        vertical-align: middle;\n",
       "    }\n",
       "\n",
       "    .dataframe tbody tr th {\n",
       "        vertical-align: top;\n",
       "    }\n",
       "\n",
       "    .dataframe thead th {\n",
       "        text-align: right;\n",
       "    }\n",
       "</style>\n",
       "<table border=\"1\" class=\"dataframe\">\n",
       "  <thead>\n",
       "    <tr style=\"text-align: right;\">\n",
       "      <th></th>\n",
       "      <th>Category</th>\n",
       "      <th>Count1</th>\n",
       "      <th>Count2</th>\n",
       "      <th>Count3</th>\n",
       "    </tr>\n",
       "  </thead>\n",
       "  <tbody>\n",
       "    <tr>\n",
       "      <th>0</th>\n",
       "      <td>Category A</td>\n",
       "      <td>10</td>\n",
       "      <td>5</td>\n",
       "      <td>8</td>\n",
       "    </tr>\n",
       "    <tr>\n",
       "      <th>1</th>\n",
       "      <td>Category B</td>\n",
       "      <td>15</td>\n",
       "      <td>8</td>\n",
       "      <td>10</td>\n",
       "    </tr>\n",
       "    <tr>\n",
       "      <th>2</th>\n",
       "      <td>Category C</td>\n",
       "      <td>5</td>\n",
       "      <td>12</td>\n",
       "      <td>15</td>\n",
       "    </tr>\n",
       "    <tr>\n",
       "      <th>3</th>\n",
       "      <td>Category D</td>\n",
       "      <td>20</td>\n",
       "      <td>18</td>\n",
       "      <td>5</td>\n",
       "    </tr>\n",
       "    <tr>\n",
       "      <th>4</th>\n",
       "      <td>Category E</td>\n",
       "      <td>12</td>\n",
       "      <td>10</td>\n",
       "      <td>20</td>\n",
       "    </tr>\n",
       "  </tbody>\n",
       "</table>\n",
       "</div>"
      ],
      "text/plain": [
       "     Category  Count1  Count2  Count3\n",
       "0  Category A      10       5       8\n",
       "1  Category B      15       8      10\n",
       "2  Category C       5      12      15\n",
       "3  Category D      20      18       5\n",
       "4  Category E      12      10      20"
      ]
     },
     "execution_count": 50,
     "metadata": {},
     "output_type": "execute_result"
    }
   ],
   "source": [
    "data = {\n",
    "    'Category': ['Category A', 'Category B', 'Category C', 'Category D', 'Category E'],\n",
    "    'Count1': [10, 15, 5, 20, 12],\n",
    "    'Count2': [5, 8, 12, 18, 10],\n",
    "    'Count3': [8, 10, 15, 5, 20],\n",
    "    # Add more counts as needed\n",
    "}\n",
    "\n",
    "df_knsn = pd.DataFrame(data)\n",
    "\n",
    "df_knsn"
   ]
  },
  {
   "cell_type": "code",
   "execution_count": 205,
   "id": "351dfdfa",
   "metadata": {},
   "outputs": [
    {
     "data": {
      "image/png": "[encoded data removed]",
      "text/plain": [
       "<Figure size 600x100 with 1 Axes>"
      ]
     },
     "metadata": {},
     "output_type": "display_data"
    }
   ],
   "source": [
    "import matplotlib.pyplot as plt\n",
    "\n",
    "# Assuming your DataFrame is named df_knn\n",
    "# You can replace df_knn with the actual name of your DataFrame\n",
    "\n",
    "# Create data\n",
    "y = [\"Suitability\"]\n",
    "x5 = df['Based on the property information, the tags were...'].value_counts()[\"Very unsuitable\"]\n",
    "x5 = df['Based on the property information, the tags were...'].value_counts()[\"Somewhat unsuitable\"]\n",
    "x3 = df['Based on the property information, the tags were...'].value_counts()[\"Neither suitable nor unsuitable\"]\n",
    "x2 = df['Based on the property information, the tags were...'].value_counts()[\"Somewhat suitable\"]\n",
    "x1 = df['Based on the property information, the tags were...'].value_counts()[\"Very suitable\"]\n",
    "\n",
    "# Set the height of the entire figure\n",
    "fig, ax = plt.subplots(figsize=(6, 1))\n",
    "\n",
    "# Plot a single bar with different colors\n",
    "plt.barh(x_labels, width=0, color='white')  # White space\n",
    "\n",
    "# Plot bars in a stacked manner with thinner bars\n",
    "plt.barh(y, x5, color='red', label='Very unsuitable', height=1)\n",
    "plt.barh(y, x4, left=x5, color='orange', label='Somewhat unsuitable', height=1)\n",
    "plt.barh(y, x3, left=x4+x5, color='grey', label='Neither suitable nor Untitled.ipynbsuitable', height=1)\n",
    "plt.barh(y, x2, left=x3+x4+x5, color='lightblue', label='Somewhat suitable', height=1)\n",
    "plt.barh(y, x1, left=x2+x3+x4+x5, color='darkblue', label='Very suitable', height=1)\n",
    "\n",
    "# Move legend to the side\n",
    "plt.legend(loc='upper left', bbox_to_anchor=(1, 1))\n",
    "\n",
    "\n",
    "# Show the plot\n",
    "plt.show()\n"
   ]
  },
  {
   "cell_type": "code",
   "execution_count": 197,
   "id": "b0c350db",
   "metadata": {},
   "outputs": [
    {
     "data": {
      "image/png": "[encoded data removed]",
      "text/plain": [
       "<Figure size 600x100 with 1 Axes>"
      ]
     },
     "metadata": {},
     "output_type": "display_data"
    }
   ],
   "source": [
    "import matplotlib.pyplot as plt\n",
    "\n",
    "# Assuming your DataFrame is named df_knn\n",
    "# You can replace df_knn with the actual name of your DataFrame\n",
    "\n",
    "# Create data\n",
    "y = [\"Suitability\"]\n",
    "x5 = df_cosine['Category'].value_counts()[\"Very unsuitable\"]\n",
    "x5 = df_cosine['Category'].value_counts()[\"Somewhat unsuitable\"]\n",
    "x3 = df_cosine['Category'].value_counts()[\"Neither unsuitable nor suitable\"]\n",
    "x2 = df_cosine['Category'].value_counts()[\"Somewhat suitable\"]\n",
    "x1 = df_cosine['Category'].value_counts()[\"Very suitable\"]\n",
    "\n",
    "# Set the height of the entire figure\n",
    "fig, ax = plt.subplots(figsize=(6, 1))\n",
    "\n",
    "# Plot a single bar with different colors\n",
    "plt.barh(x_labels, width=0, color='white')  # White space\n",
    "\n",
    "# Plot bars in a stacked manner with thinner bars\n",
    "plt.barh(y, x5, color='red', label='Very suitable', height=1)\n",
    "plt.barh(y, x4, left=x5, color='orange', label='Somewhat suitable', height=1)\n",
    "plt.barh(y, x3, left=x4+x5, color='grey', label='Neither unsuitable nor suitable', height=1)\n",
    "plt.barh(y, x2, left=x3+x4+x5, color='lightblue', label='Somewhat unsuitable', height=1)\n",
    "plt.barh(y, x1, left=x2+x3+x4+x5, color='darkblue', label='Very unsuitable', height=1)\n",
    "\n",
    "# Move legend to the side\n",
    "plt.legend(loc='upper left', bbox_to_anchor=(1, 1))\n",
    "\n",
    "\n",
    "# Show the plot\n",
    "plt.show()\n"
   ]
  },
  {
   "cell_type": "code",
   "execution_count": 206,
   "id": "96e49584",
   "metadata": {},
   "outputs": [
    {
     "data": {
      "image/png": "[encoded data removed]",
      "text/plain": [
       "<Figure size 640x480 with 1 Axes>"
      ]
     },
     "metadata": {},
     "output_type": "display_data"
    }
   ],
   "source": [
    "import matplotlib.pyplot as plt\n",
    "\n",
    "# Data\n",
    "sizes = [18, 1]\n",
    "colors = ['lightblue', 'lightgreen']\n",
    "\n",
    "# Create a pie chart\n",
    "plt.pie(sizes, autopct='%1.1f%%', startangle=140, colors=colors, labels=None,wedgeprops=dict(edgecolor='black'))\n",
    "\n",
    "# Set aspect ratio to be equal\n",
    "plt.axis('equal')\n",
    "\n",
    "# Add a legend with white text\n",
    "legend = plt.legend(['Yes', 'Unsure'], loc='upper right')\n",
    "plt.setp(legend.get_texts(), color='black', fontsize='large')\n",
    "\n",
    "# Add a title with white text\n",
    "\n",
    "# Set the text color on the chart to white\n",
    "plt.rcParams['text.color'] = 'black'\n",
    "\n",
    "# Show the plot\n",
    "plt.show()\n"
   ]
  }
 ],
 "metadata": {
  "kernelspec": {
   "display_name": "Python 3 (ipykernel)",
   "language": "python",
   "name": "python3"
  },
  "language_info": {
   "codemirror_mode": {
    "name": "ipython",
    "version": 3
   },
   "file_extension": ".py",
   "mimetype": "text/x-python",
   "name": "python",
   "nbconvert_exporter": "python",
   "pygments_lexer": "ipython3",
   "version": "3.10.7"
  },
  "varInspector": {
   "cols": {
    "lenName": 16,
    "lenType": 16,
    "lenVar": 40
   },
   "kernels_config": {
    "python": {
     "delete_cmd_postfix": "",
     "delete_cmd_prefix": "del ",
     "library": "var_list.py",
     "varRefreshCmd": "print(var_dic_list())"
    },
    "r": {
     "delete_cmd_postfix": ") ",
     "delete_cmd_prefix": "rm(",
     "library": "var_list.r",
     "varRefreshCmd": "cat(var_dic_list()) "
    }
   },
   "types_to_exclude": [
    "module",
    "function",
    "builtin_function_or_method",
    "instance",
    "_Feature"
   ],
   "window_display": false
  }
 },
 "nbformat": 4,
 "nbformat_minor": 5
}
