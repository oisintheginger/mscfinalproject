{
 "cells": [
  {
   "cell_type": "code",
   "execution_count": 26,
   "id": "ca27ae8d",
   "metadata": {},
   "outputs": [],
   "source": [
    "import pandas as pd\n",
    "\n",
    "crime = pd.read_csv(\"D:/DataSets/CRIME/final_baltcrime.csv\")"
   ]
  },
  {
   "cell_type": "code",
   "execution_count": 27,
   "id": "090af394",
   "metadata": {},
   "outputs": [],
   "source": [
    "crime = crime.drop(\"Longitude\", axis = 1)\n",
    "crime = crime.drop(\"Latitude\", axis = 1)"
   ]
  },
  {
   "cell_type": "code",
   "execution_count": 28,
   "id": "ce34e2e0",
   "metadata": {},
   "outputs": [],
   "source": [
    "crime = crime.rename(columns = {\"Weapon\":\"weapon\"})\n",
    "crime = crime.rename(columns = {\"Inside_Outside\":\"inside_outside\"})\n",
    "crime = crime.rename(columns = {\"Description\":\"description\"})\n",
    "crime = crime.rename(columns = {\"GeoLocation\":\"neighbourhoodGeoLocation\"})"
   ]
  },
  {
   "cell_type": "code",
   "execution_count": 29,
   "id": "ee5ad2b7",
   "metadata": {},
   "outputs": [
    {
     "data": {
      "text/html": [
       "<div>\n",
       "<style scoped>\n",
       "    .dataframe tbody tr th:only-of-type {\n",
       "        vertical-align: middle;\n",
       "    }\n",
       "\n",
       "    .dataframe tbody tr th {\n",
       "        vertical-align: top;\n",
       "    }\n",
       "\n",
       "    .dataframe thead th {\n",
       "        text-align: right;\n",
       "    }\n",
       "</style>\n",
       "<table border=\"1\" class=\"dataframe\">\n",
       "  <thead>\n",
       "    <tr style=\"text-align: right;\">\n",
       "      <th></th>\n",
       "      <th>weapon</th>\n",
       "      <th>inside_outside</th>\n",
       "      <th>description</th>\n",
       "      <th>neighbourhoodGeoLocation</th>\n",
       "    </tr>\n",
       "  </thead>\n",
       "  <tbody>\n",
       "    <tr>\n",
       "      <th>0</th>\n",
       "      <td>PERSONAL_WEAPONS</td>\n",
       "      <td>Inside</td>\n",
       "      <td>LARCENY</td>\n",
       "      <td>(39.289875155299512,-76.610022671156329)</td>\n",
       "    </tr>\n",
       "    <tr>\n",
       "      <th>1</th>\n",
       "      <td>PERSONAL_WEAPONS</td>\n",
       "      <td>Inside</td>\n",
       "      <td>LARCENY</td>\n",
       "      <td>(39.289875155299512,-76.610022671156329)</td>\n",
       "    </tr>\n",
       "    <tr>\n",
       "      <th>2</th>\n",
       "      <td>PERSONAL_WEAPONS</td>\n",
       "      <td>Outside</td>\n",
       "      <td>COMMON ASSAULT</td>\n",
       "      <td>(39.289693999999997,-76.609675999999993)</td>\n",
       "    </tr>\n",
       "    <tr>\n",
       "      <th>3</th>\n",
       "      <td>FIREARM</td>\n",
       "      <td>Inside</td>\n",
       "      <td>AGG. ASSAULT</td>\n",
       "      <td>(39.300400000000003,-76.628442000000007)</td>\n",
       "    </tr>\n",
       "    <tr>\n",
       "      <th>4</th>\n",
       "      <td>NaN</td>\n",
       "      <td>Inside</td>\n",
       "      <td>LARCENY FROM AUTO</td>\n",
       "      <td>(39.358396999999997,-76.583949000000004)</td>\n",
       "    </tr>\n",
       "    <tr>\n",
       "      <th>...</th>\n",
       "      <td>...</td>\n",
       "      <td>...</td>\n",
       "      <td>...</td>\n",
       "      <td>...</td>\n",
       "    </tr>\n",
       "    <tr>\n",
       "      <th>514137</th>\n",
       "      <td>FIREARM</td>\n",
       "      <td>I</td>\n",
       "      <td>AGG. ASSAULT</td>\n",
       "      <td>(39.286492,-76.59483)</td>\n",
       "    </tr>\n",
       "    <tr>\n",
       "      <th>514138</th>\n",
       "      <td>NaN</td>\n",
       "      <td>I</td>\n",
       "      <td>LARCENY</td>\n",
       "      <td>(39.223002,-76.586702)</td>\n",
       "    </tr>\n",
       "    <tr>\n",
       "      <th>514139</th>\n",
       "      <td>NaN</td>\n",
       "      <td>I</td>\n",
       "      <td>BURGLARY</td>\n",
       "      <td>(39.284016,-76.654826)</td>\n",
       "    </tr>\n",
       "    <tr>\n",
       "      <th>514140</th>\n",
       "      <td>FIREARM</td>\n",
       "      <td>O</td>\n",
       "      <td>ROBBERY</td>\n",
       "      <td>(39.356197,-76.702554)</td>\n",
       "    </tr>\n",
       "    <tr>\n",
       "      <th>514141</th>\n",
       "      <td>NaN</td>\n",
       "      <td>I</td>\n",
       "      <td>BURGLARY</td>\n",
       "      <td>(39.336063,-76.67904)</td>\n",
       "    </tr>\n",
       "  </tbody>\n",
       "</table>\n",
       "<p>514142 rows × 4 columns</p>\n",
       "</div>"
      ],
      "text/plain": [
       "                  weapon inside_outside        description                  neighbourhoodGeoLocation\n",
       "0       PERSONAL_WEAPONS         Inside            LARCENY  (39.289875155299512,-76.610022671156329)\n",
       "1       PERSONAL_WEAPONS         Inside            LARCENY  (39.289875155299512,-76.610022671156329)\n",
       "2       PERSONAL_WEAPONS        Outside     COMMON ASSAULT  (39.289693999999997,-76.609675999999993)\n",
       "3                FIREARM         Inside       AGG. ASSAULT  (39.300400000000003,-76.628442000000007)\n",
       "4                    NaN         Inside  LARCENY FROM AUTO  (39.358396999999997,-76.583949000000004)\n",
       "...                  ...            ...                ...                                       ...\n",
       "514137           FIREARM              I       AGG. ASSAULT                     (39.286492,-76.59483)\n",
       "514138               NaN              I            LARCENY                    (39.223002,-76.586702)\n",
       "514139               NaN              I           BURGLARY                    (39.284016,-76.654826)\n",
       "514140           FIREARM              O            ROBBERY                    (39.356197,-76.702554)\n",
       "514141               NaN              I           BURGLARY                     (39.336063,-76.67904)\n",
       "\n",
       "[514142 rows x 4 columns]"
      ]
     },
     "execution_count": 29,
     "metadata": {},
     "output_type": "execute_result"
    }
   ],
   "source": [
    "crime"
   ]
  },
  {
   "cell_type": "code",
   "execution_count": 30,
   "id": "a9fbb8b7",
   "metadata": {},
   "outputs": [],
   "source": [
    "# change to point\n",
    "\n",
    "crime[['latitude', 'longitude']] = crime['neighbourhoodGeoLocation'].str.split(',', expand=True)\n",
    "\n",
    "# Format the data into the expected SQL format\n",
    "crime['neighbourhoodGeoLocation'] = crime.apply(lambda row: f\"POINT{row['latitude']} {row['longitude']}\", axis=1)\n",
    "\n",
    "crime = crime.drop(columns = [\"latitude\", \"longitude\"])"
   ]
  },
  {
   "cell_type": "code",
   "execution_count": 32,
   "id": "21f29912",
   "metadata": {},
   "outputs": [],
   "source": [
    "crime.to_csv(\"D:/DataSets/CRIME/crime.csv\", index = False)"
   ]
  }
 ],
 "metadata": {
  "kernelspec": {
   "display_name": "Python 3 (ipykernel)",
   "language": "python",
   "name": "python3"
  },
  "language_info": {
   "codemirror_mode": {
    "name": "ipython",
    "version": 3
   },
   "file_extension": ".py",
   "mimetype": "text/x-python",
   "name": "python",
   "nbconvert_exporter": "python",
   "pygments_lexer": "ipython3",
   "version": "3.10.7"
  },
  "varInspector": {
   "cols": {
    "lenName": 16,
    "lenType": 16,
    "lenVar": 40
   },
   "kernels_config": {
    "python": {
     "delete_cmd_postfix": "",
     "delete_cmd_prefix": "del ",
     "library": "var_list.py",
     "varRefreshCmd": "print(var_dic_list())"
    },
    "r": {
     "delete_cmd_postfix": ") ",
     "delete_cmd_prefix": "rm(",
     "library": "var_list.r",
     "varRefreshCmd": "cat(var_dic_list()) "
    }
   },
   "types_to_exclude": [
    "module",
    "function",
    "builtin_function_or_method",
    "instance",
    "_Feature"
   ],
   "window_display": false
  }
 },
 "nbformat": 4,
 "nbformat_minor": 5
}
