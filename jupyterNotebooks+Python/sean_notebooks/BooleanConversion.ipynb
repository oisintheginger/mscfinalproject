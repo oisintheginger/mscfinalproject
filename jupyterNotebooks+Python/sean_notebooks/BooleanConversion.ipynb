{
 "cells": [
  {
   "cell_type": "code",
   "execution_count": 64,
   "id": "0bbfb988",
   "metadata": {},
   "outputs": [],
   "source": [
    "import pandas as pd \n",
    "buildings = pd.read_csv(\"D:/DataSets/backupdatasetsmsc/apartment_buildings.csv\")"
   ]
  },
  {
   "cell_type": "code",
   "execution_count": 65,
   "id": "e7196f42",
   "metadata": {},
   "outputs": [],
   "source": [
    "# Iterate through columns from the 2nd column to the last column\n",
    "for column in buildings.columns[1:]:\n",
    "    if buildings[column].dtype == 'object':\n",
    "        # For string columns, convert \"allowed\" to 1 and \"False\" to 0\n",
    "        buildings[column] = buildings[column].replace({'allowed': 1, 'False': 0})\n",
    "    else:\n",
    "        # For non-string columns, convert 'true' to 1 and 'false' to 0\n",
    "        buildings[column] = buildings[column].replace({True: 1, False: 0})"
   ]
  },
  {
   "cell_type": "code",
   "execution_count": 67,
   "id": "9963722d",
   "metadata": {},
   "outputs": [],
   "source": [
    "buildings.to_csv(\"D:/DataSets/msc_datasets_finished/apartment_buildings.csv\", index = False)"
   ]
  },
  {
   "cell_type": "code",
   "execution_count": 72,
   "id": "87868387",
   "metadata": {},
   "outputs": [],
   "source": [
    "# maininformation\n",
    "main = pd.read_csv(\"D:/DataSets/msc_datasets_finished/main_information.csv\")"
   ]
  },
  {
   "cell_type": "code",
   "execution_count": 73,
   "id": "b94d69d1",
   "metadata": {},
   "outputs": [],
   "source": [
    "for column in main.columns[-1:]:\n",
    "    if main[column].dtype == 'object':\n",
    "        # For string columns, convert \"allowed\" to 1 and \"False\" to 0\n",
    "        main[column] = main[column].replace({'allowed': 1, 'False': 0})\n",
    "    else:\n",
    "        # For non-string columns, convert 'true' to 1 and 'false' to 0\n",
    "        main[column] = main[column].replace({True: 1, False: 0})"
   ]
  },
  {
   "cell_type": "code",
   "execution_count": 76,
   "id": "f7a4a1cc",
   "metadata": {},
   "outputs": [],
   "source": [
    "main.to_csv(\"D:/DataSets/msc_datasets_finished/main_information.csv\", index = False)"
   ]
  },
  {
   "cell_type": "code",
   "execution_count": 94,
   "id": "130263d0",
   "metadata": {},
   "outputs": [],
   "source": [
    "# property details\n",
    "props = pd.read_csv(\"D:/DataSets/msc_datasets_finished/property_details.csv\")"
   ]
  },
  {
   "cell_type": "code",
   "execution_count": 95,
   "id": "4873aad2",
   "metadata": {},
   "outputs": [],
   "source": [
    "for column in props.columns[4:]:\n",
    "    if props[column].dtype == 'object':\n",
    "        # For string columns, convert \"allowed\" to 1 and \"False\" to 0\n",
    "        props[column] = props[column].replace({'allowed': 1, 'False': 0})\n",
    "    else:\n",
    "        # For non-string columns, convert True to 1 and 'False' to 0\n",
    "        props[column] = props[column].replace({True: 1, False: 0})"
   ]
  },
  {
   "cell_type": "code",
   "execution_count": 98,
   "id": "aed42fe0",
   "metadata": {},
   "outputs": [],
   "source": [
    "props.to_csv(\"D:/DataSets/msc_datasets_finished/property_details.csv\", index = False)"
   ]
  },
  {
   "cell_type": "code",
   "execution_count": 126,
   "id": "2b573d99",
   "metadata": {},
   "outputs": [],
   "source": [
    "# price history\n",
    "price_history = pd.read_csv(\"D:/DataSets/msc_datasets_finished/price_history.csv\")"
   ]
  },
  {
   "cell_type": "code",
   "execution_count": 129,
   "id": "ff65c1d2",
   "metadata": {},
   "outputs": [],
   "source": [
    "for column in price_history.columns[1:]:\n",
    "    if price_history[column].dtype == 'object':\n",
    "        if \"postingIsRental\" in column:\n",
    "            price_history[column] = price_history[column].replace({True: 1, False: 0})"
   ]
  },
  {
   "cell_type": "code",
   "execution_count": 111,
   "id": "765f738a",
   "metadata": {},
   "outputs": [
    {
     "name": "stdout",
     "output_type": "stream",
     "text": [
      "Data type of 'change_0_postingIsRental': object\n"
     ]
    }
   ],
   "source": [
    "column_name = 'change_0_postingIsRental'  # Change this to the desired column name\n",
    "column_dtype = price_history[column_name].dtype\n",
    "print(f\"Data type of '{column_name}': {column_dtype}\")"
   ]
  }
 ],
 "metadata": {},
 "nbformat": 4,
 "nbformat_minor": 5
}
